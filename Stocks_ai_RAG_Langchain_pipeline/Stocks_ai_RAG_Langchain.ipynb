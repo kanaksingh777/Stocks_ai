{
 "cells": [
  {
   "cell_type": "code",
   "execution_count": 0,
   "metadata": {
    "application/vnd.databricks.v1+cell": {
     "cellMetadata": {
      "byteLimit": 2048000,
      "rowLimit": 10000
     },
     "inputWidgets": {},
     "nuid": "8c906b57-8e43-4f79-a8d1-bdce116c810f",
     "showTitle": false,
     "tableResultSettingsMap": {},
     "title": ""
    }
   },
   "outputs": [
    {
     "name": "stdout",
     "output_type": "stream",
     "text": [
      "Requirement already satisfied: langchain in /local_disk0/.ephemeral_nfs/envs/pythonEnv-090cf64e-f426-4910-80bf-e7b373be61db/lib/python3.11/site-packages (0.3.25)\n",
      "Requirement already satisfied: langchain_community in /local_disk0/.ephemeral_nfs/envs/pythonEnv-090cf64e-f426-4910-80bf-e7b373be61db/lib/python3.11/site-packages (0.3.25)\n",
      "Requirement already satisfied: langchain_google_genai in /local_disk0/.ephemeral_nfs/envs/pythonEnv-090cf64e-f426-4910-80bf-e7b373be61db/lib/python3.11/site-packages (2.1.5)\n",
      "Requirement already satisfied: pyspark in /local_disk0/.ephemeral_nfs/envs/pythonEnv-090cf64e-f426-4910-80bf-e7b373be61db/lib/python3.11/site-packages (4.0.0)\n",
      "Requirement already satisfied: numpy<2 in /local_disk0/.ephemeral_nfs/envs/pythonEnv-090cf64e-f426-4910-80bf-e7b373be61db/lib/python3.11/site-packages (1.26.4)\n",
      "Requirement already satisfied: pandas in /databricks/python3/lib/python3.11/site-packages (1.5.3)\n",
      "Collecting faiss-cpu\n",
      "  Downloading faiss_cpu-1.11.0-cp311-cp311-manylinux_2_28_x86_64.whl.metadata (4.8 kB)\n",
      "Requirement already satisfied: langchain-core<1.0.0,>=0.3.58 in /local_disk0/.ephemeral_nfs/envs/pythonEnv-090cf64e-f426-4910-80bf-e7b373be61db/lib/python3.11/site-packages (from langchain) (0.3.65)\n",
      "Requirement already satisfied: langchain-text-splitters<1.0.0,>=0.3.8 in /local_disk0/.ephemeral_nfs/envs/pythonEnv-090cf64e-f426-4910-80bf-e7b373be61db/lib/python3.11/site-packages (from langchain) (0.3.8)\n",
      "Requirement already satisfied: langsmith<0.4,>=0.1.17 in /local_disk0/.ephemeral_nfs/envs/pythonEnv-090cf64e-f426-4910-80bf-e7b373be61db/lib/python3.11/site-packages (from langchain) (0.3.45)\n",
      "Requirement already satisfied: pydantic<3.0.0,>=2.7.4 in /local_disk0/.ephemeral_nfs/envs/pythonEnv-090cf64e-f426-4910-80bf-e7b373be61db/lib/python3.11/site-packages (from langchain) (2.11.5)\n",
      "Requirement already satisfied: SQLAlchemy<3,>=1.4 in /local_disk0/.ephemeral_nfs/envs/pythonEnv-090cf64e-f426-4910-80bf-e7b373be61db/lib/python3.11/site-packages (from langchain) (2.0.41)\n",
      "Requirement already satisfied: requests<3,>=2 in /databricks/python3/lib/python3.11/site-packages (from langchain) (2.31.0)\n",
      "Requirement already satisfied: PyYAML>=5.3 in /databricks/python3/lib/python3.11/site-packages (from langchain) (6.0)\n",
      "Requirement already satisfied: aiohttp<4.0.0,>=3.8.3 in /local_disk0/.ephemeral_nfs/envs/pythonEnv-090cf64e-f426-4910-80bf-e7b373be61db/lib/python3.11/site-packages (from langchain_community) (3.12.12)\n",
      "Requirement already satisfied: tenacity!=8.4.0,<10,>=8.1.0 in /databricks/python3/lib/python3.11/site-packages (from langchain_community) (8.2.2)\n",
      "Requirement already satisfied: dataclasses-json<0.7,>=0.5.7 in /local_disk0/.ephemeral_nfs/envs/pythonEnv-090cf64e-f426-4910-80bf-e7b373be61db/lib/python3.11/site-packages (from langchain_community) (0.6.7)\n",
      "Requirement already satisfied: pydantic-settings<3.0.0,>=2.4.0 in /local_disk0/.ephemeral_nfs/envs/pythonEnv-090cf64e-f426-4910-80bf-e7b373be61db/lib/python3.11/site-packages (from langchain_community) (2.9.1)\n",
      "Requirement already satisfied: httpx-sse<1.0.0,>=0.4.0 in /local_disk0/.ephemeral_nfs/envs/pythonEnv-090cf64e-f426-4910-80bf-e7b373be61db/lib/python3.11/site-packages (from langchain_community) (0.4.0)\n",
      "Requirement already satisfied: filetype<2.0.0,>=1.2.0 in /local_disk0/.ephemeral_nfs/envs/pythonEnv-090cf64e-f426-4910-80bf-e7b373be61db/lib/python3.11/site-packages (from langchain_google_genai) (1.2.0)\n",
      "Requirement already satisfied: google-ai-generativelanguage<0.7.0,>=0.6.18 in /local_disk0/.ephemeral_nfs/envs/pythonEnv-090cf64e-f426-4910-80bf-e7b373be61db/lib/python3.11/site-packages (from langchain_google_genai) (0.6.18)\n",
      "Requirement already satisfied: py4j==0.10.9.9 in /local_disk0/.ephemeral_nfs/envs/pythonEnv-090cf64e-f426-4910-80bf-e7b373be61db/lib/python3.11/site-packages (from pyspark) (0.10.9.9)\n",
      "Requirement already satisfied: python-dateutil>=2.8.1 in /databricks/python3/lib/python3.11/site-packages (from pandas) (2.8.2)\n",
      "Requirement already satisfied: pytz>=2020.1 in /databricks/python3/lib/python3.11/site-packages (from pandas) (2022.7)\n",
      "Requirement already satisfied: packaging in /databricks/python3/lib/python3.11/site-packages (from faiss-cpu) (23.2)\n",
      "Requirement already satisfied: aiohappyeyeballs>=2.5.0 in /local_disk0/.ephemeral_nfs/envs/pythonEnv-090cf64e-f426-4910-80bf-e7b373be61db/lib/python3.11/site-packages (from aiohttp<4.0.0,>=3.8.3->langchain_community) (2.6.1)\n",
      "Requirement already satisfied: aiosignal>=1.1.2 in /local_disk0/.ephemeral_nfs/envs/pythonEnv-090cf64e-f426-4910-80bf-e7b373be61db/lib/python3.11/site-packages (from aiohttp<4.0.0,>=3.8.3->langchain_community) (1.3.2)\n",
      "Requirement already satisfied: attrs>=17.3.0 in /local_disk0/.ephemeral_nfs/envs/pythonEnv-090cf64e-f426-4910-80bf-e7b373be61db/lib/python3.11/site-packages (from aiohttp<4.0.0,>=3.8.3->langchain_community) (25.3.0)\n",
      "Requirement already satisfied: frozenlist>=1.1.1 in /local_disk0/.ephemeral_nfs/envs/pythonEnv-090cf64e-f426-4910-80bf-e7b373be61db/lib/python3.11/site-packages (from aiohttp<4.0.0,>=3.8.3->langchain_community) (1.7.0)\n",
      "Requirement already satisfied: multidict<7.0,>=4.5 in /local_disk0/.ephemeral_nfs/envs/pythonEnv-090cf64e-f426-4910-80bf-e7b373be61db/lib/python3.11/site-packages (from aiohttp<4.0.0,>=3.8.3->langchain_community) (6.4.4)\n",
      "Requirement already satisfied: propcache>=0.2.0 in /local_disk0/.ephemeral_nfs/envs/pythonEnv-090cf64e-f426-4910-80bf-e7b373be61db/lib/python3.11/site-packages (from aiohttp<4.0.0,>=3.8.3->langchain_community) (0.3.2)\n",
      "Requirement already satisfied: yarl<2.0,>=1.17.0 in /local_disk0/.ephemeral_nfs/envs/pythonEnv-090cf64e-f426-4910-80bf-e7b373be61db/lib/python3.11/site-packages (from aiohttp<4.0.0,>=3.8.3->langchain_community) (1.20.1)\n",
      "Requirement already satisfied: marshmallow<4.0.0,>=3.18.0 in /local_disk0/.ephemeral_nfs/envs/pythonEnv-090cf64e-f426-4910-80bf-e7b373be61db/lib/python3.11/site-packages (from dataclasses-json<0.7,>=0.5.7->langchain_community) (3.26.1)\n",
      "Requirement already satisfied: typing-inspect<1,>=0.4.0 in /local_disk0/.ephemeral_nfs/envs/pythonEnv-090cf64e-f426-4910-80bf-e7b373be61db/lib/python3.11/site-packages (from dataclasses-json<0.7,>=0.5.7->langchain_community) (0.9.0)\n",
      "Requirement already satisfied: google-api-core!=2.0.*,!=2.1.*,!=2.10.*,!=2.2.*,!=2.3.*,!=2.4.*,!=2.5.*,!=2.6.*,!=2.7.*,!=2.8.*,!=2.9.*,<3.0.0,>=1.34.1 in /databricks/python3/lib/python3.11/site-packages (from google-api-core[grpc]!=2.0.*,!=2.1.*,!=2.10.*,!=2.2.*,!=2.3.*,!=2.4.*,!=2.5.*,!=2.6.*,!=2.7.*,!=2.8.*,!=2.9.*,<3.0.0,>=1.34.1->google-ai-generativelanguage<0.7.0,>=0.6.18->langchain_google_genai) (2.18.0)\n",
      "Requirement already satisfied: google-auth!=2.24.0,!=2.25.0,<3.0.0,>=2.14.1 in /databricks/python3/lib/python3.11/site-packages (from google-ai-generativelanguage<0.7.0,>=0.6.18->langchain_google_genai) (2.35.0)\n",
      "Requirement already satisfied: proto-plus<2.0.0,>=1.22.3 in /databricks/python3/lib/python3.11/site-packages (from google-ai-generativelanguage<0.7.0,>=0.6.18->langchain_google_genai) (1.25.0)\n",
      "Requirement already satisfied: protobuf!=4.21.0,!=4.21.1,!=4.21.2,!=4.21.3,!=4.21.4,!=4.21.5,<7.0.0,>=3.20.2 in /local_disk0/.ephemeral_nfs/envs/pythonEnv-090cf64e-f426-4910-80bf-e7b373be61db/lib/python3.11/site-packages (from google-ai-generativelanguage<0.7.0,>=0.6.18->langchain_google_genai) (4.25.8)\n",
      "Requirement already satisfied: jsonpatch<2.0,>=1.33 in /local_disk0/.ephemeral_nfs/envs/pythonEnv-090cf64e-f426-4910-80bf-e7b373be61db/lib/python3.11/site-packages (from langchain-core<1.0.0,>=0.3.58->langchain) (1.33)\n",
      "Requirement already satisfied: typing-extensions>=4.7 in /local_disk0/.ephemeral_nfs/envs/pythonEnv-090cf64e-f426-4910-80bf-e7b373be61db/lib/python3.11/site-packages (from langchain-core<1.0.0,>=0.3.58->langchain) (4.14.0)\n",
      "Requirement already satisfied: httpx<1,>=0.23.0 in /local_disk0/.ephemeral_nfs/envs/pythonEnv-090cf64e-f426-4910-80bf-e7b373be61db/lib/python3.11/site-packages (from langsmith<0.4,>=0.1.17->langchain) (0.28.1)\n",
      "Requirement already satisfied: orjson<4.0.0,>=3.9.14 in /local_disk0/.ephemeral_nfs/envs/pythonEnv-090cf64e-f426-4910-80bf-e7b373be61db/lib/python3.11/site-packages (from langsmith<0.4,>=0.1.17->langchain) (3.10.18)\n",
      "Requirement already satisfied: requests-toolbelt<2.0.0,>=1.0.0 in /local_disk0/.ephemeral_nfs/envs/pythonEnv-090cf64e-f426-4910-80bf-e7b373be61db/lib/python3.11/site-packages (from langsmith<0.4,>=0.1.17->langchain) (1.0.0)\n",
      "Requirement already satisfied: zstandard<0.24.0,>=0.23.0 in /databricks/python3/lib/python3.11/site-packages (from langsmith<0.4,>=0.1.17->langchain) (0.23.0)\n",
      "Requirement already satisfied: annotated-types>=0.6.0 in /local_disk0/.ephemeral_nfs/envs/pythonEnv-090cf64e-f426-4910-80bf-e7b373be61db/lib/python3.11/site-packages (from pydantic<3.0.0,>=2.7.4->langchain) (0.7.0)\n",
      "Requirement already satisfied: pydantic-core==2.33.2 in /local_disk0/.ephemeral_nfs/envs/pythonEnv-090cf64e-f426-4910-80bf-e7b373be61db/lib/python3.11/site-packages (from pydantic<3.0.0,>=2.7.4->langchain) (2.33.2)\n",
      "Requirement already satisfied: typing-inspection>=0.4.0 in /local_disk0/.ephemeral_nfs/envs/pythonEnv-090cf64e-f426-4910-80bf-e7b373be61db/lib/python3.11/site-packages (from pydantic<3.0.0,>=2.7.4->langchain) (0.4.1)\n",
      "Requirement already satisfied: python-dotenv>=0.21.0 in /local_disk0/.ephemeral_nfs/envs/pythonEnv-090cf64e-f426-4910-80bf-e7b373be61db/lib/python3.11/site-packages (from pydantic-settings<3.0.0,>=2.4.0->langchain_community) (1.1.0)\n",
      "Requirement already satisfied: six>=1.5 in /usr/lib/python3/dist-packages (from python-dateutil>=2.8.1->pandas) (1.16.0)\n",
      "Requirement already satisfied: charset-normalizer<4,>=2 in /databricks/python3/lib/python3.11/site-packages (from requests<3,>=2->langchain) (2.0.4)\n",
      "Requirement already satisfied: idna<4,>=2.5 in /databricks/python3/lib/python3.11/site-packages (from requests<3,>=2->langchain) (3.4)\n",
      "Requirement already satisfied: urllib3<3,>=1.21.1 in /databricks/python3/lib/python3.11/site-packages (from requests<3,>=2->langchain) (1.26.16)\n",
      "Requirement already satisfied: certifi>=2017.4.17 in /databricks/python3/lib/python3.11/site-packages (from requests<3,>=2->langchain) (2023.7.22)\n",
      "Requirement already satisfied: greenlet>=1 in /local_disk0/.ephemeral_nfs/envs/pythonEnv-090cf64e-f426-4910-80bf-e7b373be61db/lib/python3.11/site-packages (from SQLAlchemy<3,>=1.4->langchain) (3.2.3)\n",
      "Requirement already satisfied: googleapis-common-protos<2.0.dev0,>=1.56.2 in /databricks/python3/lib/python3.11/site-packages (from google-api-core!=2.0.*,!=2.1.*,!=2.10.*,!=2.2.*,!=2.3.*,!=2.4.*,!=2.5.*,!=2.6.*,!=2.7.*,!=2.8.*,!=2.9.*,<3.0.0,>=1.34.1->google-api-core[grpc]!=2.0.*,!=2.1.*,!=2.10.*,!=2.2.*,!=2.3.*,!=2.4.*,!=2.5.*,!=2.6.*,!=2.7.*,!=2.8.*,!=2.9.*,<3.0.0,>=1.34.1->google-ai-generativelanguage<0.7.0,>=0.6.18->langchain_google_genai) (1.65.0)\n",
      "Requirement already satisfied: grpcio<2.0dev,>=1.33.2 in /databricks/python3/lib/python3.11/site-packages (from google-api-core[grpc]!=2.0.*,!=2.1.*,!=2.10.*,!=2.2.*,!=2.3.*,!=2.4.*,!=2.5.*,!=2.6.*,!=2.7.*,!=2.8.*,!=2.9.*,<3.0.0,>=1.34.1->google-ai-generativelanguage<0.7.0,>=0.6.18->langchain_google_genai) (1.69.0)\n",
      "Requirement already satisfied: grpcio-status<2.0.dev0,>=1.33.2 in /local_disk0/.ephemeral_nfs/envs/pythonEnv-090cf64e-f426-4910-80bf-e7b373be61db/lib/python3.11/site-packages (from google-api-core[grpc]!=2.0.*,!=2.1.*,!=2.10.*,!=2.2.*,!=2.3.*,!=2.4.*,!=2.5.*,!=2.6.*,!=2.7.*,!=2.8.*,!=2.9.*,<3.0.0,>=1.34.1->google-ai-generativelanguage<0.7.0,>=0.6.18->langchain_google_genai) (1.62.3)\n",
      "Requirement already satisfied: cachetools<6.0,>=2.0.0 in /databricks/python3/lib/python3.11/site-packages (from google-auth!=2.24.0,!=2.25.0,<3.0.0,>=2.14.1->google-ai-generativelanguage<0.7.0,>=0.6.18->langchain_google_genai) (5.5.0)\n",
      "Requirement already satisfied: pyasn1-modules>=0.2.1 in /databricks/python3/lib/python3.11/site-packages (from google-auth!=2.24.0,!=2.25.0,<3.0.0,>=2.14.1->google-ai-generativelanguage<0.7.0,>=0.6.18->langchain_google_genai) (0.2.8)\n",
      "Requirement already satisfied: rsa<5,>=3.1.4 in /databricks/python3/lib/python3.11/site-packages (from google-auth!=2.24.0,!=2.25.0,<3.0.0,>=2.14.1->google-ai-generativelanguage<0.7.0,>=0.6.18->langchain_google_genai) (4.9)\n",
      "Requirement already satisfied: anyio in /local_disk0/.ephemeral_nfs/envs/pythonEnv-090cf64e-f426-4910-80bf-e7b373be61db/lib/python3.11/site-packages (from httpx<1,>=0.23.0->langsmith<0.4,>=0.1.17->langchain) (4.9.0)\n",
      "Requirement already satisfied: httpcore==1.* in /local_disk0/.ephemeral_nfs/envs/pythonEnv-090cf64e-f426-4910-80bf-e7b373be61db/lib/python3.11/site-packages (from httpx<1,>=0.23.0->langsmith<0.4,>=0.1.17->langchain) (1.0.9)\n",
      "Requirement already satisfied: h11>=0.16 in /local_disk0/.ephemeral_nfs/envs/pythonEnv-090cf64e-f426-4910-80bf-e7b373be61db/lib/python3.11/site-packages (from httpcore==1.*->httpx<1,>=0.23.0->langsmith<0.4,>=0.1.17->langchain) (0.16.0)\n",
      "Requirement already satisfied: jsonpointer>=1.9 in /local_disk0/.ephemeral_nfs/envs/pythonEnv-090cf64e-f426-4910-80bf-e7b373be61db/lib/python3.11/site-packages (from jsonpatch<2.0,>=1.33->langchain-core<1.0.0,>=0.3.58->langchain) (3.0.0)\n",
      "Requirement already satisfied: mypy-extensions>=0.3.0 in /databricks/python3/lib/python3.11/site-packages (from typing-inspect<1,>=0.4.0->dataclasses-json<0.7,>=0.5.7->langchain_community) (0.4.3)\n",
      "Requirement already satisfied: pyasn1<0.5.0,>=0.4.6 in /databricks/python3/lib/python3.11/site-packages (from pyasn1-modules>=0.2.1->google-auth!=2.24.0,!=2.25.0,<3.0.0,>=2.14.1->google-ai-generativelanguage<0.7.0,>=0.6.18->langchain_google_genai) (0.4.8)\n",
      "Requirement already satisfied: sniffio>=1.1 in /local_disk0/.ephemeral_nfs/envs/pythonEnv-090cf64e-f426-4910-80bf-e7b373be61db/lib/python3.11/site-packages (from anyio->httpx<1,>=0.23.0->langsmith<0.4,>=0.1.17->langchain) (1.3.1)\n",
      "Downloading faiss_cpu-1.11.0-cp311-cp311-manylinux_2_28_x86_64.whl (31.3 MB)\n",
      "\u001b[?25l   \u001b[90m━━━━━━━━━━━━━━━━━━━━━━━━━━━━━━━━━━━━━━━━\u001b[0m \u001b[32m0.0/31.3 MB\u001b[0m \u001b[31m?\u001b[0m eta \u001b[36m-:--:--\u001b[0m\n",
      "\u001b[2K   \u001b[91m━━━━━━━━━━━━━━━━━━━━━━━━━━━━━━━━━━━━━━━\u001b[0m\u001b[91m╸\u001b[0m \u001b[32m31.2/31.3 MB\u001b[0m \u001b[31m174.9 MB/s\u001b[0m eta \u001b[36m0:00:01\u001b[0m\n",
      "\u001b[2K   \u001b[90m━━━━━━━━━━━━━━━━━━━━━━━━━━━━━━━━━━━━━━━━\u001b[0m \u001b[32m31.3/31.3 MB\u001b[0m \u001b[31m119.6 MB/s\u001b[0m eta \u001b[36m0:00:00\u001b[0m\n",
      "\u001b[?25hInstalling collected packages: faiss-cpu\n",
      "Successfully installed faiss-cpu-1.11.0\n",
      "\u001b[43mNote: you may need to restart the kernel using %restart_python or dbutils.library.restartPython() to use updated packages.\u001b[0m\n"
     ]
    }
   ],
   "source": [
    "%pip install langchain langchain_community langchain_google_genai pyspark numpy<2 pandas faiss-cpu"
   ]
  },
  {
   "cell_type": "code",
   "execution_count": 0,
   "metadata": {
    "application/vnd.databricks.v1+cell": {
     "cellMetadata": {
      "byteLimit": 2048000,
      "rowLimit": 10000
     },
     "inputWidgets": {},
     "nuid": "50f3c814-9733-446e-a981-e4ef60a1b7c5",
     "showTitle": false,
     "tableResultSettingsMap": {},
     "title": ""
    }
   },
   "outputs": [
    {
     "name": "stdout",
     "output_type": "stream",
     "text": [
      "Here is a summary of how AAPL stock has performed, based on the data provided:\n",
      "\n",
      "*   **2025-06-02:** Opened at 200.28, closed at 201.7, high of 202.13, low of 200.12\n",
      "*   **2025-06-04:** Opened at 202.91, closed at 202.82, high of 206.24, low of 202.1\n",
      "*   **2025-06-05:** Opened at 203.5, closed at 200.63, high of 204.75, low of 200.15\n",
      "*   **2025-06-06:** Opened at 202.995, closed at 203.92, high of 205.7, low of 202.05\n",
      "\n",
      "Based on this limited data from June 2025, AAPL stock experienced fluctuations but generally remained in the range of approximately 200 to 206. It's important to note that this is a very limited snapshot and does not provide a comprehensive view of AAPL's historical performance.\n"
     ]
    }
   ],
   "source": [
    "# Databricks notebook source\n",
    "# MAGIC %pip install langchain langchain_community langchain_google_genai pyspark numpy<2 pandas faiss-cpu\n",
    "\n",
    "# COMMAND ----------\n",
    "\n",
    "\n",
    "from langchain.text_splitter import CharacterTextSplitter\n",
    "from langchain_google_genai import GoogleGenerativeAIEmbeddings\n",
    "from langchain.vectorstores.faiss import FAISS\n",
    "from langchain.chains import RetrievalQA\n",
    "from langchain.chat_models import init_chat_model\n",
    "from langchain_core.vectorstores import InMemoryVectorStore\n",
    "import os\n",
    "import pyspark\n",
    "spark = pyspark.sql.SparkSession.builder.getOrCreate()\n",
    "import warnings\n",
    "warnings.filterwarnings(\"ignore\")\n",
    "\n",
    "# Load API keys from environment variables - SET THESE IN YOUR DATABRICKS SECRETS OR LOCAL .env FILE\n",
    "# os.environ[\"GOOGLE_API_KEY\"] = \"YOUR_GOOGLE_API_KEY_HERE\"\n",
    "# os.environ[\"COHERE_API_KEY\"] = \"YOUR_COHERE_API_KEY_HERE\" \n",
    "# os.environ[\"MISTRALAI_API_KEY\"] = \"YOUR_MISTRAL_API_KEY_HERE\"\n",
    "\n",
    "# Get API keys from environment\n",
    "api_key = os.environ.get(\"GOOGLE_API_KEY\")\n",
    "if not api_key:\n",
    "    raise ValueError(\"GOOGLE_API_KEY environment variable is not set\")\n",
    "\n",
    "def load_and_process_csv(hist_data_and_news, holders):\n",
    "  # data = pandas.read_csv(file_path)\n",
    "  data = hist_data_and_news.toPandas()\n",
    "  #SCHEMA - date close high low open volume ticker stock_name news\n",
    "  # data1 = pandas.read_csv(holders)\n",
    "  data1 = holders.toPandas()\n",
    "  #SCHEMA - date_reported holder pctHeld shares Value pctChange ticker stock_name\n",
    "  data['hist_data_and_news'] = data.apply(lambda row: f\"Stock ({row['company_name']} - {row['ticker']}) on date {row['date'] }, opening {row['open']}, closing {row['close']}, high {row['high']}, low {row['low']}, volume {row['volume']}, and corresponding news - {' '.join(row['news_list']) if isinstance(row['news_list'], list) else ''} \", axis=1)\n",
    "  holders_grouped = data1.groupby(['company_name', 'ticker']).apply(\n",
    "      lambda group: f\"Stock ({group.iloc[0]['company_name']} - {group.iloc[0]['ticker']}), with holders: \" + \n",
    "      \"; \".join([f\"{row['Holder']} on {row['Date_Reported']} holding {row['pctHeld']}% ({row['Shares']} shares) valued at {row['Value']} \" \n",
    "                 for _, row in group.iterrows()])\n",
    "  ).reset_index(name='holders_text')\n",
    "  return \" \".join(data['hist_data_and_news'].tolist()) + \" \".join(holders_grouped['holders_text'].tolist())\n",
    "\n",
    "def chunkSplit(text):\n",
    "  splitter = CharacterTextSplitter(chunk_size=1024, chunk_overlap=100)\n",
    "  chunks = splitter.split_text(text)\n",
    "  return chunks\n",
    "\n",
    "def store_embeddings(chunks):\n",
    "  embedding_model = GoogleGenerativeAIEmbeddings(model=\"models/embedding-001\")\n",
    "  # embedding_model = MistralAIEmbeddings(model = \"mistral-embed\")\n",
    "  # print(embedding_model.embed_documents('Hi'))\n",
    "  VectorStore = FAISS.from_texts(chunks, embedding_model)\n",
    "  return VectorStore\n",
    "\n",
    "def generateContent(prompt, vectorstore, api_key=None):\n",
    "  if not api_key:\n",
    "    api_key = os.environ.get(\"GOOGLE_API_KEY\")\n",
    "  if not api_key:\n",
    "    raise ValueError(\"API key not provided and GOOGLE_API_KEY environment variable is not set\")\n",
    "  \n",
    "  qa = RetrievalQA.from_chain_type(\n",
    "      llm = init_chat_model(model=\"gemini-2.0-flash\", model_provider = \"google_genai\", api_key=api_key),\n",
    "      retriever=vectorstore.as_retriever(search_kwargs={\"k\":10}),\n",
    "      chain_type=\"stuff\"\n",
    "  )\n",
    "  response = qa.invoke({\"query\" : prompt})\n",
    "  return response['result']\n",
    "\n",
    "hist_data_and_news = spark.sql('select * from stocks_ai.stocks_gold_layer.stocks_news_historical_rag')\n",
    "holders = spark.sql('select * from stocks_ai.stocks_gold_layer.stocks_holders_rag')\n",
    "textdb = load_and_process_csv(hist_data_and_news, holders)\n",
    "chunks = chunkSplit(textdb)\n",
    "vectorstore = store_embeddings(chunks)\n",
    "# prompt = dbutils.widgets.get(\"prompt\")\n",
    "# response = generateContent(prompt, vectorstore)\n",
    "# displayHTML(f\"<h2>Response:</h2><p>{response}</p>\")\n",
    "# %python\n",
    "# dbutils.widgets.text(\"prompt\", \"Enter your query here\", \"Prompt\")\n",
    "# response = dbutils.widgets.get(\"prompt\")\n",
    "# print(response)\n",
    "print(generateContent(\"give me a summary of how the AAPL stock has performed in the past, use the historical data to see how it perform in the month of June \", vectorstore))\n",
    "\n",
    "# COMMAND ----------"
   ]
  },
  {
   "cell_type": "code",
   "execution_count": 0,
   "metadata": {
    "application/vnd.databricks.v1+cell": {
     "cellMetadata": {
      "byteLimit": 2048000,
      "rowLimit": 10000
     },
     "inputWidgets": {},
     "nuid": "60591c8c-4702-4b72-a330-1544425a8a07",
     "showTitle": false,
     "tableResultSettingsMap": {},
     "title": ""
    }
   },
   "outputs": [],
   "source": []
  }
 ],
 "metadata": {
  "application/vnd.databricks.v1+notebook": {
   "computePreferences": null,
   "dashboards": [],
   "environmentMetadata": {
    "base_environment": "",
    "environment_version": "2"
   },
   "inputWidgetPreferences": null,
   "language": "python",
   "notebookMetadata": {
    "pythonIndentUnit": 4
   },
   "notebookName": "Stocks_ai_RAG_Langchain",
   "widgets": {}
  },
  "language_info": {
   "name": "python"
  }
 },
 "nbformat": 4,
 "nbformat_minor": 0
}
