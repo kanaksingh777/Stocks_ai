{
 "cells": [
  {
   "cell_type": "code",
   "execution_count": 0,
   "metadata": {
    "application/vnd.databricks.v1+cell": {
     "cellMetadata": {
      "byteLimit": 2048000,
      "implicitDf": true,
      "rowLimit": 10000
     },
     "inputWidgets": {},
     "nuid": "bb09a2cc-c95f-43b4-a04b-8c3098667db7",
     "showTitle": false,
     "tableResultSettingsMap": {},
     "title": ""
    }
   },
   "outputs": [],
   "source": [
    "# %sql\n",
    "# -- Drop the table if it exists\n",
    "# DROP TABLE IF EXISTS stocks_ai.stocks_holders_data.stocks_institutional_holders;\n",
    "\n",
    "# -- Drop the schema if it exists\n",
    "# DROP SCHEMA IF EXISTS stocks_ai.stocks_holders_data;\n",
    "!pip install yfinance\n",
    "\n"
   ]
  },
  {
   "cell_type": "code",
   "execution_count": 0,
   "metadata": {
    "application/vnd.databricks.v1+cell": {
     "cellMetadata": {
      "byteLimit": 2048000,
      "rowLimit": 10000
     },
     "inputWidgets": {},
     "nuid": "53cb0943-7d5e-4cd7-a055-4c0208b9ece6",
     "showTitle": false,
     "tableResultSettingsMap": {},
     "title": ""
    }
   },
   "outputs": [
    {
     "output_type": "stream",
     "name": "stdout",
     "output_type": "stream",
     "text": [
      "Data written successfully.\n"
     ]
    }
   ],
   "source": [
    "from pyspark.sql import SparkSession\n",
    "from pyspark.sql.types import StructType, StructField, StringType, FloatType, LongType, TimestampType\n",
    "from datetime import datetime\n",
    "import yfinance as yf\n",
    "import pandas as pd\n",
    "\n",
    "spark = SparkSession.builder.getOrCreate()\n",
    "\n",
    "\n",
    "bronze_table = \"stocks_ai.stocks_holders_data.stock_institutional_holders\"\n",
    "\n",
    "# Create schema if not exists\n",
    "spark.sql(\"CREATE SCHEMA IF NOT EXISTS stocks_ai.stocks_holders_data\")\n",
    "\n",
    "# Define schema\n",
    "schema = StructType([\n",
    "    StructField(\"Date_Reported\", TimestampType(), True),\n",
    "    StructField(\"Holder\", StringType(), True),\n",
    "    StructField(\"pctHeld\", FloatType(), True),\n",
    "    StructField(\"Shares\", LongType(), True),\n",
    "    StructField(\"Value\", LongType(), True),\n",
    "    StructField(\"pctChange\", FloatType(), True),\n",
    "    StructField(\"ticker\", StringType(), True)  # add ticker for multi-ticker support\n",
    "])\n",
    "\n",
    "stock_names_df = spark.sql(\"SELECT * FROM stocks_ai.stocks_name_ticker.stock_names\")\n",
    "stock_list = [row['ticker'] for row in stock_names_df.collect()]\n",
    "\n",
    "\n",
    "all_data = []\n",
    "\n",
    "for ticker in stock_list:\n",
    "    t = yf.Ticker(ticker)\n",
    "    df = t.institutional_holders\n",
    "\n",
    "    if df is not None and not df.empty:\n",
    "        df[\"ticker\"] = ticker.upper()\n",
    "        all_data.append(df)\n",
    "\n",
    "\n",
    "if all_data:\n",
    "    combined_df = pd.concat(all_data, ignore_index=True)\n",
    "\n",
    "    # Convert to Spark DF\n",
    "    spark_df = spark.createDataFrame(combined_df, schema=schema)\n",
    "\n",
    "    # Overwrite the table\n",
    "    spark_df.write.format(\"delta\").mode(\"overwrite\").saveAsTable(bronze_table)\n",
    "    print(\"Data written successfully.\")\n",
    "else:\n",
    "    print(\"No institutional holder data to write.\")\n"
   ]
  },
  {
   "cell_type": "code",
   "execution_count": 0,
   "metadata": {
    "application/vnd.databricks.v1+cell": {
     "cellMetadata": {
      "byteLimit": 2048000,
      "rowLimit": 10000
     },
     "inputWidgets": {},
     "nuid": "3a10cd6d-1408-45dd-9f91-f4b815e1804b",
     "showTitle": false,
     "tableResultSettingsMap": {},
     "title": ""
    }
   },
   "outputs": [
    {
     "output_type": "display_data",
     "data": {
      "text/html": [
       "<style scoped>\n",
       "  .table-result-container {\n",
       "    max-height: 300px;\n",
       "    overflow: auto;\n",
       "  }\n",
       "  table, th, td {\n",
       "    border: 1px solid black;\n",
       "    border-collapse: collapse;\n",
       "  }\n",
       "  th, td {\n",
       "    padding: 5px;\n",
       "  }\n",
       "  th {\n",
       "    text-align: left;\n",
       "  }\n",
       "</style><div class='table-result-container'><table class='table-result'><thead style='background-color: white'><tr><th>Date_Reported</th><th>Holder</th><th>pctHeld</th><th>Shares</th><th>Value</th><th>pctChange</th><th>ticker</th></tr></thead><tbody><tr><td>2025-03-31T00:00:00.000Z</td><td>Vanguard Group Inc</td><td>0.0938</td><td>1400790809</td><td>286370238130</td><td>0.0036000002</td><td>AAPL</td></tr><tr><td>2025-03-31T00:00:00.000Z</td><td>Blackrock Inc.</td><td>0.0763</td><td>1140202870</td><td>233097022982</td><td>0.0149</td><td>AAPL</td></tr><tr><td>2025-03-31T00:00:00.000Z</td><td>State Street Corporation</td><td>0.0399</td><td>596025766</td><td>121848344124</td><td>9.0000004E-4</td><td>AAPL</td></tr><tr><td>2025-03-31T00:00:00.000Z</td><td>Geode Capital Management, LLC</td><td>0.0234</td><td>349807156</td><td>71512718330</td><td>0.028299998</td><td>AAPL</td></tr><tr><td>2025-03-31T00:00:00.000Z</td><td>FMR, LLC</td><td>0.022</td><td>328100180</td><td>67075059369</td><td>-0.0396</td><td>AAPL</td></tr><tr><td>2025-03-31T00:00:00.000Z</td><td>Berkshire Hathaway, Inc</td><td>0.0201</td><td>300000000</td><td>61330407714</td><td>0.0</td><td>AAPL</td></tr><tr><td>2025-03-31T00:00:00.000Z</td><td>Morgan Stanley</td><td>0.0162</td><td>241221800</td><td>49314104479</td><td>0.0124</td><td>AAPL</td></tr><tr><td>2025-03-31T00:00:00.000Z</td><td>Price (T.Rowe) Associates Inc</td><td>0.014400001</td><td>214703055</td><td>43892753002</td><td>-0.024600001</td><td>AAPL</td></tr><tr><td>2025-03-31T00:00:00.000Z</td><td>JPMORGAN CHASE & CO</td><td>0.013300001</td><td>198745598</td><td>40630495189</td><td>0.086</td><td>AAPL</td></tr><tr><td>2024-12-31T00:00:00.000Z</td><td>NORGES BANK</td><td>0.0125</td><td>187160162</td><td>38262030144</td><td>0.0542</td><td>AAPL</td></tr><tr><td>2025-03-31T00:00:00.000Z</td><td>Vanguard Group Inc</td><td>0.093</td><td>691386214</td><td>325718949149</td><td>0.0107</td><td>MSFT</td></tr><tr><td>2025-03-31T00:00:00.000Z</td><td>Blackrock Inc.</td><td>0.0785</td><td>583284931</td><td>274791355299</td><td>0.012200001</td><td>MSFT</td></tr><tr><td>2025-03-31T00:00:00.000Z</td><td>State Street Corporation</td><td>0.0398</td><td>296030244</td><td>139462803914</td><td>0.0031</td><td>MSFT</td></tr><tr><td>2025-03-31T00:00:00.000Z</td><td>FMR, LLC</td><td>0.026199998</td><td>194591253</td><td>91673882350</td><td>-0.0148</td><td>MSFT</td></tr><tr><td>2025-03-31T00:00:00.000Z</td><td>Geode Capital Management, LLC</td><td>0.023599999</td><td>175469697</td><td>82665526383</td><td>0.0437</td><td>MSFT</td></tr><tr><td>2025-03-31T00:00:00.000Z</td><td>JPMORGAN CHASE & CO</td><td>0.0191</td><td>142009968</td><td>66902313944</td><td>0.052399997</td><td>MSFT</td></tr><tr><td>2025-03-31T00:00:00.000Z</td><td>Price (T.Rowe) Associates Inc</td><td>0.0177</td><td>131514660</td><td>61957869546</td><td>-0.0269</td><td>MSFT</td></tr><tr><td>2025-03-31T00:00:00.000Z</td><td>Morgan Stanley</td><td>0.0167</td><td>123846555</td><td>58345348711</td><td>-0.013200001</td><td>MSFT</td></tr><tr><td>2024-12-31T00:00:00.000Z</td><td>NORGES BANK</td><td>0.014199999</td><td>105202984</td><td>49562176251</td><td>0.0838</td><td>MSFT</td></tr><tr><td>2025-03-31T00:00:00.000Z</td><td>Northern Trust Corporation</td><td>0.0111</td><td>82539834</td><td>38885339986</td><td>-0.0149</td><td>MSFT</td></tr><tr><td>2025-03-31T00:00:00.000Z</td><td>Vanguard Group Inc</td><td>0.0876</td><td>509826331</td><td>87557063450</td><td>0.028900001</td><td>GOOGL</td></tr><tr><td>2025-03-31T00:00:00.000Z</td><td>Blackrock Inc.</td><td>0.075500004</td><td>439591457</td><td>75494996536</td><td>0.020399999</td><td>GOOGL</td></tr><tr><td>2025-03-31T00:00:00.000Z</td><td>State Street Corporation</td><td>0.0388</td><td>225945895</td><td>38803721702</td><td>-2.9999999E-4</td><td>GOOGL</td></tr><tr><td>2025-03-31T00:00:00.000Z</td><td>FMR, LLC</td><td>0.038</td><td>221163347</td><td>37982371699</td><td>-0.1097</td><td>GOOGL</td></tr><tr><td>2025-03-31T00:00:00.000Z</td><td>Geode Capital Management, LLC</td><td>0.023599999</td><td>137390787</td><td>23595356150</td><td>0.041300002</td><td>GOOGL</td></tr><tr><td>2024-12-31T00:00:00.000Z</td><td>NORGES BANK</td><td>0.0221</td><td>128809703</td><td>22121649379</td><td>0.1984</td><td>GOOGL</td></tr><tr><td>2025-03-31T00:00:00.000Z</td><td>Morgan Stanley</td><td>0.0219</td><td>127287446</td><td>21860218486</td><td>0.02</td><td>GOOGL</td></tr><tr><td>2025-03-31T00:00:00.000Z</td><td>Price (T.Rowe) Associates Inc</td><td>0.0153</td><td>89134129</td><td>15307806038</td><td>-0.0964</td><td>GOOGL</td></tr><tr><td>2025-03-31T00:00:00.000Z</td><td>Bank of America Corporation</td><td>0.012200001</td><td>71240397</td><td>12234754427</td><td>0.0879</td><td>GOOGL</td></tr><tr><td>2025-03-31T00:00:00.000Z</td><td>Northern Trust Corporation</td><td>0.0117</td><td>68019033</td><td>11681520600</td><td>-0.023</td><td>GOOGL</td></tr><tr><td>2025-03-31T00:00:00.000Z</td><td>Vanguard Group Inc</td><td>0.0784</td><td>832274556</td><td>177023970053</td><td>0.0108</td><td>AMZN</td></tr><tr><td>2025-03-31T00:00:00.000Z</td><td>Blackrock Inc.</td><td>0.066300005</td><td>703411133</td><td>149614848184</td><td>0.0215</td><td>AMZN</td></tr><tr><td>2025-03-31T00:00:00.000Z</td><td>State Street Corporation</td><td>0.0348</td><td>368934077</td><td>78471911135</td><td>0.0112</td><td>AMZN</td></tr><tr><td>2025-03-31T00:00:00.000Z</td><td>FMR, LLC</td><td>0.032</td><td>339634992</td><td>72240024904</td><td>0.034</td><td>AMZN</td></tr><tr><td>2025-03-31T00:00:00.000Z</td><td>Geode Capital Management, LLC</td><td>0.0201</td><td>212995999</td><td>45304037083</td><td>0.0394</td><td>AMZN</td></tr><tr><td>2025-03-31T00:00:00.000Z</td><td>JPMORGAN CHASE & CO</td><td>0.0189</td><td>200228094</td><td>42588316392</td><td>0.0949</td><td>AMZN</td></tr><tr><td>2025-03-31T00:00:00.000Z</td><td>Price (T.Rowe) Associates Inc</td><td>0.0165</td><td>175482278</td><td>37324905948</td><td>-0.0401</td><td>AMZN</td></tr><tr><td>2025-03-31T00:00:00.000Z</td><td>Morgan Stanley</td><td>0.015700001</td><td>166516606</td><td>35417916433</td><td>-0.0038</td><td>AMZN</td></tr><tr><td>2024-12-31T00:00:00.000Z</td><td>NORGES BANK</td><td>0.0117</td><td>124283614</td><td>26435001051</td><td>0.0448</td><td>AMZN</td></tr><tr><td>2025-03-31T00:00:00.000Z</td><td>Northern Trust Corporation</td><td>0.0092</td><td>97379134</td><td>20712444921</td><td>0.0031</td><td>AMZN</td></tr><tr><td>2025-03-31T00:00:00.000Z</td><td>Vanguard Group Inc</td><td>0.089899994</td><td>2192979269</td><td>313401753886</td><td>0.0062</td><td>NVDA</td></tr><tr><td>2025-03-31T00:00:00.000Z</td><td>Blackrock Inc.</td><td>0.0779</td><td>1901848816</td><td>271795891091</td><td>0.0064</td><td>NVDA</td></tr><tr><td>2025-03-31T00:00:00.000Z</td><td>FMR, LLC</td><td>0.041100003</td><td>1001925185</td><td>143186538368</td><td>-0.0023999999</td><td>NVDA</td></tr><tr><td>2025-03-31T00:00:00.000Z</td><td>State Street Corporation</td><td>0.0397</td><td>968654005</td><td>138431707206</td><td>8.0E-4</td><td>NVDA</td></tr><tr><td>2025-03-31T00:00:00.000Z</td><td>Geode Capital Management, LLC</td><td>0.0234</td><td>570691561</td><td>81558334214</td><td>0.0273</td><td>NVDA</td></tr><tr><td>2025-03-31T00:00:00.000Z</td><td>JPMORGAN CHASE & CO</td><td>0.0173</td><td>421100703</td><td>60180094152</td><td>0.0176</td><td>NVDA</td></tr><tr><td>2025-03-31T00:00:00.000Z</td><td>Price (T.Rowe) Associates Inc</td><td>0.0154</td><td>374986428</td><td>53589838207</td><td>-0.0884</td><td>NVDA</td></tr><tr><td>2025-03-31T00:00:00.000Z</td><td>Morgan Stanley</td><td>0.014099999</td><td>344184079</td><td>49187831158</td><td>-0.015700001</td><td>NVDA</td></tr><tr><td>2024-12-31T00:00:00.000Z</td><td>NORGES BANK</td><td>0.013300001</td><td>324041286</td><td>46309196260</td><td>0.1108</td><td>NVDA</td></tr><tr><td>2025-03-31T00:00:00.000Z</td><td>Northern Trust Corporation</td><td>0.0108</td><td>263027905</td><td>37589688107</td><td>-0.0128999995</td><td>NVDA</td></tr><tr><td>2025-03-31T00:00:00.000Z</td><td>Vanguard Group Inc</td><td>0.088</td><td>191058533</td><td>134082007450</td><td>-7.0E-4</td><td>META</td></tr><tr><td>2025-03-31T00:00:00.000Z</td><td>Blackrock Inc.</td><td>0.0766</td><td>166370320</td><td>116756190553</td><td>0.0105</td><td>META</td></tr><tr><td>2025-03-31T00:00:00.000Z</td><td>FMR, LLC</td><td>0.0623</td><td>135174317</td><td>94863304425</td><td>-0.007900001</td><td>META</td></tr><tr><td>2025-03-31T00:00:00.000Z</td><td>State Street Corporation</td><td>0.039300002</td><td>85275239</td><td>59844881311</td><td>-0.0099</td><td>META</td></tr><tr><td>2025-03-31T00:00:00.000Z</td><td>JPMORGAN CHASE & CO</td><td>0.026800001</td><td>58198195</td><td>40842618715</td><td>0.1259</td><td>META</td></tr><tr><td>2025-03-31T00:00:00.000Z</td><td>Geode Capital Management, LLC</td><td>0.0234</td><td>50892441</td><td>35715550340</td><td>0.0348</td><td>META</td></tr><tr><td>2025-03-31T00:00:00.000Z</td><td>Price (T.Rowe) Associates Inc</td><td>0.018</td><td>39132171</td><td>27462369574</td><td>-0.0753</td><td>META</td></tr><tr><td>2025-03-31T00:00:00.000Z</td><td>Capital World Investors</td><td>0.0175</td><td>38081486</td><td>26725014629</td><td>-0.0555</td><td>META</td></tr><tr><td>2025-03-31T00:00:00.000Z</td><td>Morgan Stanley</td><td>0.0175</td><td>37891503</td><td>26591687415</td><td>0.048899997</td><td>META</td></tr><tr><td>2025-03-31T00:00:00.000Z</td><td>Capital Research Global Investors</td><td>0.015800001</td><td>34326729</td><td>24089982589</td><td>-0.0699</td><td>META</td></tr><tr><td>2025-03-31T00:00:00.000Z</td><td>Vanguard Group Inc</td><td>0.0767</td><td>246887705</td><td>73849049114</td><td>0.0152</td><td>TSLA</td></tr><tr><td>2025-03-31T00:00:00.000Z</td><td>Blackrock Inc.</td><td>0.0639</td><td>205668592</td><td>61519588234</td><td>0.0172</td><td>TSLA</td></tr><tr><td>2025-03-31T00:00:00.000Z</td><td>State Street Corporation</td><td>0.0353</td><td>113726971</td><td>34018011010</td><td>0.0135</td><td>TSLA</td></tr><tr><td>2025-03-31T00:00:00.000Z</td><td>Geode Capital Management, LLC</td><td>0.0197</td><td>63498689</td><td>18993727543</td><td>0.040799998</td><td>TSLA</td></tr><tr><td>2025-03-31T00:00:00.000Z</td><td>Morgan Stanley</td><td>0.014099999</td><td>45379105</td><td>13573797666</td><td>0.0092</td><td>TSLA</td></tr><tr><td>2025-03-31T00:00:00.000Z</td><td>Capital World Investors</td><td>0.0125</td><td>40264180</td><td>12043821324</td><td>-0.0232</td><td>TSLA</td></tr><tr><td>2025-03-31T00:00:00.000Z</td><td>JPMORGAN CHASE & CO</td><td>0.012200001</td><td>39415548</td><td>11789978525</td><td>0.0952</td><td>TSLA</td></tr><tr><td>2024-12-31T00:00:00.000Z</td><td>NORGES BANK</td><td>0.0111</td><td>35707824</td><td>10680924140</td><td>0.1582</td><td>TSLA</td></tr><tr><td>2025-03-31T00:00:00.000Z</td><td>FMR, LLC</td><td>0.0094</td><td>30213359</td><td>9037419796</td><td>-0.1283</td><td>TSLA</td></tr><tr><td>2025-03-31T00:00:00.000Z</td><td>Northern Trust Corporation</td><td>0.0086</td><td>27587612</td><td>8252006366</td><td>-0.0347</td><td>TSLA</td></tr><tr><td>2025-03-31T00:00:00.000Z</td><td>Vanguard Group Inc</td><td>0.112399995</td><td>150607079</td><td>74452610422</td><td>0.0173</td><td>BRK-B</td></tr><tr><td>2025-03-31T00:00:00.000Z</td><td>Blackrock Inc.</td><td>0.0833</td><td>111559788</td><td>55149581878</td><td>0.0105</td><td>BRK-B</td></tr><tr><td>2025-03-31T00:00:00.000Z</td><td>State Street Corporation</td><td>0.0539</td><td>72228236</td><td>35706028907</td><td>0.007900001</td><td>BRK-B</td></tr><tr><td>2025-03-31T00:00:00.000Z</td><td>Geode Capital Management, LLC</td><td>0.0294</td><td>39367395</td><td>19461271958</td><td>0.037</td><td>BRK-B</td></tr><tr><td>2025-03-31T00:00:00.000Z</td><td>Morgan Stanley</td><td>0.0207</td><td>27791293</td><td>13738625864</td><td>-0.0095</td><td>BRK-B</td></tr><tr><td>2025-03-31T00:00:00.000Z</td><td>Gates Foundation Trust</td><td>0.0128</td><td>17172435</td><td>8489193347</td><td>-0.1263</td><td>BRK-B</td></tr><tr><td>2025-03-31T00:00:00.000Z</td><td>JPMORGAN CHASE & CO</td><td>0.0121</td><td>16203568</td><td>8010233939</td><td>0.115200005</td><td>BRK-B</td></tr><tr><td>2025-03-31T00:00:00.000Z</td><td>Northern Trust Corporation</td><td>0.0121</td><td>16198444</td><td>8007700890</td><td>-0.0163</td><td>BRK-B</td></tr><tr><td>2025-03-31T00:00:00.000Z</td><td>FMR, LLC</td><td>0.0104</td><td>13926009</td><td>6884322634</td><td>0.4138</td><td>BRK-B</td></tr><tr><td>2025-03-31T00:00:00.000Z</td><td>Bank Of New York Mellon Corporation</td><td>0.0091</td><td>12183872</td><td>6023097197</td><td>-0.033</td><td>BRK-B</td></tr><tr><td>2025-03-31T00:00:00.000Z</td><td>Vanguard Group Inc</td><td>0.1</td><td>90729585</td><td>27212069673</td><td>0.0656</td><td>UNH</td></tr><tr><td>2025-03-31T00:00:00.000Z</td><td>Blackrock Inc.</td><td>0.08189999</td><td>74290219</td><td>22281493026</td><td>0.031600002</td><td>UNH</td></tr><tr><td>2025-03-31T00:00:00.000Z</td><td>State Street Corporation</td><td>0.05</td><td>45338514</td><td>13598153258</td><td>-0.0056</td><td>UNH</td></tr><tr><td>2025-03-31T00:00:00.000Z</td><td>JPMORGAN CHASE & CO</td><td>0.029000001</td><td>26293837</td><td>7886178741</td><td>0.0762</td><td>UNH</td></tr><tr><td>2025-03-31T00:00:00.000Z</td><td>Wellington Management Group, LLP</td><td>0.028499998</td><td>25847940</td><td>7752443088</td><td>0.1065</td><td>UNH</td></tr><tr><td>2025-03-31T00:00:00.000Z</td><td>FMR, LLC</td><td>0.026700001</td><td>24217466</td><td>7263423194</td><td>-0.19600001</td><td>UNH</td></tr><tr><td>2025-03-31T00:00:00.000Z</td><td>Capital World Investors</td><td>0.0251</td><td>22779755</td><td>6832217740</td><td>0.0587</td><td>UNH</td></tr><tr><td>2025-03-31T00:00:00.000Z</td><td>Price (T.Rowe) Associates Inc</td><td>0.023599999</td><td>21393161</td><td>6416343551</td><td>-4.0E-4</td><td>UNH</td></tr><tr><td>2025-03-31T00:00:00.000Z</td><td>Morgan Stanley</td><td>0.023599999</td><td>21364718</td><td>6407812785</td><td>-0.0015</td><td>UNH</td></tr><tr><td>2025-03-31T00:00:00.000Z</td><td>Capital Research Global Investors</td><td>0.023</td><td>20827122</td><td>6246574311</td><td>0.1592</td><td>UNH</td></tr><tr><td>2025-03-31T00:00:00.000Z</td><td>Vanguard Group Inc</td><td>0.0941</td><td>161082431</td><td>59512707382</td><td>0.0105</td><td>V</td></tr><tr><td>2025-03-31T00:00:00.000Z</td><td>Blackrock Inc.</td><td>0.0844</td><td>144327908</td><td>53322665312</td><td>0.0509</td><td>V</td></tr><tr><td>2025-03-31T00:00:00.000Z</td><td>State Street Corporation</td><td>0.0484</td><td>82751888</td><td>30573097669</td><td>0.0185</td><td>V</td></tr><tr><td>2025-03-31T00:00:00.000Z</td><td>FMR, LLC</td><td>0.0334</td><td>57172638</td><td>21122716204</td><td>0.0306</td><td>V</td></tr><tr><td>2025-03-31T00:00:00.000Z</td><td>Morgan Stanley</td><td>0.0295</td><td>50513965</td><td>18662636260</td><td>-0.0022</td><td>V</td></tr><tr><td>2025-03-31T00:00:00.000Z</td><td>Price (T.Rowe) Associates Inc</td><td>0.0249</td><td>42685931</td><td>15770530064</td><td>-0.0062</td><td>V</td></tr><tr><td>2025-03-31T00:00:00.000Z</td><td>Geode Capital Management, LLC</td><td>0.024600001</td><td>42029171</td><td>15527886807</td><td>0.0417</td><td>V</td></tr><tr><td>2025-03-31T00:00:00.000Z</td><td>JPMORGAN CHASE & CO</td><td>0.0156</td><td>26631682</td><td>9839207715</td><td>1.1087999</td><td>V</td></tr><tr><td>2025-03-31T00:00:00.000Z</td><td>Bank of America Corporation</td><td>0.0145000005</td><td>24788936</td><td>9158396017</td><td>0.0714</td><td>V</td></tr><tr><td>2025-03-31T00:00:00.000Z</td><td>Capital World Investors</td><td>0.0137</td><td>23402957</td><td>8646339164</td><td>0.0054</td><td>V</td></tr><tr><td>2025-03-31T00:00:00.000Z</td><td>Vanguard Group Inc</td><td>0.097200006</td><td>233962679</td><td>36340252401</td><td>0.005</td><td>JNJ</td></tr><tr><td>2025-03-31T00:00:00.000Z</td><td>Blackrock Inc.</td><td>0.0829</td><td>199366959</td><td>30966672298</td><td>-0.0098</td><td>JNJ</td></tr><tr><td>2025-03-31T00:00:00.000Z</td><td>State Street Corporation</td><td>0.0556</td><td>133789785</td><td>20780897946</td><td>-0.005</td><td>JNJ</td></tr><tr><td>2025-03-31T00:00:00.000Z</td><td>Geode Capital Management, LLC</td><td>0.0247</td><td>59383800</td><td>9223788553</td><td>0.0298</td><td>JNJ</td></tr><tr><td>2025-03-31T00:00:00.000Z</td><td>JPMORGAN CHASE & CO</td><td>0.0225</td><td>54061842</td><td>8397155443</td><td>0.3939</td><td>JNJ</td></tr><tr><td>2025-03-31T00:00:00.000Z</td><td>Morgan Stanley</td><td>0.0191</td><td>46030689</td><td>7149716628</td><td>0.048299998</td><td>JNJ</td></tr><tr><td>2025-03-31T00:00:00.000Z</td><td>State Farm Mutual Automobile Insurance Co</td><td>0.013200001</td><td>31675492</td><td>4919995698</td><td>0.0</td><td>JNJ</td></tr><tr><td>2025-03-31T00:00:00.000Z</td><td>Northern Trust Corporation</td><td>0.0128999995</td><td>30943820</td><td>4806348747</td><td>0.0042</td><td>JNJ</td></tr><tr><td>2024-12-31T00:00:00.000Z</td><td>NORGES BANK</td><td>0.0126</td><td>30355672</td><td>4714994660</td><td>0.0434</td><td>JNJ</td></tr><tr><td>2025-03-31T00:00:00.000Z</td><td>Bank of America Corporation</td><td>0.0114</td><td>27510501</td><td>4273068483</td><td>0.2206</td><td>JNJ</td></tr><tr><td>2025-03-31T00:00:00.000Z</td><td>Vanguard Group Inc</td><td>0.0998</td><td>429947644</td><td>44454435208</td><td>-0.0033000002</td><td>XOM</td></tr><tr><td>2025-03-31T00:00:00.000Z</td><td>Blackrock Inc.</td><td>0.070199996</td><td>302609205</td><td>31288277735</td><td>-0.013099999</td><td>XOM</td></tr><tr><td>2025-03-31T00:00:00.000Z</td><td>State Street Corporation</td><td>0.0498</td><td>214786681</td><td>22207868160</td><td>-0.0318</td><td>XOM</td></tr><tr><td>2025-03-31T00:00:00.000Z</td><td>FMR, LLC</td><td>0.032899998</td><td>141796816</td><td>14661081314</td><td>-0.0295</td><td>XOM</td></tr><tr><td>2025-03-31T00:00:00.000Z</td><td>Geode Capital Management, LLC</td><td>0.0223</td><td>95964964</td><td>9922297130</td><td>0.0286</td><td>XOM</td></tr><tr><td>2025-03-31T00:00:00.000Z</td><td>JPMORGAN CHASE & CO</td><td>0.0221</td><td>95412727</td><td>9865198587</td><td>0.0521</td><td>XOM</td></tr><tr><td>2025-03-31T00:00:00.000Z</td><td>Morgan Stanley</td><td>0.0173</td><td>74344788</td><td>7686879105</td><td>0.053600002</td><td>XOM</td></tr><tr><td>2025-03-31T00:00:00.000Z</td><td>Bank of America Corporation</td><td>0.0172</td><td>74032673</td><td>7654607976</td><td>0.1299</td><td>XOM</td></tr><tr><td>2024-12-31T00:00:00.000Z</td><td>NORGES BANK</td><td>0.015</td><td>64485795</td><td>6667508557</td><td>0.003</td><td>XOM</td></tr><tr><td>2025-03-31T00:00:00.000Z</td><td>Bank Of New York Mellon Corporation</td><td>0.0105</td><td>45323453</td><td>4686218270</td><td>0.0305</td><td>XOM</td></tr><tr><td>2025-03-31T00:00:00.000Z</td><td>Vanguard Group Inc</td><td>0.09810001</td><td>230022172</td><td>37843248720</td><td>0.001</td><td>PG</td></tr><tr><td>2025-03-31T00:00:00.000Z</td><td>Blackrock Inc.</td><td>0.076</td><td>178152589</td><td>29309664703</td><td>0.0112</td><td>PG</td></tr><tr><td>2025-03-31T00:00:00.000Z</td><td>State Street Corporation</td><td>0.0427</td><td>100185368</td><td>16482497171</td><td>-0.008</td><td>PG</td></tr><tr><td>2025-03-31T00:00:00.000Z</td><td>Geode Capital Management, LLC</td><td>0.0249</td><td>58355220</td><td>9600601043</td><td>0.033299997</td><td>PG</td></tr><tr><td>2025-03-31T00:00:00.000Z</td><td>Morgan Stanley</td><td>0.0218</td><td>51222550</td><td>8427134144</td><td>-0.002</td><td>PG</td></tr><tr><td>2025-03-31T00:00:00.000Z</td><td>Bank of America Corporation</td><td>0.0147</td><td>34459100</td><td>5669211279</td><td>0.1306</td><td>PG</td></tr><tr><td>2024-12-31T00:00:00.000Z</td><td>NORGES BANK</td><td>0.013300001</td><td>31282211</td><td>5146549487</td><td>0.0274</td><td>PG</td></tr><tr><td>2025-03-31T00:00:00.000Z</td><td>Northern Trust Corporation</td><td>0.0126</td><td>29644000</td><td>4877031006</td><td>0.0085</td><td>PG</td></tr><tr><td>2025-03-31T00:00:00.000Z</td><td>JPMORGAN CHASE & CO</td><td>0.0113</td><td>26435143</td><td>4349109839</td><td>0.093</td><td>PG</td></tr><tr><td>2025-03-31T00:00:00.000Z</td><td>FMR, LLC</td><td>0.011</td><td>25859572</td><td>4254416895</td><td>0.063200004</td><td>PG</td></tr><tr><td>2025-03-31T00:00:00.000Z</td><td>Mastercard Foundation Asset Management Corp</td><td>0.088199995</td><td>79539945</td><td>46812437482</td><td>-0.0615</td><td>MA</td></tr><tr><td>2025-03-31T00:00:00.000Z</td><td>Vanguard Group Inc</td><td>0.086</td><td>77544675</td><td>45638141320</td><td>0.0047</td><td>MA</td></tr><tr><td>2025-03-31T00:00:00.000Z</td><td>Blackrock Inc.</td><td>0.0771</td><td>69533652</td><td>40923334020</td><td>-0.0128</td><td>MA</td></tr><tr><td>2025-03-31T00:00:00.000Z</td><td>State Street Corporation</td><td>0.04</td><td>36063782</td><td>21224977465</td><td>2.0E-4</td><td>MA</td></tr><tr><td>2025-03-31T00:00:00.000Z</td><td>JPMORGAN CHASE & CO</td><td>0.0344</td><td>31014673</td><td>18253374965</td><td>0.0255</td><td>MA</td></tr><tr><td>2025-03-31T00:00:00.000Z</td><td>FMR, LLC</td><td>0.0253</td><td>22800827</td><td>13419198221</td><td>0.0239</td><td>MA</td></tr><tr><td>2025-03-31T00:00:00.000Z</td><td>Price (T.Rowe) Associates Inc</td><td>0.0223</td><td>20096979</td><td>11827875579</td><td>0.0473</td><td>MA</td></tr><tr><td>2025-03-31T00:00:00.000Z</td><td>Geode Capital Management, LLC</td><td>0.021300001</td><td>19217711</td><td>11310391209</td><td>0.03</td><td>MA</td></tr><tr><td>2025-03-31T00:00:00.000Z</td><td>Capital International Investors</td><td>0.019299999</td><td>17353602</td><td>10213288539</td><td>-0.1445</td><td>MA</td></tr><tr><td>2025-03-31T00:00:00.000Z</td><td>Morgan Stanley</td><td>0.0179</td><td>16118105</td><td>9486149162</td><td>2.0E-4</td><td>MA</td></tr><tr><td>2025-03-31T00:00:00.000Z</td><td>PNC Financial Services Group, Inc.</td><td>0.1069</td><td>101305650</td><td>78032705004</td><td>0.9746</td><td>LLY</td></tr><tr><td>2025-03-31T00:00:00.000Z</td><td>Lilly Endowment, Inc</td><td>0.1013</td><td>96016978</td><td>73958999519</td><td>-0.009</td><td>LLY</td></tr><tr><td>2025-03-31T00:00:00.000Z</td><td>Vanguard Group Inc</td><td>0.0836</td><td>79224392</td><td>61024173973</td><td>0.067</td><td>LLY</td></tr><tr><td>2025-03-31T00:00:00.000Z</td><td>Blackrock Inc.</td><td>0.069299996</td><td>65691973</td><td>50600557325</td><td>0.0070999996</td><td>LLY</td></tr><tr><td>2025-03-31T00:00:00.000Z</td><td>State Street Corporation</td><td>0.0363</td><td>34437950</td><td>26526520419</td><td>0.0036000002</td><td>LLY</td></tr><tr><td>2025-03-31T00:00:00.000Z</td><td>FMR, LLC</td><td>0.03</td><td>28468668</td><td>21928561456</td><td>-0.0677</td><td>LLY</td></tr><tr><td>2025-03-31T00:00:00.000Z</td><td>Price (T.Rowe) Associates Inc</td><td>0.0202</td><td>19133284</td><td>14737795040</td><td>-0.083000004</td><td>LLY</td></tr><tr><td>2025-03-31T00:00:00.000Z</td><td>Geode Capital Management, LLC</td><td>0.0195</td><td>18526249</td><td>14270214179</td><td>0.065799996</td><td>LLY</td></tr><tr><td>2025-03-31T00:00:00.000Z</td><td>Capital World Investors</td><td>0.0194</td><td>18382573</td><td>14159544863</td><td>-0.0598</td><td>LLY</td></tr><tr><td>2025-03-31T00:00:00.000Z</td><td>Capital Research Global Investors</td><td>0.0166</td><td>15747463</td><td>12129798632</td><td>0.4639</td><td>LLY</td></tr><tr><td>2025-03-31T00:00:00.000Z</td><td>Vanguard Group Inc</td><td>0.096999995</td><td>96484199</td><td>35908042745</td><td>0.0075</td><td>HD</td></tr><tr><td>2025-03-31T00:00:00.000Z</td><td>Blackrock Inc.</td><td>0.0752</td><td>74831780</td><td>27849770043</td><td>0.0218</td><td>HD</td></tr><tr><td>2025-03-31T00:00:00.000Z</td><td>State Street Corporation</td><td>0.045900002</td><td>45715484</td><td>17013703493</td><td>0.004</td><td>HD</td></tr><tr><td>2025-03-31T00:00:00.000Z</td><td>Geode Capital Management, LLC</td><td>0.0228</td><td>22651135</td><td>8429959850</td><td>0.031600002</td><td>HD</td></tr><tr><td>2025-03-31T00:00:00.000Z</td><td>Morgan Stanley</td><td>0.022</td><td>21923626</td><td>8159206457</td><td>-0.0023</td><td>HD</td></tr><tr><td>2025-03-31T00:00:00.000Z</td><td>Bank of America Corporation</td><td>0.0156</td><td>15510290</td><td>5772387210</td><td>0.0087</td><td>HD</td></tr><tr><td>2025-03-31T00:00:00.000Z</td><td>Charles Schwab Investment Management, Inc.</td><td>0.0145000005</td><td>14415278</td><td>5364862060</td><td>0.0659</td><td>HD</td></tr><tr><td>2025-03-31T00:00:00.000Z</td><td>Capital World Investors</td><td>0.014099999</td><td>13988938</td><td>5206193230</td><td>-0.2882</td><td>HD</td></tr><tr><td>2024-12-31T00:00:00.000Z</td><td>NORGES BANK</td><td>0.012999999</td><td>12938405</td><td>4815221607</td><td>0.0762</td><td>HD</td></tr><tr><td>2025-03-31T00:00:00.000Z</td><td>Capital Research Global Investors</td><td>0.012</td><td>11972566</td><td>4455770127</td><td>-0.0388</td><td>HD</td></tr><tr><td>2025-03-31T00:00:00.000Z</td><td>Vanguard Group Inc</td><td>0.089499995</td><td>156385774</td><td>21765770879</td><td>-0.0037</td><td>CVX</td></tr><tr><td>2025-03-31T00:00:00.000Z</td><td>State Street Corporation</td><td>0.08270001</td><td>144375620</td><td>20094197734</td><td>-0.0354</td><td>CVX</td></tr><tr><td>2025-03-31T00:00:00.000Z</td><td>Blackrock Inc.</td><td>0.070300005</td><td>122778370</td><td>17088292637</td><td>0.0093</td><td>CVX</td></tr><tr><td>2025-03-31T00:00:00.000Z</td><td>Berkshire Hathaway, Inc</td><td>0.0679</td><td>118610534</td><td>16508213253</td><td>0.0</td><td>CVX</td></tr><tr><td>2025-03-31T00:00:00.000Z</td><td>Geode Capital Management, LLC</td><td>0.0214</td><td>37350404</td><td>5198428955</td><td>0.0298</td><td>CVX</td></tr><tr><td>2025-03-31T00:00:00.000Z</td><td>Morgan Stanley</td><td>0.0195</td><td>34082075</td><td>4743542948</td><td>-0.0111</td><td>CVX</td></tr><tr><td>2025-03-31T00:00:00.000Z</td><td>Charles Schwab Investment Management, Inc.</td><td>0.0191</td><td>33430030</td><td>4652791330</td><td>0.0494</td><td>CVX</td></tr><tr><td>2025-03-31T00:00:00.000Z</td><td>Bank of America Corporation</td><td>0.0150999995</td><td>26354169</td><td>3667973048</td><td>0.040799998</td><td>CVX</td></tr><tr><td>2025-03-31T00:00:00.000Z</td><td>JPMORGAN CHASE & CO</td><td>0.013200001</td><td>23007238</td><td>3202147216</td><td>0.0771</td><td>CVX</td></tr><tr><td>2024-12-31T00:00:00.000Z</td><td>NORGES BANK</td><td>0.0119</td><td>20835056</td><td>2899822941</td><td>0.024400001</td><td>CVX</td></tr><tr><td>2025-03-31T00:00:00.000Z</td><td>Vanguard Group Inc</td><td>0.100600004</td><td>252513381</td><td>19895529520</td><td>0.0056</td><td>MRK</td></tr><tr><td>2025-03-31T00:00:00.000Z</td><td>Blackrock Inc.</td><td>0.08979999</td><td>225398231</td><td>17759126826</td><td>0.0149</td><td>MRK</td></tr><tr><td>2025-03-31T00:00:00.000Z</td><td>State Street Corporation</td><td>0.048</td><td>120529640</td><td>9496530445</td><td>-0.0031</td><td>MRK</td></tr><tr><td>2025-03-31T00:00:00.000Z</td><td>Wellington Management Group, LLP</td><td>0.0325</td><td>81669651</td><td>6434751877</td><td>0.0115</td><td>MRK</td></tr><tr><td>2025-03-31T00:00:00.000Z</td><td>Geode Capital Management, LLC</td><td>0.0238</td><td>59657270</td><td>4700396357</td><td>-0.0249</td><td>MRK</td></tr><tr><td>2025-03-31T00:00:00.000Z</td><td>Charles Schwab Investment Management, Inc.</td><td>0.0196</td><td>49229283</td><td>3878775252</td><td>1.4461999</td><td>MRK</td></tr><tr><td>2025-03-31T00:00:00.000Z</td><td>Morgan Stanley</td><td>0.0172</td><td>43114452</td><td>3396987712</td><td>-0.0242</td><td>MRK</td></tr><tr><td>2024-12-31T00:00:00.000Z</td><td>NORGES BANK</td><td>0.0139</td><td>34979885</td><td>2756065171</td><td>0.0347</td><td>MRK</td></tr><tr><td>2025-03-31T00:00:00.000Z</td><td>FMR, LLC</td><td>0.0127</td><td>31808043</td><td>2506155737</td><td>-0.1486</td><td>MRK</td></tr><tr><td>2025-03-31T00:00:00.000Z</td><td>Bank of America Corporation</td><td>0.0124</td><td>31084245</td><td>2449127692</td><td>-0.1471</td><td>MRK</td></tr><tr><td>2025-03-31T00:00:00.000Z</td><td>Vanguard Group Inc</td><td>0.0963</td><td>135174252</td><td>17615909510</td><td>0.0135</td><td>PEP</td></tr><tr><td>2025-03-31T00:00:00.000Z</td><td>Blackrock Inc.</td><td>0.080699995</td><td>113302013</td><td>14765519164</td><td>0.0069999998</td><td>PEP</td></tr><tr><td>2025-03-31T00:00:00.000Z</td><td>State Street Corporation</td><td>0.040900003</td><td>57499804</td><td>7493374878</td><td>-0.0044</td><td>PEP</td></tr><tr><td>2025-03-31T00:00:00.000Z</td><td>JPMORGAN CHASE & CO</td><td>0.0252</td><td>35406666</td><td>4614196972</td><td>0.1491</td><td>PEP</td></tr><tr><td>2025-03-31T00:00:00.000Z</td><td>Geode Capital Management, LLC</td><td>0.0232</td><td>32588797</td><td>4246972263</td><td>0.048600003</td><td>PEP</td></tr><tr><td>2025-03-31T00:00:00.000Z</td><td>Bank of America Corporation</td><td>0.0194</td><td>27297864</td><td>3557457836</td><td>0.1547</td><td>PEP</td></tr><tr><td>2025-03-31T00:00:00.000Z</td><td>Charles Schwab Investment Management, Inc.</td><td>0.0189</td><td>26475241</td><td>3450253601</td><td>0.0499</td><td>PEP</td></tr><tr><td>2025-03-31T00:00:00.000Z</td><td>Morgan Stanley</td><td>0.0186</td><td>26118902</td><td>3403815499</td><td>-0.0398</td><td>PEP</td></tr><tr><td>2024-12-31T00:00:00.000Z</td><td>NORGES BANK</td><td>0.0128</td><td>17950577</td><td>2339319326</td><td>0.026300002</td><td>PEP</td></tr><tr><td>2025-03-31T00:00:00.000Z</td><td>Northern Trust Corporation</td><td>0.0116</td><td>16344720</td><td>2130044030</td><td>-0.0036000002</td><td>PEP</td></tr><tr><td>2025-03-31T00:00:00.000Z</td><td>Vanguard Group Inc</td><td>0.098500006</td><td>173917865</td><td>32891345779</td><td>0.0049</td><td>ABBV</td></tr><tr><td>2025-03-31T00:00:00.000Z</td><td>Blackrock Inc.</td><td>0.082600005</td><td>145878142</td><td>27588473502</td><td>0.0271</td><td>ABBV</td></tr><tr><td>2025-03-31T00:00:00.000Z</td><td>State Street Corporation</td><td>0.045300003</td><td>79962967</td><td>15122595928</td><td>0.0043</td><td>ABBV</td></tr><tr><td>2025-03-31T00:00:00.000Z</td><td>JPMORGAN CHASE & CO</td><td>0.031</td><td>54754470</td><td>10355165099</td><td>0.057800002</td><td>ABBV</td></tr><tr><td>2025-03-31T00:00:00.000Z</td><td>Morgan Stanley</td><td>0.0233</td><td>41149734</td><td>7782237493</td><td>0.0368</td><td>ABBV</td></tr><tr><td>2025-03-31T00:00:00.000Z</td><td>Geode Capital Management, LLC</td><td>0.0217</td><td>38253590</td><td>7234518754</td><td>0.0298</td><td>ABBV</td></tr><tr><td>2025-03-31T00:00:00.000Z</td><td>Capital Research Global Investors</td><td>0.019</td><td>33508014</td><td>6337035444</td><td>-0.0139999995</td><td>ABBV</td></tr><tr><td>2025-03-31T00:00:00.000Z</td><td>Bank of America Corporation</td><td>0.015800001</td><td>27953530</td><td>5286571457</td><td>0.1038</td><td>ABBV</td></tr><tr><td>2025-03-31T00:00:00.000Z</td><td>Charles Schwab Investment Management, Inc.</td><td>0.0143</td><td>25266107</td><td>4778326032</td><td>-0.0791</td><td>ABBV</td></tr><tr><td>2024-12-31T00:00:00.000Z</td><td>NORGES BANK</td><td>0.014199999</td><td>25095020</td><td>4745970059</td><td>0.1164</td><td>ABBV</td></tr><tr><td>2025-03-31T00:00:00.000Z</td><td>Vanguard Group Inc</td><td>0.1015</td><td>477220137</td><td>120810473872</td><td>0.0044</td><td>AVGO</td></tr><tr><td>2025-03-31T00:00:00.000Z</td><td>Blackrock Inc.</td><td>0.079</td><td>371578962</td><td>94066924255</td><td>0.0146</td><td>AVGO</td></tr><tr><td>2025-03-31T00:00:00.000Z</td><td>State Street Corporation</td><td>0.0392</td><td>184403024</td><td>46682474157</td><td>-0.01</td><td>AVGO</td></tr><tr><td>2025-03-31T00:00:00.000Z</td><td>Capital International Investors</td><td>0.0348</td><td>163682774</td><td>41437047514</td><td>-0.13239999</td><td>AVGO</td></tr><tr><td>2025-03-31T00:00:00.000Z</td><td>Capital World Investors</td><td>0.033</td><td>155100449</td><td>39264392444</td><td>-0.21260001</td><td>AVGO</td></tr><tr><td>2025-03-31T00:00:00.000Z</td><td>Geode Capital Management, LLC</td><td>0.0226</td><td>106384133</td><td>26931632854</td><td>0.040900003</td><td>AVGO</td></tr><tr><td>2025-03-31T00:00:00.000Z</td><td>FMR, LLC</td><td>0.0217</td><td>101869215</td><td>25788660584</td><td>0.0921</td><td>AVGO</td></tr><tr><td>2025-03-31T00:00:00.000Z</td><td>JPMORGAN CHASE & CO</td><td>0.0194</td><td>91362074</td><td>23128729486</td><td>0.1522</td><td>AVGO</td></tr><tr><td>2025-03-31T00:00:00.000Z</td><td>Capital Research Global Investors</td><td>0.019</td><td>89465785</td><td>22648675198</td><td>-0.0023</td><td>AVGO</td></tr><tr><td>2025-03-31T00:00:00.000Z</td><td>Morgan Stanley</td><td>0.0163</td><td>76432699</td><td>19349289499</td><td>0.0138</td><td>AVGO</td></tr><tr><td>2025-03-31T00:00:00.000Z</td><td>Berkshire Hathaway, Inc</td><td>0.0929</td><td>400000000</td><td>28516000366</td><td>0.0</td><td>KO</td></tr><tr><td>2025-03-31T00:00:00.000Z</td><td>Vanguard Group Inc</td><td>0.083900005</td><td>361200808</td><td>25750005933</td><td>0.0031</td><td>KO</td></tr><tr><td>2025-03-31T00:00:00.000Z</td><td>Blackrock Inc.</td><td>0.0726</td><td>312568274</td><td>22282992539</td><td>0.022</td><td>KO</td></tr><tr><td>2025-03-31T00:00:00.000Z</td><td>State Street Corporation</td><td>0.0382</td><td>164598680</td><td>11734240047</td><td>-0.001</td><td>KO</td></tr><tr><td>2025-03-31T00:00:00.000Z</td><td>Geode Capital Management, LLC</td><td>0.0223</td><td>95937591</td><td>6839390950</td><td>0.052600004</td><td>KO</td></tr><tr><td>2025-03-31T00:00:00.000Z</td><td>JPMORGAN CHASE & CO</td><td>0.0216</td><td>93085485</td><td>6636064310</td><td>-0.0058</td><td>KO</td></tr><tr><td>2025-03-31T00:00:00.000Z</td><td>FMR, LLC</td><td>0.020499999</td><td>88055356</td><td>6277466409</td><td>0.060900003</td><td>KO</td></tr><tr><td>2025-03-31T00:00:00.000Z</td><td>Morgan Stanley</td><td>0.02</td><td>86036606</td><td>6133549720</td><td>0.0433</td><td>KO</td></tr><tr><td>2025-03-31T00:00:00.000Z</td><td>Charles Schwab Investment Management, Inc.</td><td>0.0163</td><td>70277445</td><td>5010079118</td><td>-0.052399997</td><td>KO</td></tr><tr><td>2024-12-31T00:00:00.000Z</td><td>NORGES BANK</td><td>0.0127</td><td>54644250</td><td>3895588632</td><td>0.051</td><td>KO</td></tr><tr><td>2025-03-31T00:00:00.000Z</td><td>Vanguard Group Inc</td><td>0.0851</td><td>641191128</td><td>28920925534</td><td>-0.0253</td><td>BAC</td></tr><tr><td>2025-03-31T00:00:00.000Z</td><td>Berkshire Hathaway, Inc</td><td>0.083900005</td><td>631573531</td><td>28487123826</td><td>-0.0715</td><td>BAC</td></tr><tr><td>2025-03-31T00:00:00.000Z</td><td>Blackrock Inc.</td><td>0.070700005</td><td>532778633</td><td>24030979997</td><td>0.019299999</td><td>BAC</td></tr><tr><td>2025-03-31T00:00:00.000Z</td><td>State Street Corporation</td><td>0.0392</td><td>295126682</td><td>13311688856</td><td>0.001</td><td>BAC</td></tr><tr><td>2025-03-31T00:00:00.000Z</td><td>FMR, LLC</td><td>0.027</td><td>203339790</td><td>9171641134</td><td>0.051599998</td><td>BAC</td></tr><tr><td>2025-03-31T00:00:00.000Z</td><td>JPMORGAN CHASE & CO</td><td>0.0219</td><td>165290019</td><td>7455406231</td><td>-0.027</td><td>BAC</td></tr><tr><td>2025-03-31T00:00:00.000Z</td><td>Geode Capital Management, LLC</td><td>0.0196</td><td>147773103</td><td>6665305743</td><td>0.0385</td><td>BAC</td></tr><tr><td>2024-12-31T00:00:00.000Z</td><td>NORGES BANK</td><td>0.015800001</td><td>118930358</td><td>5364353743</td><td>-0.0324</td><td>BAC</td></tr><tr><td>2025-03-31T00:00:00.000Z</td><td>Capital World Investors</td><td>0.0147</td><td>110804572</td><td>4997840169</td><td>0.2561</td><td>BAC</td></tr><tr><td>2025-03-31T00:00:00.000Z</td><td>Morgan Stanley</td><td>0.014199999</td><td>107226454</td><td>4836449158</td><td>-0.1436</td><td>BAC</td></tr><tr><td>2025-03-31T00:00:00.000Z</td><td>Vanguard Group Inc</td><td>0.092</td><td>523165127</td><td>12270838013</td><td>0.0089</td><td>PFE</td></tr><tr><td>2025-03-31T00:00:00.000Z</td><td>Blackrock Inc.</td><td>0.0834</td><td>474167592</td><td>11121600834</td><td>0.0496</td><td>PFE</td></tr><tr><td>2025-03-31T00:00:00.000Z</td><td>State Street Corporation</td><td>0.052199997</td><td>296970528</td><td>6965443711</td><td>0.0223</td><td>PFE</td></tr><tr><td>2025-03-31T00:00:00.000Z</td><td>Geode Capital Management, LLC</td><td>0.0221</td><td>125650847</td><td>2947140606</td><td>0.042</td><td>PFE</td></tr><tr><td>2025-03-31T00:00:00.000Z</td><td>Wellington Management Group, LLP</td><td>0.0182</td><td>103493699</td><td>2427444702</td><td>-0.2607</td><td>PFE</td></tr><tr><td>2024-12-31T00:00:00.000Z</td><td>NORGES BANK</td><td>0.0154</td><td>87786882</td><td>2059041310</td><td>0.045500003</td><td>PFE</td></tr><tr><td>2025-03-31T00:00:00.000Z</td><td>Morgan Stanley</td><td>0.014099999</td><td>80442317</td><td>1886774539</td><td>0.088599995</td><td>PFE</td></tr><tr><td>2025-03-31T00:00:00.000Z</td><td>Massachusetts Financial Services Co.</td><td>0.013300001</td><td>75446358</td><td>1769594321</td><td>-0.0138</td><td>PFE</td></tr><tr><td>2025-03-31T00:00:00.000Z</td><td>Northern Trust Corporation</td><td>0.011</td><td>62325957</td><td>1461855316</td><td>0.0675</td><td>PFE</td></tr><tr><td>2025-03-31T00:00:00.000Z</td><td>Bank of America Corporation</td><td>0.0099</td><td>56065464</td><td>1315015453</td><td>0.24299999</td><td>PFE</td></tr><tr><td>2025-03-31T00:00:00.000Z</td><td>Vanguard Group Inc</td><td>0.096099995</td><td>42644711</td><td>43241736954</td><td>0.0105</td><td>COST</td></tr><tr><td>2025-03-31T00:00:00.000Z</td><td>Blackrock Inc.</td><td>0.0787</td><td>34932168</td><td>35421218352</td><td>0.0049</td><td>COST</td></tr><tr><td>2025-03-31T00:00:00.000Z</td><td>State Street Corporation</td><td>0.041100003</td><td>18235309</td><td>18490603326</td><td>0.0083</td><td>COST</td></tr><tr><td>2025-03-31T00:00:00.000Z</td><td>Geode Capital Management, LLC</td><td>0.0228</td><td>10124212</td><td>10265950968</td><td>0.0395</td><td>COST</td></tr><tr><td>2025-03-31T00:00:00.000Z</td><td>FMR, LLC</td><td>0.0215</td><td>9518862</td><td>9652126068</td><td>0.0064999997</td><td>COST</td></tr><tr><td>2025-03-31T00:00:00.000Z</td><td>Morgan Stanley</td><td>0.0214</td><td>9514874</td><td>9648082236</td><td>-0.0062</td><td>COST</td></tr><tr><td>2025-03-31T00:00:00.000Z</td><td>Bank of America Corporation</td><td>0.0150999995</td><td>6710789</td><td>6804740046</td><td>-0.0162</td><td>COST</td></tr><tr><td>2024-12-31T00:00:00.000Z</td><td>NORGES BANK</td><td>0.0127</td><td>5655883</td><td>5735065362</td><td>0.0645</td><td>COST</td></tr><tr><td>2025-03-31T00:00:00.000Z</td><td>Northern Trust Corporation</td><td>0.0115</td><td>5109095</td><td>5180622330</td><td>-0.028299998</td><td>COST</td></tr><tr><td>2025-03-31T00:00:00.000Z</td><td>Alliancebernstein L.P.</td><td>0.0098</td><td>4332009</td><td>4392657126</td><td>0.0042</td><td>COST</td></tr><tr><td>2025-03-31T00:00:00.000Z</td><td>Vanguard Group Inc</td><td>0.0887</td><td>33479957</td><td>13522386864</td><td>0.0069</td><td>TMO</td></tr><tr><td>2025-03-31T00:00:00.000Z</td><td>Blackrock Inc.</td><td>0.077</td><td>29080121</td><td>11745315151</td><td>0.0085</td><td>TMO</td></tr><tr><td>2025-03-31T00:00:00.000Z</td><td>State Street Corporation</td><td>0.0438</td><td>16539489</td><td>6680216727</td><td>0.0056</td><td>TMO</td></tr><tr><td>2025-03-31T00:00:00.000Z</td><td>Morgan Stanley</td><td>0.0307</td><td>11595430</td><td>4683336072</td><td>0.0092</td><td>TMO</td></tr><tr><td>2025-03-31T00:00:00.000Z</td><td>Capital World Investors</td><td>0.0293</td><td>11061400</td><td>4467644031</td><td>0.173</td><td>TMO</td></tr><tr><td>2025-03-31T00:00:00.000Z</td><td>JPMORGAN CHASE & CO</td><td>0.0269</td><td>10137780</td><td>4094598541</td><td>0.1367</td><td>TMO</td></tr><tr><td>2025-03-31T00:00:00.000Z</td><td>Price (T.Rowe) Associates Inc</td><td>0.024600001</td><td>9304832</td><td>3758175018</td><td>-0.1476</td><td>TMO</td></tr><tr><td>2025-03-31T00:00:00.000Z</td><td>Geode Capital Management, LLC</td><td>0.0215</td><td>8127186</td><td>3282529700</td><td>0.0343</td><td>TMO</td></tr><tr><td>2025-03-31T00:00:00.000Z</td><td>Capital Research Global Investors</td><td>0.0202</td><td>7612797</td><td>3074770560</td><td>-0.038900003</td><td>TMO</td></tr><tr><td>2024-12-31T00:00:00.000Z</td><td>NORGES BANK</td><td>0.016</td><td>6054541</td><td>2445398770</td><td>0.0868</td><td>TMO</td></tr><tr><td>2025-03-31T00:00:00.000Z</td><td>Vanguard Group Inc</td><td>0.09819999</td><td>388949854</td><td>25452879395</td><td>0.0047999998</td><td>CSCO</td></tr><tr><td>2025-03-31T00:00:00.000Z</td><td>Blackrock Inc.</td><td>0.0925</td><td>366371404</td><td>23975345572</td><td>0.0505</td><td>CSCO</td></tr><tr><td>2025-03-31T00:00:00.000Z</td><td>State Street Corporation</td><td>0.048899997</td><td>193627378</td><td>12670976089</td><td>-0.0042</td><td>CSCO</td></tr><tr><td>2025-03-31T00:00:00.000Z</td><td>Geode Capital Management, LLC</td><td>0.0248</td><td>98094691</td><td>6419316818</td><td>0.025899999</td><td>CSCO</td></tr><tr><td>2025-03-31T00:00:00.000Z</td><td>FMR, LLC</td><td>0.023599999</td><td>93449595</td><td>6115341724</td><td>0.21020001</td><td>CSCO</td></tr><tr><td>2025-03-31T00:00:00.000Z</td><td>Charles Schwab Investment Management, Inc.</td><td>0.0197</td><td>78182843</td><td>5116285436</td><td>-0.029000001</td><td>CSCO</td></tr><tr><td>2025-03-31T00:00:00.000Z</td><td>Morgan Stanley</td><td>0.0182</td><td>72164986</td><td>4722476860</td><td>4.0E-4</td><td>CSCO</td></tr><tr><td>2024-12-31T00:00:00.000Z</td><td>NORGES BANK</td><td>0.014099999</td><td>55707852</td><td>3645521970</td><td>0.093</td><td>CSCO</td></tr><tr><td>2025-03-31T00:00:00.000Z</td><td>Bank of America Corporation</td><td>0.012</td><td>47519387</td><td>3109668801</td><td>0.0233</td><td>CSCO</td></tr><tr><td>2025-03-31T00:00:00.000Z</td><td>Invesco Ltd.</td><td>0.0119</td><td>47117146</td><td>3083346149</td><td>0.103999995</td><td>CSCO</td></tr><tr><td>2025-03-31T00:00:00.000Z</td><td>Vanguard Group Inc</td><td>0.097600006</td><td>169823136</td><td>22900650926</td><td>0.0069999998</td><td>ABT</td></tr><tr><td>2025-03-31T00:00:00.000Z</td><td>Blackrock Inc.</td><td>0.0787</td><td>136977160</td><td>18471370862</td><td>0.0032</td><td>ABT</td></tr><tr><td>2025-03-31T00:00:00.000Z</td><td>State Street Corporation</td><td>0.0446</td><td>77664753</td><td>10473092416</td><td>0.0064</td><td>ABT</td></tr><tr><td>2025-03-31T00:00:00.000Z</td><td>Capital International Investors</td><td>0.038399998</td><td>66824002</td><td>9011217077</td><td>-0.016900001</td><td>ABT</td></tr><tr><td>2025-03-31T00:00:00.000Z</td><td>Capital Research Global Investors</td><td>0.0292</td><td>50734446</td><td>6841540352</td><td>-0.0622</td><td>ABT</td></tr><tr><td>2025-03-31T00:00:00.000Z</td><td>JPMORGAN CHASE & CO</td><td>0.0229</td><td>39923837</td><td>5383729663</td><td>0.1348</td><td>ABT</td></tr><tr><td>2025-03-31T00:00:00.000Z</td><td>Geode Capital Management, LLC</td><td>0.0212</td><td>36902513</td><td>4976304103</td><td>0.0346</td><td>ABT</td></tr><tr><td>2025-03-31T00:00:00.000Z</td><td>Morgan Stanley</td><td>0.0208</td><td>36136810</td><td>4873049049</td><td>5.9999997E-4</td><td>ABT</td></tr><tr><td>2025-03-31T00:00:00.000Z</td><td>Wellington Management Group, LLP</td><td>0.0171</td><td>29763415</td><td>4013596694</td><td>0.1277</td><td>ABT</td></tr><tr><td>2025-03-31T00:00:00.000Z</td><td>Northern Trust Corporation</td><td>0.0123000005</td><td>21327367</td><td>2875995570</td><td>-0.033099998</td><td>ABT</td></tr><tr><td>2025-03-31T00:00:00.000Z</td><td>Vanguard Group Inc</td><td>0.098500006</td><td>70409095</td><td>21786685750</td><td>0.0034</td><td>MCD</td></tr><tr><td>2025-03-31T00:00:00.000Z</td><td>Blackrock Inc.</td><td>0.0735</td><td>52583560</td><td>16270930585</td><td>0.0043</td><td>MCD</td></tr><tr><td>2025-03-31T00:00:00.000Z</td><td>JPMORGAN CHASE & CO</td><td>0.0525</td><td>37538959</td><td>11615679808</td><td>0.146</td><td>MCD</td></tr><tr><td>2025-03-31T00:00:00.000Z</td><td>State Street Corporation</td><td>0.048299998</td><td>34556213</td><td>10692728735</td><td>-0.026300002</td><td>MCD</td></tr><tr><td>2025-03-31T00:00:00.000Z</td><td>Morgan Stanley</td><td>0.024600001</td><td>17564790</td><td>5435072841</td><td>0.1337</td><td>MCD</td></tr><tr><td>2025-03-31T00:00:00.000Z</td><td>Geode Capital Management, LLC</td><td>0.0231</td><td>16552355</td><td>5121795086</td><td>0.0297</td><td>MCD</td></tr><tr><td>2025-03-31T00:00:00.000Z</td><td>Bank of America Corporation</td><td>0.0208</td><td>14852796</td><td>4595900557</td><td>0.1379</td><td>MCD</td></tr><tr><td>2025-03-31T00:00:00.000Z</td><td>Wellington Management Group, LLP</td><td>0.0166</td><td>11851904</td><td>3667334567</td><td>-0.15439999</td><td>MCD</td></tr><tr><td>2024-12-31T00:00:00.000Z</td><td>NORGES BANK</td><td>0.013099999</td><td>9400772</td><td>2908880811</td><td>0.028099999</td><td>MCD</td></tr><tr><td>2025-03-31T00:00:00.000Z</td><td>Price (T.Rowe) Associates Inc</td><td>0.013099999</td><td>9341460</td><td>2890527899</td><td>0.1682</td><td>MCD</td></tr><tr><td>2025-03-31T00:00:00.000Z</td><td>Vanguard Group Inc</td><td>0.092</td><td>87913628</td><td>23743711469</td><td>0.016</td><td>CRM</td></tr><tr><td>2025-03-31T00:00:00.000Z</td><td>Blackrock Inc.</td><td>0.0838</td><td>80114692</td><td>21637374939</td><td>0.044699997</td><td>CRM</td></tr><tr><td>2025-03-31T00:00:00.000Z</td><td>State Street Corporation</td><td>0.0507</td><td>48484618</td><td>13094724978</td><td>-0.0095</td><td>CRM</td></tr><tr><td>2025-03-31T00:00:00.000Z</td><td>JPMORGAN CHASE & CO</td><td>0.0242</td><td>23117876</td><td>6243675639</td><td>0.2011</td><td>CRM</td></tr><tr><td>2025-03-31T00:00:00.000Z</td><td>Capital Research Global Investors</td><td>0.0217</td><td>20783012</td><td>5613075601</td><td>-0.1382</td><td>CRM</td></tr><tr><td>2025-03-31T00:00:00.000Z</td><td>Geode Capital Management, LLC</td><td>0.0217</td><td>20759396</td><td>5606697392</td><td>0.0403</td><td>CRM</td></tr><tr><td>2025-03-31T00:00:00.000Z</td><td>Morgan Stanley</td><td>0.0212</td><td>20260530</td><td>5471963670</td><td>0.056500003</td><td>CRM</td></tr><tr><td>2025-03-31T00:00:00.000Z</td><td>FMR, LLC</td><td>0.0182</td><td>17382710</td><td>4694722083</td><td>-0.2507</td><td>CRM</td></tr><tr><td>2025-03-31T00:00:00.000Z</td><td>Capital International Investors</td><td>0.014199999</td><td>13581127</td><td>3667990597</td><td>-0.18360001</td><td>CRM</td></tr><tr><td>2025-03-31T00:00:00.000Z</td><td>Northern Trust Corporation</td><td>0.0115</td><td>10955876</td><td>2958962842</td><td>-0.024</td><td>CRM</td></tr><tr><td>2025-03-31T00:00:00.000Z</td><td>Vanguard Group Inc</td><td>0.096499994</td><td>41143835</td><td>17138875807</td><td>0.0042</td><td>ADBE</td></tr><tr><td>2025-03-31T00:00:00.000Z</td><td>Blackrock Inc.</td><td>0.094399996</td><td>40247230</td><td>16765386030</td><td>-0.0064</td><td>ADBE</td></tr><tr><td>2025-03-31T00:00:00.000Z</td><td>State Street Corporation</td><td>0.0476</td><td>20284328</td><td>8449639622</td><td>-0.0117</td><td>ADBE</td></tr><tr><td>2025-03-31T00:00:00.000Z</td><td>Geode Capital Management, LLC</td><td>0.025999999</td><td>11063048</td><td>4608423247</td><td>0.0358</td><td>ADBE</td></tr><tr><td>2025-03-31T00:00:00.000Z</td><td>Morgan Stanley</td><td>0.0184</td><td>7824969</td><td>3259569067</td><td>-0.059</td><td>ADBE</td></tr><tr><td>2025-03-31T00:00:00.000Z</td><td>Bank Of New York Mellon Corporation</td><td>0.0153</td><td>6530611</td><td>2720391302</td><td>0.1439</td><td>ADBE</td></tr><tr><td>2024-12-31T00:00:00.000Z</td><td>NORGES BANK</td><td>0.0135</td><td>5741285</td><td>2391589665</td><td>0.067600004</td><td>ADBE</td></tr><tr><td>2025-03-31T00:00:00.000Z</td><td>UBS AM, a distinct business unit of UBS ASSET MANAGEMENT AMERICAS LLC</td><td>0.0128</td><td>5468383</td><td>2277909609</td><td>0.023699999</td><td>ADBE</td></tr><tr><td>2025-03-31T00:00:00.000Z</td><td>Primecap Management Company</td><td>0.0127</td><td>5421591</td><td>2258417933</td><td>-0.012</td><td>ADBE</td></tr><tr><td>2025-03-31T00:00:00.000Z</td><td>FMR, LLC</td><td>0.0124</td><td>5266536</td><td>2193828223</td><td>-0.31309998</td><td>ADBE</td></tr><tr><td>2025-03-31T00:00:00.000Z</td><td>Vanguard Group Inc</td><td>0.053200003</td><td>425961042</td><td>41931606014</td><td>0.0076</td><td>WMT</td></tr><tr><td>2025-03-31T00:00:00.000Z</td><td>Blackrock Inc.</td><td>0.042600002</td><td>340501876</td><td>33519005504</td><td>0.0115</td><td>WMT</td></tr><tr><td>2025-03-31T00:00:00.000Z</td><td>State Street Corporation</td><td>0.0229</td><td>183416761</td><td>18055546400</td><td>-0.0047999998</td><td>WMT</td></tr><tr><td>2025-03-31T00:00:00.000Z</td><td>JPMORGAN CHASE & CO</td><td>0.0124</td><td>98988651</td><td>9744443046</td><td>0.7954</td><td>WMT</td></tr><tr><td>2025-03-31T00:00:00.000Z</td><td>Geode Capital Management, LLC</td><td>0.0117999995</td><td>94293814</td><td>9282283280</td><td>0.0404</td><td>WMT</td></tr><tr><td>2025-03-31T00:00:00.000Z</td><td>Morgan Stanley</td><td>0.0104</td><td>83222929</td><td>8192465333</td><td>0.0629</td><td>WMT</td></tr><tr><td>2025-03-31T00:00:00.000Z</td><td>Bank of America Corporation</td><td>0.0095999995</td><td>76649355</td><td>7545362693</td><td>0.0761</td><td>WMT</td></tr><tr><td>2024-12-31T00:00:00.000Z</td><td>NORGES BANK</td><td>0.007900001</td><td>63501444</td><td>6251082302</td><td>-0.0849</td><td>WMT</td></tr><tr><td>2025-03-31T00:00:00.000Z</td><td>FMR, LLC</td><td>0.0067000003</td><td>53727285</td><td>5288914066</td><td>-0.134</td><td>WMT</td></tr><tr><td>2025-03-31T00:00:00.000Z</td><td>Northern Trust Corporation</td><td>0.0054</td><td>43100763</td><td>4242839214</td><td>-0.0124</td><td>WMT</td></tr><tr><td>2025-03-31T00:00:00.000Z</td><td>Vanguard Group Inc</td><td>0.0838</td><td>59981088</td><td>11695112281</td><td>0.0039</td><td>DHR</td></tr><tr><td>2025-03-31T00:00:00.000Z</td><td>Blackrock Inc.</td><td>0.0735</td><td>52602194</td><td>10256375561</td><td>0.0476</td><td>DHR</td></tr><tr><td>2025-03-31T00:00:00.000Z</td><td>State Street Corporation</td><td>0.038399998</td><td>27463971</td><td>5354924948</td><td>0.0029</td><td>DHR</td></tr><tr><td>2025-03-31T00:00:00.000Z</td><td>Price (T.Rowe) Associates Inc</td><td>0.0274</td><td>19592211</td><td>3820089217</td><td>0.0323</td><td>DHR</td></tr><tr><td>2025-03-31T00:00:00.000Z</td><td>Wellington Management Group, LLP</td><td>0.0247</td><td>17700708</td><td>3451283970</td><td>-0.1697</td><td>DHR</td></tr><tr><td>2025-03-31T00:00:00.000Z</td><td>Capital International Investors</td><td>0.021</td><td>15062295</td><td>2936846214</td><td>-0.1472</td><td>DHR</td></tr><tr><td>2025-03-31T00:00:00.000Z</td><td>FMR, LLC</td><td>0.0195</td><td>13934833</td><td>2717013678</td><td>-0.3209</td><td>DHR</td></tr><tr><td>2025-03-31T00:00:00.000Z</td><td>Geode Capital Management, LLC</td><td>0.0191</td><td>13644524</td><td>2660409231</td><td>0.0214</td><td>DHR</td></tr><tr><td>2025-03-31T00:00:00.000Z</td><td>Morgan Stanley</td><td>0.0173</td><td>12356931</td><td>2409354353</td><td>0.058000002</td><td>DHR</td></tr><tr><td>2024-12-31T00:00:00.000Z</td><td>NORGES BANK</td><td>0.012999999</td><td>9282250</td><td>1809853065</td><td>0.012</td><td>DHR</td></tr><tr><td>2025-03-31T00:00:00.000Z</td><td>Vanguard Group Inc</td><td>0.0941</td><td>63814234</td><td>20359484611</td><td>0.056599997</td><td>ACN</td></tr><tr><td>2025-03-31T00:00:00.000Z</td><td>Blackrock Inc.</td><td>0.0795</td><td>53925027</td><td>17204402349</td><td>0.0359</td><td>ACN</td></tr><tr><td>2025-03-31T00:00:00.000Z</td><td>State Street Corporation</td><td>0.040799998</td><td>27689626</td><td>8834181327</td><td>2.0E-4</td><td>ACN</td></tr><tr><td>2025-03-31T00:00:00.000Z</td><td>Geode Capital Management, LLC</td><td>0.020499999</td><td>13894912</td><td>4433074399</td><td>0.0271</td><td>ACN</td></tr><tr><td>2025-03-31T00:00:00.000Z</td><td>Morgan Stanley</td><td>0.0202</td><td>13726010</td><td>4379187398</td><td>0.048600003</td><td>ACN</td></tr><tr><td>2025-03-31T00:00:00.000Z</td><td>Wellington Management Group, LLP</td><td>0.0177</td><td>11990715</td><td>3825553676</td><td>-0.0152</td><td>ACN</td></tr><tr><td>2025-03-31T00:00:00.000Z</td><td>Capital Research Global Investors</td><td>0.0138</td><td>9350813</td><td>2983311425</td><td>-0.2395</td><td>ACN</td></tr><tr><td>2025-03-31T00:00:00.000Z</td><td>Massachusetts Financial Services Co.</td><td>0.013200001</td><td>8942718</td><td>2853111572</td><td>-0.0212</td><td>ACN</td></tr><tr><td>2025-03-31T00:00:00.000Z</td><td>Price (T.Rowe) Associates Inc</td><td>0.013200001</td><td>8953621</td><td>2856590098</td><td>0.6389</td><td>ACN</td></tr><tr><td>2025-03-31T00:00:00.000Z</td><td>Northern Trust Corporation</td><td>0.0112</td><td>7587791</td><td>2420831598</td><td>7.0E-4</td><td>ACN</td></tr><tr><td>2025-03-31T00:00:00.000Z</td><td>Vanguard Group Inc</td><td>0.0915</td><td>44346355</td><td>21055206269</td><td>-0.0011</td><td>LIN</td></tr><tr><td>2025-03-31T00:00:00.000Z</td><td>Blackrock Inc.</td><td>0.074200004</td><td>35971311</td><td>17078819057</td><td>0.0050999997</td><td>LIN</td></tr><tr><td>2025-03-31T00:00:00.000Z</td><td>State Street Corporation</td><td>0.0399</td><td>19341482</td><td>9183142404</td><td>-0.0311</td><td>LIN</td></tr><tr><td>2025-03-31T00:00:00.000Z</td><td>JPMORGAN CHASE & CO</td><td>0.0273</td><td>13246195</td><td>6289161037</td><td>0.3797</td><td>LIN</td></tr><tr><td>2025-03-31T00:00:00.000Z</td><td>FMR, LLC</td><td>0.0252</td><td>12222487</td><td>5803114707</td><td>-0.051599998</td><td>LIN</td></tr><tr><td>2025-03-31T00:00:00.000Z</td><td>Geode Capital Management, LLC</td><td>0.0233</td><td>11278431</td><td>5354886350</td><td>0.0249</td><td>LIN</td></tr><tr><td>2025-03-31T00:00:00.000Z</td><td>Capital World Investors</td><td>0.0223</td><td>10793955</td><td>5124861986</td><td>-0.0653</td><td>LIN</td></tr><tr><td>2025-03-31T00:00:00.000Z</td><td>Price (T.Rowe) Associates Inc</td><td>0.0198</td><td>9600297</td><td>4558125094</td><td>0.0495</td><td>LIN</td></tr><tr><td>2025-03-31T00:00:00.000Z</td><td>Capital Research Global Investors</td><td>0.019</td><td>9216453</td><td>4375879798</td><td>2.0E-4</td><td>LIN</td></tr><tr><td>2025-03-31T00:00:00.000Z</td><td>Wellington Management Group, LLP</td><td>0.0156</td><td>7542991</td><td>3581336761</td><td>0.1858</td><td>LIN</td></tr><tr><td>2025-03-31T00:00:00.000Z</td><td>Vanguard Group Inc</td><td>0.1035</td><td>94020960</td><td>18173310727</td><td>0.0047999998</td><td>TXN</td></tr><tr><td>2025-03-31T00:00:00.000Z</td><td>Blackrock Inc.</td><td>0.0922</td><td>83786313</td><td>16195055877</td><td>0.012</td><td>TXN</td></tr><tr><td>2025-03-31T00:00:00.000Z</td><td>State Street Corporation</td><td>0.0465</td><td>42240650</td><td>8164694954</td><td>-0.0025</td><td>TXN</td></tr><tr><td>2025-03-31T00:00:00.000Z</td><td>JPMORGAN CHASE & CO</td><td>0.0301</td><td>27360100</td><td>5288433545</td><td>0.1514</td><td>TXN</td></tr><tr><td>2025-03-31T00:00:00.000Z</td><td>Geode Capital Management, LLC</td><td>0.0242</td><td>21945015</td><td>4241751802</td><td>0.018099999</td><td>TXN</td></tr><tr><td>2025-03-31T00:00:00.000Z</td><td>Charles Schwab Investment Management, Inc.</td><td>0.0241</td><td>21915824</td><td>4236109473</td><td>0.0199</td><td>TXN</td></tr><tr><td>2025-03-31T00:00:00.000Z</td><td>Wellington Management Group, LLP</td><td>0.0216</td><td>19582696</td><td>3785139178</td><td>-0.0621</td><td>TXN</td></tr><tr><td>2025-03-31T00:00:00.000Z</td><td>Capital Research Global Investors</td><td>0.020499999</td><td>18637526</td><td>3602447275</td><td>-0.1889</td><td>TXN</td></tr><tr><td>2025-03-31T00:00:00.000Z</td><td>Bank of America Corporation</td><td>0.0189</td><td>17140359</td><td>3313059876</td><td>0.1367</td><td>TXN</td></tr><tr><td>2025-03-31T00:00:00.000Z</td><td>Primecap Management Company</td><td>0.0154</td><td>13991539</td><td>2704424479</td><td>-0.026400002</td><td>TXN</td></tr><tr><td>2025-03-31T00:00:00.000Z</td><td>Vanguard Group Inc</td><td>0.0958</td><td>113151080</td><td>7121728819</td><td>0.0458</td><td>NKE</td></tr><tr><td>2025-03-31T00:00:00.000Z</td><td>Blackrock Inc.</td><td>0.0798</td><td>94294908</td><td>5934921380</td><td>0.0050999997</td><td>NKE</td></tr><tr><td>2025-03-31T00:00:00.000Z</td><td>State Street Corporation</td><td>0.048699997</td><td>57563556</td><td>3623050135</td><td>-0.019</td><td>NKE</td></tr><tr><td>2025-03-31T00:00:00.000Z</td><td>Wellington Management Group, LLP</td><td>0.038399998</td><td>45383916</td><td>2856463610</td><td>0.2488</td><td>NKE</td></tr><tr><td>2025-03-31T00:00:00.000Z</td><td>Capital World Investors</td><td>0.0347</td><td>41041895</td><td>2583176814</td><td>0.672</td><td>NKE</td></tr><tr><td>2025-03-31T00:00:00.000Z</td><td>Geode Capital Management, LLC</td><td>0.0221</td><td>26077165</td><td>1641296729</td><td>0.0276</td><td>NKE</td></tr><tr><td>2025-03-31T00:00:00.000Z</td><td>Goldman Sachs Group Inc</td><td>0.019299999</td><td>22842235</td><td>1437690239</td><td>2.293</td><td>NKE</td></tr><tr><td>2025-03-31T00:00:00.000Z</td><td>Bank Of New York Mellon Corporation</td><td>0.0178</td><td>20988207</td><td>1320997719</td><td>0.0305</td><td>NKE</td></tr><tr><td>2025-03-31T00:00:00.000Z</td><td>Morgan Stanley</td><td>0.0168</td><td>19835324</td><td>1248435265</td><td>-0.0416</td><td>NKE</td></tr><tr><td>2025-03-31T00:00:00.000Z</td><td>FMR, LLC</td><td>0.0126</td><td>14934648</td><td>939986724</td><td>0.0088</td><td>NKE</td></tr><tr><td>2025-03-31T00:00:00.000Z</td><td>Vanguard Group Inc</td><td>0.098900005</td><td>368181725</td><td>12766701033</td><td>-0.0037</td><td>CMCSA</td></tr><tr><td>2025-03-31T00:00:00.000Z</td><td>Blackrock Inc.</td><td>0.0832</td><td>309902771</td><td>10745878347</td><td>0.0278</td><td>CMCSA</td></tr><tr><td>2025-03-31T00:00:00.000Z</td><td>State Street Corporation</td><td>0.045300003</td><td>168538660</td><td>5844077906</td><td>0.0047999998</td><td>CMCSA</td></tr><tr><td>2025-03-31T00:00:00.000Z</td><td>Capital World Investors</td><td>0.0397</td><td>147863217</td><td>5127156936</td><td>0.0436</td><td>CMCSA</td></tr><tr><td>2025-03-31T00:00:00.000Z</td><td>FMR, LLC</td><td>0.031</td><td>115587044</td><td>4007980662</td><td>-0.0116</td><td>CMCSA</td></tr><tr><td>2024-12-31T00:00:00.000Z</td><td>NORGES BANK</td><td>0.0274</td><td>102190930</td><td>3543470419</td><td>0.66800004</td><td>CMCSA</td></tr><tr><td>2025-03-31T00:00:00.000Z</td><td>JPMORGAN CHASE & CO</td><td>0.0253</td><td>94257817</td><td>3268389732</td><td>0.15100001</td><td>CMCSA</td></tr><tr><td>2025-03-31T00:00:00.000Z</td><td>Dodge & Cox Inc</td><td>0.0253</td><td>94217741</td><td>3267000097</td><td>0.1911</td><td>CMCSA</td></tr><tr><td>2025-03-31T00:00:00.000Z</td><td>Geode Capital Management, LLC</td><td>0.0234</td><td>87266318</td><td>3025959510</td><td>0.016900001</td><td>CMCSA</td></tr><tr><td>2025-03-31T00:00:00.000Z</td><td>Morgan Stanley</td><td>0.013200001</td><td>48991900</td><td>1698794095</td><td>-0.1154</td><td>CMCSA</td></tr><tr><td>2025-03-31T00:00:00.000Z</td><td>Vanguard Group Inc</td><td>0.090299994</td><td>140621675</td><td>25605098636</td><td>0.0085</td><td>PM</td></tr><tr><td>2025-03-31T00:00:00.000Z</td><td>Capital World Investors</td><td>0.0829</td><td>129103092</td><td>23507737373</td><td>0.053200003</td><td>PM</td></tr><tr><td>2025-03-31T00:00:00.000Z</td><td>Blackrock Inc.</td><td>0.0653</td><td>101580434</td><td>18496274006</td><td>-0.0318</td><td>PM</td></tr><tr><td>2025-03-31T00:00:00.000Z</td><td>Capital International Investors</td><td>0.0594</td><td>92500275</td><td>16842913194</td><td>-0.0018000001</td><td>PM</td></tr><tr><td>2025-03-31T00:00:00.000Z</td><td>State Street Corporation</td><td>0.0353</td><td>54960490</td><td>10007481190</td><td>0.0037</td><td>PM</td></tr><tr><td>2025-03-31T00:00:00.000Z</td><td>GQG Partners LLC</td><td>0.0312</td><td>48516029</td><td>8834041466</td><td>-0.0047</td><td>PM</td></tr><tr><td>2025-03-31T00:00:00.000Z</td><td>Capital Research Global Investors</td><td>0.028800001</td><td>44890733</td><td>8173929419</td><td>-0.1171</td><td>PM</td></tr><tr><td>2025-03-31T00:00:00.000Z</td><td>JPMORGAN CHASE & CO</td><td>0.023699999</td><td>36852825</td><td>6710346887</td><td>0.4905</td><td>PM</td></tr><tr><td>2025-03-31T00:00:00.000Z</td><td>Geode Capital Management, LLC</td><td>0.0235</td><td>36508124</td><td>6647582003</td><td>0.0346</td><td>PM</td></tr><tr><td>2025-03-31T00:00:00.000Z</td><td>FMR, LLC</td><td>0.0184</td><td>28668629</td><td>5220127503</td><td>0.3003</td><td>PM</td></tr><tr><td>2025-03-31T00:00:00.000Z</td><td>Vanguard Group Inc</td><td>0.1007</td><td>207322418</td><td>14939652934</td><td>0.0099</td><td>NEE</td></tr><tr><td>2025-03-31T00:00:00.000Z</td><td>Blackrock Inc.</td><td>0.0791</td><td>162931060</td><td>11740811785</td><td>0.0202</td><td>NEE</td></tr><tr><td>2025-03-31T00:00:00.000Z</td><td>State Street Corporation</td><td>0.0538</td><td>110727552</td><td>7979027126</td><td>0.021300001</td><td>NEE</td></tr><tr><td>2025-03-31T00:00:00.000Z</td><td>JPMORGAN CHASE & CO</td><td>0.044699997</td><td>92069237</td><td>6634508993</td><td>0.104499996</td><td>NEE</td></tr><tr><td>2025-03-31T00:00:00.000Z</td><td>Morgan Stanley</td><td>0.0294</td><td>60466069</td><td>4357184784</td><td>0.0063</td><td>NEE</td></tr><tr><td>2024-12-31T00:00:00.000Z</td><td>NORGES BANK</td><td>0.023599999</td><td>48600878</td><td>3502179150</td><td>-0.0053</td><td>NEE</td></tr><tr><td>2025-03-31T00:00:00.000Z</td><td>Geode Capital Management, LLC</td><td>0.022</td><td>45197233</td><td>3256912499</td><td>0.0324</td><td>NEE</td></tr><tr><td>2025-03-31T00:00:00.000Z</td><td>Franklin Resources, Inc.</td><td>0.0189</td><td>38990798</td><td>2809676808</td><td>-0.0387</td><td>NEE</td></tr><tr><td>2025-03-31T00:00:00.000Z</td><td>Bank of America Corporation</td><td>0.0156</td><td>32058674</td><td>2310147970</td><td>0.0152</td><td>NEE</td></tr><tr><td>2025-03-31T00:00:00.000Z</td><td>Wells Fargo & Company</td><td>0.0148</td><td>30410448</td><td>2191376808</td><td>-0.0057</td><td>NEE</td></tr><tr><td>2025-03-31T00:00:00.000Z</td><td>Vanguard Group Inc</td><td>0.087299995</td><td>368171941</td><td>16100158811</td><td>0.0119</td><td>VZ</td></tr><tr><td>2025-03-31T00:00:00.000Z</td><td>Blackrock Inc.</td><td>0.0847</td><td>357006382</td><td>15611888921</td><td>0.0247</td><td>VZ</td></tr><tr><td>2025-03-31T00:00:00.000Z</td><td>State Street Corporation</td><td>0.0484</td><td>204007806</td><td>8921261262</td><td>0.074</td><td>VZ</td></tr><tr><td>2025-03-31T00:00:00.000Z</td><td>Charles Schwab Investment Management, Inc.</td><td>0.026099999</td><td>109866405</td><td>4804457840</td><td>0.0108</td><td>VZ</td></tr><tr><td>2025-03-31T00:00:00.000Z</td><td>Geode Capital Management, LLC</td><td>0.0235</td><td>99225288</td><td>4339121798</td><td>0.0248</td><td>VZ</td></tr><tr><td>2025-03-31T00:00:00.000Z</td><td>Morgan Stanley</td><td>0.0168</td><td>70961935</td><td>3103165385</td><td>0.0498</td><td>VZ</td></tr><tr><td>2024-12-31T00:00:00.000Z</td><td>NORGES BANK</td><td>0.0136</td><td>57535540</td><td>2516029137</td><td>0.0374</td><td>VZ</td></tr><tr><td>2025-03-31T00:00:00.000Z</td><td>GQG Partners LLC</td><td>0.0117999995</td><td>49859967</td><td>2180376334</td><td>3.0393</td><td>VZ</td></tr><tr><td>2025-03-31T00:00:00.000Z</td><td>Northern Trust Corporation</td><td>0.0108</td><td>45475099</td><td>1988626058</td><td>0.0095999995</td><td>VZ</td></tr><tr><td>2025-03-31T00:00:00.000Z</td><td>FMR, LLC</td><td>0.010299999</td><td>43391500</td><td>1897510275</td><td>0.5215</td><td>VZ</td></tr><tr><td>2025-03-31T00:00:00.000Z</td><td>Vanguard Group Inc</td><td>0.089700006</td><td>119836487</td><td>16826839517</td><td>0.0115</td><td>RTX</td></tr><tr><td>2025-03-31T00:00:00.000Z</td><td>State Street Corporation</td><td>0.084</td><td>112154824</td><td>15748218858</td><td>-0.0072000003</td><td>RTX</td></tr><tr><td>2025-03-31T00:00:00.000Z</td><td>Blackrock Inc.</td><td>0.0735</td><td>98251756</td><td>13796019659</td><td>-0.0061000003</td><td>RTX</td></tr><tr><td>2025-03-31T00:00:00.000Z</td><td>Capital Research Global Investors</td><td>0.0582</td><td>77811256</td><td>10925866988</td><td>0.0272</td><td>RTX</td></tr><tr><td>2025-03-31T00:00:00.000Z</td><td>Capital International Investors</td><td>0.040700004</td><td>54370669</td><td>7634457122</td><td>-0.0153</td><td>RTX</td></tr><tr><td>2025-03-31T00:00:00.000Z</td><td>Dodge & Cox Inc</td><td>0.0317</td><td>42353562</td><td>5947075123</td><td>-0.0481</td><td>RTX</td></tr><tr><td>2025-03-31T00:00:00.000Z</td><td>Bank of America Corporation</td><td>0.0218</td><td>29183945</td><td>4097863441</td><td>0.1329</td><td>RTX</td></tr><tr><td>2025-03-31T00:00:00.000Z</td><td>Geode Capital Management, LLC</td><td>0.0215</td><td>28742069</td><td>4035817425</td><td>0.016900001</td><td>RTX</td></tr><tr><td>2025-03-31T00:00:00.000Z</td><td>Morgan Stanley</td><td>0.0215</td><td>28747942</td><td>4036642082</td><td>-0.0276</td><td>RTX</td></tr><tr><td>2025-03-31T00:00:00.000Z</td><td>JPMORGAN CHASE & CO</td><td>0.0174</td><td>23274461</td><td>3268083285</td><td>0.4928</td><td>RTX</td></tr><tr><td>2025-03-31T00:00:00.000Z</td><td>Vanguard Group Inc</td><td>0.0941</td><td>191403004</td><td>9253378462</td><td>0.0077</td><td>BMY</td></tr><tr><td>2025-03-31T00:00:00.000Z</td><td>Blackrock Inc.</td><td>0.0793</td><td>161366354</td><td>7801256581</td><td>0.0239</td><td>BMY</td></tr><tr><td>2025-03-31T00:00:00.000Z</td><td>JPMORGAN CHASE & CO</td><td>0.0531</td><td>108052504</td><td>5223798437</td><td>0.12529999</td><td>BMY</td></tr><tr><td>2025-03-31T00:00:00.000Z</td><td>State Street Corporation</td><td>0.0466</td><td>94834478</td><td>4584772954</td><td>-0.0033000002</td><td>BMY</td></tr><tr><td>2025-03-31T00:00:00.000Z</td><td>Capital International Investors</td><td>0.0327</td><td>66465773</td><td>3213287876</td><td>0.4491</td><td>BMY</td></tr><tr><td>2025-03-31T00:00:00.000Z</td><td>Charles Schwab Investment Management, Inc.</td><td>0.0298</td><td>60606905</td><td>2930040896</td><td>0.0050999997</td><td>BMY</td></tr><tr><td>2025-03-31T00:00:00.000Z</td><td>Geode Capital Management, LLC</td><td>0.0223</td><td>45453231</td><td>2197436508</td><td>0.0239</td><td>BMY</td></tr><tr><td>2024-12-31T00:00:00.000Z</td><td>NORGES BANK</td><td>0.0173</td><td>35175478</td><td>1700558526</td><td>0.0792</td><td>BMY</td></tr><tr><td>2025-03-31T00:00:00.000Z</td><td>Ameriprise Financial, Inc.</td><td>0.015800001</td><td>32147460</td><td>1554168992</td><td>0.0021</td><td>BMY</td></tr><tr><td>2025-03-31T00:00:00.000Z</td><td>Morgan Stanley</td><td>0.015700001</td><td>31938714</td><td>1544077167</td><td>0.052699998</td><td>BMY</td></tr><tr><td>2025-03-31T00:00:00.000Z</td><td>Vanguard Group Inc</td><td>0.090100005</td><td>66136226</td><td>6503175223</td><td>0.0153</td><td>UPS</td></tr><tr><td>2025-03-31T00:00:00.000Z</td><td>Blackrock Inc.</td><td>0.065</td><td>47678699</td><td>4688246559</td><td>-0.075500004</td><td>UPS</td></tr><tr><td>2025-03-31T00:00:00.000Z</td><td>State Street Corporation</td><td>0.041300002</td><td>30330146</td><td>2982363311</td><td>0.0075</td><td>UPS</td></tr><tr><td>2025-03-31T00:00:00.000Z</td><td>Charles Schwab Investment Management, Inc.</td><td>0.0341</td><td>25045472</td><td>2462721307</td><td>0.0765</td><td>UPS</td></tr><tr><td>2025-03-31T00:00:00.000Z</td><td>Geode Capital Management, LLC</td><td>0.0216</td><td>15861427</td><td>1559654145</td><td>0.01</td><td>UPS</td></tr><tr><td>2025-03-31T00:00:00.000Z</td><td>FMR, LLC</td><td>0.020599999</td><td>15118247</td><td>1486577255</td><td>0.3875</td><td>UPS</td></tr><tr><td>2025-03-31T00:00:00.000Z</td><td>JPMORGAN CHASE & CO</td><td>0.0197</td><td>14434548</td><td>1419349131</td><td>-0.35950002</td><td>UPS</td></tr><tr><td>2025-03-31T00:00:00.000Z</td><td>Bank of America Corporation</td><td>0.0166</td><td>12178441</td><td>1197506125</td><td>0.22</td><td>UPS</td></tr><tr><td>2025-03-31T00:00:00.000Z</td><td>Wellington Management Group, LLP</td><td>0.0155</td><td>11400472</td><td>1121008432</td><td>-0.2368</td><td>UPS</td></tr><tr><td>2025-03-31T00:00:00.000Z</td><td>Morgan Stanley</td><td>0.0121</td><td>8851958</td><td>870413046</td><td>0.17459999</td><td>UPS</td></tr><tr><td>2025-03-31T00:00:00.000Z</td><td>Vanguard Group Inc</td><td>0.0896</td><td>62209455</td><td>14324348766</td><td>0.0072000003</td><td>HON</td></tr><tr><td>2025-03-31T00:00:00.000Z</td><td>Blackrock Inc.</td><td>0.0678</td><td>47122314</td><td>10850383762</td><td>0.0544</td><td>HON</td></tr><tr><td>2025-03-31T00:00:00.000Z</td><td>State Street Corporation</td><td>0.044499997</td><td>30933246</td><td>7122689054</td><td>-0.0029</td><td>HON</td></tr><tr><td>2025-03-31T00:00:00.000Z</td><td>Morgan Stanley</td><td>0.026300002</td><td>18266608</td><td>4206069057</td><td>-0.065799996</td><td>HON</td></tr><tr><td>2025-03-31T00:00:00.000Z</td><td>JPMORGAN CHASE & CO</td><td>0.0242</td><td>16800027</td><td>3868374124</td><td>-0.285</td><td>HON</td></tr><tr><td>2025-03-31T00:00:00.000Z</td><td>Wellington Management Group, LLP</td><td>0.0227</td><td>15751951</td><td>3627044150</td><td>0.08939999</td><td>HON</td></tr><tr><td>2025-03-31T00:00:00.000Z</td><td>Geode Capital Management, LLC</td><td>0.0223</td><td>15510182</td><td>3571374422</td><td>0.0348</td><td>HON</td></tr><tr><td>2025-03-31T00:00:00.000Z</td><td>Barclays Plc</td><td>0.0223</td><td>15500507</td><td>3569146656</td><td>-0.2811</td><td>HON</td></tr><tr><td>2025-03-31T00:00:00.000Z</td><td>Newport Trust Company, LLC</td><td>0.0212</td><td>14723979</td><td>3390343323</td><td>-0.060900003</td><td>HON</td></tr><tr><td>2025-03-31T00:00:00.000Z</td><td>Bank of America Corporation</td><td>0.0179</td><td>12428620</td><td>2861813972</td><td>-0.097600006</td><td>HON</td></tr><tr><td>2025-03-31T00:00:00.000Z</td><td>Vanguard Group Inc</td><td>0.1042</td><td>114368470</td><td>17167278700</td><td>0.0056</td><td>QCOM</td></tr><tr><td>2025-03-31T00:00:00.000Z</td><td>Blackrock Inc.</td><td>0.092700005</td><td>101747174</td><td>15272759118</td><td>0.0365</td><td>QCOM</td></tr><tr><td>2025-03-31T00:00:00.000Z</td><td>State Street Corporation</td><td>0.048499998</td><td>53246695</td><td>7992594925</td><td>-0.0058</td><td>QCOM</td></tr><tr><td>2025-03-31T00:00:00.000Z</td><td>Geode Capital Management, LLC</td><td>0.026099999</td><td>28680274</td><td>4305052406</td><td>0.0317</td><td>QCOM</td></tr><tr><td>2025-03-31T00:00:00.000Z</td><td>Morgan Stanley</td><td>0.0171</td><td>18734639</td><td>2812162907</td><td>-0.0317</td><td>QCOM</td></tr><tr><td>2024-12-31T00:00:00.000Z</td><td>NORGES BANK</td><td>0.0161</td><td>17718277</td><td>2659601893</td><td>-0.0294</td><td>QCOM</td></tr><tr><td>2025-03-31T00:00:00.000Z</td><td>Northern Trust Corporation</td><td>0.012</td><td>13226504</td><td>1985364326</td><td>-0.0047</td><td>QCOM</td></tr><tr><td>2025-03-31T00:00:00.000Z</td><td>Bank of America Corporation</td><td>0.012</td><td>13198982</td><td>1981233136</td><td>0.1247</td><td>QCOM</td></tr><tr><td>2025-03-31T00:00:00.000Z</td><td>Price (T.Rowe) Associates Inc</td><td>0.0105</td><td>11543108</td><td>1732678177</td><td>-0.0037</td><td>QCOM</td></tr><tr><td>2025-03-31T00:00:00.000Z</td><td>UBS AM, a distinct business unit of UBS ASSET MANAGEMENT AMERICAS LLC</td><td>0.0095</td><td>10422341</td><td>1564445451</td><td>0.0656</td><td>QCOM</td></tr><tr><td>2025-03-31T00:00:00.000Z</td><td>Vanguard Group Inc</td><td>0.090500005</td><td>651044650</td><td>18196698464</td><td>0.0127</td><td>T</td></tr><tr><td>2025-03-31T00:00:00.000Z</td><td>Blackrock Inc.</td><td>0.0773</td><td>555911603</td><td>15537729727</td><td>0.0165</td><td>T</td></tr><tr><td>2025-03-31T00:00:00.000Z</td><td>State Street Corporation</td><td>0.0436</td><td>313666133</td><td>8766968656</td><td>-0.0286</td><td>T</td></tr><tr><td>2025-03-31T00:00:00.000Z</td><td>Newport Trust Company, LLC</td><td>0.026400002</td><td>189762992</td><td>5303875771</td><td>-0.0128</td><td>T</td></tr><tr><td>2025-03-31T00:00:00.000Z</td><td>Geode Capital Management, LLC</td><td>0.023599999</td><td>169973846</td><td>4750769125</td><td>0.0379</td><td>T</td></tr><tr><td>2025-03-31T00:00:00.000Z</td><td>GQG Partners LLC</td><td>0.015800001</td><td>113957259</td><td>3185105475</td><td>0.1775</td><td>T</td></tr><tr><td>2025-03-31T00:00:00.000Z</td><td>Morgan Stanley</td><td>0.0147</td><td>105782513</td><td>2956621319</td><td>0.0935</td><td>T</td></tr><tr><td>2025-03-31T00:00:00.000Z</td><td>Bank of America Corporation</td><td>0.0136</td><td>97864796</td><td>2735321122</td><td>0.8656</td><td>T</td></tr><tr><td>2025-03-31T00:00:00.000Z</td><td>Bank Of New York Mellon Corporation</td><td>0.0114</td><td>81906720</td><td>2289292886</td><td>-0.0431</td><td>T</td></tr><tr><td>2024-12-31T00:00:00.000Z</td><td>NORGES BANK</td><td>0.0113</td><td>81616938</td><td>2281193479</td><td>0.136</td><td>T</td></tr><tr><td>2025-03-31T00:00:00.000Z</td><td>Mitsubishi UFJ Financial Group Inc</td><td>0.235</td><td>377085167</td><td>50314471070</td><td>0.0</td><td>MS</td></tr><tr><td>2025-03-31T00:00:00.000Z</td><td>Vanguard Group Inc</td><td>0.0734</td><td>117769345</td><td>15713962840</td><td>0.069299996</td><td>MS</td></tr><tr><td>2025-03-31T00:00:00.000Z</td><td>State Street Corporation</td><td>0.0668</td><td>107146233</td><td>14296521084</td><td>-0.0372</td><td>MS</td></tr><tr><td>2025-03-31T00:00:00.000Z</td><td>Blackrock Inc.</td><td>0.06</td><td>96238352</td><td>12841082602</td><td>0.0121</td><td>MS</td></tr><tr><td>2025-03-31T00:00:00.000Z</td><td>JPMORGAN CHASE & CO</td><td>0.024</td><td>38579764</td><td>5147697627</td><td>-0.059699997</td><td>MS</td></tr><tr><td>2025-03-31T00:00:00.000Z</td><td>Capital International Investors</td><td>0.0168</td><td>26984106</td><td>3600489065</td><td>-0.1001</td><td>MS</td></tr><tr><td>2025-03-31T00:00:00.000Z</td><td>Geode Capital Management, LLC</td><td>0.0166</td><td>26662389</td><td>3557562368</td><td>0.031600002</td><td>MS</td></tr><tr><td>2025-03-31T00:00:00.000Z</td><td>FMR, LLC</td><td>0.0147</td><td>23528395</td><td>3139393572</td><td>-0.0795</td><td>MS</td></tr><tr><td>2025-03-31T00:00:00.000Z</td><td>Fisher Asset Management, LLC</td><td>0.0145000005</td><td>23296036</td><td>3108389912</td><td>0.0202</td><td>MS</td></tr><tr><td>2025-03-31T00:00:00.000Z</td><td>Bank of America Corporation</td><td>0.013200001</td><td>21108539</td><td>2816512204</td><td>0.122200005</td><td>MS</td></tr><tr><td>2025-03-31T00:00:00.000Z</td><td>Vanguard Group Inc</td><td>0.097399995</td><td>54609378</td><td>12459948364</td><td>0.0042</td><td>LOW</td></tr><tr><td>2025-03-31T00:00:00.000Z</td><td>Blackrock Inc.</td><td>0.0705</td><td>39533332</td><td>9020122430</td><td>-7.0E-4</td><td>LOW</td></tr><tr><td>2025-03-31T00:00:00.000Z</td><td>JPMORGAN CHASE & CO</td><td>0.0494</td><td>27712890</td><td>6323111360</td><td>0.0806</td><td>LOW</td></tr><tr><td>2025-03-31T00:00:00.000Z</td><td>FMR, LLC</td><td>0.048699997</td><td>27289269</td><td>6226455878</td><td>0.0388</td><td>LOW</td></tr><tr><td>2025-03-31T00:00:00.000Z</td><td>State Street Corporation</td><td>0.044099998</td><td>24703949</td><td>5636576357</td><td>-0.0325</td><td>LOW</td></tr><tr><td>2025-03-31T00:00:00.000Z</td><td>Geode Capital Management, LLC</td><td>0.022</td><td>12309593</td><td>2808618204</td><td>0.0276</td><td>LOW</td></tr><tr><td>2025-03-31T00:00:00.000Z</td><td>Bank of America Corporation</td><td>0.0194</td><td>10888341</td><td>2484338251</td><td>0.1238</td><td>LOW</td></tr><tr><td>2025-03-31T00:00:00.000Z</td><td>Morgan Stanley</td><td>0.019199999</td><td>10739240</td><td>2450318622</td><td>0.035099998</td><td>LOW</td></tr><tr><td>2025-03-31T00:00:00.000Z</td><td>Wells Fargo & Company</td><td>0.0185</td><td>10362574</td><td>2364376627</td><td>-0.011</td><td>LOW</td></tr><tr><td>2024-12-31T00:00:00.000Z</td><td>NORGES BANK</td><td>0.013300001</td><td>7467400</td><td>1703799270</td><td>0.0401</td><td>LOW</td></tr><tr><td>2025-03-31T00:00:00.000Z</td><td>Vanguard Group Inc</td><td>0.098500006</td><td>58831282</td><td>13166441091</td><td>-0.0023</td><td>UNP</td></tr><tr><td>2025-03-31T00:00:00.000Z</td><td>Blackrock Inc.</td><td>0.0757</td><td>45226532</td><td>10121697999</td><td>0.006</td><td>UNP</td></tr><tr><td>2025-03-31T00:00:00.000Z</td><td>State Street Corporation</td><td>0.042600002</td><td>25461115</td><td>5698197614</td><td>0.0067000003</td><td>UNP</td></tr><tr><td>2025-03-31T00:00:00.000Z</td><td>JPMORGAN CHASE & CO</td><td>0.028199999</td><td>16835560</td><td>3767798379</td><td>0.5704</td><td>UNP</td></tr><tr><td>2025-03-31T00:00:00.000Z</td><td>Geode Capital Management, LLC</td><td>0.0252</td><td>15044639</td><td>3366990254</td><td>0.042600002</td><td>UNP</td></tr><tr><td>2025-03-31T00:00:00.000Z</td><td>Bank of America Corporation</td><td>0.0183</td><td>10952375</td><td>2451141558</td><td>0.0705</td><td>UNP</td></tr><tr><td>2025-03-31T00:00:00.000Z</td><td>Morgan Stanley</td><td>0.0172</td><td>10278220</td><td>2300265667</td><td>0.057800002</td><td>UNP</td></tr><tr><td>2025-03-31T00:00:00.000Z</td><td>Capital Research Global Investors</td><td>0.0148</td><td>8852220</td><td>1981126863</td><td>-0.14840001</td><td>UNP</td></tr><tr><td>2024-12-31T00:00:00.000Z</td><td>NORGES BANK</td><td>0.014099999</td><td>8451923</td><td>1891540393</td><td>0.0377</td><td>UNP</td></tr><tr><td>2025-03-31T00:00:00.000Z</td><td>Capital International Investors</td><td>0.0139999995</td><td>8377636</td><td>1874914962</td><td>-0.0382</td><td>UNP</td></tr><tr><td>2025-03-31T00:00:00.000Z</td><td>Blackrock Inc.</td><td>0.089700006</td><td>391258993</td><td>7944513972</td><td>0.0068</td><td>INTC</td></tr><tr><td>2025-03-31T00:00:00.000Z</td><td>Vanguard Group Inc</td><td>0.0865</td><td>377390437</td><td>7662912938</td><td>0.0225</td><td>INTC</td></tr><tr><td>2025-03-31T00:00:00.000Z</td><td>State Street Corporation</td><td>0.046</td><td>200448805</td><td>4070113046</td><td>0.0061000003</td><td>INTC</td></tr><tr><td>2025-03-31T00:00:00.000Z</td><td>Geode Capital Management, LLC</td><td>0.022</td><td>95802306</td><td>1945265852</td><td>0.0033000002</td><td>INTC</td></tr><tr><td>2025-03-31T00:00:00.000Z</td><td>Primecap Management Company</td><td>0.0176</td><td>76984290</td><td>1563166031</td><td>-9.0000004E-4</td><td>INTC</td></tr><tr><td>2025-03-31T00:00:00.000Z</td><td>Capital World Investors</td><td>0.0148</td><td>64401411</td><td>1307670670</td><td>5.8311</td><td>INTC</td></tr><tr><td>2024-12-31T00:00:00.000Z</td><td>NORGES BANK</td><td>0.0143</td><td>62173015</td><td>1262423088</td><td>0.0471</td><td>INTC</td></tr><tr><td>2025-03-31T00:00:00.000Z</td><td>UBS AM, a distinct business unit of UBS ASSET MANAGEMENT AMERICAS LLC</td><td>0.0136</td><td>59205468</td><td>1202167045</td><td>-0.0641</td><td>INTC</td></tr><tr><td>2025-03-31T00:00:00.000Z</td><td>Morgan Stanley</td><td>0.0119</td><td>51892077</td><td>1053668639</td><td>-0.5084</td><td>INTC</td></tr><tr><td>2025-03-31T00:00:00.000Z</td><td>JPMORGAN CHASE & CO</td><td>0.0117999995</td><td>51358819</td><td>1042840835</td><td>1.2933</td><td>INTC</td></tr><tr><td>2025-03-31T00:00:00.000Z</td><td>Vanguard Group Inc</td><td>0.0575</td><td>160925413</td><td>27955962942</td><td>0.0223</td><td>ORCL</td></tr><tr><td>2025-03-31T00:00:00.000Z</td><td>Blackrock Inc.</td><td>0.048800003</td><td>136535507</td><td>23718948442</td><td>0.0219</td><td>ORCL</td></tr><tr><td>2025-03-31T00:00:00.000Z</td><td>State Street Corporation</td><td>0.025799999</td><td>72206668</td><td>12543742453</td><td>0.0083</td><td>ORCL</td></tr><tr><td>2025-03-31T00:00:00.000Z</td><td>JPMORGAN CHASE & CO</td><td>0.0154</td><td>43033191</td><td>7475725993</td><td>-0.0502</td><td>ORCL</td></tr><tr><td>2025-03-31T00:00:00.000Z</td><td>Geode Capital Management, LLC</td><td>0.0134000005</td><td>37582718</td><td>6528869816</td><td>0.0494</td><td>ORCL</td></tr><tr><td>2025-03-31T00:00:00.000Z</td><td>FMR, LLC</td><td>0.0115</td><td>32073372</td><td>5571786222</td><td>-0.156</td><td>ORCL</td></tr><tr><td>2025-03-31T00:00:00.000Z</td><td>Morgan Stanley</td><td>0.0104</td><td>28962475</td><td>5031361192</td><td>0.2836</td><td>ORCL</td></tr><tr><td>2025-03-31T00:00:00.000Z</td><td>Northern Trust Corporation</td><td>0.0070999996</td><td>19741423</td><td>3429480027</td><td>0.0062</td><td>ORCL</td></tr><tr><td>2025-03-31T00:00:00.000Z</td><td>Capital Research Global Investors</td><td>0.0068</td><td>19010522</td><td>3302507905</td><td>0.5902</td><td>ORCL</td></tr><tr><td>2025-03-31T00:00:00.000Z</td><td>Fisher Asset Management, LLC</td><td>0.0063</td><td>17601888</td><td>3057800004</td><td>-0.0219</td><td>ORCL</td></tr><tr><td>2025-03-31T00:00:00.000Z</td><td>Vanguard Group Inc</td><td>0.0971</td><td>29779003</td><td>15525729608</td><td>0.0037</td><td>SPGI</td></tr><tr><td>2025-03-31T00:00:00.000Z</td><td>Blackrock Inc.</td><td>0.088999994</td><td>27289815</td><td>14227954130</td><td>0.0286</td><td>SPGI</td></tr><tr><td>2025-03-31T00:00:00.000Z</td><td>State Street Corporation</td><td>0.0465</td><td>14257775</td><td>7433504723</td><td>-1.0E-4</td><td>SPGI</td></tr><tr><td>2025-03-31T00:00:00.000Z</td><td>TCI Fund Management Ltd</td><td>0.033800002</td><td>10361269</td><td>5402002911</td><td>-0.0037</td><td>SPGI</td></tr><tr><td>2025-03-31T00:00:00.000Z</td><td>Morgan Stanley</td><td>0.0256</td><td>7862108</td><td>4099027860</td><td>0.2612</td><td>SPGI</td></tr><tr><td>2025-03-31T00:00:00.000Z</td><td>Geode Capital Management, LLC</td><td>0.022</td><td>6750558</td><td>3519504605</td><td>0.024400001</td><td>SPGI</td></tr><tr><td>2025-03-31T00:00:00.000Z</td><td>Wellington Management Group, LLP</td><td>0.021</td><td>6446793</td><td>3361132169</td><td>-0.1725</td><td>SPGI</td></tr><tr><td>2025-03-31T00:00:00.000Z</td><td>FMR, LLC</td><td>0.0194</td><td>5957749</td><td>3106161749</td><td>0.0108</td><td>SPGI</td></tr><tr><td>2025-03-31T00:00:00.000Z</td><td>Bank of America Corporation</td><td>0.0174</td><td>5339476</td><td>2783815852</td><td>0.082200006</td><td>SPGI</td></tr><tr><td>2024-12-31T00:00:00.000Z</td><td>NORGES BANK</td><td>0.0113</td><td>3463815</td><td>1805911873</td><td>-0.1416</td><td>SPGI</td></tr><tr><td>2025-03-31T00:00:00.000Z</td><td>Vanguard Group Inc</td><td>0.100200005</td><td>93137767</td><td>25114581249</td><td>0.014099999</td><td>IBM</td></tr><tr><td>2025-03-31T00:00:00.000Z</td><td>Blackrock Inc.</td><td>0.0859</td><td>79851653</td><td>21531983122</td><td>0.0121</td><td>IBM</td></tr><tr><td>2025-03-31T00:00:00.000Z</td><td>State Street Corporation</td><td>0.0585</td><td>54389242</td><td>14666048814</td><td>-0.019299999</td><td>IBM</td></tr><tr><td>2025-03-31T00:00:00.000Z</td><td>Geode Capital Management, LLC</td><td>0.0232</td><td>21536104</td><td>5807206368</td><td>0.03</td><td>IBM</td></tr><tr><td>2025-03-31T00:00:00.000Z</td><td>JPMORGAN CHASE & CO</td><td>0.0223</td><td>20725897</td><td>5588734204</td><td>0.5752</td><td>IBM</td></tr><tr><td>2025-03-31T00:00:00.000Z</td><td>Morgan Stanley</td><td>0.0178</td><td>16497056</td><td>4448428029</td><td>0.1775</td><td>IBM</td></tr><tr><td>2025-03-31T00:00:00.000Z</td><td>Bank of America Corporation</td><td>0.0173</td><td>16046123</td><td>4326834030</td><td>-0.0064</td><td>IBM</td></tr><tr><td>2025-03-31T00:00:00.000Z</td><td>Capital World Investors</td><td>0.0167</td><td>15528642</td><td>4187295377</td><td>0.29569998</td><td>IBM</td></tr><tr><td>2025-03-31T00:00:00.000Z</td><td>Northern Trust Corporation</td><td>0.0116</td><td>10779526</td><td>2906697146</td><td>-0.0061000003</td><td>IBM</td></tr><tr><td>2025-03-31T00:00:00.000Z</td><td>UBS AM, a distinct business unit of UBS ASSET MANAGEMENT AMERICAS LLC</td><td>0.0093</td><td>8636725</td><td>2328891262</td><td>0.0647</td><td>IBM</td></tr><tr><td>2025-03-31T00:00:00.000Z</td><td>Vanguard Group Inc</td><td>0.094</td><td>152367351</td><td>17895544909</td><td>0.014400001</td><td>AMD</td></tr><tr><td>2025-03-31T00:00:00.000Z</td><td>Blackrock Inc.</td><td>0.083000004</td><td>134546962</td><td>15802540276</td><td>0.0269</td><td>AMD</td></tr><tr><td>2025-03-31T00:00:00.000Z</td><td>State Street Corporation</td><td>0.044099998</td><td>71487929</td><td>8396257042</td><td>0.0023</td><td>AMD</td></tr><tr><td>2025-03-31T00:00:00.000Z</td><td>Geode Capital Management, LLC</td><td>0.0223</td><td>36176240</td><td>4248899277</td><td>0.0313</td><td>AMD</td></tr><tr><td>2025-03-31T00:00:00.000Z</td><td>Morgan Stanley</td><td>0.0183</td><td>29634041</td><td>3480518025</td><td>-0.0365</td><td>AMD</td></tr><tr><td>2024-12-31T00:00:00.000Z</td><td>NORGES BANK</td><td>0.0146</td><td>23737003</td><td>2787910929</td><td>0.056799997</td><td>AMD</td></tr><tr><td>2025-03-31T00:00:00.000Z</td><td>UBS AM, a distinct business unit of UBS ASSET MANAGEMENT AMERICAS LLC</td><td>0.013200001</td><td>21363923</td><td>2509192691</td><td>-0.0018000001</td><td>AMD</td></tr><tr><td>2025-03-31T00:00:00.000Z</td><td>Amundi</td><td>0.011</td><td>17829010</td><td>2094017170</td><td>0.0802</td><td>AMD</td></tr><tr><td>2025-03-31T00:00:00.000Z</td><td>Northern Trust Corporation</td><td>0.010199999</td><td>16484474</td><td>1936101420</td><td>-0.039100002</td><td>AMD</td></tr><tr><td>2025-03-31T00:00:00.000Z</td><td>Barclays Plc</td><td>0.0089</td><td>14479703</td><td>1700641073</td><td>0.1821</td><td>AMD</td></tr><tr><td>2025-03-31T00:00:00.000Z</td><td>Vanguard Group Inc</td><td>0.0951</td><td>29169053</td><td>18098231265</td><td>-0.0082</td><td>GS</td></tr><tr><td>2025-03-31T00:00:00.000Z</td><td>Blackrock Inc.</td><td>0.077800006</td><td>23859923</td><td>14804128348</td><td>8.0E-4</td><td>GS</td></tr><tr><td>2025-03-31T00:00:00.000Z</td><td>State Street Corporation</td><td>0.0641</td><td>19673820</td><td>12206818789</td><td>0.0047999998</td><td>GS</td></tr><tr><td>2025-03-31T00:00:00.000Z</td><td>Morgan Stanley</td><td>0.028299998</td><td>8676942</td><td>5383695623</td><td>0.081499994</td><td>GS</td></tr><tr><td>2025-03-31T00:00:00.000Z</td><td>JPMORGAN CHASE & CO</td><td>0.0255</td><td>7832723</td><td>4859891484</td><td>-0.0123000005</td><td>GS</td></tr><tr><td>2025-03-31T00:00:00.000Z</td><td>Geode Capital Management, LLC</td><td>0.022</td><td>6735453</td><td>4179079316</td><td>0.023</td><td>GS</td></tr><tr><td>2025-03-31T00:00:00.000Z</td><td>Fisher Asset Management, LLC</td><td>0.020599999</td><td>6312142</td><td>3916431764</td><td>0.0255</td><td>GS</td></tr><tr><td>2025-03-31T00:00:00.000Z</td><td>Capital World Investors</td><td>0.0163</td><td>5011041</td><td>3109150608</td><td>-0.16299999</td><td>GS</td></tr><tr><td>2025-03-31T00:00:00.000Z</td><td>Bank of America Corporation</td><td>0.0163</td><td>4991143</td><td>3096804695</td><td>0.6914</td><td>GS</td></tr><tr><td>2025-03-31T00:00:00.000Z</td><td>Price (T.Rowe) Associates Inc</td><td>0.0117</td><td>3579706</td><td>2221064463</td><td>-0.0404</td><td>GS</td></tr><tr><td>2025-03-31T00:00:00.000Z</td><td>Vanguard Group Inc</td><td>0.09810001</td><td>46215478</td><td>16486354889</td><td>-0.0127</td><td>CAT</td></tr><tr><td>2025-03-31T00:00:00.000Z</td><td>State Street Corporation</td><td>0.076799996</td><td>36162931</td><td>12900329934</td><td>-0.0128</td><td>CAT</td></tr><tr><td>2025-03-31T00:00:00.000Z</td><td>Blackrock Inc.</td><td>0.075100005</td><td>35380536</td><td>12621227733</td><td>-0.0039</td><td>CAT</td></tr><tr><td>2025-03-31T00:00:00.000Z</td><td>State Farm Mutual Automobile Insurance Co</td><td>0.0375</td><td>17669440</td><td>6303183936</td><td>-0.0037</td><td>CAT</td></tr><tr><td>2025-03-31T00:00:00.000Z</td><td>Geode Capital Management, LLC</td><td>0.0223</td><td>10516618</td><td>3751572072</td><td>0.0064</td><td>CAT</td></tr><tr><td>2025-03-31T00:00:00.000Z</td><td>Fisher Asset Management, LLC</td><td>0.0196</td><td>9210125</td><td>3285509441</td><td>0.014099999</td><td>CAT</td></tr><tr><td>2025-03-31T00:00:00.000Z</td><td>Capital World Investors</td><td>0.0171</td><td>8074751</td><td>2880489749</td><td>-0.5076</td><td>CAT</td></tr><tr><td>2025-03-31T00:00:00.000Z</td><td>Gates Foundation Trust</td><td>0.0156</td><td>7353614</td><td>2623239991</td><td>0.0</td><td>CAT</td></tr><tr><td>2025-03-31T00:00:00.000Z</td><td>Morgan Stanley</td><td>0.0152</td><td>7168773</td><td>2557302031</td><td>-0.0464</td><td>CAT</td></tr><tr><td>2025-03-31T00:00:00.000Z</td><td>Northern Trust Corporation</td><td>0.0139999995</td><td>6597679</td><td>2353576813</td><td>-0.0365</td><td>CAT</td></tr><tr><td>2025-03-31T00:00:00.000Z</td><td>Vanguard Group Inc</td><td>0.098000005</td><td>27330309</td><td>20950868740</td><td>0.0109</td><td>INTU</td></tr><tr><td>2025-03-31T00:00:00.000Z</td><td>Blackrock Inc.</td><td>0.087299995</td><td>24341548</td><td>18659744281</td><td>0.0047999998</td><td>INTU</td></tr><tr><td>2025-03-31T00:00:00.000Z</td><td>State Street Corporation</td><td>0.0452</td><td>12598333</td><td>9657630326</td><td>-0.0011</td><td>INTU</td></tr><tr><td>2025-03-31T00:00:00.000Z</td><td>Price (T.Rowe) Associates Inc</td><td>0.0323</td><td>9018770</td><td>6913608860</td><td>0.0776</td><td>INTU</td></tr><tr><td>2025-03-31T00:00:00.000Z</td><td>JPMORGAN CHASE & CO</td><td>0.0317</td><td>8855622</td><td>6788542864</td><td>0.1469</td><td>INTU</td></tr><tr><td>2025-03-31T00:00:00.000Z</td><td>Geode Capital Management, LLC</td><td>0.0226</td><td>6307915</td><td>4835521588</td><td>0.0322</td><td>INTU</td></tr><tr><td>2025-03-31T00:00:00.000Z</td><td>Wellington Management Group, LLP</td><td>0.020299999</td><td>5655249</td><td>4335200875</td><td>0.067600004</td><td>INTU</td></tr><tr><td>2025-03-31T00:00:00.000Z</td><td>Morgan Stanley</td><td>0.015700001</td><td>4373545</td><td>3352672200</td><td>-0.0548</td><td>INTU</td></tr><tr><td>2024-12-31T00:00:00.000Z</td><td>NORGES BANK</td><td>0.013099999</td><td>3644262</td><td>2793618426</td><td>0.1723</td><td>INTU</td></tr><tr><td>2025-03-31T00:00:00.000Z</td><td>Brown Advisory  Inc.</td><td>0.0123000005</td><td>3444600</td><td>2640561526</td><td>0.079</td><td>INTU</td></tr><tr><td>2025-03-31T00:00:00.000Z</td><td>Vanguard Group Inc</td><td>0.081499994</td><td>22063590</td><td>11567278760</td><td>0.0085</td><td>DE</td></tr><tr><td>2025-03-31T00:00:00.000Z</td><td>Blackrock Inc.</td><td>0.0675</td><td>18288228</td><td>9587969650</td><td>0.0397</td><td>DE</td></tr><tr><td>2025-03-31T00:00:00.000Z</td><td>State Street Corporation</td><td>0.0381</td><td>10322006</td><td>5411518287</td><td>-0.0027</td><td>DE</td></tr><tr><td>2025-03-31T00:00:00.000Z</td><td>JPMORGAN CHASE & CO</td><td>0.0361</td><td>9775682</td><td>5125096993</td><td>0.0116</td><td>DE</td></tr><tr><td>2025-03-31T00:00:00.000Z</td><td>FMR, LLC</td><td>0.027999999</td><td>7593705</td><td>3981151868</td><td>0.36049998</td><td>DE</td></tr><tr><td>2025-03-31T00:00:00.000Z</td><td>Price (T.Rowe) Associates Inc</td><td>0.0254</td><td>6876013</td><td>3604887469</td><td>0.0434</td><td>DE</td></tr><tr><td>2025-03-31T00:00:00.000Z</td><td>Capital World Investors</td><td>0.0234</td><td>6339089</td><td>3323394313</td><td>0.0464</td><td>DE</td></tr><tr><td>2025-03-31T00:00:00.000Z</td><td>Geode Capital Management, LLC</td><td>0.0201</td><td>5430151</td><td>2846865370</td><td>0.0235</td><td>DE</td></tr><tr><td>2025-03-31T00:00:00.000Z</td><td>Wellington Management Group, LLP</td><td>0.0195</td><td>5290009</td><td>2773393121</td><td>-0.2158</td><td>DE</td></tr><tr><td>2025-03-31T00:00:00.000Z</td><td>Morgan Stanley</td><td>0.015800001</td><td>4292346</td><td>2250348321</td><td>-0.0215</td><td>DE</td></tr><tr><td>2025-03-31T00:00:00.000Z</td><td>Vanguard Group Inc</td><td>0.0888</td><td>13764072</td><td>13745903324</td><td>0.029000001</td><td>BLK</td></tr><tr><td>2025-03-31T00:00:00.000Z</td><td>Blackrock Inc.</td><td>0.0668</td><td>10355778</td><td>10342108297</td><td>0.0307</td><td>BLK</td></tr><tr><td>2025-03-31T00:00:00.000Z</td><td>State Street Corporation</td><td>0.041100003</td><td>6361914</td><td>6353516226</td><td>0.0095</td><td>BLK</td></tr><tr><td>2025-03-31T00:00:00.000Z</td><td>Temasek Holdings (Private) Ltd</td><td>0.032899998</td><td>5092825</td><td>5086102433</td><td>0.0</td><td>BLK</td></tr><tr><td>2025-03-31T00:00:00.000Z</td><td>Bank of America Corporation</td><td>0.0287</td><td>4443863</td><td>4437997068</td><td>-0.11</td><td>BLK</td></tr><tr><td>2025-03-31T00:00:00.000Z</td><td>Capital World Investors</td><td>0.026099999</td><td>4047860</td><td>4042516795</td><td>-0.0121</td><td>BLK</td></tr><tr><td>2025-03-31T00:00:00.000Z</td><td>Morgan Stanley</td><td>0.025799999</td><td>3999925</td><td>3994645069</td><td>-0.16370001</td><td>BLK</td></tr><tr><td>2025-03-31T00:00:00.000Z</td><td>Capital Research Global Investors</td><td>0.0222</td><td>3432383</td><td>3427852229</td><td>0.0543</td><td>BLK</td></tr><tr><td>2025-03-31T00:00:00.000Z</td><td>Geode Capital Management, LLC</td><td>0.0201</td><td>3109380</td><td>3105275595</td><td>0.0341</td><td>BLK</td></tr><tr><td>2025-03-31T00:00:00.000Z</td><td>Wells Fargo & Company</td><td>0.0166</td><td>2569634</td><td>2566242064</td><td>0.0074</td><td>BLK</td></tr><tr><td>2025-03-31T00:00:00.000Z</td><td>Blackrock Inc.</td><td>0.0979</td><td>78574535</td><td>13215521971</td><td>-0.0165</td><td>AMAT</td></tr><tr><td>2025-03-31T00:00:00.000Z</td><td>Vanguard Group Inc</td><td>0.0962</td><td>77177161</td><td>12980496377</td><td>0.0018000001</td><td>AMAT</td></tr><tr><td>2025-03-31T00:00:00.000Z</td><td>State Street Corporation</td><td>0.048</td><td>38529444</td><td>6480301967</td><td>-0.0149</td><td>AMAT</td></tr><tr><td>2025-03-31T00:00:00.000Z</td><td>Geode Capital Management, LLC</td><td>0.0257</td><td>20619081</td><td>3467941846</td><td>0.0269</td><td>AMAT</td></tr><tr><td>2025-03-31T00:00:00.000Z</td><td>Capital International Investors</td><td>0.0161</td><td>12898244</td><td>2169367301</td><td>-0.1777</td><td>AMAT</td></tr><tr><td>2025-03-31T00:00:00.000Z</td><td>Capital World Investors</td><td>0.0152</td><td>12206853</td><td>2053081625</td><td>-0.104499996</td><td>AMAT</td></tr><tr><td>2025-03-31T00:00:00.000Z</td><td>Morgan Stanley</td><td>0.0126</td><td>10149089</td><td>1706984440</td><td>-0.0792</td><td>AMAT</td></tr><tr><td>2024-12-31T00:00:00.000Z</td><td>NORGES BANK</td><td>0.012200001</td><td>9767091</td><td>1642735852</td><td>-0.089700006</td><td>AMAT</td></tr><tr><td>2025-03-31T00:00:00.000Z</td><td>Northern Trust Corporation</td><td>0.012200001</td><td>9764419</td><td>1642286446</td><td>-0.0456</td><td>AMAT</td></tr><tr><td>2025-03-31T00:00:00.000Z</td><td>FMR, LLC</td><td>0.0113</td><td>9098065</td><td>1530211765</td><td>-0.0352</td><td>AMAT</td></tr><tr><td>2025-03-31T00:00:00.000Z</td><td>Vanguard Group Inc</td><td>0.0911</td><td>32665531</td><td>18396083047</td><td>0.014099999</td><td>ISRG</td></tr><tr><td>2025-03-31T00:00:00.000Z</td><td>Blackrock Inc.</td><td>0.0877</td><td>31449561</td><td>17711291329</td><td>0.0023</td><td>ISRG</td></tr><tr><td>2025-03-31T00:00:00.000Z</td><td>State Street Corporation</td><td>0.0429</td><td>15369332</td><td>8655469518</td><td>0.0042</td><td>ISRG</td></tr><tr><td>2025-03-31T00:00:00.000Z</td><td>Price (T.Rowe) Associates Inc</td><td>0.0385</td><td>13783243</td><td>7762239741</td><td>-0.047399998</td><td>ISRG</td></tr><tr><td>2025-03-31T00:00:00.000Z</td><td>FMR, LLC</td><td>0.0272</td><td>9732543</td><td>5481027364</td><td>-0.1007</td><td>ISRG</td></tr><tr><td>2025-03-31T00:00:00.000Z</td><td>JPMORGAN CHASE & CO</td><td>0.0239</td><td>8572650</td><td>4827816248</td><td>-0.15529999</td><td>ISRG</td></tr><tr><td>2025-03-31T00:00:00.000Z</td><td>Geode Capital Management, LLC</td><td>0.0225</td><td>8078781</td><td>4549686524</td><td>0.041500002</td><td>ISRG</td></tr><tr><td>2025-03-31T00:00:00.000Z</td><td>Capital World Investors</td><td>0.021</td><td>7518819</td><td>4234335536</td><td>0.0124</td><td>ISRG</td></tr><tr><td>2025-03-31T00:00:00.000Z</td><td>Morgan Stanley</td><td>0.0165</td><td>5930218</td><td>3339691089</td><td>0.0194</td><td>ISRG</td></tr><tr><td>2025-03-31T00:00:00.000Z</td><td>Bank Of New York Mellon Corporation</td><td>0.0136</td><td>4872629</td><td>2744094003</td><td>-0.045100003</td><td>ISRG</td></tr><tr><td>2025-03-31T00:00:00.000Z</td><td>Vanguard Group Inc</td><td>0.0986</td><td>112059570</td><td>9950890157</td><td>0.0086</td><td>SBUX</td></tr><tr><td>2025-03-31T00:00:00.000Z</td><td>Blackrock Inc.</td><td>0.0688</td><td>78237997</td><td>6947534372</td><td>0.0136</td><td>SBUX</td></tr><tr><td>2025-03-31T00:00:00.000Z</td><td>Capital World Investors</td><td>0.0655</td><td>74466420</td><td>6612618323</td><td>0.35580003</td><td>SBUX</td></tr><tr><td>2025-03-31T00:00:00.000Z</td><td>State Street Corporation</td><td>0.041300002</td><td>46968798</td><td>4170829405</td><td>-0.0124</td><td>SBUX</td></tr><tr><td>2025-03-31T00:00:00.000Z</td><td>Capital Research Global Investors</td><td>0.0312</td><td>35422093</td><td>3145481966</td><td>5.2251</td><td>SBUX</td></tr><tr><td>2025-03-31T00:00:00.000Z</td><td>Morgan Stanley</td><td>0.0238</td><td>27023273</td><td>2399666724</td><td>0.0097</td><td>SBUX</td></tr><tr><td>2025-03-31T00:00:00.000Z</td><td>FMR, LLC</td><td>0.0231</td><td>26194897</td><td>2326106933</td><td>0.0424</td><td>SBUX</td></tr><tr><td>2025-03-31T00:00:00.000Z</td><td>Geode Capital Management, LLC</td><td>0.0227</td><td>25746651</td><td>2286302687</td><td>0.037100002</td><td>SBUX</td></tr><tr><td>2025-03-31T00:00:00.000Z</td><td>JPMORGAN CHASE & CO</td><td>0.0214</td><td>24311579</td><td>2158868289</td><td>0.5778</td><td>SBUX</td></tr><tr><td>2025-03-31T00:00:00.000Z</td><td>Wellington Management Group, LLP</td><td>0.0171</td><td>19414472</td><td>1724005172</td><td>0.2234</td><td>SBUX</td></tr><tr><td>2025-03-31T00:00:00.000Z</td><td>Vanguard Group Inc</td><td>0.094399996</td><td>117470825</td><td>13065692331</td><td>0.0168</td><td>GILD</td></tr><tr><td>2025-03-31T00:00:00.000Z</td><td>Blackrock Inc.</td><td>0.0933</td><td>116104572</td><td>12913730843</td><td>-0.0353</td><td>GILD</td></tr><tr><td>2025-03-31T00:00:00.000Z</td><td>State Street Corporation</td><td>0.0479</td><td>59523675</td><td>6620520661</td><td>-0.014199999</td><td>GILD</td></tr><tr><td>2025-03-31T00:00:00.000Z</td><td>FMR, LLC</td><td>0.0471</td><td>58542842</td><td>6511427512</td><td>0.45200002</td><td>GILD</td></tr><tr><td>2025-03-31T00:00:00.000Z</td><td>Capital Research Global Investors</td><td>0.043899998</td><td>54610370</td><td>6074038319</td><td>-0.057600003</td><td>GILD</td></tr><tr><td>2025-03-31T00:00:00.000Z</td><td>Capital World Investors</td><td>0.043</td><td>53547901</td><td>5955865207</td><td>-0.2532</td><td>GILD</td></tr><tr><td>2025-03-31T00:00:00.000Z</td><td>Dodge & Cox Inc</td><td>0.026300002</td><td>32694791</td><td>3636478079</td><td>-0.0077</td><td>GILD</td></tr><tr><td>2025-03-31T00:00:00.000Z</td><td>Geode Capital Management, LLC</td><td>0.0229</td><td>28480147</td><td>3167704306</td><td>0.0067000003</td><td>GILD</td></tr><tr><td>2025-03-31T00:00:00.000Z</td><td>Wellington Management Group, LLP</td><td>0.022</td><td>27358967</td><td>3043001062</td><td>-0.2328</td><td>GILD</td></tr><tr><td>2025-03-31T00:00:00.000Z</td><td>Morgan Stanley</td><td>0.0159</td><td>19800980</td><td>2202363970</td><td>-0.0134000005</td><td>GILD</td></tr><tr><td>2025-03-31T00:00:00.000Z</td><td>Vanguard Group Inc</td><td>0.09020001</td><td>48521158</td><td>7189379892</td><td>-0.0083</td><td>MMM</td></tr><tr><td>2025-03-31T00:00:00.000Z</td><td>Blackrock Inc.</td><td>0.0766</td><td>41215938</td><td>6106965457</td><td>-0.0136</td><td>MMM</td></tr><tr><td>2025-03-31T00:00:00.000Z</td><td>State Street Corporation</td><td>0.0512</td><td>27564620</td><td>4084249694</td><td>-0.0043</td><td>MMM</td></tr><tr><td>2025-03-31T00:00:00.000Z</td><td>JPMORGAN CHASE & CO</td><td>0.051</td><td>27468428</td><td>4069996926</td><td>1.1195999</td><td>MMM</td></tr><tr><td>2025-03-31T00:00:00.000Z</td><td>Capital World Investors</td><td>0.0235</td><td>12635069</td><td>1872138150</td><td>1.0532</td><td>MMM</td></tr><tr><td>2025-03-31T00:00:00.000Z</td><td>FMR, LLC</td><td>0.0226</td><td>12186543</td><td>1805680053</td><td>0.38990003</td><td>MMM</td></tr><tr><td>2025-03-31T00:00:00.000Z</td><td>Geode Capital Management, LLC</td><td>0.022</td><td>11843472</td><td>1754847224</td><td>0.0232</td><td>MMM</td></tr><tr><td>2025-03-31T00:00:00.000Z</td><td>Morgan Stanley</td><td>0.019</td><td>10236345</td><td>1516719219</td><td>0.0401</td><td>MMM</td></tr><tr><td>2025-03-31T00:00:00.000Z</td><td>State Farm Mutual Automobile Insurance Co</td><td>0.0149</td><td>7998094</td><td>1185077573</td><td>-0.0221</td><td>MMM</td></tr><tr><td>2025-03-31T00:00:00.000Z</td><td>Newport Trust Company, LLC</td><td>0.0126</td><td>6798381</td><td>1007316100</td><td>-0.0432</td><td>MMM</td></tr><tr><td>2025-03-31T00:00:00.000Z</td><td>Vanguard Group Inc</td><td>0.099700004</td><td>49465370</td><td>11011980427</td><td>0.0073</td><td>ADI</td></tr><tr><td>2025-03-31T00:00:00.000Z</td><td>Blackrock Inc.</td><td>0.0794</td><td>39385611</td><td>8768024528</td><td>0.019</td><td>ADI</td></tr><tr><td>2025-03-31T00:00:00.000Z</td><td>JPMORGAN CHASE & CO</td><td>0.047</td><td>23341085</td><td>5196192228</td><td>-0.0706</td><td>ADI</td></tr><tr><td>2025-03-31T00:00:00.000Z</td><td>State Street Corporation</td><td>0.046</td><td>22810749</td><td>5078128830</td><td>-0.0028</td><td>ADI</td></tr><tr><td>2025-03-31T00:00:00.000Z</td><td>Price (T.Rowe) Associates Inc</td><td>0.023</td><td>11425084</td><td>2543452144</td><td>0.26700002</td><td>ADI</td></tr><tr><td>2025-03-31T00:00:00.000Z</td><td>Geode Capital Management, LLC</td><td>0.0223</td><td>11054235</td><td>2460893741</td><td>0.0417</td><td>ADI</td></tr><tr><td>2025-03-31T00:00:00.000Z</td><td>Massachusetts Financial Services Co.</td><td>0.020599999</td><td>10233477</td><td>2278176599</td><td>-0.111999996</td><td>ADI</td></tr><tr><td>2025-03-31T00:00:00.000Z</td><td>Morgan Stanley</td><td>0.019199999</td><td>9544873</td><td>2124879580</td><td>0.0311</td><td>ADI</td></tr><tr><td>2025-03-31T00:00:00.000Z</td><td>Wells Fargo & Company</td><td>0.0179</td><td>8861491</td><td>1972745083</td><td>-0.0023999999</td><td>ADI</td></tr><tr><td>2024-12-31T00:00:00.000Z</td><td>NORGES BANK</td><td>0.0167</td><td>8264887</td><td>1839929103</td><td>0.2017</td><td>ADI</td></tr><tr><td>2025-03-31T00:00:00.000Z</td><td>Vanguard Group Inc</td><td>0.0935</td><td>118335394</td><td>7537952951</td><td>0.0083</td><td>CVS</td></tr><tr><td>2025-03-31T00:00:00.000Z</td><td>Blackrock Inc.</td><td>0.088999994</td><td>112593476</td><td>7172193339</td><td>0.0625</td><td>CVS</td></tr><tr><td>2025-03-31T00:00:00.000Z</td><td>Dodge & Cox Inc</td><td>0.0581</td><td>73459122</td><td>4679338841</td><td>0.0478</td><td>CVS</td></tr><tr><td>2025-03-31T00:00:00.000Z</td><td>Capital World Investors</td><td>0.0541</td><td>68398405</td><td>4356971666</td><td>0.12060001</td><td>CVS</td></tr><tr><td>2025-03-31T00:00:00.000Z</td><td>State Street Corporation</td><td>0.0458</td><td>57988171</td><td>3693840785</td><td>0.0182</td><td>CVS</td></tr><tr><td>2025-03-31T00:00:00.000Z</td><td>FMR, LLC</td><td>0.024400001</td><td>30893511</td><td>1967913610</td><td>0.09810001</td><td>CVS</td></tr><tr><td>2025-03-31T00:00:00.000Z</td><td>Geode Capital Management, LLC</td><td>0.0221</td><td>27959409</td><td>1781011601</td><td>0.0336</td><td>CVS</td></tr><tr><td>2025-03-31T00:00:00.000Z</td><td>Capital International Investors</td><td>0.0207</td><td>26187658</td><td>1668151237</td><td>-0.018</td><td>CVS</td></tr><tr><td>2025-03-31T00:00:00.000Z</td><td>JPMORGAN CHASE & CO</td><td>0.0185</td><td>23436358</td><td>1492893698</td><td>0.6867</td><td>CVS</td></tr><tr><td>2025-03-31T00:00:00.000Z</td><td>Invesco Ltd.</td><td>0.0161</td><td>20413853</td><td>1300360426</td><td>0.1317</td><td>CVS</td></tr><tr><td>2025-03-31T00:00:00.000Z</td><td>Blackrock Inc.</td><td>0.0889</td><td>166073626</td><td>13011454021</td><td>0.0139</td><td>C</td></tr><tr><td>2025-03-31T00:00:00.000Z</td><td>Vanguard Group Inc</td><td>0.088199995</td><td>164703439</td><td>12904103290</td><td>-0.0106</td><td>C</td></tr><tr><td>2025-03-31T00:00:00.000Z</td><td>State Street Corporation</td><td>0.044899996</td><td>83782390</td><td>6564141107</td><td>0.003</td><td>C</td></tr><tr><td>2025-03-31T00:00:00.000Z</td><td>Capital World Investors</td><td>0.0251</td><td>46929267</td><td>3676790918</td><td>0.4968</td><td>C</td></tr><tr><td>2025-03-31T00:00:00.000Z</td><td>Geode Capital Management, LLC</td><td>0.0228</td><td>42545296</td><td>3333317734</td><td>0.0482</td><td>C</td></tr><tr><td>2025-03-31T00:00:00.000Z</td><td>Price (T.Rowe) Associates Inc</td><td>0.022</td><td>41101459</td><td>3220196709</td><td>0.0659</td><td>C</td></tr><tr><td>2025-03-31T00:00:00.000Z</td><td>Bank of America Corporation</td><td>0.0177</td><td>33017204</td><td>2586815511</td><td>0.6086</td><td>C</td></tr><tr><td>2025-03-31T00:00:00.000Z</td><td>Franklin Resources, Inc.</td><td>0.016900001</td><td>31610565</td><td>2476608857</td><td>-0.0372</td><td>C</td></tr><tr><td>2025-03-31T00:00:00.000Z</td><td>Fisher Asset Management, LLC</td><td>0.0167</td><td>31173305</td><td>2442350627</td><td>0.038599998</td><td>C</td></tr><tr><td>2025-03-31T00:00:00.000Z</td><td>FMR, LLC</td><td>0.0155</td><td>29033089</td><td>2274670046</td><td>-0.1551</td><td>C</td></tr><tr><td>2025-03-31T00:00:00.000Z</td><td>Vanguard Group Inc</td><td>0.099300005</td><td>128536276</td><td>8561801422</td><td>-0.0295</td><td>MDLZ</td></tr><tr><td>2025-03-31T00:00:00.000Z</td><td>Blackrock Inc.</td><td>0.0736</td><td>95260761</td><td>6345319348</td><td>-0.0189</td><td>MDLZ</td></tr><tr><td>2025-03-31T00:00:00.000Z</td><td>JPMORGAN CHASE & CO</td><td>0.0462</td><td>59873945</td><td>3988203512</td><td>-0.0274</td><td>MDLZ</td></tr><tr><td>2025-03-31T00:00:00.000Z</td><td>State Street Corporation</td><td>0.0454</td><td>58775763</td><td>3915053609</td><td>-0.0307</td><td>MDLZ</td></tr><tr><td>2025-03-31T00:00:00.000Z</td><td>Capital International Investors</td><td>0.043899998</td><td>56896325</td><td>3789864242</td><td>2.5368</td><td>MDLZ</td></tr><tr><td>2025-03-31T00:00:00.000Z</td><td>Capital Research Global Investors</td><td>0.0277</td><td>35830140</td><td>2386645647</td><td>-0.045300003</td><td>MDLZ</td></tr><tr><td>2025-03-31T00:00:00.000Z</td><td>Price (T.Rowe) Associates Inc</td><td>0.0224</td><td>29017101</td><td>1932829115</td><td>0.90129995</td><td>MDLZ</td></tr><tr><td>2025-03-31T00:00:00.000Z</td><td>Geode Capital Management, LLC</td><td>0.0222</td><td>28708354</td><td>1912263477</td><td>-0.0070999996</td><td>MDLZ</td></tr><tr><td>2025-03-31T00:00:00.000Z</td><td>Bank of America Corporation</td><td>0.0182</td><td>23601740</td><td>1572111915</td><td>0.0533</td><td>MDLZ</td></tr><tr><td>2025-03-31T00:00:00.000Z</td><td>Morgan Stanley</td><td>0.0175</td><td>22649969</td><td>1508714448</td><td>0.0365</td><td>MDLZ</td></tr><tr><td>2025-03-31T00:00:00.000Z</td><td>Vanguard Group Inc</td><td>0.0983</td><td>52870453</td><td>15366532231</td><td>0.0028</td><td>AMGN</td></tr><tr><td>2025-03-31T00:00:00.000Z</td><td>Blackrock Inc.</td><td>0.0845</td><td>45439431</td><td>13206742923</td><td>-0.0045</td><td>AMGN</td></tr><tr><td>2025-03-31T00:00:00.000Z</td><td>State Street Corporation</td><td>0.0543</td><td>29179991</td><td>8481018163</td><td>-0.0086</td><td>AMGN</td></tr><tr><td>2025-03-31T00:00:00.000Z</td><td>Capital World Investors</td><td>0.0311</td><td>16701609</td><td>4854238964</td><td>1.5711999</td><td>AMGN</td></tr><tr><td>2025-03-31T00:00:00.000Z</td><td>Morgan Stanley</td><td>0.030199999</td><td>16234121</td><td>4718365919</td><td>0.115</td><td>AMGN</td></tr><tr><td>2025-03-31T00:00:00.000Z</td><td>Capital International Investors</td><td>0.028099999</td><td>15134865</td><td>4398872671</td><td>0.2393</td><td>AMGN</td></tr><tr><td>2025-03-31T00:00:00.000Z</td><td>Geode Capital Management, LLC</td><td>0.023699999</td><td>12727346</td><td>3699139338</td><td>0.0202</td><td>AMGN</td></tr><tr><td>2025-03-31T00:00:00.000Z</td><td>Primecap Management Company</td><td>0.023</td><td>12388295</td><td>3600595864</td><td>-0.047199998</td><td>AMGN</td></tr><tr><td>2025-03-31T00:00:00.000Z</td><td>Charles Schwab Investment Management, Inc.</td><td>0.0227</td><td>12205942</td><td>3547595878</td><td>-0.0757</td><td>AMGN</td></tr><tr><td>2025-03-31T00:00:00.000Z</td><td>Wells Fargo & Company</td><td>0.0135</td><td>7251482</td><td>2107606906</td><td>0.0164</td><td>AMGN</td></tr><tr><td>2025-03-31T00:00:00.000Z</td><td>Vanguard Group Inc</td><td>0.0866</td><td>33059964</td><td>12772717293</td><td>0.011</td><td>SYK</td></tr><tr><td>2025-03-31T00:00:00.000Z</td><td>Blackrock Inc.</td><td>0.0712</td><td>27182853</td><td>10502095422</td><td>0.0139</td><td>SYK</td></tr><tr><td>2025-03-31T00:00:00.000Z</td><td>Greenleaf Trust</td><td>0.0448</td><td>17116802</td><td>6613076557</td><td>-0.0354</td><td>SYK</td></tr><tr><td>2025-03-31T00:00:00.000Z</td><td>State Street Corporation</td><td>0.0388</td><td>14806528</td><td>5720502183</td><td>0.0019</td><td>SYK</td></tr><tr><td>2025-03-31T00:00:00.000Z</td><td>JPMORGAN CHASE & CO</td><td>0.033099998</td><td>12617277</td><td>4874685045</td><td>0.1673</td><td>SYK</td></tr><tr><td>2025-03-31T00:00:00.000Z</td><td>Price (T.Rowe) Associates Inc</td><td>0.0318</td><td>12131218</td><td>4686896148</td><td>0.0919</td><td>SYK</td></tr><tr><td>2025-03-31T00:00:00.000Z</td><td>FMR, LLC</td><td>0.020299999</td><td>7748541</td><td>2993648862</td><td>-0.0356</td><td>SYK</td></tr><tr><td>2025-03-31T00:00:00.000Z</td><td>Geode Capital Management, LLC</td><td>0.019199999</td><td>7313957</td><td>2825747331</td><td>0.034</td><td>SYK</td></tr><tr><td>2025-03-31T00:00:00.000Z</td><td>Capital Research Global Investors</td><td>0.018</td><td>6864770</td><td>2652203931</td><td>0.0033000002</td><td>SYK</td></tr><tr><td>2025-03-31T00:00:00.000Z</td><td>Wellington Management Group, LLP</td><td>0.0168</td><td>6395926</td><td>2471066049</td><td>-0.2366</td><td>SYK</td></tr><tr><td>2025-03-31T00:00:00.000Z</td><td>Vanguard Group Inc</td><td>0.090900004</td><td>2956462</td><td>16484758616</td><td>0.010299999</td><td>BKNG</td></tr><tr><td>2025-03-31T00:00:00.000Z</td><td>Blackrock Inc.</td><td>0.08189999</td><td>2666127</td><td>14865897155</td><td>0.0388</td><td>BKNG</td></tr><tr><td>2025-03-31T00:00:00.000Z</td><td>State Street Corporation</td><td>0.0435</td><td>1414491</td><td>7886975276</td><td>0.0018000001</td><td>BKNG</td></tr><tr><td>2025-03-31T00:00:00.000Z</td><td>JPMORGAN CHASE & CO</td><td>0.031400003</td><td>1023359</td><td>5706085886</td><td>0.1821</td><td>BKNG</td></tr><tr><td>2025-03-31T00:00:00.000Z</td><td>Capital World Investors</td><td>0.028499998</td><td>927145</td><td>5169612031</td><td>-0.22780001</td><td>BKNG</td></tr><tr><td>2025-03-31T00:00:00.000Z</td><td>Price (T.Rowe) Associates Inc</td><td>0.026600001</td><td>864960</td><td>4822878431</td><td>-0.1526</td><td>BKNG</td></tr><tr><td>2025-03-31T00:00:00.000Z</td><td>Geode Capital Management, LLC</td><td>0.025999999</td><td>845505</td><td>4714400467</td><td>0.052800003</td><td>BKNG</td></tr><tr><td>2025-03-31T00:00:00.000Z</td><td>Dodge & Cox Inc</td><td>0.0238</td><td>776008</td><td>4326896325</td><td>-0.0097</td><td>BKNG</td></tr><tr><td>2025-03-31T00:00:00.000Z</td><td>Morgan Stanley</td><td>0.0221</td><td>719952</td><td>4014337047</td><td>0.0967</td><td>BKNG</td></tr><tr><td>2025-03-31T00:00:00.000Z</td><td>FMR, LLC</td><td>0.019199999</td><td>623653</td><td>3477389246</td><td>-0.0217</td><td>BKNG</td></tr><tr><td>2025-03-31T00:00:00.000Z</td><td>Vanguard Group Inc</td><td>0.1308</td><td>121339410</td><td>13315483875</td><td>0.0072000003</td><td>PLD</td></tr><tr><td>2025-03-31T00:00:00.000Z</td><td>Blackrock Inc.</td><td>0.0999</td><td>92663202</td><td>10168628412</td><td>-0.0195</td><td>PLD</td></tr><tr><td>2025-03-31T00:00:00.000Z</td><td>State Street Corporation</td><td>0.062</td><td>57552298</td><td>6315645477</td><td>0.0089</td><td>PLD</td></tr><tr><td>2025-03-31T00:00:00.000Z</td><td>JPMORGAN CHASE & CO</td><td>0.0275</td><td>25532594</td><td>2801883111</td><td>-0.039</td><td>PLD</td></tr><tr><td>2025-03-31T00:00:00.000Z</td><td>Cohen & Steers Inc.</td><td>0.027</td><td>25096244</td><td>2753999152</td><td>-0.1142</td><td>PLD</td></tr><tr><td>2025-03-31T00:00:00.000Z</td><td>Geode Capital Management, LLC</td><td>0.0238</td><td>22106500</td><td>2425912111</td><td>0.0344</td><td>PLD</td></tr><tr><td>2025-03-31T00:00:00.000Z</td><td>Morgan Stanley</td><td>0.0228</td><td>21167320</td><td>2322848843</td><td>0.1338</td><td>PLD</td></tr><tr><td>2025-03-31T00:00:00.000Z</td><td>FMR, LLC</td><td>0.0217</td><td>20124070</td><td>2208365193</td><td>0.12560001</td><td>PLD</td></tr><tr><td>2025-03-31T00:00:00.000Z</td><td>Apg Asset Management US Inc.</td><td>0.0211</td><td>19593356</td><td>2150125963</td><td>0.0</td><td>PLD</td></tr><tr><td>2025-03-31T00:00:00.000Z</td><td>Bank of America Corporation</td><td>0.0184</td><td>17086357</td><td>1875014153</td><td>0.0467</td><td>PLD</td></tr><tr><td>2025-03-31T00:00:00.000Z</td><td>Vanguard Group Inc</td><td>0.0867</td><td>155862361</td><td>17789849153</td><td>0.0159</td><td>DIS</td></tr><tr><td>2025-03-31T00:00:00.000Z</td><td>Blackrock Inc.</td><td>0.0732</td><td>131539525</td><td>15013684461</td><td>0.0134000005</td><td>DIS</td></tr><tr><td>2025-03-31T00:00:00.000Z</td><td>State Street Corporation</td><td>0.044</td><td>79017150</td><td>9018875179</td><td>0.0135</td><td>DIS</td></tr><tr><td>2025-03-31T00:00:00.000Z</td><td>Morgan Stanley</td><td>0.0232</td><td>41647355</td><td>4753554086</td><td>0.0136</td><td>DIS</td></tr><tr><td>2025-03-31T00:00:00.000Z</td><td>Geode Capital Management, LLC</td><td>0.022</td><td>39534154</td><td>4512357130</td><td>0.0273</td><td>DIS</td></tr><tr><td>2025-03-31T00:00:00.000Z</td><td>JPMORGAN CHASE & CO</td><td>0.019299999</td><td>34648877</td><td>3954760413</td><td>0.21540001</td><td>DIS</td></tr><tr><td>2025-03-31T00:00:00.000Z</td><td>State Farm Mutual Automobile Insurance Co</td><td>0.0154</td><td>27696532</td><td>3161232276</td><td>-0.0589</td><td>DIS</td></tr><tr><td>2025-03-31T00:00:00.000Z</td><td>FMR, LLC</td><td>0.0145000005</td><td>26106535</td><td>2979752883</td><td>-0.2038</td><td>DIS</td></tr><tr><td>2025-03-31T00:00:00.000Z</td><td>Northern Trust Corporation</td><td>0.0123000005</td><td>22038747</td><td>2515462887</td><td>-0.0092</td><td>DIS</td></tr><tr><td>2024-12-31T00:00:00.000Z</td><td>NORGES BANK</td><td>0.0121</td><td>21692209</td><td>2475909664</td><td>0.0076</td><td>DIS</td></tr><tr><td>2025-03-31T00:00:00.000Z</td><td>Blackrock Inc.</td><td>0.09020001</td><td>100614478</td><td>12896763053</td><td>0.0095999995</td><td>TJX</td></tr><tr><td>2025-03-31T00:00:00.000Z</td><td>Vanguard Group Inc</td><td>0.09</td><td>100413764</td><td>12871035534</td><td>0.0111</td><td>TJX</td></tr><tr><td>2025-03-31T00:00:00.000Z</td><td>State Street Corporation</td><td>0.0433</td><td>48309799</td><td>6192349681</td><td>-0.0194</td><td>TJX</td></tr><tr><td>2025-03-31T00:00:00.000Z</td><td>FMR, LLC</td><td>0.0309</td><td>34426544</td><td>4412794157</td><td>-0.0372</td><td>TJX</td></tr><tr><td>2025-03-31T00:00:00.000Z</td><td>Wellington Management Group, LLP</td><td>0.0309</td><td>34461660</td><td>4417295326</td><td>-0.0108</td><td>TJX</td></tr><tr><td>2025-03-31T00:00:00.000Z</td><td>Geode Capital Management, LLC</td><td>0.0231</td><td>25769789</td><td>3303171365</td><td>0.059499998</td><td>TJX</td></tr><tr><td>2025-03-31T00:00:00.000Z</td><td>Morgan Stanley</td><td>0.023</td><td>25681893</td><td>3291904856</td><td>-0.0372</td><td>TJX</td></tr><tr><td>2025-03-31T00:00:00.000Z</td><td>JPMORGAN CHASE & CO</td><td>0.0194</td><td>21664789</td><td>2776992495</td><td>-0.0043</td><td>TJX</td></tr><tr><td>2025-03-31T00:00:00.000Z</td><td>Bank of America Corporation</td><td>0.019299999</td><td>21565107</td><td>2764215257</td><td>0.1423</td><td>TJX</td></tr><tr><td>2025-03-31T00:00:00.000Z</td><td>Bank Of New York Mellon Corporation</td><td>0.0164</td><td>18278977</td><td>2342999137</td><td>-0.0452</td><td>TJX</td></tr><tr><td>2025-03-31T00:00:00.000Z</td><td>Vanguard Group Inc</td><td>0.0887</td><td>86221849</td><td>6315750439</td><td>0.0032</td><td>PYPL</td></tr><tr><td>2025-03-31T00:00:00.000Z</td><td>Blackrock Inc.</td><td>0.0759</td><td>73831980</td><td>5408192535</td><td>-0.0066000004</td><td>PYPL</td></tr><tr><td>2025-03-31T00:00:00.000Z</td><td>State Street Corporation</td><td>0.0458</td><td>44536103</td><td>3262269544</td><td>0.020299999</td><td>PYPL</td></tr><tr><td>2025-03-31T00:00:00.000Z</td><td>Comprehensive Financial Management, LLC</td><td>0.0279</td><td>27119118</td><td>1986475393</td><td>0.0</td><td>PYPL</td></tr><tr><td>2025-03-31T00:00:00.000Z</td><td>Capital Research Global Investors</td><td>0.026300002</td><td>25569494</td><td>1872965435</td><td>0.42650002</td><td>PYPL</td></tr><tr><td>2025-03-31T00:00:00.000Z</td><td>Geode Capital Management, LLC</td><td>0.0228</td><td>22130433</td><td>1621054217</td><td>0.018099999</td><td>PYPL</td></tr><tr><td>2025-03-31T00:00:00.000Z</td><td>Morgan Stanley</td><td>0.0168</td><td>16302583</td><td>1194164204</td><td>-0.0163</td><td>PYPL</td></tr><tr><td>2024-12-31T00:00:00.000Z</td><td>NORGES BANK</td><td>0.013099999</td><td>12730025</td><td>932474331</td><td>0.18540001</td><td>PYPL</td></tr><tr><td>2025-03-31T00:00:00.000Z</td><td>Artisan Partners Limited Partnership</td><td>0.0121</td><td>11808017</td><td>864937245</td><td>0.513</td><td>PYPL</td></tr><tr><td>2025-03-31T00:00:00.000Z</td><td>Deutsche Bank Aktiengesellschaft</td><td>0.0116</td><td>11238218</td><td>823199468</td><td>0.19049999</td><td>PYPL</td></tr><tr><td>2025-03-31T00:00:00.000Z</td><td>Vanguard Group Inc</td><td>0.0939</td><td>158117225</td><td>9425367878</td><td>0.0083</td><td>MO</td></tr><tr><td>2025-03-31T00:00:00.000Z</td><td>Blackrock Inc.</td><td>0.0743</td><td>125084801</td><td>7456305063</td><td>-0.0623</td><td>MO</td></tr><tr><td>2025-03-31T00:00:00.000Z</td><td>State Street Corporation</td><td>0.0424</td><td>71480680</td><td>4260963378</td><td>-0.0119</td><td>MO</td></tr><tr><td>2025-03-31T00:00:00.000Z</td><td>Capital World Investors</td><td>0.0387</td><td>65197912</td><td>3886447574</td><td>0.042600002</td><td>MO</td></tr><tr><td>2025-03-31T00:00:00.000Z</td><td>Charles Schwab Investment Management, Inc.</td><td>0.0376</td><td>63288773</td><td>3772643797</td><td>0.0582</td><td>MO</td></tr><tr><td>2025-03-31T00:00:00.000Z</td><td>Geode Capital Management, LLC</td><td>0.026099999</td><td>43960254</td><td>2620470767</td><td>0.0482</td><td>MO</td></tr><tr><td>2025-03-31T00:00:00.000Z</td><td>Morgan Stanley</td><td>0.0149</td><td>25056028</td><td>1493589844</td><td>0.20030001</td><td>MO</td></tr><tr><td>2025-03-31T00:00:00.000Z</td><td>Arrowstreet Capital, Limited Partnership</td><td>0.0116</td><td>19474331</td><td>1160864882</td><td>-0.1257</td><td>MO</td></tr><tr><td>2025-03-31T00:00:00.000Z</td><td>GQG Partners LLC</td><td>0.0111</td><td>18698594</td><td>1114623199</td><td>81.4642</td><td>MO</td></tr><tr><td>2025-03-31T00:00:00.000Z</td><td>Northern Trust Corporation</td><td>0.0097</td><td>16269786</td><td>969841953</td><td>-0.0099</td><td>MO</td></tr><tr><td>2025-03-31T00:00:00.000Z</td><td>Vanguard Group Inc</td><td>0.0979</td><td>26154490</td><td>8141631415</td><td>0.0017</td><td>CI</td></tr><tr><td>2025-03-31T00:00:00.000Z</td><td>Blackrock Inc.</td><td>0.090299994</td><td>24115351</td><td>7506867818</td><td>0.0097</td><td>CI</td></tr><tr><td>2025-03-31T00:00:00.000Z</td><td>FMR, LLC</td><td>0.0499</td><td>13322069</td><td>4147026972</td><td>0.0687</td><td>CI</td></tr><tr><td>2025-03-31T00:00:00.000Z</td><td>State Street Corporation</td><td>0.0467</td><td>12470088</td><td>3881813800</td><td>-0.0196</td><td>CI</td></tr><tr><td>2025-03-31T00:00:00.000Z</td><td>Price (T.Rowe) Associates Inc</td><td>0.045100003</td><td>12056806</td><td>3753163242</td><td>0.0998</td><td>CI</td></tr><tr><td>2025-03-31T00:00:00.000Z</td><td>Massachusetts Financial Services Co.</td><td>0.0436</td><td>11654993</td><td>3628082870</td><td>0.0085</td><td>CI</td></tr><tr><td>2025-03-31T00:00:00.000Z</td><td>Dodge & Cox Inc</td><td>0.033299997</td><td>8889733</td><td>2767285061</td><td>0.0134000005</td><td>CI</td></tr><tr><td>2025-03-31T00:00:00.000Z</td><td>Sanders Capital, LLC</td><td>0.0299</td><td>7989436</td><td>2487031600</td><td>-0.0081</td><td>CI</td></tr><tr><td>2025-03-31T00:00:00.000Z</td><td>JPMORGAN CHASE & CO</td><td>0.023599999</td><td>6296496</td><td>1960036293</td><td>0.2392</td><td>CI</td></tr><tr><td>2025-03-31T00:00:00.000Z</td><td>Geode Capital Management, LLC</td><td>0.0226</td><td>6036684</td><td>1879159413</td><td>0.013300001</td><td>CI</td></tr><tr><td>2025-03-31T00:00:00.000Z</td><td>Vanguard Group Inc</td><td>0.0817</td><td>148395252</td><td>13132979802</td><td>0.1541</td><td>SCHW</td></tr><tr><td>2025-03-31T00:00:00.000Z</td><td>Blackrock Inc.</td><td>0.067600004</td><td>122859627</td><td>10873076989</td><td>0.1718</td><td>SCHW</td></tr><tr><td>2025-03-31T00:00:00.000Z</td><td>Dodge & Cox Inc</td><td>0.048800003</td><td>88750655</td><td>7854432967</td><td>-0.0069</td><td>SCHW</td></tr><tr><td>2025-03-31T00:00:00.000Z</td><td>Price (T.Rowe) Associates Inc</td><td>0.0452</td><td>82048984</td><td>7261335084</td><td>0.1225</td><td>SCHW</td></tr><tr><td>2025-03-31T00:00:00.000Z</td><td>State Street Corporation</td><td>0.0396</td><td>71933290</td><td>6366096165</td><td>0.1339</td><td>SCHW</td></tr><tr><td>2025-03-31T00:00:00.000Z</td><td>JPMORGAN CHASE & CO</td><td>0.0298</td><td>54160220</td><td>4793179470</td><td>0.1039</td><td>SCHW</td></tr><tr><td>2025-03-31T00:00:00.000Z</td><td>Geode Capital Management, LLC</td><td>0.02</td><td>36342807</td><td>3216338419</td><td>0.1761</td><td>SCHW</td></tr><tr><td>2025-03-31T00:00:00.000Z</td><td>FMR, LLC</td><td>0.0176</td><td>31978690</td><td>2830114065</td><td>2.2968</td><td>SCHW</td></tr><tr><td>2025-03-31T00:00:00.000Z</td><td>Franklin Resources, Inc.</td><td>0.0161</td><td>29220312</td><td>2585997612</td><td>0.20709999</td><td>SCHW</td></tr><tr><td>2025-03-31T00:00:00.000Z</td><td>Harris Associates L.P.</td><td>0.0152</td><td>27612443</td><td>2443701205</td><td>-0.0028</td><td>SCHW</td></tr><tr><td>2025-03-31T00:00:00.000Z</td><td>Berkshire Hathaway, Inc</td><td>0.2164</td><td>151610700</td><td>45965330915</td><td>0.0</td><td>AXP</td></tr><tr><td>2025-03-31T00:00:00.000Z</td><td>Vanguard Group Inc</td><td>0.0654</td><td>45843893</td><td>13898951143</td><td>0.0134000005</td><td>AXP</td></tr><tr><td>2025-03-31T00:00:00.000Z</td><td>Blackrock Inc.</td><td>0.0643</td><td>45025393</td><td>13650798319</td><td>0.0247</td><td>AXP</td></tr><tr><td>2025-03-31T00:00:00.000Z</td><td>State Street Corporation</td><td>0.0425</td><td>29770977</td><td>9025964588</td><td>-4.0E-4</td><td>AXP</td></tr><tr><td>2025-03-31T00:00:00.000Z</td><td>JPMORGAN CHASE & CO</td><td>0.026199998</td><td>18356343</td><td>5565275936</td><td>0.0958</td><td>AXP</td></tr><tr><td>2025-03-31T00:00:00.000Z</td><td>Wellington Management Group, LLP</td><td>0.0257</td><td>18025562</td><td>5464989755</td><td>0.1367</td><td>AXP</td></tr><tr><td>2025-03-31T00:00:00.000Z</td><td>Morgan Stanley</td><td>0.019</td><td>13284684</td><td>4027650397</td><td>-0.040599998</td><td>AXP</td></tr><tr><td>2025-03-31T00:00:00.000Z</td><td>Geode Capital Management, LLC</td><td>0.0173</td><td>12137570</td><td>3679868383</td><td>0.0328</td><td>AXP</td></tr><tr><td>2025-03-31T00:00:00.000Z</td><td>FMR, LLC</td><td>0.0149</td><td>10471990</td><td>3174897851</td><td>-0.0405</td><td>AXP</td></tr><tr><td>2025-03-31T00:00:00.000Z</td><td>Fisher Asset Management, LLC</td><td>0.0128</td><td>8972513</td><td>2720286425</td><td>0.0241</td><td>AXP</td></tr><tr><td>2025-03-31T00:00:00.000Z</td><td>Vanguard Group Inc</td><td>0.0849</td><td>90507442</td><td>23250458101</td><td>0.0077</td><td>GE</td></tr><tr><td>2025-03-31T00:00:00.000Z</td><td>Blackrock Inc.</td><td>0.076799996</td><td>81932390</td><td>21047612867</td><td>-0.0062</td><td>GE</td></tr><tr><td>2025-03-31T00:00:00.000Z</td><td>FMR, LLC</td><td>0.06</td><td>64009548</td><td>16443413723</td><td>-0.0421</td><td>GE</td></tr><tr><td>2025-03-31T00:00:00.000Z</td><td>TCI Fund Management Ltd</td><td>0.0446</td><td>47570947</td><td>12220501271</td><td>0.0342</td><td>GE</td></tr><tr><td>2025-03-31T00:00:00.000Z</td><td>Capital International Investors</td><td>0.0444</td><td>47330131</td><td>12158638045</td><td>-0.0075</td><td>GE</td></tr><tr><td>2025-03-31T00:00:00.000Z</td><td>State Street Corporation</td><td>0.040900003</td><td>43655046</td><td>11214545406</td><td>-0.0088</td><td>GE</td></tr><tr><td>2025-03-31T00:00:00.000Z</td><td>Capital Research Global Investors</td><td>0.0319</td><td>33966218</td><td>8725582239</td><td>-0.1907</td><td>GE</td></tr><tr><td>2025-03-31T00:00:00.000Z</td><td>Price (T.Rowe) Associates Inc</td><td>0.023599999</td><td>25131285</td><td>6455976171</td><td>0.0631</td><td>GE</td></tr><tr><td>2025-03-31T00:00:00.000Z</td><td>Geode Capital Management, LLC</td><td>0.0219</td><td>23389408</td><td>6008505363</td><td>0.0117999995</td><td>GE</td></tr><tr><td>2025-03-31T00:00:00.000Z</td><td>Capital World Investors</td><td>0.0164</td><td>17456553</td><td>4484414155</td><td>-0.1362</td><td>GE</td></tr><tr><td>2025-03-31T00:00:00.000Z</td><td>Vanguard Group Inc</td><td>0.09770001</td><td>28002802</td><td>4814241668</td><td>0.0471</td><td>BDX</td></tr><tr><td>2025-03-31T00:00:00.000Z</td><td>Blackrock Inc.</td><td>0.0834</td><td>23889913</td><td>4107153799</td><td>-0.0039</td><td>BDX</td></tr><tr><td>2025-03-31T00:00:00.000Z</td><td>State Street Corporation</td><td>0.048800003</td><td>13992640</td><td>2405614643</td><td>-0.0067000003</td><td>BDX</td></tr><tr><td>2025-03-31T00:00:00.000Z</td><td>T. Rowe Price Investment Management, Inc.</td><td>0.043899998</td><td>12575351</td><td>2161954320</td><td>0.037</td><td>BDX</td></tr><tr><td>2025-03-31T00:00:00.000Z</td><td>Price (T.Rowe) Associates Inc</td><td>0.0395</td><td>11314136</td><td>1945126240</td><td>-0.0836</td><td>BDX</td></tr><tr><td>2025-03-31T00:00:00.000Z</td><td>Morgan Stanley</td><td>0.03</td><td>8589897</td><td>1476775076</td><td>-0.1609</td><td>BDX</td></tr><tr><td>2025-03-31T00:00:00.000Z</td><td>Massachusetts Financial Services Co.</td><td>0.0239</td><td>6843856</td><td>1176595710</td><td>0.1082</td><td>BDX</td></tr><tr><td>2025-03-31T00:00:00.000Z</td><td>Geode Capital Management, LLC</td><td>0.0226</td><td>6479503</td><td>1113956143</td><td>0.0201</td><td>BDX</td></tr><tr><td>2025-03-31T00:00:00.000Z</td><td>First Eagle Investment Management, LLC</td><td>0.019299999</td><td>5517712</td><td>948605036</td><td>0.2467</td><td>BDX</td></tr><tr><td>2025-03-31T00:00:00.000Z</td><td>Generation Investment Management LLP</td><td>0.0185</td><td>5296447</td><td>910565158</td><td>-0.0892</td><td>BDX</td></tr><tr><td>2025-03-31T00:00:00.000Z</td><td>Vanguard Group Inc</td><td>0.096099995</td><td>34643827</td><td>9418963853</td><td>0.0117</td><td>CME</td></tr><tr><td>2025-03-31T00:00:00.000Z</td><td>Blackrock Inc.</td><td>0.090500005</td><td>32605744</td><td>8864849837</td><td>0.1009</td><td>CME</td></tr><tr><td>2025-03-31T00:00:00.000Z</td><td>State Street Corporation</td><td>0.0456</td><td>16439164</td><td>4469479988</td><td>0.021</td><td>CME</td></tr><tr><td>2025-03-31T00:00:00.000Z</td><td>JPMORGAN CHASE & CO</td><td>0.0349</td><td>12574112</td><td>3418649631</td><td>0.165</td><td>CME</td></tr><tr><td>2025-03-31T00:00:00.000Z</td><td>Morgan Stanley</td><td>0.0293</td><td>10562859</td><td>2871830156</td><td>-0.0381</td><td>CME</td></tr><tr><td>2025-03-31T00:00:00.000Z</td><td>Capital World Investors</td><td>0.027</td><td>9726423</td><td>2644419932</td><td>-0.13260001</td><td>CME</td></tr><tr><td>2025-03-31T00:00:00.000Z</td><td>Geode Capital Management, LLC</td><td>0.024600001</td><td>8858782</td><td>2408525693</td><td>0.0559</td><td>CME</td></tr><tr><td>2025-03-31T00:00:00.000Z</td><td>Bank Of New York Mellon Corporation</td><td>0.0171</td><td>6176107</td><td>1679160001</td><td>-0.0308</td><td>CME</td></tr><tr><td>2025-03-31T00:00:00.000Z</td><td>Price (T.Rowe) Associates Inc</td><td>0.0150999995</td><td>5448310</td><td>1481286549</td><td>-0.3421</td><td>CME</td></tr><tr><td>2024-12-31T00:00:00.000Z</td><td>NORGES BANK</td><td>0.013200001</td><td>4768500</td><td>1296459803</td><td>-0.0095</td><td>CME</td></tr><tr><td>2025-03-31T00:00:00.000Z</td><td>Vanguard Group Inc</td><td>0.098900005</td><td>53981854</td><td>6138276568</td><td>0.0064999997</td><td>EOG</td></tr><tr><td>2025-03-31T00:00:00.000Z</td><td>Capital World Investors</td><td>0.085200004</td><td>46516720</td><td>5289416188</td><td>0.012999999</td><td>EOG</td></tr><tr><td>2025-03-31T00:00:00.000Z</td><td>Blackrock Inc.</td><td>0.0748</td><td>40811376</td><td>4640661527</td><td>0.0016</td><td>EOG</td></tr><tr><td>2025-03-31T00:00:00.000Z</td><td>State Street Corporation</td><td>0.0577</td><td>31503898</td><td>3582308212</td><td>-0.0367</td><td>EOG</td></tr><tr><td>2025-03-31T00:00:00.000Z</td><td>Capital Research Global Investors</td><td>0.0545</td><td>29754893</td><td>3383428855</td><td>-0.0011999999</td><td>EOG</td></tr><tr><td>2025-03-31T00:00:00.000Z</td><td>JPMORGAN CHASE & CO</td><td>0.047399998</td><td>25864035</td><td>2940999396</td><td>0.0242</td><td>EOG</td></tr><tr><td>2025-03-31T00:00:00.000Z</td><td>Charles Schwab Investment Management, Inc.</td><td>0.0355</td><td>19380866</td><td>2203798255</td><td>0.0653</td><td>EOG</td></tr><tr><td>2025-03-31T00:00:00.000Z</td><td>Geode Capital Management, LLC</td><td>0.024</td><td>13125255</td><td>1492472734</td><td>0.045900002</td><td>EOG</td></tr><tr><td>2025-03-31T00:00:00.000Z</td><td>Ameriprise Financial, Inc.</td><td>0.0163</td><td>8888645</td><td>1010727814</td><td>-0.1832</td><td>EOG</td></tr><tr><td>2025-03-31T00:00:00.000Z</td><td>Price (T.Rowe) Associates Inc</td><td>0.0146</td><td>7981745</td><td>907604216</td><td>-0.1082</td><td>EOG</td></tr><tr><td>2025-03-31T00:00:00.000Z</td><td>Vanguard Group Inc</td><td>0.0956</td><td>120868565</td><td>10534904568</td><td>-0.007900001</td><td>COP</td></tr><tr><td>2025-03-31T00:00:00.000Z</td><td>Blackrock Inc.</td><td>0.08</td><td>101132298</td><td>8814691464</td><td>-0.0185</td><td>COP</td></tr><tr><td>2025-03-31T00:00:00.000Z</td><td>State Street Corporation</td><td>0.0553</td><td>69920486</td><td>6094269815</td><td>-0.051599998</td><td>COP</td></tr><tr><td>2025-03-31T00:00:00.000Z</td><td>JPMORGAN CHASE & CO</td><td>0.04</td><td>50592799</td><td>4409668546</td><td>-0.0052</td><td>COP</td></tr><tr><td>2025-03-31T00:00:00.000Z</td><td>Charles Schwab Investment Management, Inc.</td><td>0.0317</td><td>40094754</td><td>3494658905</td><td>3.7970002</td><td>COP</td></tr><tr><td>2025-03-31T00:00:00.000Z</td><td>Price (T.Rowe) Associates Inc</td><td>0.0315</td><td>39807409</td><td>3469613914</td><td>-0.1317</td><td>COP</td></tr><tr><td>2025-03-31T00:00:00.000Z</td><td>Capital International Investors</td><td>0.028099999</td><td>35497318</td><td>3093946366</td><td>0.1346</td><td>COP</td></tr><tr><td>2025-03-31T00:00:00.000Z</td><td>Wellington Management Group, LLP</td><td>0.025</td><td>31610608</td><td>2755180709</td><td>0.0139999995</td><td>COP</td></tr><tr><td>2025-03-31T00:00:00.000Z</td><td>Geode Capital Management, LLC</td><td>0.0222</td><td>28017626</td><td>2442016384</td><td>-0.004</td><td>COP</td></tr><tr><td>2025-03-31T00:00:00.000Z</td><td>Massachusetts Financial Services Co.</td><td>0.0197</td><td>24867788</td><td>2167476493</td><td>-0.016900001</td><td>COP</td></tr><tr><td>2025-03-31T00:00:00.000Z</td><td>Vanguard Group Inc</td><td>0.09060001</td><td>141230279</td><td>6318642919</td><td>0.0172</td><td>USB</td></tr><tr><td>2025-03-31T00:00:00.000Z</td><td>Blackrock Inc.</td><td>0.0797</td><td>124237308</td><td>5558377368</td><td>0.0061000003</td><td>USB</td></tr><tr><td>2025-03-31T00:00:00.000Z</td><td>State Street Corporation</td><td>0.0444</td><td>69175600</td><td>3094916460</td><td>0.0075</td><td>USB</td></tr><tr><td>2025-03-31T00:00:00.000Z</td><td>FMR, LLC</td><td>0.0433</td><td>67481308</td><td>3019113833</td><td>0.0053</td><td>USB</td></tr><tr><td>2025-03-31T00:00:00.000Z</td><td>MUFG Bank Ltd</td><td>0.028499998</td><td>44374155</td><td>1985299769</td><td>0.0</td><td>USB</td></tr><tr><td>2025-03-31T00:00:00.000Z</td><td>Geode Capital Management, LLC</td><td>0.0232</td><td>36175520</td><td>1618492825</td><td>0.0659</td><td>USB</td></tr><tr><td>2025-03-31T00:00:00.000Z</td><td>Viking Global Investors, L.P.</td><td>0.0224</td><td>34863502</td><td>1559793137</td><td>0.426</td><td>USB</td></tr><tr><td>2025-03-31T00:00:00.000Z</td><td>JPMORGAN CHASE & CO</td><td>0.0217</td><td>33797758</td><td>1512111749</td><td>-0.1739</td><td>USB</td></tr><tr><td>2025-03-31T00:00:00.000Z</td><td>Morgan Stanley</td><td>0.0175</td><td>27312475</td><td>1221960177</td><td>0.040999997</td><td>USB</td></tr><tr><td>2025-03-31T00:00:00.000Z</td><td>Aristotle Capital Management, LLC</td><td>0.0143</td><td>22246044</td><td>995288045</td><td>-0.026600001</td><td>USB</td></tr><tr><td>2025-03-31T00:00:00.000Z</td><td>Vanguard Group Inc</td><td>0.0987</td><td>44836356</td><td>4291287591</td><td>-0.0027</td><td>TGT</td></tr><tr><td>2025-03-31T00:00:00.000Z</td><td>State Street Corporation</td><td>0.0775</td><td>35207075</td><td>3369669116</td><td>-0.0064</td><td>TGT</td></tr><tr><td>2025-03-31T00:00:00.000Z</td><td>Blackrock Inc.</td><td>0.0771</td><td>35043629</td><td>3354025699</td><td>0.071100004</td><td>TGT</td></tr><tr><td>2025-03-31T00:00:00.000Z</td><td>Charles Schwab Investment Management, Inc.</td><td>0.035099998</td><td>15970414</td><td>1528528309</td><td>4.0783</td><td>TGT</td></tr><tr><td>2025-03-31T00:00:00.000Z</td><td>FMR, LLC</td><td>0.0278</td><td>12643713</td><td>1210129759</td><td>0.115100004</td><td>TGT</td></tr><tr><td>2025-03-31T00:00:00.000Z</td><td>Geode Capital Management, LLC</td><td>0.0224</td><td>10183735</td><td>974685267</td><td>0.030199999</td><td>TGT</td></tr><tr><td>2025-03-31T00:00:00.000Z</td><td>Wells Fargo & Company</td><td>0.0189</td><td>8586875</td><td>821849798</td><td>-0.028399998</td><td>TGT</td></tr><tr><td>2025-03-31T00:00:00.000Z</td><td>Franklin Resources, Inc.</td><td>0.0183</td><td>8333418</td><td>797591429</td><td>0.0306</td><td>TGT</td></tr><tr><td>2025-03-31T00:00:00.000Z</td><td>Bank of America Corporation</td><td>0.0166</td><td>7541143</td><td>721762789</td><td>-0.2345</td><td>TGT</td></tr><tr><td>2025-03-31T00:00:00.000Z</td><td>Morgan Stanley</td><td>0.0161</td><td>7315430</td><td>700159798</td><td>0.036199998</td><td>TGT</td></tr><tr><td>2025-03-31T00:00:00.000Z</td><td>Softbank Group Corporation</td><td>0.0752</td><td>85361065</td><td>21035355994</td><td>0.0</td><td>TMUS</td></tr><tr><td>2025-03-31T00:00:00.000Z</td><td>Vanguard Group Inc</td><td>0.0369</td><td>41945171</td><td>10336464338</td><td>-7.0E-4</td><td>TMUS</td></tr><tr><td>2025-03-31T00:00:00.000Z</td><td>Blackrock Inc.</td><td>0.033</td><td>37420751</td><td>9221520594</td><td>-0.0323</td><td>TMUS</td></tr><tr><td>2025-03-31T00:00:00.000Z</td><td>State Street Corporation</td><td>0.0195</td><td>22146576</td><td>5457536292</td><td>-0.0334</td><td>TMUS</td></tr><tr><td>2025-03-31T00:00:00.000Z</td><td>Price (T.Rowe) Associates Inc</td><td>0.014400001</td><td>16302609</td><td>4017419229</td><td>-0.13340001</td><td>TMUS</td></tr><tr><td>2025-03-31T00:00:00.000Z</td><td>FMR, LLC</td><td>0.0115</td><td>13083028</td><td>3224024342</td><td>0.2868</td><td>TMUS</td></tr><tr><td>2025-03-31T00:00:00.000Z</td><td>Morgan Stanley</td><td>0.0114</td><td>12968781</td><td>3195870683</td><td>-0.0365</td><td>TMUS</td></tr><tr><td>2025-03-31T00:00:00.000Z</td><td>Wellington Management Group, LLP</td><td>0.0113</td><td>12846939</td><td>3165845403</td><td>0.017</td><td>TMUS</td></tr><tr><td>2025-03-31T00:00:00.000Z</td><td>Geode Capital Management, LLC</td><td>0.0106</td><td>12053828</td><td>2970400651</td><td>0.0165</td><td>TMUS</td></tr><tr><td>2024-12-31T00:00:00.000Z</td><td>NORGES BANK</td><td>0.0072000003</td><td>8165601</td><td>2012232672</td><td>-0.4609</td><td>TMUS</td></tr><tr><td>2025-03-31T00:00:00.000Z</td><td>State Street Corporation</td><td>0.0935</td><td>13453769</td><td>6580238500</td><td>-0.0173</td><td>NOC</td></tr><tr><td>2025-03-31T00:00:00.000Z</td><td>Vanguard Group Inc</td><td>0.0922</td><td>13266301</td><td>6488547900</td><td>0.0464</td><td>NOC</td></tr><tr><td>2025-03-31T00:00:00.000Z</td><td>Blackrock Inc.</td><td>0.073</td><td>10508165</td><td>5139543565</td><td>-0.023599999</td><td>NOC</td></tr><tr><td>2025-03-31T00:00:00.000Z</td><td>Capital International Investors</td><td>0.0615</td><td>8853055</td><td>4330029254</td><td>0.074499995</td><td>NOC</td></tr><tr><td>2025-03-31T00:00:00.000Z</td><td>Wellington Management Group, LLP</td><td>0.0357</td><td>5139333</td><td>2513647801</td><td>0.234</td><td>NOC</td></tr><tr><td>2025-03-31T00:00:00.000Z</td><td>Morgan Stanley</td><td>0.028399998</td><td>4082612</td><td>1996805554</td><td>-0.0182</td><td>NOC</td></tr><tr><td>2025-03-31T00:00:00.000Z</td><td>Geode Capital Management, LLC</td><td>0.0215</td><td>3100539</td><td>1516473643</td><td>0.0249</td><td>NOC</td></tr><tr><td>2025-03-31T00:00:00.000Z</td><td>JPMORGAN CHASE & CO</td><td>0.0201</td><td>2887829</td><td>1412437181</td><td>-0.2306</td><td>NOC</td></tr><tr><td>2025-03-31T00:00:00.000Z</td><td>Bank of America Corporation</td><td>0.019199999</td><td>2768008</td><td>1353832729</td><td>-0.022</td><td>NOC</td></tr><tr><td>2025-03-31T00:00:00.000Z</td><td>Franklin Resources, Inc.</td><td>0.0182</td><td>2624381</td><td>1283584763</td><td>0.0359</td><td>NOC</td></tr><tr><td>2025-03-31T00:00:00.000Z</td><td>Vanguard Group Inc</td><td>0.096</td><td>37965619</td><td>6783696524</td><td>0.0066000004</td><td>PNC</td></tr><tr><td>2025-03-31T00:00:00.000Z</td><td>Blackrock Inc.</td><td>0.0849</td><td>33582626</td><td>6000543367</td><td>0.0201</td><td>PNC</td></tr><tr><td>2025-03-31T00:00:00.000Z</td><td>State Street Corporation</td><td>0.043899998</td><td>17375903</td><td>3104726220</td><td>-0.0164</td><td>PNC</td></tr><tr><td>2025-03-31T00:00:00.000Z</td><td>FMR, LLC</td><td>0.0376</td><td>14879339</td><td>2658640183</td><td>0.0126</td><td>PNC</td></tr><tr><td>2025-03-31T00:00:00.000Z</td><td>Capital International Investors</td><td>0.029000001</td><td>11473460</td><td>2050077748</td><td>-0.060300004</td><td>PNC</td></tr><tr><td>2025-03-31T00:00:00.000Z</td><td>Franklin Resources, Inc.</td><td>0.024400001</td><td>9637876</td><td>1722095613</td><td>-0.1105</td><td>PNC</td></tr><tr><td>2025-03-31T00:00:00.000Z</td><td>Massachusetts Financial Services Co.</td><td>0.024</td><td>9502467</td><td>1697900733</td><td>0.2606</td><td>PNC</td></tr><tr><td>2025-03-31T00:00:00.000Z</td><td>Bank of America Corporation</td><td>0.0227</td><td>8983899</td><td>1605243007</td><td>0.0713</td><td>PNC</td></tr><tr><td>2025-03-31T00:00:00.000Z</td><td>Geode Capital Management, LLC</td><td>0.022</td><td>8683967</td><td>1551651159</td><td>0.0369</td><td>PNC</td></tr><tr><td>2025-03-31T00:00:00.000Z</td><td>JPMORGAN CHASE & CO</td><td>0.020499999</td><td>8095986</td><td>1446590719</td><td>-0.1271</td><td>PNC</td></tr><tr><td>2025-03-31T00:00:00.000Z</td><td>Vanguard Group Inc</td><td>0.090100005</td><td>26387819</td><td>6560803566</td><td>0.0023</td><td>ITW</td></tr><tr><td>2025-03-31T00:00:00.000Z</td><td>Briar Hall Management LLC</td><td>0.088199995</td><td>25838730</td><td>6424283566</td><td>-8.0E-4</td><td>ITW</td></tr><tr><td>2025-03-31T00:00:00.000Z</td><td>State Farm Mutual Automobile Insurance Co</td><td>0.0718</td><td>21029900</td><td>5228664139</td><td>0.0</td><td>ITW</td></tr><tr><td>2025-03-31T00:00:00.000Z</td><td>Blackrock Inc.</td><td>0.0716</td><td>20989563</td><td>5218635151</td><td>0.0045</td><td>ITW</td></tr><tr><td>2025-03-31T00:00:00.000Z</td><td>State Street Corporation</td><td>0.0422</td><td>12367391</td><td>3074904484</td><td>-0.0221</td><td>ITW</td></tr><tr><td>2025-03-31T00:00:00.000Z</td><td>Northern Trust Corporation</td><td>0.041500002</td><td>12153970</td><td>3021841620</td><td>-0.1107</td><td>ITW</td></tr><tr><td>2025-03-31T00:00:00.000Z</td><td>Wells Fargo & Company</td><td>0.0238</td><td>6978388</td><td>1735036642</td><td>-0.0195</td><td>ITW</td></tr><tr><td>2025-03-31T00:00:00.000Z</td><td>Geode Capital Management, LLC</td><td>0.0227</td><td>6642550</td><td>1651537238</td><td>0.0392</td><td>ITW</td></tr><tr><td>2025-03-31T00:00:00.000Z</td><td>Morgan Stanley</td><td>0.0165</td><td>4843741</td><td>1204299348</td><td>0.0752</td><td>ITW</td></tr><tr><td>2025-03-31T00:00:00.000Z</td><td>Capital Research Global Investors</td><td>0.0145000005</td><td>4237687</td><td>1053616139</td><td>0.0255</td><td>ITW</td></tr><tr><td>2025-03-31T00:00:00.000Z</td><td>Vanguard Group Inc</td><td>0.0936</td><td>175808697</td><td>5673346732</td><td>0.0019</td><td>CSX</td></tr><tr><td>2025-03-31T00:00:00.000Z</td><td>Blackrock Inc.</td><td>0.0738</td><td>138677041</td><td>4475108176</td><td>-0.09020001</td><td>CSX</td></tr><tr><td>2025-03-31T00:00:00.000Z</td><td>State Street Corporation</td><td>0.0465</td><td>87263516</td><td>2815993701</td><td>0.0479</td><td>CSX</td></tr><tr><td>2025-03-31T00:00:00.000Z</td><td>JPMORGAN CHASE & CO</td><td>0.040599998</td><td>76298761</td><td>2462161052</td><td>-0.288</td><td>CSX</td></tr><tr><td>2025-03-31T00:00:00.000Z</td><td>Geode Capital Management, LLC</td><td>0.0228</td><td>42887311</td><td>1383973545</td><td>0.0301</td><td>CSX</td></tr><tr><td>2025-03-31T00:00:00.000Z</td><td>Morgan Stanley</td><td>0.0167</td><td>31373147</td><td>1012411468</td><td>0.1355</td><td>CSX</td></tr><tr><td>2025-03-31T00:00:00.000Z</td><td>Bank Of New York Mellon Corporation</td><td>0.0150999995</td><td>28383830</td><td>915946207</td><td>0.2156</td><td>CSX</td></tr><tr><td>2025-03-31T00:00:00.000Z</td><td>Price (T.Rowe) Associates Inc</td><td>0.0136</td><td>25473958</td><td>822044636</td><td>-0.4921</td><td>CSX</td></tr><tr><td>2025-03-31T00:00:00.000Z</td><td>Fisher Asset Management, LLC</td><td>0.0134000005</td><td>25083897</td><td>809457367</td><td>0.0050999997</td><td>CSX</td></tr><tr><td>2025-03-31T00:00:00.000Z</td><td>Lazard Asset Management LLC</td><td>0.012999999</td><td>24417268</td><td>787945249</td><td>0.1559</td><td>CSX</td></tr><tr><td>2025-03-31T00:00:00.000Z</td><td>Vanguard Group Inc</td><td>0.0923</td><td>52940356</td><td>9427089580</td><td>0.0136</td><td>ICE</td></tr><tr><td>2025-03-31T00:00:00.000Z</td><td>Blackrock Inc.</td><td>0.087799996</td><td>50376176</td><td>8970486029</td><td>0.0163</td><td>ICE</td></tr><tr><td>2025-03-31T00:00:00.000Z</td><td>State Street Corporation</td><td>0.043</td><td>24682519</td><td>4395216339</td><td>0.011</td><td>ICE</td></tr><tr><td>2025-03-31T00:00:00.000Z</td><td>Morgan Stanley</td><td>0.03</td><td>17219424</td><td>3066262957</td><td>-0.0019</td><td>ICE</td></tr><tr><td>2025-03-31T00:00:00.000Z</td><td>Geode Capital Management, LLC</td><td>0.0214</td><td>12292193</td><td>2188870897</td><td>0.0344</td><td>ICE</td></tr><tr><td>2025-03-31T00:00:00.000Z</td><td>Bank of America Corporation</td><td>0.021300001</td><td>12244721</td><td>2180417558</td><td>0.12060001</td><td>ICE</td></tr><tr><td>2025-03-31T00:00:00.000Z</td><td>Harris Associates L.P.</td><td>0.0199</td><td>11431282</td><td>2035568469</td><td>-0.1475</td><td>ICE</td></tr><tr><td>2025-03-31T00:00:00.000Z</td><td>Royal Bank of Canada</td><td>0.0155</td><td>8865536</td><td>1578686060</td><td>-0.027999999</td><td>ICE</td></tr><tr><td>2024-12-31T00:00:00.000Z</td><td>NORGES BANK</td><td>0.0139999995</td><td>8028036</td><td>1429552429</td><td>0.1164</td><td>ICE</td></tr><tr><td>2025-03-31T00:00:00.000Z</td><td>FMR, LLC</td><td>0.0138</td><td>7923448</td><td>1410928443</td><td>0.035099998</td><td>ICE</td></tr><tr><td>2025-03-31T00:00:00.000Z</td><td>Vanguard Group Inc</td><td>0.092</td><td>45321445</td><td>10449539077</td><td>0.012999999</td><td>MMC</td></tr><tr><td>2025-03-31T00:00:00.000Z</td><td>Blackrock Inc.</td><td>0.082399994</td><td>40601219</td><td>9361220157</td><td>-0.024500001</td><td>MMC</td></tr><tr><td>2025-03-31T00:00:00.000Z</td><td>FMR, LLC</td><td>0.045</td><td>22151590</td><td>5107381402</td><td>0.0432</td><td>MMC</td></tr><tr><td>2025-03-31T00:00:00.000Z</td><td>State Street Corporation</td><td>0.0436</td><td>21490479</td><td>4954952343</td><td>0.0113</td><td>MMC</td></tr><tr><td>2025-03-31T00:00:00.000Z</td><td>Capital International Investors</td><td>0.037100002</td><td>18274214</td><td>4213394195</td><td>0.0017</td><td>MMC</td></tr><tr><td>2025-03-31T00:00:00.000Z</td><td>Capital World Investors</td><td>0.0358</td><td>17651003</td><td>4069703549</td><td>0.0070999996</td><td>MMC</td></tr><tr><td>2025-03-31T00:00:00.000Z</td><td>Wellington Management Group, LLP</td><td>0.025999999</td><td>12814788</td><td>2954641626</td><td>0.5422</td><td>MMC</td></tr><tr><td>2025-03-31T00:00:00.000Z</td><td>Geode Capital Management, LLC</td><td>0.0253</td><td>12487735</td><td>2879234650</td><td>0.0363</td><td>MMC</td></tr><tr><td>2025-03-31T00:00:00.000Z</td><td>Massachusetts Financial Services Co.</td><td>0.020499999</td><td>10097141</td><td>2328047339</td><td>-0.0241</td><td>MMC</td></tr><tr><td>2025-03-31T00:00:00.000Z</td><td>Price (T.Rowe) Associates Inc</td><td>0.0173</td><td>8527241</td><td>1966083341</td><td>-0.16</td><td>MMC</td></tr><tr><td>2025-03-31T00:00:00.000Z</td><td>Vanguard Group Inc</td><td>0.088</td><td>9407891</td><td>4611748283</td><td>0.013099999</td><td>REGN</td></tr><tr><td>2025-03-31T00:00:00.000Z</td><td>Blackrock Inc.</td><td>0.083500005</td><td>8925880</td><td>4375466484</td><td>0.0222</td><td>REGN</td></tr><tr><td>2025-03-31T00:00:00.000Z</td><td>FMR, LLC</td><td>0.071</td><td>7598584</td><td>3724825969</td><td>-0.0733</td><td>REGN</td></tr><tr><td>2025-03-31T00:00:00.000Z</td><td>JPMORGAN CHASE & CO</td><td>0.0529</td><td>5658197</td><td>2773648238</td><td>-0.1985</td><td>REGN</td></tr><tr><td>2025-03-31T00:00:00.000Z</td><td>State Street Corporation</td><td>0.0448</td><td>4789659</td><td>2347890900</td><td>-0.0088</td><td>REGN</td></tr><tr><td>2025-03-31T00:00:00.000Z</td><td>Capital International Investors</td><td>0.0373</td><td>3989132</td><td>1955472555</td><td>-0.1579</td><td>REGN</td></tr><tr><td>2025-03-31T00:00:00.000Z</td><td>Geode Capital Management, LLC</td><td>0.0231</td><td>2469585</td><td>1210590597</td><td>0.0173</td><td>REGN</td></tr><tr><td>2025-03-31T00:00:00.000Z</td><td>Dodge & Cox Inc</td><td>0.0217</td><td>2324085</td><td>1139266495</td><td>0.0011999999</td><td>REGN</td></tr><tr><td>2025-03-31T00:00:00.000Z</td><td>Franklin Resources, Inc.</td><td>0.021300001</td><td>2276675</td><td>1116026112</td><td>0.113199994</td><td>REGN</td></tr><tr><td>2025-03-31T00:00:00.000Z</td><td>Price (T.Rowe) Associates Inc</td><td>0.020299999</td><td>2175026</td><td>1066197771</td><td>0.043</td><td>REGN</td></tr><tr><td>2025-03-31T00:00:00.000Z</td><td>Vanguard Group Inc</td><td>0.0947</td><td>104210177</td><td>9210095157</td><td>0.0138</td><td>SO</td></tr><tr><td>2025-03-31T00:00:00.000Z</td><td>Blackrock Inc.</td><td>0.0767</td><td>84350869</td><td>7454929570</td><td>0.0073</td><td>SO</td></tr><tr><td>2025-03-31T00:00:00.000Z</td><td>JPMORGAN CHASE & CO</td><td>0.057800002</td><td>63584936</td><td>5619636469</td><td>0.13939999</td><td>SO</td></tr><tr><td>2025-03-31T00:00:00.000Z</td><td>State Street Corporation</td><td>0.0531</td><td>58398523</td><td>5161261302</td><td>0.012999999</td><td>SO</td></tr><tr><td>2025-03-31T00:00:00.000Z</td><td>FMR, LLC</td><td>0.026400002</td><td>29021953</td><td>2564960126</td><td>0.0286</td><td>SO</td></tr><tr><td>2025-03-31T00:00:00.000Z</td><td>Capital International Investors</td><td>0.0234</td><td>25771200</td><td>2277658585</td><td>-0.0541</td><td>SO</td></tr><tr><td>2025-03-31T00:00:00.000Z</td><td>Geode Capital Management, LLC</td><td>0.0234</td><td>25765347</td><td>2277141297</td><td>0.028499998</td><td>SO</td></tr><tr><td>2025-03-31T00:00:00.000Z</td><td>Massachusetts Financial Services Co.</td><td>0.019199999</td><td>21178566</td><td>1871761604</td><td>-0.033800002</td><td>SO</td></tr><tr><td>2025-03-31T00:00:00.000Z</td><td>Franklin Resources, Inc.</td><td>0.0136</td><td>14945715</td><td>1320902250</td><td>0.06</td><td>SO</td></tr><tr><td>2025-03-31T00:00:00.000Z</td><td>Price (T.Rowe) Associates Inc</td><td>0.0135</td><td>14866776</td><td>1313925622</td><td>-0.0636</td><td>SO</td></tr><tr><td>2025-03-31T00:00:00.000Z</td><td>Vanguard Group Inc</td><td>0.0959</td><td>74562000</td><td>8631297279</td><td>0.023</td><td>DUK</td></tr><tr><td>2025-03-31T00:00:00.000Z</td><td>Blackrock Inc.</td><td>0.081199996</td><td>63146260</td><td>7309811192</td><td>0.0094</td><td>DUK</td></tr><tr><td>2025-03-31T00:00:00.000Z</td><td>State Street Corporation</td><td>0.0521</td><td>40509850</td><td>4689420322</td><td>0.0201</td><td>DUK</td></tr><tr><td>2025-03-31T00:00:00.000Z</td><td>Geode Capital Management, LLC</td><td>0.023599999</td><td>18365446</td><td>2125984068</td><td>0.0275</td><td>DUK</td></tr><tr><td>2025-03-31T00:00:00.000Z</td><td>Massachusetts Financial Services Co.</td><td>0.0233</td><td>18107625</td><td>2096138708</td><td>5.0E-4</td><td>DUK</td></tr><tr><td>2025-03-31T00:00:00.000Z</td><td>Wellington Management Group, LLP</td><td>0.0183</td><td>14221646</td><td>1646297771</td><td>-0.1166</td><td>DUK</td></tr><tr><td>2025-03-31T00:00:00.000Z</td><td>FMR, LLC</td><td>0.0182</td><td>14177998</td><td>1641245078</td><td>0.2321</td><td>DUK</td></tr><tr><td>2025-03-31T00:00:00.000Z</td><td>Morgan Stanley</td><td>0.0148</td><td>11510256</td><td>1332427259</td><td>0.028800001</td><td>DUK</td></tr><tr><td>2025-03-31T00:00:00.000Z</td><td>GQG Partners LLC</td><td>0.013200001</td><td>10249508</td><td>1186483067</td><td>178.8002</td><td>DUK</td></tr><tr><td>2025-03-31T00:00:00.000Z</td><td>Royal Bank of Canada</td><td>0.0115</td><td>8921517</td><td>1032754826</td><td>0.049200002</td><td>DUK</td></tr><tr><td>2025-03-31T00:00:00.000Z</td><td>Vanguard Group Inc</td><td>0.0962</td><td>21414945</td><td>6024238125</td><td>-0.0033000002</td><td>APD</td></tr><tr><td>2025-03-31T00:00:00.000Z</td><td>Blackrock Inc.</td><td>0.077800006</td><td>17320571</td><td>4872449785</td><td>-0.0572</td><td>APD</td></tr><tr><td>2025-03-31T00:00:00.000Z</td><td>Capital Research Global Investors</td><td>0.061100002</td><td>13596747</td><td>3824900865</td><td>0.021300001</td><td>APD</td></tr><tr><td>2025-03-31T00:00:00.000Z</td><td>State Farm Mutual Automobile Insurance Co</td><td>0.0543</td><td>12091878</td><td>3401566170</td><td>-0.0119</td><td>APD</td></tr><tr><td>2025-03-31T00:00:00.000Z</td><td>State Street Corporation</td><td>0.0417</td><td>9272858</td><td>2608547661</td><td>-0.0533</td><td>APD</td></tr><tr><td>2025-03-31T00:00:00.000Z</td><td>Dodge & Cox Inc</td><td>0.0394</td><td>8759722</td><td>2464197374</td><td>0.3147</td><td>APD</td></tr><tr><td>2025-03-31T00:00:00.000Z</td><td>Capital International Investors</td><td>0.0277</td><td>6171502</td><td>1736105212</td><td>3.0995002</td><td>APD</td></tr><tr><td>2025-03-31T00:00:00.000Z</td><td>JPMORGAN CHASE & CO</td><td>0.0275</td><td>6123429</td><td>1722581797</td><td>-0.1495</td><td>APD</td></tr><tr><td>2025-03-31T00:00:00.000Z</td><td>Bank of America Corporation</td><td>0.024400001</td><td>5429570</td><td>1527392323</td><td>1.0E-4</td><td>APD</td></tr><tr><td>2025-03-31T00:00:00.000Z</td><td>Geode Capital Management, LLC</td><td>0.0229</td><td>5107294</td><td>1436732862</td><td>0.0356</td><td>APD</td></tr><tr><td>2025-03-31T00:00:00.000Z</td><td>Vanguard Group Inc</td><td>0.0916</td><td>19778451</td><td>7389229414</td><td>0.013300001</td><td>AON</td></tr><tr><td>2025-03-31T00:00:00.000Z</td><td>Blackrock Inc.</td><td>0.0699</td><td>15099285</td><td>5641092968</td><td>0.0231</td><td>AON</td></tr><tr><td>2025-03-31T00:00:00.000Z</td><td>Capital World Investors</td><td>0.055999998</td><td>12097577</td><td>4519654841</td><td>0.0</td><td>AON</td></tr><tr><td>2025-03-31T00:00:00.000Z</td><td>Massachusetts Financial Services Co.</td><td>0.045500003</td><td>9832327</td><td>3673357427</td><td>-0.15359999</td><td>AON</td></tr><tr><td>2025-03-31T00:00:00.000Z</td><td>State Street Corporation</td><td>0.0425</td><td>9173788</td><td>3427327252</td><td>0.0091</td><td>AON</td></tr><tr><td>2025-03-31T00:00:00.000Z</td><td>Morgan Stanley</td><td>0.0404</td><td>8726304</td><td>3260147227</td><td>0.040799998</td><td>AON</td></tr><tr><td>2025-03-31T00:00:00.000Z</td><td>JPMORGAN CHASE & CO</td><td>0.026199998</td><td>5656323</td><td>2113202307</td><td>0.056199998</td><td>AON</td></tr><tr><td>2025-03-31T00:00:00.000Z</td><td>Geode Capital Management, LLC</td><td>0.0251</td><td>5414557</td><td>2022878528</td><td>0.0939</td><td>AON</td></tr><tr><td>2025-03-31T00:00:00.000Z</td><td>HPS Investment Partners, LLC</td><td>0.0201</td><td>4339759</td><td>1621333988</td><td>0.0</td><td>AON</td></tr><tr><td>2025-03-31T00:00:00.000Z</td><td>Berkshire Hathaway, Inc</td><td>0.019</td><td>4100000</td><td>1531760025</td><td>0.0</td><td>AON</td></tr><tr><td>2025-03-31T00:00:00.000Z</td><td>Vanguard Group Inc</td><td>0.0959</td><td>37507725</td><td>12466254653</td><td>0.0078</td><td>ETN</td></tr><tr><td>2025-03-31T00:00:00.000Z</td><td>Blackrock Inc.</td><td>0.0762</td><td>29827992</td><td>9913780269</td><td>-0.0049</td><td>ETN</td></tr><tr><td>2025-03-31T00:00:00.000Z</td><td>JPMORGAN CHASE & CO</td><td>0.0561</td><td>21950239</td><td>7295490970</td><td>0.2298</td><td>ETN</td></tr><tr><td>2025-03-31T00:00:00.000Z</td><td>State Street Corporation</td><td>0.0427</td><td>16726264</td><td>5559224571</td><td>-0.0124</td><td>ETN</td></tr><tr><td>2025-03-31T00:00:00.000Z</td><td>Bank of America Corporation</td><td>0.033099998</td><td>12937298</td><td>4299904923</td><td>0.1349</td><td>ETN</td></tr><tr><td>2025-03-31T00:00:00.000Z</td><td>Morgan Stanley</td><td>0.0301</td><td>11777228</td><td>3914338269</td><td>0.0779</td><td>ETN</td></tr><tr><td>2025-03-31T00:00:00.000Z</td><td>FMR, LLC</td><td>0.0278</td><td>10888040</td><td>3618803308</td><td>-0.2847</td><td>ETN</td></tr><tr><td>2025-03-31T00:00:00.000Z</td><td>Geode Capital Management, LLC</td><td>0.0217</td><td>8495435</td><td>2823585170</td><td>0.036199998</td><td>ETN</td></tr><tr><td>2025-03-31T00:00:00.000Z</td><td>Massachusetts Financial Services Co.</td><td>0.0212</td><td>8309949</td><td>2761936118</td><td>-0.0798</td><td>ETN</td></tr><tr><td>2025-03-31T00:00:00.000Z</td><td>Nuveen, LLC</td><td>0.0138</td><td>5415998</td><td>1800088122</td><td>1.0</td><td>ETN</td></tr></tbody></table></div>"
      ]
     },
     "metadata": {
      "application/vnd.databricks.v1+output": {
       "addedWidgets": {},
       "aggData": [],
       "aggError": "",
       "aggOverflow": false,
       "aggSchema": [],
       "aggSeriesLimitReached": false,
       "aggType": "",
       "arguments": {},
       "columnCustomDisplayInfos": {},
       "data": [
        [
         "2025-03-31T00:00:00.000Z",
         "Vanguard Group Inc",
         0.0938,
         1400790809,
         286370238130,
         0.0036000002,
         "AAPL"
        ],
        [
         "2025-03-31T00:00:00.000Z",
         "Blackrock Inc.",
         0.0763,
         1140202870,
         233097022982,
         0.0149,
         "AAPL"
        ],
        [
         "2025-03-31T00:00:00.000Z",
         "State Street Corporation",
         0.0399,
         596025766,
         121848344124,
         9.0000004E-4,
         "AAPL"
        ],
        [
         "2025-03-31T00:00:00.000Z",
         "Geode Capital Management, LLC",
         0.0234,
         349807156,
         71512718330,
         0.028299998,
         "AAPL"
        ],
        [
         "2025-03-31T00:00:00.000Z",
         "FMR, LLC",
         0.022,
         328100180,
         67075059369,
         -0.0396,
         "AAPL"
        ],
        [
         "2025-03-31T00:00:00.000Z",
         "Berkshire Hathaway, Inc",
         0.0201,
         300000000,
         61330407714,
         0.0,
         "AAPL"
        ],
        [
         "2025-03-31T00:00:00.000Z",
         "Morgan Stanley",
         0.0162,
         241221800,
         49314104479,
         0.0124,
         "AAPL"
        ],
        [
         "2025-03-31T00:00:00.000Z",
         "Price (T.Rowe) Associates Inc",
         0.014400001,
         214703055,
         43892753002,
         -0.024600001,
         "AAPL"
        ],
        [
         "2025-03-31T00:00:00.000Z",
         "JPMORGAN CHASE & CO",
         0.013300001,
         198745598,
         40630495189,
         0.086,
         "AAPL"
        ],
        [
         "2024-12-31T00:00:00.000Z",
         "NORGES BANK",
         0.0125,
         187160162,
         38262030144,
         0.0542,
         "AAPL"
        ],
        [
         "2025-03-31T00:00:00.000Z",
         "Vanguard Group Inc",
         0.093,
         691386214,
         325718949149,
         0.0107,
         "MSFT"
        ],
        [
         "2025-03-31T00:00:00.000Z",
         "Blackrock Inc.",
         0.0785,
         583284931,
         274791355299,
         0.012200001,
         "MSFT"
        ],
        [
         "2025-03-31T00:00:00.000Z",
         "State Street Corporation",
         0.0398,
         296030244,
         139462803914,
         0.0031,
         "MSFT"
        ],
        [
         "2025-03-31T00:00:00.000Z",
         "FMR, LLC",
         0.026199998,
         194591253,
         91673882350,
         -0.0148,
         "MSFT"
        ],
        [
         "2025-03-31T00:00:00.000Z",
         "Geode Capital Management, LLC",
         0.023599999,
         175469697,
         82665526383,
         0.0437,
         "MSFT"
        ],
        [
         "2025-03-31T00:00:00.000Z",
         "JPMORGAN CHASE & CO",
         0.0191,
         142009968,
         66902313944,
         0.052399997,
         "MSFT"
        ],
        [
         "2025-03-31T00:00:00.000Z",
         "Price (T.Rowe) Associates Inc",
         0.0177,
         131514660,
         61957869546,
         -0.0269,
         "MSFT"
        ],
        [
         "2025-03-31T00:00:00.000Z",
         "Morgan Stanley",
         0.0167,
         123846555,
         58345348711,
         -0.013200001,
         "MSFT"
        ],
        [
         "2024-12-31T00:00:00.000Z",
         "NORGES BANK",
         0.014199999,
         105202984,
         49562176251,
         0.0838,
         "MSFT"
        ],
        [
         "2025-03-31T00:00:00.000Z",
         "Northern Trust Corporation",
         0.0111,
         82539834,
         38885339986,
         -0.0149,
         "MSFT"
        ],
        [
         "2025-03-31T00:00:00.000Z",
         "Vanguard Group Inc",
         0.0876,
         509826331,
         87557063450,
         0.028900001,
         "GOOGL"
        ],
        [
         "2025-03-31T00:00:00.000Z",
         "Blackrock Inc.",
         0.075500004,
         439591457,
         75494996536,
         0.020399999,
         "GOOGL"
        ],
        [
         "2025-03-31T00:00:00.000Z",
         "State Street Corporation",
         0.0388,
         225945895,
         38803721702,
         -2.9999999E-4,
         "GOOGL"
        ],
        [
         "2025-03-31T00:00:00.000Z",
         "FMR, LLC",
         0.038,
         221163347,
         37982371699,
         -0.1097,
         "GOOGL"
        ],
        [
         "2025-03-31T00:00:00.000Z",
         "Geode Capital Management, LLC",
         0.023599999,
         137390787,
         23595356150,
         0.041300002,
         "GOOGL"
        ],
        [
         "2024-12-31T00:00:00.000Z",
         "NORGES BANK",
         0.0221,
         128809703,
         22121649379,
         0.1984,
         "GOOGL"
        ],
        [
         "2025-03-31T00:00:00.000Z",
         "Morgan Stanley",
         0.0219,
         127287446,
         21860218486,
         0.02,
         "GOOGL"
        ],
        [
         "2025-03-31T00:00:00.000Z",
         "Price (T.Rowe) Associates Inc",
         0.0153,
         89134129,
         15307806038,
         -0.0964,
         "GOOGL"
        ],
        [
         "2025-03-31T00:00:00.000Z",
         "Bank of America Corporation",
         0.012200001,
         71240397,
         12234754427,
         0.0879,
         "GOOGL"
        ],
        [
         "2025-03-31T00:00:00.000Z",
         "Northern Trust Corporation",
         0.0117,
         68019033,
         11681520600,
         -0.023,
         "GOOGL"
        ],
        [
         "2025-03-31T00:00:00.000Z",
         "Vanguard Group Inc",
         0.0784,
         832274556,
         177023970053,
         0.0108,
         "AMZN"
        ],
        [
         "2025-03-31T00:00:00.000Z",
         "Blackrock Inc.",
         0.066300005,
         703411133,
         149614848184,
         0.0215,
         "AMZN"
        ],
        [
         "2025-03-31T00:00:00.000Z",
         "State Street Corporation",
         0.0348,
         368934077,
         78471911135,
         0.0112,
         "AMZN"
        ],
        [
         "2025-03-31T00:00:00.000Z",
         "FMR, LLC",
         0.032,
         339634992,
         72240024904,
         0.034,
         "AMZN"
        ],
        [
         "2025-03-31T00:00:00.000Z",
         "Geode Capital Management, LLC",
         0.0201,
         212995999,
         45304037083,
         0.0394,
         "AMZN"
        ],
        [
         "2025-03-31T00:00:00.000Z",
         "JPMORGAN CHASE & CO",
         0.0189,
         200228094,
         42588316392,
         0.0949,
         "AMZN"
        ],
        [
         "2025-03-31T00:00:00.000Z",
         "Price (T.Rowe) Associates Inc",
         0.0165,
         175482278,
         37324905948,
         -0.0401,
         "AMZN"
        ],
        [
         "2025-03-31T00:00:00.000Z",
         "Morgan Stanley",
         0.015700001,
         166516606,
         35417916433,
         -0.0038,
         "AMZN"
        ],
        [
         "2024-12-31T00:00:00.000Z",
         "NORGES BANK",
         0.0117,
         124283614,
         26435001051,
         0.0448,
         "AMZN"
        ],
        [
         "2025-03-31T00:00:00.000Z",
         "Northern Trust Corporation",
         0.0092,
         97379134,
         20712444921,
         0.0031,
         "AMZN"
        ],
        [
         "2025-03-31T00:00:00.000Z",
         "Vanguard Group Inc",
         0.089899994,
         2192979269,
         313401753886,
         0.0062,
         "NVDA"
        ],
        [
         "2025-03-31T00:00:00.000Z",
         "Blackrock Inc.",
         0.0779,
         1901848816,
         271795891091,
         0.0064,
         "NVDA"
        ],
        [
         "2025-03-31T00:00:00.000Z",
         "FMR, LLC",
         0.041100003,
         1001925185,
         143186538368,
         -0.0023999999,
         "NVDA"
        ],
        [
         "2025-03-31T00:00:00.000Z",
         "State Street Corporation",
         0.0397,
         968654005,
         138431707206,
         8.0E-4,
         "NVDA"
        ],
        [
         "2025-03-31T00:00:00.000Z",
         "Geode Capital Management, LLC",
         0.0234,
         570691561,
         81558334214,
         0.0273,
         "NVDA"
        ],
        [
         "2025-03-31T00:00:00.000Z",
         "JPMORGAN CHASE & CO",
         0.0173,
         421100703,
         60180094152,
         0.0176,
         "NVDA"
        ],
        [
         "2025-03-31T00:00:00.000Z",
         "Price (T.Rowe) Associates Inc",
         0.0154,
         374986428,
         53589838207,
         -0.0884,
         "NVDA"
        ],
        [
         "2025-03-31T00:00:00.000Z",
         "Morgan Stanley",
         0.014099999,
         344184079,
         49187831158,
         -0.015700001,
         "NVDA"
        ],
        [
         "2024-12-31T00:00:00.000Z",
         "NORGES BANK",
         0.013300001,
         324041286,
         46309196260,
         0.1108,
         "NVDA"
        ],
        [
         "2025-03-31T00:00:00.000Z",
         "Northern Trust Corporation",
         0.0108,
         263027905,
         37589688107,
         -0.0128999995,
         "NVDA"
        ],
        [
         "2025-03-31T00:00:00.000Z",
         "Vanguard Group Inc",
         0.088,
         191058533,
         134082007450,
         -7.0E-4,
         "META"
        ],
        [
         "2025-03-31T00:00:00.000Z",
         "Blackrock Inc.",
         0.0766,
         166370320,
         116756190553,
         0.0105,
         "META"
        ],
        [
         "2025-03-31T00:00:00.000Z",
         "FMR, LLC",
         0.0623,
         135174317,
         94863304425,
         -0.007900001,
         "META"
        ],
        [
         "2025-03-31T00:00:00.000Z",
         "State Street Corporation",
         0.039300002,
         85275239,
         59844881311,
         -0.0099,
         "META"
        ],
        [
         "2025-03-31T00:00:00.000Z",
         "JPMORGAN CHASE & CO",
         0.026800001,
         58198195,
         40842618715,
         0.1259,
         "META"
        ],
        [
         "2025-03-31T00:00:00.000Z",
         "Geode Capital Management, LLC",
         0.0234,
         50892441,
         35715550340,
         0.0348,
         "META"
        ],
        [
         "2025-03-31T00:00:00.000Z",
         "Price (T.Rowe) Associates Inc",
         0.018,
         39132171,
         27462369574,
         -0.0753,
         "META"
        ],
        [
         "2025-03-31T00:00:00.000Z",
         "Capital World Investors",
         0.0175,
         38081486,
         26725014629,
         -0.0555,
         "META"
        ],
        [
         "2025-03-31T00:00:00.000Z",
         "Morgan Stanley",
         0.0175,
         37891503,
         26591687415,
         0.048899997,
         "META"
        ],
        [
         "2025-03-31T00:00:00.000Z",
         "Capital Research Global Investors",
         0.015800001,
         34326729,
         24089982589,
         -0.0699,
         "META"
        ],
        [
         "2025-03-31T00:00:00.000Z",
         "Vanguard Group Inc",
         0.0767,
         246887705,
         73849049114,
         0.0152,
         "TSLA"
        ],
        [
         "2025-03-31T00:00:00.000Z",
         "Blackrock Inc.",
         0.0639,
         205668592,
         61519588234,
         0.0172,
         "TSLA"
        ],
        [
         "2025-03-31T00:00:00.000Z",
         "State Street Corporation",
         0.0353,
         113726971,
         34018011010,
         0.0135,
         "TSLA"
        ],
        [
         "2025-03-31T00:00:00.000Z",
         "Geode Capital Management, LLC",
         0.0197,
         63498689,
         18993727543,
         0.040799998,
         "TSLA"
        ],
        [
         "2025-03-31T00:00:00.000Z",
         "Morgan Stanley",
         0.014099999,
         45379105,
         13573797666,
         0.0092,
         "TSLA"
        ],
        [
         "2025-03-31T00:00:00.000Z",
         "Capital World Investors",
         0.0125,
         40264180,
         12043821324,
         -0.0232,
         "TSLA"
        ],
        [
         "2025-03-31T00:00:00.000Z",
         "JPMORGAN CHASE & CO",
         0.012200001,
         39415548,
         11789978525,
         0.0952,
         "TSLA"
        ],
        [
         "2024-12-31T00:00:00.000Z",
         "NORGES BANK",
         0.0111,
         35707824,
         10680924140,
         0.1582,
         "TSLA"
        ],
        [
         "2025-03-31T00:00:00.000Z",
         "FMR, LLC",
         0.0094,
         30213359,
         9037419796,
         -0.1283,
         "TSLA"
        ],
        [
         "2025-03-31T00:00:00.000Z",
         "Northern Trust Corporation",
         0.0086,
         27587612,
         8252006366,
         -0.0347,
         "TSLA"
        ],
        [
         "2025-03-31T00:00:00.000Z",
         "Vanguard Group Inc",
         0.112399995,
         150607079,
         74452610422,
         0.0173,
         "BRK-B"
        ],
        [
         "2025-03-31T00:00:00.000Z",
         "Blackrock Inc.",
         0.0833,
         111559788,
         55149581878,
         0.0105,
         "BRK-B"
        ],
        [
         "2025-03-31T00:00:00.000Z",
         "State Street Corporation",
         0.0539,
         72228236,
         35706028907,
         0.007900001,
         "BRK-B"
        ],
        [
         "2025-03-31T00:00:00.000Z",
         "Geode Capital Management, LLC",
         0.0294,
         39367395,
         19461271958,
         0.037,
         "BRK-B"
        ],
        [
         "2025-03-31T00:00:00.000Z",
         "Morgan Stanley",
         0.0207,
         27791293,
         13738625864,
         -0.0095,
         "BRK-B"
        ],
        [
         "2025-03-31T00:00:00.000Z",
         "Gates Foundation Trust",
         0.0128,
         17172435,
         8489193347,
         -0.1263,
         "BRK-B"
        ],
        [
         "2025-03-31T00:00:00.000Z",
         "JPMORGAN CHASE & CO",
         0.0121,
         16203568,
         8010233939,
         0.115200005,
         "BRK-B"
        ],
        [
         "2025-03-31T00:00:00.000Z",
         "Northern Trust Corporation",
         0.0121,
         16198444,
         8007700890,
         -0.0163,
         "BRK-B"
        ],
        [
         "2025-03-31T00:00:00.000Z",
         "FMR, LLC",
         0.0104,
         13926009,
         6884322634,
         0.4138,
         "BRK-B"
        ],
        [
         "2025-03-31T00:00:00.000Z",
         "Bank Of New York Mellon Corporation",
         0.0091,
         12183872,
         6023097197,
         -0.033,
         "BRK-B"
        ],
        [
         "2025-03-31T00:00:00.000Z",
         "Vanguard Group Inc",
         0.1,
         90729585,
         27212069673,
         0.0656,
         "UNH"
        ],
        [
         "2025-03-31T00:00:00.000Z",
         "Blackrock Inc.",
         0.08189999,
         74290219,
         22281493026,
         0.031600002,
         "UNH"
        ],
        [
         "2025-03-31T00:00:00.000Z",
         "State Street Corporation",
         0.05,
         45338514,
         13598153258,
         -0.0056,
         "UNH"
        ],
        [
         "2025-03-31T00:00:00.000Z",
         "JPMORGAN CHASE & CO",
         0.029000001,
         26293837,
         7886178741,
         0.0762,
         "UNH"
        ],
        [
         "2025-03-31T00:00:00.000Z",
         "Wellington Management Group, LLP",
         0.028499998,
         25847940,
         7752443088,
         0.1065,
         "UNH"
        ],
        [
         "2025-03-31T00:00:00.000Z",
         "FMR, LLC",
         0.026700001,
         24217466,
         7263423194,
         -0.19600001,
         "UNH"
        ],
        [
         "2025-03-31T00:00:00.000Z",
         "Capital World Investors",
         0.0251,
         22779755,
         6832217740,
         0.0587,
         "UNH"
        ],
        [
         "2025-03-31T00:00:00.000Z",
         "Price (T.Rowe) Associates Inc",
         0.023599999,
         21393161,
         6416343551,
         -4.0E-4,
         "UNH"
        ],
        [
         "2025-03-31T00:00:00.000Z",
         "Morgan Stanley",
         0.023599999,
         21364718,
         6407812785,
         -0.0015,
         "UNH"
        ],
        [
         "2025-03-31T00:00:00.000Z",
         "Capital Research Global Investors",
         0.023,
         20827122,
         6246574311,
         0.1592,
         "UNH"
        ],
        [
         "2025-03-31T00:00:00.000Z",
         "Vanguard Group Inc",
         0.0941,
         161082431,
         59512707382,
         0.0105,
         "V"
        ],
        [
         "2025-03-31T00:00:00.000Z",
         "Blackrock Inc.",
         0.0844,
         144327908,
         53322665312,
         0.0509,
         "V"
        ],
        [
         "2025-03-31T00:00:00.000Z",
         "State Street Corporation",
         0.0484,
         82751888,
         30573097669,
         0.0185,
         "V"
        ],
        [
         "2025-03-31T00:00:00.000Z",
         "FMR, LLC",
         0.0334,
         57172638,
         21122716204,
         0.0306,
         "V"
        ],
        [
         "2025-03-31T00:00:00.000Z",
         "Morgan Stanley",
         0.0295,
         50513965,
         18662636260,
         -0.0022,
         "V"
        ],
        [
         "2025-03-31T00:00:00.000Z",
         "Price (T.Rowe) Associates Inc",
         0.0249,
         42685931,
         15770530064,
         -0.0062,
         "V"
        ],
        [
         "2025-03-31T00:00:00.000Z",
         "Geode Capital Management, LLC",
         0.024600001,
         42029171,
         15527886807,
         0.0417,
         "V"
        ],
        [
         "2025-03-31T00:00:00.000Z",
         "JPMORGAN CHASE & CO",
         0.0156,
         26631682,
         9839207715,
         1.1087999,
         "V"
        ],
        [
         "2025-03-31T00:00:00.000Z",
         "Bank of America Corporation",
         0.0145000005,
         24788936,
         9158396017,
         0.0714,
         "V"
        ],
        [
         "2025-03-31T00:00:00.000Z",
         "Capital World Investors",
         0.0137,
         23402957,
         8646339164,
         0.0054,
         "V"
        ],
        [
         "2025-03-31T00:00:00.000Z",
         "Vanguard Group Inc",
         0.097200006,
         233962679,
         36340252401,
         0.005,
         "JNJ"
        ],
        [
         "2025-03-31T00:00:00.000Z",
         "Blackrock Inc.",
         0.0829,
         199366959,
         30966672298,
         -0.0098,
         "JNJ"
        ],
        [
         "2025-03-31T00:00:00.000Z",
         "State Street Corporation",
         0.0556,
         133789785,
         20780897946,
         -0.005,
         "JNJ"
        ],
        [
         "2025-03-31T00:00:00.000Z",
         "Geode Capital Management, LLC",
         0.0247,
         59383800,
         9223788553,
         0.0298,
         "JNJ"
        ],
        [
         "2025-03-31T00:00:00.000Z",
         "JPMORGAN CHASE & CO",
         0.0225,
         54061842,
         8397155443,
         0.3939,
         "JNJ"
        ],
        [
         "2025-03-31T00:00:00.000Z",
         "Morgan Stanley",
         0.0191,
         46030689,
         7149716628,
         0.048299998,
         "JNJ"
        ],
        [
         "2025-03-31T00:00:00.000Z",
         "State Farm Mutual Automobile Insurance Co",
         0.013200001,
         31675492,
         4919995698,
         0.0,
         "JNJ"
        ],
        [
         "2025-03-31T00:00:00.000Z",
         "Northern Trust Corporation",
         0.0128999995,
         30943820,
         4806348747,
         0.0042,
         "JNJ"
        ],
        [
         "2024-12-31T00:00:00.000Z",
         "NORGES BANK",
         0.0126,
         30355672,
         4714994660,
         0.0434,
         "JNJ"
        ],
        [
         "2025-03-31T00:00:00.000Z",
         "Bank of America Corporation",
         0.0114,
         27510501,
         4273068483,
         0.2206,
         "JNJ"
        ],
        [
         "2025-03-31T00:00:00.000Z",
         "Vanguard Group Inc",
         0.0998,
         429947644,
         44454435208,
         -0.0033000002,
         "XOM"
        ],
        [
         "2025-03-31T00:00:00.000Z",
         "Blackrock Inc.",
         0.070199996,
         302609205,
         31288277735,
         -0.013099999,
         "XOM"
        ],
        [
         "2025-03-31T00:00:00.000Z",
         "State Street Corporation",
         0.0498,
         214786681,
         22207868160,
         -0.0318,
         "XOM"
        ],
        [
         "2025-03-31T00:00:00.000Z",
         "FMR, LLC",
         0.032899998,
         141796816,
         14661081314,
         -0.0295,
         "XOM"
        ],
        [
         "2025-03-31T00:00:00.000Z",
         "Geode Capital Management, LLC",
         0.0223,
         95964964,
         9922297130,
         0.0286,
         "XOM"
        ],
        [
         "2025-03-31T00:00:00.000Z",
         "JPMORGAN CHASE & CO",
         0.0221,
         95412727,
         9865198587,
         0.0521,
         "XOM"
        ],
        [
         "2025-03-31T00:00:00.000Z",
         "Morgan Stanley",
         0.0173,
         74344788,
         7686879105,
         0.053600002,
         "XOM"
        ],
        [
         "2025-03-31T00:00:00.000Z",
         "Bank of America Corporation",
         0.0172,
         74032673,
         7654607976,
         0.1299,
         "XOM"
        ],
        [
         "2024-12-31T00:00:00.000Z",
         "NORGES BANK",
         0.015,
         64485795,
         6667508557,
         0.003,
         "XOM"
        ],
        [
         "2025-03-31T00:00:00.000Z",
         "Bank Of New York Mellon Corporation",
         0.0105,
         45323453,
         4686218270,
         0.0305,
         "XOM"
        ],
        [
         "2025-03-31T00:00:00.000Z",
         "Vanguard Group Inc",
         0.09810001,
         230022172,
         37843248720,
         0.001,
         "PG"
        ],
        [
         "2025-03-31T00:00:00.000Z",
         "Blackrock Inc.",
         0.076,
         178152589,
         29309664703,
         0.0112,
         "PG"
        ],
        [
         "2025-03-31T00:00:00.000Z",
         "State Street Corporation",
         0.0427,
         100185368,
         16482497171,
         -0.008,
         "PG"
        ],
        [
         "2025-03-31T00:00:00.000Z",
         "Geode Capital Management, LLC",
         0.0249,
         58355220,
         9600601043,
         0.033299997,
         "PG"
        ],
        [
         "2025-03-31T00:00:00.000Z",
         "Morgan Stanley",
         0.0218,
         51222550,
         8427134144,
         -0.002,
         "PG"
        ],
        [
         "2025-03-31T00:00:00.000Z",
         "Bank of America Corporation",
         0.0147,
         34459100,
         5669211279,
         0.1306,
         "PG"
        ],
        [
         "2024-12-31T00:00:00.000Z",
         "NORGES BANK",
         0.013300001,
         31282211,
         5146549487,
         0.0274,
         "PG"
        ],
        [
         "2025-03-31T00:00:00.000Z",
         "Northern Trust Corporation",
         0.0126,
         29644000,
         4877031006,
         0.0085,
         "PG"
        ],
        [
         "2025-03-31T00:00:00.000Z",
         "JPMORGAN CHASE & CO",
         0.0113,
         26435143,
         4349109839,
         0.093,
         "PG"
        ],
        [
         "2025-03-31T00:00:00.000Z",
         "FMR, LLC",
         0.011,
         25859572,
         4254416895,
         0.063200004,
         "PG"
        ],
        [
         "2025-03-31T00:00:00.000Z",
         "Mastercard Foundation Asset Management Corp",
         0.088199995,
         79539945,
         46812437482,
         -0.0615,
         "MA"
        ],
        [
         "2025-03-31T00:00:00.000Z",
         "Vanguard Group Inc",
         0.086,
         77544675,
         45638141320,
         0.0047,
         "MA"
        ],
        [
         "2025-03-31T00:00:00.000Z",
         "Blackrock Inc.",
         0.0771,
         69533652,
         40923334020,
         -0.0128,
         "MA"
        ],
        [
         "2025-03-31T00:00:00.000Z",
         "State Street Corporation",
         0.04,
         36063782,
         21224977465,
         2.0E-4,
         "MA"
        ],
        [
         "2025-03-31T00:00:00.000Z",
         "JPMORGAN CHASE & CO",
         0.0344,
         31014673,
         18253374965,
         0.0255,
         "MA"
        ],
        [
         "2025-03-31T00:00:00.000Z",
         "FMR, LLC",
         0.0253,
         22800827,
         13419198221,
         0.0239,
         "MA"
        ],
        [
         "2025-03-31T00:00:00.000Z",
         "Price (T.Rowe) Associates Inc",
         0.0223,
         20096979,
         11827875579,
         0.0473,
         "MA"
        ],
        [
         "2025-03-31T00:00:00.000Z",
         "Geode Capital Management, LLC",
         0.021300001,
         19217711,
         11310391209,
         0.03,
         "MA"
        ],
        [
         "2025-03-31T00:00:00.000Z",
         "Capital International Investors",
         0.019299999,
         17353602,
         10213288539,
         -0.1445,
         "MA"
        ],
        [
         "2025-03-31T00:00:00.000Z",
         "Morgan Stanley",
         0.0179,
         16118105,
         9486149162,
         2.0E-4,
         "MA"
        ],
        [
         "2025-03-31T00:00:00.000Z",
         "PNC Financial Services Group, Inc.",
         0.1069,
         101305650,
         78032705004,
         0.9746,
         "LLY"
        ],
        [
         "2025-03-31T00:00:00.000Z",
         "Lilly Endowment, Inc",
         0.1013,
         96016978,
         73958999519,
         -0.009,
         "LLY"
        ],
        [
         "2025-03-31T00:00:00.000Z",
         "Vanguard Group Inc",
         0.0836,
         79224392,
         61024173973,
         0.067,
         "LLY"
        ],
        [
         "2025-03-31T00:00:00.000Z",
         "Blackrock Inc.",
         0.069299996,
         65691973,
         50600557325,
         0.0070999996,
         "LLY"
        ],
        [
         "2025-03-31T00:00:00.000Z",
         "State Street Corporation",
         0.0363,
         34437950,
         26526520419,
         0.0036000002,
         "LLY"
        ],
        [
         "2025-03-31T00:00:00.000Z",
         "FMR, LLC",
         0.03,
         28468668,
         21928561456,
         -0.0677,
         "LLY"
        ],
        [
         "2025-03-31T00:00:00.000Z",
         "Price (T.Rowe) Associates Inc",
         0.0202,
         19133284,
         14737795040,
         -0.083000004,
         "LLY"
        ],
        [
         "2025-03-31T00:00:00.000Z",
         "Geode Capital Management, LLC",
         0.0195,
         18526249,
         14270214179,
         0.065799996,
         "LLY"
        ],
        [
         "2025-03-31T00:00:00.000Z",
         "Capital World Investors",
         0.0194,
         18382573,
         14159544863,
         -0.0598,
         "LLY"
        ],
        [
         "2025-03-31T00:00:00.000Z",
         "Capital Research Global Investors",
         0.0166,
         15747463,
         12129798632,
         0.4639,
         "LLY"
        ],
        [
         "2025-03-31T00:00:00.000Z",
         "Vanguard Group Inc",
         0.096999995,
         96484199,
         35908042745,
         0.0075,
         "HD"
        ],
        [
         "2025-03-31T00:00:00.000Z",
         "Blackrock Inc.",
         0.0752,
         74831780,
         27849770043,
         0.0218,
         "HD"
        ],
        [
         "2025-03-31T00:00:00.000Z",
         "State Street Corporation",
         0.045900002,
         45715484,
         17013703493,
         0.004,
         "HD"
        ],
        [
         "2025-03-31T00:00:00.000Z",
         "Geode Capital Management, LLC",
         0.0228,
         22651135,
         8429959850,
         0.031600002,
         "HD"
        ],
        [
         "2025-03-31T00:00:00.000Z",
         "Morgan Stanley",
         0.022,
         21923626,
         8159206457,
         -0.0023,
         "HD"
        ],
        [
         "2025-03-31T00:00:00.000Z",
         "Bank of America Corporation",
         0.0156,
         15510290,
         5772387210,
         0.0087,
         "HD"
        ],
        [
         "2025-03-31T00:00:00.000Z",
         "Charles Schwab Investment Management, Inc.",
         0.0145000005,
         14415278,
         5364862060,
         0.0659,
         "HD"
        ],
        [
         "2025-03-31T00:00:00.000Z",
         "Capital World Investors",
         0.014099999,
         13988938,
         5206193230,
         -0.2882,
         "HD"
        ],
        [
         "2024-12-31T00:00:00.000Z",
         "NORGES BANK",
         0.012999999,
         12938405,
         4815221607,
         0.0762,
         "HD"
        ],
        [
         "2025-03-31T00:00:00.000Z",
         "Capital Research Global Investors",
         0.012,
         11972566,
         4455770127,
         -0.0388,
         "HD"
        ],
        [
         "2025-03-31T00:00:00.000Z",
         "Vanguard Group Inc",
         0.089499995,
         156385774,
         21765770879,
         -0.0037,
         "CVX"
        ],
        [
         "2025-03-31T00:00:00.000Z",
         "State Street Corporation",
         0.08270001,
         144375620,
         20094197734,
         -0.0354,
         "CVX"
        ],
        [
         "2025-03-31T00:00:00.000Z",
         "Blackrock Inc.",
         0.070300005,
         122778370,
         17088292637,
         0.0093,
         "CVX"
        ],
        [
         "2025-03-31T00:00:00.000Z",
         "Berkshire Hathaway, Inc",
         0.0679,
         118610534,
         16508213253,
         0.0,
         "CVX"
        ],
        [
         "2025-03-31T00:00:00.000Z",
         "Geode Capital Management, LLC",
         0.0214,
         37350404,
         5198428955,
         0.0298,
         "CVX"
        ],
        [
         "2025-03-31T00:00:00.000Z",
         "Morgan Stanley",
         0.0195,
         34082075,
         4743542948,
         -0.0111,
         "CVX"
        ],
        [
         "2025-03-31T00:00:00.000Z",
         "Charles Schwab Investment Management, Inc.",
         0.0191,
         33430030,
         4652791330,
         0.0494,
         "CVX"
        ],
        [
         "2025-03-31T00:00:00.000Z",
         "Bank of America Corporation",
         0.0150999995,
         26354169,
         3667973048,
         0.040799998,
         "CVX"
        ],
        [
         "2025-03-31T00:00:00.000Z",
         "JPMORGAN CHASE & CO",
         0.013200001,
         23007238,
         3202147216,
         0.0771,
         "CVX"
        ],
        [
         "2024-12-31T00:00:00.000Z",
         "NORGES BANK",
         0.0119,
         20835056,
         2899822941,
         0.024400001,
         "CVX"
        ],
        [
         "2025-03-31T00:00:00.000Z",
         "Vanguard Group Inc",
         0.100600004,
         252513381,
         19895529520,
         0.0056,
         "MRK"
        ],
        [
         "2025-03-31T00:00:00.000Z",
         "Blackrock Inc.",
         0.08979999,
         225398231,
         17759126826,
         0.0149,
         "MRK"
        ],
        [
         "2025-03-31T00:00:00.000Z",
         "State Street Corporation",
         0.048,
         120529640,
         9496530445,
         -0.0031,
         "MRK"
        ],
        [
         "2025-03-31T00:00:00.000Z",
         "Wellington Management Group, LLP",
         0.0325,
         81669651,
         6434751877,
         0.0115,
         "MRK"
        ],
        [
         "2025-03-31T00:00:00.000Z",
         "Geode Capital Management, LLC",
         0.0238,
         59657270,
         4700396357,
         -0.0249,
         "MRK"
        ],
        [
         "2025-03-31T00:00:00.000Z",
         "Charles Schwab Investment Management, Inc.",
         0.0196,
         49229283,
         3878775252,
         1.4461999,
         "MRK"
        ],
        [
         "2025-03-31T00:00:00.000Z",
         "Morgan Stanley",
         0.0172,
         43114452,
         3396987712,
         -0.0242,
         "MRK"
        ],
        [
         "2024-12-31T00:00:00.000Z",
         "NORGES BANK",
         0.0139,
         34979885,
         2756065171,
         0.0347,
         "MRK"
        ],
        [
         "2025-03-31T00:00:00.000Z",
         "FMR, LLC",
         0.0127,
         31808043,
         2506155737,
         -0.1486,
         "MRK"
        ],
        [
         "2025-03-31T00:00:00.000Z",
         "Bank of America Corporation",
         0.0124,
         31084245,
         2449127692,
         -0.1471,
         "MRK"
        ],
        [
         "2025-03-31T00:00:00.000Z",
         "Vanguard Group Inc",
         0.0963,
         135174252,
         17615909510,
         0.0135,
         "PEP"
        ],
        [
         "2025-03-31T00:00:00.000Z",
         "Blackrock Inc.",
         0.080699995,
         113302013,
         14765519164,
         0.0069999998,
         "PEP"
        ],
        [
         "2025-03-31T00:00:00.000Z",
         "State Street Corporation",
         0.040900003,
         57499804,
         7493374878,
         -0.0044,
         "PEP"
        ],
        [
         "2025-03-31T00:00:00.000Z",
         "JPMORGAN CHASE & CO",
         0.0252,
         35406666,
         4614196972,
         0.1491,
         "PEP"
        ],
        [
         "2025-03-31T00:00:00.000Z",
         "Geode Capital Management, LLC",
         0.0232,
         32588797,
         4246972263,
         0.048600003,
         "PEP"
        ],
        [
         "2025-03-31T00:00:00.000Z",
         "Bank of America Corporation",
         0.0194,
         27297864,
         3557457836,
         0.1547,
         "PEP"
        ],
        [
         "2025-03-31T00:00:00.000Z",
         "Charles Schwab Investment Management, Inc.",
         0.0189,
         26475241,
         3450253601,
         0.0499,
         "PEP"
        ],
        [
         "2025-03-31T00:00:00.000Z",
         "Morgan Stanley",
         0.0186,
         26118902,
         3403815499,
         -0.0398,
         "PEP"
        ],
        [
         "2024-12-31T00:00:00.000Z",
         "NORGES BANK",
         0.0128,
         17950577,
         2339319326,
         0.026300002,
         "PEP"
        ],
        [
         "2025-03-31T00:00:00.000Z",
         "Northern Trust Corporation",
         0.0116,
         16344720,
         2130044030,
         -0.0036000002,
         "PEP"
        ],
        [
         "2025-03-31T00:00:00.000Z",
         "Vanguard Group Inc",
         0.098500006,
         173917865,
         32891345779,
         0.0049,
         "ABBV"
        ],
        [
         "2025-03-31T00:00:00.000Z",
         "Blackrock Inc.",
         0.082600005,
         145878142,
         27588473502,
         0.0271,
         "ABBV"
        ],
        [
         "2025-03-31T00:00:00.000Z",
         "State Street Corporation",
         0.045300003,
         79962967,
         15122595928,
         0.0043,
         "ABBV"
        ],
        [
         "2025-03-31T00:00:00.000Z",
         "JPMORGAN CHASE & CO",
         0.031,
         54754470,
         10355165099,
         0.057800002,
         "ABBV"
        ],
        [
         "2025-03-31T00:00:00.000Z",
         "Morgan Stanley",
         0.0233,
         41149734,
         7782237493,
         0.0368,
         "ABBV"
        ],
        [
         "2025-03-31T00:00:00.000Z",
         "Geode Capital Management, LLC",
         0.0217,
         38253590,
         7234518754,
         0.0298,
         "ABBV"
        ],
        [
         "2025-03-31T00:00:00.000Z",
         "Capital Research Global Investors",
         0.019,
         33508014,
         6337035444,
         -0.0139999995,
         "ABBV"
        ],
        [
         "2025-03-31T00:00:00.000Z",
         "Bank of America Corporation",
         0.015800001,
         27953530,
         5286571457,
         0.1038,
         "ABBV"
        ],
        [
         "2025-03-31T00:00:00.000Z",
         "Charles Schwab Investment Management, Inc.",
         0.0143,
         25266107,
         4778326032,
         -0.0791,
         "ABBV"
        ],
        [
         "2024-12-31T00:00:00.000Z",
         "NORGES BANK",
         0.014199999,
         25095020,
         4745970059,
         0.1164,
         "ABBV"
        ],
        [
         "2025-03-31T00:00:00.000Z",
         "Vanguard Group Inc",
         0.1015,
         477220137,
         120810473872,
         0.0044,
         "AVGO"
        ],
        [
         "2025-03-31T00:00:00.000Z",
         "Blackrock Inc.",
         0.079,
         371578962,
         94066924255,
         0.0146,
         "AVGO"
        ],
        [
         "2025-03-31T00:00:00.000Z",
         "State Street Corporation",
         0.0392,
         184403024,
         46682474157,
         -0.01,
         "AVGO"
        ],
        [
         "2025-03-31T00:00:00.000Z",
         "Capital International Investors",
         0.0348,
         163682774,
         41437047514,
         -0.13239999,
         "AVGO"
        ],
        [
         "2025-03-31T00:00:00.000Z",
         "Capital World Investors",
         0.033,
         155100449,
         39264392444,
         -0.21260001,
         "AVGO"
        ],
        [
         "2025-03-31T00:00:00.000Z",
         "Geode Capital Management, LLC",
         0.0226,
         106384133,
         26931632854,
         0.040900003,
         "AVGO"
        ],
        [
         "2025-03-31T00:00:00.000Z",
         "FMR, LLC",
         0.0217,
         101869215,
         25788660584,
         0.0921,
         "AVGO"
        ],
        [
         "2025-03-31T00:00:00.000Z",
         "JPMORGAN CHASE & CO",
         0.0194,
         91362074,
         23128729486,
         0.1522,
         "AVGO"
        ],
        [
         "2025-03-31T00:00:00.000Z",
         "Capital Research Global Investors",
         0.019,
         89465785,
         22648675198,
         -0.0023,
         "AVGO"
        ],
        [
         "2025-03-31T00:00:00.000Z",
         "Morgan Stanley",
         0.0163,
         76432699,
         19349289499,
         0.0138,
         "AVGO"
        ],
        [
         "2025-03-31T00:00:00.000Z",
         "Berkshire Hathaway, Inc",
         0.0929,
         400000000,
         28516000366,
         0.0,
         "KO"
        ],
        [
         "2025-03-31T00:00:00.000Z",
         "Vanguard Group Inc",
         0.083900005,
         361200808,
         25750005933,
         0.0031,
         "KO"
        ],
        [
         "2025-03-31T00:00:00.000Z",
         "Blackrock Inc.",
         0.0726,
         312568274,
         22282992539,
         0.022,
         "KO"
        ],
        [
         "2025-03-31T00:00:00.000Z",
         "State Street Corporation",
         0.0382,
         164598680,
         11734240047,
         -0.001,
         "KO"
        ],
        [
         "2025-03-31T00:00:00.000Z",
         "Geode Capital Management, LLC",
         0.0223,
         95937591,
         6839390950,
         0.052600004,
         "KO"
        ],
        [
         "2025-03-31T00:00:00.000Z",
         "JPMORGAN CHASE & CO",
         0.0216,
         93085485,
         6636064310,
         -0.0058,
         "KO"
        ],
        [
         "2025-03-31T00:00:00.000Z",
         "FMR, LLC",
         0.020499999,
         88055356,
         6277466409,
         0.060900003,
         "KO"
        ],
        [
         "2025-03-31T00:00:00.000Z",
         "Morgan Stanley",
         0.02,
         86036606,
         6133549720,
         0.0433,
         "KO"
        ],
        [
         "2025-03-31T00:00:00.000Z",
         "Charles Schwab Investment Management, Inc.",
         0.0163,
         70277445,
         5010079118,
         -0.052399997,
         "KO"
        ],
        [
         "2024-12-31T00:00:00.000Z",
         "NORGES BANK",
         0.0127,
         54644250,
         3895588632,
         0.051,
         "KO"
        ],
        [
         "2025-03-31T00:00:00.000Z",
         "Vanguard Group Inc",
         0.0851,
         641191128,
         28920925534,
         -0.0253,
         "BAC"
        ],
        [
         "2025-03-31T00:00:00.000Z",
         "Berkshire Hathaway, Inc",
         0.083900005,
         631573531,
         28487123826,
         -0.0715,
         "BAC"
        ],
        [
         "2025-03-31T00:00:00.000Z",
         "Blackrock Inc.",
         0.070700005,
         532778633,
         24030979997,
         0.019299999,
         "BAC"
        ],
        [
         "2025-03-31T00:00:00.000Z",
         "State Street Corporation",
         0.0392,
         295126682,
         13311688856,
         0.001,
         "BAC"
        ],
        [
         "2025-03-31T00:00:00.000Z",
         "FMR, LLC",
         0.027,
         203339790,
         9171641134,
         0.051599998,
         "BAC"
        ],
        [
         "2025-03-31T00:00:00.000Z",
         "JPMORGAN CHASE & CO",
         0.0219,
         165290019,
         7455406231,
         -0.027,
         "BAC"
        ],
        [
         "2025-03-31T00:00:00.000Z",
         "Geode Capital Management, LLC",
         0.0196,
         147773103,
         6665305743,
         0.0385,
         "BAC"
        ],
        [
         "2024-12-31T00:00:00.000Z",
         "NORGES BANK",
         0.015800001,
         118930358,
         5364353743,
         -0.0324,
         "BAC"
        ],
        [
         "2025-03-31T00:00:00.000Z",
         "Capital World Investors",
         0.0147,
         110804572,
         4997840169,
         0.2561,
         "BAC"
        ],
        [
         "2025-03-31T00:00:00.000Z",
         "Morgan Stanley",
         0.014199999,
         107226454,
         4836449158,
         -0.1436,
         "BAC"
        ],
        [
         "2025-03-31T00:00:00.000Z",
         "Vanguard Group Inc",
         0.092,
         523165127,
         12270838013,
         0.0089,
         "PFE"
        ],
        [
         "2025-03-31T00:00:00.000Z",
         "Blackrock Inc.",
         0.0834,
         474167592,
         11121600834,
         0.0496,
         "PFE"
        ],
        [
         "2025-03-31T00:00:00.000Z",
         "State Street Corporation",
         0.052199997,
         296970528,
         6965443711,
         0.0223,
         "PFE"
        ],
        [
         "2025-03-31T00:00:00.000Z",
         "Geode Capital Management, LLC",
         0.0221,
         125650847,
         2947140606,
         0.042,
         "PFE"
        ],
        [
         "2025-03-31T00:00:00.000Z",
         "Wellington Management Group, LLP",
         0.0182,
         103493699,
         2427444702,
         -0.2607,
         "PFE"
        ],
        [
         "2024-12-31T00:00:00.000Z",
         "NORGES BANK",
         0.0154,
         87786882,
         2059041310,
         0.045500003,
         "PFE"
        ],
        [
         "2025-03-31T00:00:00.000Z",
         "Morgan Stanley",
         0.014099999,
         80442317,
         1886774539,
         0.088599995,
         "PFE"
        ],
        [
         "2025-03-31T00:00:00.000Z",
         "Massachusetts Financial Services Co.",
         0.013300001,
         75446358,
         1769594321,
         -0.0138,
         "PFE"
        ],
        [
         "2025-03-31T00:00:00.000Z",
         "Northern Trust Corporation",
         0.011,
         62325957,
         1461855316,
         0.0675,
         "PFE"
        ],
        [
         "2025-03-31T00:00:00.000Z",
         "Bank of America Corporation",
         0.0099,
         56065464,
         1315015453,
         0.24299999,
         "PFE"
        ],
        [
         "2025-03-31T00:00:00.000Z",
         "Vanguard Group Inc",
         0.096099995,
         42644711,
         43241736954,
         0.0105,
         "COST"
        ],
        [
         "2025-03-31T00:00:00.000Z",
         "Blackrock Inc.",
         0.0787,
         34932168,
         35421218352,
         0.0049,
         "COST"
        ],
        [
         "2025-03-31T00:00:00.000Z",
         "State Street Corporation",
         0.041100003,
         18235309,
         18490603326,
         0.0083,
         "COST"
        ],
        [
         "2025-03-31T00:00:00.000Z",
         "Geode Capital Management, LLC",
         0.0228,
         10124212,
         10265950968,
         0.0395,
         "COST"
        ],
        [
         "2025-03-31T00:00:00.000Z",
         "FMR, LLC",
         0.0215,
         9518862,
         9652126068,
         0.0064999997,
         "COST"
        ],
        [
         "2025-03-31T00:00:00.000Z",
         "Morgan Stanley",
         0.0214,
         9514874,
         9648082236,
         -0.0062,
         "COST"
        ],
        [
         "2025-03-31T00:00:00.000Z",
         "Bank of America Corporation",
         0.0150999995,
         6710789,
         6804740046,
         -0.0162,
         "COST"
        ],
        [
         "2024-12-31T00:00:00.000Z",
         "NORGES BANK",
         0.0127,
         5655883,
         5735065362,
         0.0645,
         "COST"
        ],
        [
         "2025-03-31T00:00:00.000Z",
         "Northern Trust Corporation",
         0.0115,
         5109095,
         5180622330,
         -0.028299998,
         "COST"
        ],
        [
         "2025-03-31T00:00:00.000Z",
         "Alliancebernstein L.P.",
         0.0098,
         4332009,
         4392657126,
         0.0042,
         "COST"
        ],
        [
         "2025-03-31T00:00:00.000Z",
         "Vanguard Group Inc",
         0.0887,
         33479957,
         13522386864,
         0.0069,
         "TMO"
        ],
        [
         "2025-03-31T00:00:00.000Z",
         "Blackrock Inc.",
         0.077,
         29080121,
         11745315151,
         0.0085,
         "TMO"
        ],
        [
         "2025-03-31T00:00:00.000Z",
         "State Street Corporation",
         0.0438,
         16539489,
         6680216727,
         0.0056,
         "TMO"
        ],
        [
         "2025-03-31T00:00:00.000Z",
         "Morgan Stanley",
         0.0307,
         11595430,
         4683336072,
         0.0092,
         "TMO"
        ],
        [
         "2025-03-31T00:00:00.000Z",
         "Capital World Investors",
         0.0293,
         11061400,
         4467644031,
         0.173,
         "TMO"
        ],
        [
         "2025-03-31T00:00:00.000Z",
         "JPMORGAN CHASE & CO",
         0.0269,
         10137780,
         4094598541,
         0.1367,
         "TMO"
        ],
        [
         "2025-03-31T00:00:00.000Z",
         "Price (T.Rowe) Associates Inc",
         0.024600001,
         9304832,
         3758175018,
         -0.1476,
         "TMO"
        ],
        [
         "2025-03-31T00:00:00.000Z",
         "Geode Capital Management, LLC",
         0.0215,
         8127186,
         3282529700,
         0.0343,
         "TMO"
        ],
        [
         "2025-03-31T00:00:00.000Z",
         "Capital Research Global Investors",
         0.0202,
         7612797,
         3074770560,
         -0.038900003,
         "TMO"
        ],
        [
         "2024-12-31T00:00:00.000Z",
         "NORGES BANK",
         0.016,
         6054541,
         2445398770,
         0.0868,
         "TMO"
        ],
        [
         "2025-03-31T00:00:00.000Z",
         "Vanguard Group Inc",
         0.09819999,
         388949854,
         25452879395,
         0.0047999998,
         "CSCO"
        ],
        [
         "2025-03-31T00:00:00.000Z",
         "Blackrock Inc.",
         0.0925,
         366371404,
         23975345572,
         0.0505,
         "CSCO"
        ],
        [
         "2025-03-31T00:00:00.000Z",
         "State Street Corporation",
         0.048899997,
         193627378,
         12670976089,
         -0.0042,
         "CSCO"
        ],
        [
         "2025-03-31T00:00:00.000Z",
         "Geode Capital Management, LLC",
         0.0248,
         98094691,
         6419316818,
         0.025899999,
         "CSCO"
        ],
        [
         "2025-03-31T00:00:00.000Z",
         "FMR, LLC",
         0.023599999,
         93449595,
         6115341724,
         0.21020001,
         "CSCO"
        ],
        [
         "2025-03-31T00:00:00.000Z",
         "Charles Schwab Investment Management, Inc.",
         0.0197,
         78182843,
         5116285436,
         -0.029000001,
         "CSCO"
        ],
        [
         "2025-03-31T00:00:00.000Z",
         "Morgan Stanley",
         0.0182,
         72164986,
         4722476860,
         4.0E-4,
         "CSCO"
        ],
        [
         "2024-12-31T00:00:00.000Z",
         "NORGES BANK",
         0.014099999,
         55707852,
         3645521970,
         0.093,
         "CSCO"
        ],
        [
         "2025-03-31T00:00:00.000Z",
         "Bank of America Corporation",
         0.012,
         47519387,
         3109668801,
         0.0233,
         "CSCO"
        ],
        [
         "2025-03-31T00:00:00.000Z",
         "Invesco Ltd.",
         0.0119,
         47117146,
         3083346149,
         0.103999995,
         "CSCO"
        ],
        [
         "2025-03-31T00:00:00.000Z",
         "Vanguard Group Inc",
         0.097600006,
         169823136,
         22900650926,
         0.0069999998,
         "ABT"
        ],
        [
         "2025-03-31T00:00:00.000Z",
         "Blackrock Inc.",
         0.0787,
         136977160,
         18471370862,
         0.0032,
         "ABT"
        ],
        [
         "2025-03-31T00:00:00.000Z",
         "State Street Corporation",
         0.0446,
         77664753,
         10473092416,
         0.0064,
         "ABT"
        ],
        [
         "2025-03-31T00:00:00.000Z",
         "Capital International Investors",
         0.038399998,
         66824002,
         9011217077,
         -0.016900001,
         "ABT"
        ],
        [
         "2025-03-31T00:00:00.000Z",
         "Capital Research Global Investors",
         0.0292,
         50734446,
         6841540352,
         -0.0622,
         "ABT"
        ],
        [
         "2025-03-31T00:00:00.000Z",
         "JPMORGAN CHASE & CO",
         0.0229,
         39923837,
         5383729663,
         0.1348,
         "ABT"
        ],
        [
         "2025-03-31T00:00:00.000Z",
         "Geode Capital Management, LLC",
         0.0212,
         36902513,
         4976304103,
         0.0346,
         "ABT"
        ],
        [
         "2025-03-31T00:00:00.000Z",
         "Morgan Stanley",
         0.0208,
         36136810,
         4873049049,
         5.9999997E-4,
         "ABT"
        ],
        [
         "2025-03-31T00:00:00.000Z",
         "Wellington Management Group, LLP",
         0.0171,
         29763415,
         4013596694,
         0.1277,
         "ABT"
        ],
        [
         "2025-03-31T00:00:00.000Z",
         "Northern Trust Corporation",
         0.0123000005,
         21327367,
         2875995570,
         -0.033099998,
         "ABT"
        ],
        [
         "2025-03-31T00:00:00.000Z",
         "Vanguard Group Inc",
         0.098500006,
         70409095,
         21786685750,
         0.0034,
         "MCD"
        ],
        [
         "2025-03-31T00:00:00.000Z",
         "Blackrock Inc.",
         0.0735,
         52583560,
         16270930585,
         0.0043,
         "MCD"
        ],
        [
         "2025-03-31T00:00:00.000Z",
         "JPMORGAN CHASE & CO",
         0.0525,
         37538959,
         11615679808,
         0.146,
         "MCD"
        ],
        [
         "2025-03-31T00:00:00.000Z",
         "State Street Corporation",
         0.048299998,
         34556213,
         10692728735,
         -0.026300002,
         "MCD"
        ],
        [
         "2025-03-31T00:00:00.000Z",
         "Morgan Stanley",
         0.024600001,
         17564790,
         5435072841,
         0.1337,
         "MCD"
        ],
        [
         "2025-03-31T00:00:00.000Z",
         "Geode Capital Management, LLC",
         0.0231,
         16552355,
         5121795086,
         0.0297,
         "MCD"
        ],
        [
         "2025-03-31T00:00:00.000Z",
         "Bank of America Corporation",
         0.0208,
         14852796,
         4595900557,
         0.1379,
         "MCD"
        ],
        [
         "2025-03-31T00:00:00.000Z",
         "Wellington Management Group, LLP",
         0.0166,
         11851904,
         3667334567,
         -0.15439999,
         "MCD"
        ],
        [
         "2024-12-31T00:00:00.000Z",
         "NORGES BANK",
         0.013099999,
         9400772,
         2908880811,
         0.028099999,
         "MCD"
        ],
        [
         "2025-03-31T00:00:00.000Z",
         "Price (T.Rowe) Associates Inc",
         0.013099999,
         9341460,
         2890527899,
         0.1682,
         "MCD"
        ],
        [
         "2025-03-31T00:00:00.000Z",
         "Vanguard Group Inc",
         0.092,
         87913628,
         23743711469,
         0.016,
         "CRM"
        ],
        [
         "2025-03-31T00:00:00.000Z",
         "Blackrock Inc.",
         0.0838,
         80114692,
         21637374939,
         0.044699997,
         "CRM"
        ],
        [
         "2025-03-31T00:00:00.000Z",
         "State Street Corporation",
         0.0507,
         48484618,
         13094724978,
         -0.0095,
         "CRM"
        ],
        [
         "2025-03-31T00:00:00.000Z",
         "JPMORGAN CHASE & CO",
         0.0242,
         23117876,
         6243675639,
         0.2011,
         "CRM"
        ],
        [
         "2025-03-31T00:00:00.000Z",
         "Capital Research Global Investors",
         0.0217,
         20783012,
         5613075601,
         -0.1382,
         "CRM"
        ],
        [
         "2025-03-31T00:00:00.000Z",
         "Geode Capital Management, LLC",
         0.0217,
         20759396,
         5606697392,
         0.0403,
         "CRM"
        ],
        [
         "2025-03-31T00:00:00.000Z",
         "Morgan Stanley",
         0.0212,
         20260530,
         5471963670,
         0.056500003,
         "CRM"
        ],
        [
         "2025-03-31T00:00:00.000Z",
         "FMR, LLC",
         0.0182,
         17382710,
         4694722083,
         -0.2507,
         "CRM"
        ],
        [
         "2025-03-31T00:00:00.000Z",
         "Capital International Investors",
         0.014199999,
         13581127,
         3667990597,
         -0.18360001,
         "CRM"
        ],
        [
         "2025-03-31T00:00:00.000Z",
         "Northern Trust Corporation",
         0.0115,
         10955876,
         2958962842,
         -0.024,
         "CRM"
        ],
        [
         "2025-03-31T00:00:00.000Z",
         "Vanguard Group Inc",
         0.096499994,
         41143835,
         17138875807,
         0.0042,
         "ADBE"
        ],
        [
         "2025-03-31T00:00:00.000Z",
         "Blackrock Inc.",
         0.094399996,
         40247230,
         16765386030,
         -0.0064,
         "ADBE"
        ],
        [
         "2025-03-31T00:00:00.000Z",
         "State Street Corporation",
         0.0476,
         20284328,
         8449639622,
         -0.0117,
         "ADBE"
        ],
        [
         "2025-03-31T00:00:00.000Z",
         "Geode Capital Management, LLC",
         0.025999999,
         11063048,
         4608423247,
         0.0358,
         "ADBE"
        ],
        [
         "2025-03-31T00:00:00.000Z",
         "Morgan Stanley",
         0.0184,
         7824969,
         3259569067,
         -0.059,
         "ADBE"
        ],
        [
         "2025-03-31T00:00:00.000Z",
         "Bank Of New York Mellon Corporation",
         0.0153,
         6530611,
         2720391302,
         0.1439,
         "ADBE"
        ],
        [
         "2024-12-31T00:00:00.000Z",
         "NORGES BANK",
         0.0135,
         5741285,
         2391589665,
         0.067600004,
         "ADBE"
        ],
        [
         "2025-03-31T00:00:00.000Z",
         "UBS AM, a distinct business unit of UBS ASSET MANAGEMENT AMERICAS LLC",
         0.0128,
         5468383,
         2277909609,
         0.023699999,
         "ADBE"
        ],
        [
         "2025-03-31T00:00:00.000Z",
         "Primecap Management Company",
         0.0127,
         5421591,
         2258417933,
         -0.012,
         "ADBE"
        ],
        [
         "2025-03-31T00:00:00.000Z",
         "FMR, LLC",
         0.0124,
         5266536,
         2193828223,
         -0.31309998,
         "ADBE"
        ],
        [
         "2025-03-31T00:00:00.000Z",
         "Vanguard Group Inc",
         0.053200003,
         425961042,
         41931606014,
         0.0076,
         "WMT"
        ],
        [
         "2025-03-31T00:00:00.000Z",
         "Blackrock Inc.",
         0.042600002,
         340501876,
         33519005504,
         0.0115,
         "WMT"
        ],
        [
         "2025-03-31T00:00:00.000Z",
         "State Street Corporation",
         0.0229,
         183416761,
         18055546400,
         -0.0047999998,
         "WMT"
        ],
        [
         "2025-03-31T00:00:00.000Z",
         "JPMORGAN CHASE & CO",
         0.0124,
         98988651,
         9744443046,
         0.7954,
         "WMT"
        ],
        [
         "2025-03-31T00:00:00.000Z",
         "Geode Capital Management, LLC",
         0.0117999995,
         94293814,
         9282283280,
         0.0404,
         "WMT"
        ],
        [
         "2025-03-31T00:00:00.000Z",
         "Morgan Stanley",
         0.0104,
         83222929,
         8192465333,
         0.0629,
         "WMT"
        ],
        [
         "2025-03-31T00:00:00.000Z",
         "Bank of America Corporation",
         0.0095999995,
         76649355,
         7545362693,
         0.0761,
         "WMT"
        ],
        [
         "2024-12-31T00:00:00.000Z",
         "NORGES BANK",
         0.007900001,
         63501444,
         6251082302,
         -0.0849,
         "WMT"
        ],
        [
         "2025-03-31T00:00:00.000Z",
         "FMR, LLC",
         0.0067000003,
         53727285,
         5288914066,
         -0.134,
         "WMT"
        ],
        [
         "2025-03-31T00:00:00.000Z",
         "Northern Trust Corporation",
         0.0054,
         43100763,
         4242839214,
         -0.0124,
         "WMT"
        ],
        [
         "2025-03-31T00:00:00.000Z",
         "Vanguard Group Inc",
         0.0838,
         59981088,
         11695112281,
         0.0039,
         "DHR"
        ],
        [
         "2025-03-31T00:00:00.000Z",
         "Blackrock Inc.",
         0.0735,
         52602194,
         10256375561,
         0.0476,
         "DHR"
        ],
        [
         "2025-03-31T00:00:00.000Z",
         "State Street Corporation",
         0.038399998,
         27463971,
         5354924948,
         0.0029,
         "DHR"
        ],
        [
         "2025-03-31T00:00:00.000Z",
         "Price (T.Rowe) Associates Inc",
         0.0274,
         19592211,
         3820089217,
         0.0323,
         "DHR"
        ],
        [
         "2025-03-31T00:00:00.000Z",
         "Wellington Management Group, LLP",
         0.0247,
         17700708,
         3451283970,
         -0.1697,
         "DHR"
        ],
        [
         "2025-03-31T00:00:00.000Z",
         "Capital International Investors",
         0.021,
         15062295,
         2936846214,
         -0.1472,
         "DHR"
        ],
        [
         "2025-03-31T00:00:00.000Z",
         "FMR, LLC",
         0.0195,
         13934833,
         2717013678,
         -0.3209,
         "DHR"
        ],
        [
         "2025-03-31T00:00:00.000Z",
         "Geode Capital Management, LLC",
         0.0191,
         13644524,
         2660409231,
         0.0214,
         "DHR"
        ],
        [
         "2025-03-31T00:00:00.000Z",
         "Morgan Stanley",
         0.0173,
         12356931,
         2409354353,
         0.058000002,
         "DHR"
        ],
        [
         "2024-12-31T00:00:00.000Z",
         "NORGES BANK",
         0.012999999,
         9282250,
         1809853065,
         0.012,
         "DHR"
        ],
        [
         "2025-03-31T00:00:00.000Z",
         "Vanguard Group Inc",
         0.0941,
         63814234,
         20359484611,
         0.056599997,
         "ACN"
        ],
        [
         "2025-03-31T00:00:00.000Z",
         "Blackrock Inc.",
         0.0795,
         53925027,
         17204402349,
         0.0359,
         "ACN"
        ],
        [
         "2025-03-31T00:00:00.000Z",
         "State Street Corporation",
         0.040799998,
         27689626,
         8834181327,
         2.0E-4,
         "ACN"
        ],
        [
         "2025-03-31T00:00:00.000Z",
         "Geode Capital Management, LLC",
         0.020499999,
         13894912,
         4433074399,
         0.0271,
         "ACN"
        ],
        [
         "2025-03-31T00:00:00.000Z",
         "Morgan Stanley",
         0.0202,
         13726010,
         4379187398,
         0.048600003,
         "ACN"
        ],
        [
         "2025-03-31T00:00:00.000Z",
         "Wellington Management Group, LLP",
         0.0177,
         11990715,
         3825553676,
         -0.0152,
         "ACN"
        ],
        [
         "2025-03-31T00:00:00.000Z",
         "Capital Research Global Investors",
         0.0138,
         9350813,
         2983311425,
         -0.2395,
         "ACN"
        ],
        [
         "2025-03-31T00:00:00.000Z",
         "Massachusetts Financial Services Co.",
         0.013200001,
         8942718,
         2853111572,
         -0.0212,
         "ACN"
        ],
        [
         "2025-03-31T00:00:00.000Z",
         "Price (T.Rowe) Associates Inc",
         0.013200001,
         8953621,
         2856590098,
         0.6389,
         "ACN"
        ],
        [
         "2025-03-31T00:00:00.000Z",
         "Northern Trust Corporation",
         0.0112,
         7587791,
         2420831598,
         7.0E-4,
         "ACN"
        ],
        [
         "2025-03-31T00:00:00.000Z",
         "Vanguard Group Inc",
         0.0915,
         44346355,
         21055206269,
         -0.0011,
         "LIN"
        ],
        [
         "2025-03-31T00:00:00.000Z",
         "Blackrock Inc.",
         0.074200004,
         35971311,
         17078819057,
         0.0050999997,
         "LIN"
        ],
        [
         "2025-03-31T00:00:00.000Z",
         "State Street Corporation",
         0.0399,
         19341482,
         9183142404,
         -0.0311,
         "LIN"
        ],
        [
         "2025-03-31T00:00:00.000Z",
         "JPMORGAN CHASE & CO",
         0.0273,
         13246195,
         6289161037,
         0.3797,
         "LIN"
        ],
        [
         "2025-03-31T00:00:00.000Z",
         "FMR, LLC",
         0.0252,
         12222487,
         5803114707,
         -0.051599998,
         "LIN"
        ],
        [
         "2025-03-31T00:00:00.000Z",
         "Geode Capital Management, LLC",
         0.0233,
         11278431,
         5354886350,
         0.0249,
         "LIN"
        ],
        [
         "2025-03-31T00:00:00.000Z",
         "Capital World Investors",
         0.0223,
         10793955,
         5124861986,
         -0.0653,
         "LIN"
        ],
        [
         "2025-03-31T00:00:00.000Z",
         "Price (T.Rowe) Associates Inc",
         0.0198,
         9600297,
         4558125094,
         0.0495,
         "LIN"
        ],
        [
         "2025-03-31T00:00:00.000Z",
         "Capital Research Global Investors",
         0.019,
         9216453,
         4375879798,
         2.0E-4,
         "LIN"
        ],
        [
         "2025-03-31T00:00:00.000Z",
         "Wellington Management Group, LLP",
         0.0156,
         7542991,
         3581336761,
         0.1858,
         "LIN"
        ],
        [
         "2025-03-31T00:00:00.000Z",
         "Vanguard Group Inc",
         0.1035,
         94020960,
         18173310727,
         0.0047999998,
         "TXN"
        ],
        [
         "2025-03-31T00:00:00.000Z",
         "Blackrock Inc.",
         0.0922,
         83786313,
         16195055877,
         0.012,
         "TXN"
        ],
        [
         "2025-03-31T00:00:00.000Z",
         "State Street Corporation",
         0.0465,
         42240650,
         8164694954,
         -0.0025,
         "TXN"
        ],
        [
         "2025-03-31T00:00:00.000Z",
         "JPMORGAN CHASE & CO",
         0.0301,
         27360100,
         5288433545,
         0.1514,
         "TXN"
        ],
        [
         "2025-03-31T00:00:00.000Z",
         "Geode Capital Management, LLC",
         0.0242,
         21945015,
         4241751802,
         0.018099999,
         "TXN"
        ],
        [
         "2025-03-31T00:00:00.000Z",
         "Charles Schwab Investment Management, Inc.",
         0.0241,
         21915824,
         4236109473,
         0.0199,
         "TXN"
        ],
        [
         "2025-03-31T00:00:00.000Z",
         "Wellington Management Group, LLP",
         0.0216,
         19582696,
         3785139178,
         -0.0621,
         "TXN"
        ],
        [
         "2025-03-31T00:00:00.000Z",
         "Capital Research Global Investors",
         0.020499999,
         18637526,
         3602447275,
         -0.1889,
         "TXN"
        ],
        [
         "2025-03-31T00:00:00.000Z",
         "Bank of America Corporation",
         0.0189,
         17140359,
         3313059876,
         0.1367,
         "TXN"
        ],
        [
         "2025-03-31T00:00:00.000Z",
         "Primecap Management Company",
         0.0154,
         13991539,
         2704424479,
         -0.026400002,
         "TXN"
        ],
        [
         "2025-03-31T00:00:00.000Z",
         "Vanguard Group Inc",
         0.0958,
         113151080,
         7121728819,
         0.0458,
         "NKE"
        ],
        [
         "2025-03-31T00:00:00.000Z",
         "Blackrock Inc.",
         0.0798,
         94294908,
         5934921380,
         0.0050999997,
         "NKE"
        ],
        [
         "2025-03-31T00:00:00.000Z",
         "State Street Corporation",
         0.048699997,
         57563556,
         3623050135,
         -0.019,
         "NKE"
        ],
        [
         "2025-03-31T00:00:00.000Z",
         "Wellington Management Group, LLP",
         0.038399998,
         45383916,
         2856463610,
         0.2488,
         "NKE"
        ],
        [
         "2025-03-31T00:00:00.000Z",
         "Capital World Investors",
         0.0347,
         41041895,
         2583176814,
         0.672,
         "NKE"
        ],
        [
         "2025-03-31T00:00:00.000Z",
         "Geode Capital Management, LLC",
         0.0221,
         26077165,
         1641296729,
         0.0276,
         "NKE"
        ],
        [
         "2025-03-31T00:00:00.000Z",
         "Goldman Sachs Group Inc",
         0.019299999,
         22842235,
         1437690239,
         2.293,
         "NKE"
        ],
        [
         "2025-03-31T00:00:00.000Z",
         "Bank Of New York Mellon Corporation",
         0.0178,
         20988207,
         1320997719,
         0.0305,
         "NKE"
        ],
        [
         "2025-03-31T00:00:00.000Z",
         "Morgan Stanley",
         0.0168,
         19835324,
         1248435265,
         -0.0416,
         "NKE"
        ],
        [
         "2025-03-31T00:00:00.000Z",
         "FMR, LLC",
         0.0126,
         14934648,
         939986724,
         0.0088,
         "NKE"
        ],
        [
         "2025-03-31T00:00:00.000Z",
         "Vanguard Group Inc",
         0.098900005,
         368181725,
         12766701033,
         -0.0037,
         "CMCSA"
        ],
        [
         "2025-03-31T00:00:00.000Z",
         "Blackrock Inc.",
         0.0832,
         309902771,
         10745878347,
         0.0278,
         "CMCSA"
        ],
        [
         "2025-03-31T00:00:00.000Z",
         "State Street Corporation",
         0.045300003,
         168538660,
         5844077906,
         0.0047999998,
         "CMCSA"
        ],
        [
         "2025-03-31T00:00:00.000Z",
         "Capital World Investors",
         0.0397,
         147863217,
         5127156936,
         0.0436,
         "CMCSA"
        ],
        [
         "2025-03-31T00:00:00.000Z",
         "FMR, LLC",
         0.031,
         115587044,
         4007980662,
         -0.0116,
         "CMCSA"
        ],
        [
         "2024-12-31T00:00:00.000Z",
         "NORGES BANK",
         0.0274,
         102190930,
         3543470419,
         0.66800004,
         "CMCSA"
        ],
        [
         "2025-03-31T00:00:00.000Z",
         "JPMORGAN CHASE & CO",
         0.0253,
         94257817,
         3268389732,
         0.15100001,
         "CMCSA"
        ],
        [
         "2025-03-31T00:00:00.000Z",
         "Dodge & Cox Inc",
         0.0253,
         94217741,
         3267000097,
         0.1911,
         "CMCSA"
        ],
        [
         "2025-03-31T00:00:00.000Z",
         "Geode Capital Management, LLC",
         0.0234,
         87266318,
         3025959510,
         0.016900001,
         "CMCSA"
        ],
        [
         "2025-03-31T00:00:00.000Z",
         "Morgan Stanley",
         0.013200001,
         48991900,
         1698794095,
         -0.1154,
         "CMCSA"
        ],
        [
         "2025-03-31T00:00:00.000Z",
         "Vanguard Group Inc",
         0.090299994,
         140621675,
         25605098636,
         0.0085,
         "PM"
        ],
        [
         "2025-03-31T00:00:00.000Z",
         "Capital World Investors",
         0.0829,
         129103092,
         23507737373,
         0.053200003,
         "PM"
        ],
        [
         "2025-03-31T00:00:00.000Z",
         "Blackrock Inc.",
         0.0653,
         101580434,
         18496274006,
         -0.0318,
         "PM"
        ],
        [
         "2025-03-31T00:00:00.000Z",
         "Capital International Investors",
         0.0594,
         92500275,
         16842913194,
         -0.0018000001,
         "PM"
        ],
        [
         "2025-03-31T00:00:00.000Z",
         "State Street Corporation",
         0.0353,
         54960490,
         10007481190,
         0.0037,
         "PM"
        ],
        [
         "2025-03-31T00:00:00.000Z",
         "GQG Partners LLC",
         0.0312,
         48516029,
         8834041466,
         -0.0047,
         "PM"
        ],
        [
         "2025-03-31T00:00:00.000Z",
         "Capital Research Global Investors",
         0.028800001,
         44890733,
         8173929419,
         -0.1171,
         "PM"
        ],
        [
         "2025-03-31T00:00:00.000Z",
         "JPMORGAN CHASE & CO",
         0.023699999,
         36852825,
         6710346887,
         0.4905,
         "PM"
        ],
        [
         "2025-03-31T00:00:00.000Z",
         "Geode Capital Management, LLC",
         0.0235,
         36508124,
         6647582003,
         0.0346,
         "PM"
        ],
        [
         "2025-03-31T00:00:00.000Z",
         "FMR, LLC",
         0.0184,
         28668629,
         5220127503,
         0.3003,
         "PM"
        ],
        [
         "2025-03-31T00:00:00.000Z",
         "Vanguard Group Inc",
         0.1007,
         207322418,
         14939652934,
         0.0099,
         "NEE"
        ],
        [
         "2025-03-31T00:00:00.000Z",
         "Blackrock Inc.",
         0.0791,
         162931060,
         11740811785,
         0.0202,
         "NEE"
        ],
        [
         "2025-03-31T00:00:00.000Z",
         "State Street Corporation",
         0.0538,
         110727552,
         7979027126,
         0.021300001,
         "NEE"
        ],
        [
         "2025-03-31T00:00:00.000Z",
         "JPMORGAN CHASE & CO",
         0.044699997,
         92069237,
         6634508993,
         0.104499996,
         "NEE"
        ],
        [
         "2025-03-31T00:00:00.000Z",
         "Morgan Stanley",
         0.0294,
         60466069,
         4357184784,
         0.0063,
         "NEE"
        ],
        [
         "2024-12-31T00:00:00.000Z",
         "NORGES BANK",
         0.023599999,
         48600878,
         3502179150,
         -0.0053,
         "NEE"
        ],
        [
         "2025-03-31T00:00:00.000Z",
         "Geode Capital Management, LLC",
         0.022,
         45197233,
         3256912499,
         0.0324,
         "NEE"
        ],
        [
         "2025-03-31T00:00:00.000Z",
         "Franklin Resources, Inc.",
         0.0189,
         38990798,
         2809676808,
         -0.0387,
         "NEE"
        ],
        [
         "2025-03-31T00:00:00.000Z",
         "Bank of America Corporation",
         0.0156,
         32058674,
         2310147970,
         0.0152,
         "NEE"
        ],
        [
         "2025-03-31T00:00:00.000Z",
         "Wells Fargo & Company",
         0.0148,
         30410448,
         2191376808,
         -0.0057,
         "NEE"
        ],
        [
         "2025-03-31T00:00:00.000Z",
         "Vanguard Group Inc",
         0.087299995,
         368171941,
         16100158811,
         0.0119,
         "VZ"
        ],
        [
         "2025-03-31T00:00:00.000Z",
         "Blackrock Inc.",
         0.0847,
         357006382,
         15611888921,
         0.0247,
         "VZ"
        ],
        [
         "2025-03-31T00:00:00.000Z",
         "State Street Corporation",
         0.0484,
         204007806,
         8921261262,
         0.074,
         "VZ"
        ],
        [
         "2025-03-31T00:00:00.000Z",
         "Charles Schwab Investment Management, Inc.",
         0.026099999,
         109866405,
         4804457840,
         0.0108,
         "VZ"
        ],
        [
         "2025-03-31T00:00:00.000Z",
         "Geode Capital Management, LLC",
         0.0235,
         99225288,
         4339121798,
         0.0248,
         "VZ"
        ],
        [
         "2025-03-31T00:00:00.000Z",
         "Morgan Stanley",
         0.0168,
         70961935,
         3103165385,
         0.0498,
         "VZ"
        ],
        [
         "2024-12-31T00:00:00.000Z",
         "NORGES BANK",
         0.0136,
         57535540,
         2516029137,
         0.0374,
         "VZ"
        ],
        [
         "2025-03-31T00:00:00.000Z",
         "GQG Partners LLC",
         0.0117999995,
         49859967,
         2180376334,
         3.0393,
         "VZ"
        ],
        [
         "2025-03-31T00:00:00.000Z",
         "Northern Trust Corporation",
         0.0108,
         45475099,
         1988626058,
         0.0095999995,
         "VZ"
        ],
        [
         "2025-03-31T00:00:00.000Z",
         "FMR, LLC",
         0.010299999,
         43391500,
         1897510275,
         0.5215,
         "VZ"
        ],
        [
         "2025-03-31T00:00:00.000Z",
         "Vanguard Group Inc",
         0.089700006,
         119836487,
         16826839517,
         0.0115,
         "RTX"
        ],
        [
         "2025-03-31T00:00:00.000Z",
         "State Street Corporation",
         0.084,
         112154824,
         15748218858,
         -0.0072000003,
         "RTX"
        ],
        [
         "2025-03-31T00:00:00.000Z",
         "Blackrock Inc.",
         0.0735,
         98251756,
         13796019659,
         -0.0061000003,
         "RTX"
        ],
        [
         "2025-03-31T00:00:00.000Z",
         "Capital Research Global Investors",
         0.0582,
         77811256,
         10925866988,
         0.0272,
         "RTX"
        ],
        [
         "2025-03-31T00:00:00.000Z",
         "Capital International Investors",
         0.040700004,
         54370669,
         7634457122,
         -0.0153,
         "RTX"
        ],
        [
         "2025-03-31T00:00:00.000Z",
         "Dodge & Cox Inc",
         0.0317,
         42353562,
         5947075123,
         -0.0481,
         "RTX"
        ],
        [
         "2025-03-31T00:00:00.000Z",
         "Bank of America Corporation",
         0.0218,
         29183945,
         4097863441,
         0.1329,
         "RTX"
        ],
        [
         "2025-03-31T00:00:00.000Z",
         "Geode Capital Management, LLC",
         0.0215,
         28742069,
         4035817425,
         0.016900001,
         "RTX"
        ],
        [
         "2025-03-31T00:00:00.000Z",
         "Morgan Stanley",
         0.0215,
         28747942,
         4036642082,
         -0.0276,
         "RTX"
        ],
        [
         "2025-03-31T00:00:00.000Z",
         "JPMORGAN CHASE & CO",
         0.0174,
         23274461,
         3268083285,
         0.4928,
         "RTX"
        ],
        [
         "2025-03-31T00:00:00.000Z",
         "Vanguard Group Inc",
         0.0941,
         191403004,
         9253378462,
         0.0077,
         "BMY"
        ],
        [
         "2025-03-31T00:00:00.000Z",
         "Blackrock Inc.",
         0.0793,
         161366354,
         7801256581,
         0.0239,
         "BMY"
        ],
        [
         "2025-03-31T00:00:00.000Z",
         "JPMORGAN CHASE & CO",
         0.0531,
         108052504,
         5223798437,
         0.12529999,
         "BMY"
        ],
        [
         "2025-03-31T00:00:00.000Z",
         "State Street Corporation",
         0.0466,
         94834478,
         4584772954,
         -0.0033000002,
         "BMY"
        ],
        [
         "2025-03-31T00:00:00.000Z",
         "Capital International Investors",
         0.0327,
         66465773,
         3213287876,
         0.4491,
         "BMY"
        ],
        [
         "2025-03-31T00:00:00.000Z",
         "Charles Schwab Investment Management, Inc.",
         0.0298,
         60606905,
         2930040896,
         0.0050999997,
         "BMY"
        ],
        [
         "2025-03-31T00:00:00.000Z",
         "Geode Capital Management, LLC",
         0.0223,
         45453231,
         2197436508,
         0.0239,
         "BMY"
        ],
        [
         "2024-12-31T00:00:00.000Z",
         "NORGES BANK",
         0.0173,
         35175478,
         1700558526,
         0.0792,
         "BMY"
        ],
        [
         "2025-03-31T00:00:00.000Z",
         "Ameriprise Financial, Inc.",
         0.015800001,
         32147460,
         1554168992,
         0.0021,
         "BMY"
        ],
        [
         "2025-03-31T00:00:00.000Z",
         "Morgan Stanley",
         0.015700001,
         31938714,
         1544077167,
         0.052699998,
         "BMY"
        ],
        [
         "2025-03-31T00:00:00.000Z",
         "Vanguard Group Inc",
         0.090100005,
         66136226,
         6503175223,
         0.0153,
         "UPS"
        ],
        [
         "2025-03-31T00:00:00.000Z",
         "Blackrock Inc.",
         0.065,
         47678699,
         4688246559,
         -0.075500004,
         "UPS"
        ],
        [
         "2025-03-31T00:00:00.000Z",
         "State Street Corporation",
         0.041300002,
         30330146,
         2982363311,
         0.0075,
         "UPS"
        ],
        [
         "2025-03-31T00:00:00.000Z",
         "Charles Schwab Investment Management, Inc.",
         0.0341,
         25045472,
         2462721307,
         0.0765,
         "UPS"
        ],
        [
         "2025-03-31T00:00:00.000Z",
         "Geode Capital Management, LLC",
         0.0216,
         15861427,
         1559654145,
         0.01,
         "UPS"
        ],
        [
         "2025-03-31T00:00:00.000Z",
         "FMR, LLC",
         0.020599999,
         15118247,
         1486577255,
         0.3875,
         "UPS"
        ],
        [
         "2025-03-31T00:00:00.000Z",
         "JPMORGAN CHASE & CO",
         0.0197,
         14434548,
         1419349131,
         -0.35950002,
         "UPS"
        ],
        [
         "2025-03-31T00:00:00.000Z",
         "Bank of America Corporation",
         0.0166,
         12178441,
         1197506125,
         0.22,
         "UPS"
        ],
        [
         "2025-03-31T00:00:00.000Z",
         "Wellington Management Group, LLP",
         0.0155,
         11400472,
         1121008432,
         -0.2368,
         "UPS"
        ],
        [
         "2025-03-31T00:00:00.000Z",
         "Morgan Stanley",
         0.0121,
         8851958,
         870413046,
         0.17459999,
         "UPS"
        ],
        [
         "2025-03-31T00:00:00.000Z",
         "Vanguard Group Inc",
         0.0896,
         62209455,
         14324348766,
         0.0072000003,
         "HON"
        ],
        [
         "2025-03-31T00:00:00.000Z",
         "Blackrock Inc.",
         0.0678,
         47122314,
         10850383762,
         0.0544,
         "HON"
        ],
        [
         "2025-03-31T00:00:00.000Z",
         "State Street Corporation",
         0.044499997,
         30933246,
         7122689054,
         -0.0029,
         "HON"
        ],
        [
         "2025-03-31T00:00:00.000Z",
         "Morgan Stanley",
         0.026300002,
         18266608,
         4206069057,
         -0.065799996,
         "HON"
        ],
        [
         "2025-03-31T00:00:00.000Z",
         "JPMORGAN CHASE & CO",
         0.0242,
         16800027,
         3868374124,
         -0.285,
         "HON"
        ],
        [
         "2025-03-31T00:00:00.000Z",
         "Wellington Management Group, LLP",
         0.0227,
         15751951,
         3627044150,
         0.08939999,
         "HON"
        ],
        [
         "2025-03-31T00:00:00.000Z",
         "Geode Capital Management, LLC",
         0.0223,
         15510182,
         3571374422,
         0.0348,
         "HON"
        ],
        [
         "2025-03-31T00:00:00.000Z",
         "Barclays Plc",
         0.0223,
         15500507,
         3569146656,
         -0.2811,
         "HON"
        ],
        [
         "2025-03-31T00:00:00.000Z",
         "Newport Trust Company, LLC",
         0.0212,
         14723979,
         3390343323,
         -0.060900003,
         "HON"
        ],
        [
         "2025-03-31T00:00:00.000Z",
         "Bank of America Corporation",
         0.0179,
         12428620,
         2861813972,
         -0.097600006,
         "HON"
        ],
        [
         "2025-03-31T00:00:00.000Z",
         "Vanguard Group Inc",
         0.1042,
         114368470,
         17167278700,
         0.0056,
         "QCOM"
        ],
        [
         "2025-03-31T00:00:00.000Z",
         "Blackrock Inc.",
         0.092700005,
         101747174,
         15272759118,
         0.0365,
         "QCOM"
        ],
        [
         "2025-03-31T00:00:00.000Z",
         "State Street Corporation",
         0.048499998,
         53246695,
         7992594925,
         -0.0058,
         "QCOM"
        ],
        [
         "2025-03-31T00:00:00.000Z",
         "Geode Capital Management, LLC",
         0.026099999,
         28680274,
         4305052406,
         0.0317,
         "QCOM"
        ],
        [
         "2025-03-31T00:00:00.000Z",
         "Morgan Stanley",
         0.0171,
         18734639,
         2812162907,
         -0.0317,
         "QCOM"
        ],
        [
         "2024-12-31T00:00:00.000Z",
         "NORGES BANK",
         0.0161,
         17718277,
         2659601893,
         -0.0294,
         "QCOM"
        ],
        [
         "2025-03-31T00:00:00.000Z",
         "Northern Trust Corporation",
         0.012,
         13226504,
         1985364326,
         -0.0047,
         "QCOM"
        ],
        [
         "2025-03-31T00:00:00.000Z",
         "Bank of America Corporation",
         0.012,
         13198982,
         1981233136,
         0.1247,
         "QCOM"
        ],
        [
         "2025-03-31T00:00:00.000Z",
         "Price (T.Rowe) Associates Inc",
         0.0105,
         11543108,
         1732678177,
         -0.0037,
         "QCOM"
        ],
        [
         "2025-03-31T00:00:00.000Z",
         "UBS AM, a distinct business unit of UBS ASSET MANAGEMENT AMERICAS LLC",
         0.0095,
         10422341,
         1564445451,
         0.0656,
         "QCOM"
        ],
        [
         "2025-03-31T00:00:00.000Z",
         "Vanguard Group Inc",
         0.090500005,
         651044650,
         18196698464,
         0.0127,
         "T"
        ],
        [
         "2025-03-31T00:00:00.000Z",
         "Blackrock Inc.",
         0.0773,
         555911603,
         15537729727,
         0.0165,
         "T"
        ],
        [
         "2025-03-31T00:00:00.000Z",
         "State Street Corporation",
         0.0436,
         313666133,
         8766968656,
         -0.0286,
         "T"
        ],
        [
         "2025-03-31T00:00:00.000Z",
         "Newport Trust Company, LLC",
         0.026400002,
         189762992,
         5303875771,
         -0.0128,
         "T"
        ],
        [
         "2025-03-31T00:00:00.000Z",
         "Geode Capital Management, LLC",
         0.023599999,
         169973846,
         4750769125,
         0.0379,
         "T"
        ],
        [
         "2025-03-31T00:00:00.000Z",
         "GQG Partners LLC",
         0.015800001,
         113957259,
         3185105475,
         0.1775,
         "T"
        ],
        [
         "2025-03-31T00:00:00.000Z",
         "Morgan Stanley",
         0.0147,
         105782513,
         2956621319,
         0.0935,
         "T"
        ],
        [
         "2025-03-31T00:00:00.000Z",
         "Bank of America Corporation",
         0.0136,
         97864796,
         2735321122,
         0.8656,
         "T"
        ],
        [
         "2025-03-31T00:00:00.000Z",
         "Bank Of New York Mellon Corporation",
         0.0114,
         81906720,
         2289292886,
         -0.0431,
         "T"
        ],
        [
         "2024-12-31T00:00:00.000Z",
         "NORGES BANK",
         0.0113,
         81616938,
         2281193479,
         0.136,
         "T"
        ],
        [
         "2025-03-31T00:00:00.000Z",
         "Mitsubishi UFJ Financial Group Inc",
         0.235,
         377085167,
         50314471070,
         0.0,
         "MS"
        ],
        [
         "2025-03-31T00:00:00.000Z",
         "Vanguard Group Inc",
         0.0734,
         117769345,
         15713962840,
         0.069299996,
         "MS"
        ],
        [
         "2025-03-31T00:00:00.000Z",
         "State Street Corporation",
         0.0668,
         107146233,
         14296521084,
         -0.0372,
         "MS"
        ],
        [
         "2025-03-31T00:00:00.000Z",
         "Blackrock Inc.",
         0.06,
         96238352,
         12841082602,
         0.0121,
         "MS"
        ],
        [
         "2025-03-31T00:00:00.000Z",
         "JPMORGAN CHASE & CO",
         0.024,
         38579764,
         5147697627,
         -0.059699997,
         "MS"
        ],
        [
         "2025-03-31T00:00:00.000Z",
         "Capital International Investors",
         0.0168,
         26984106,
         3600489065,
         -0.1001,
         "MS"
        ],
        [
         "2025-03-31T00:00:00.000Z",
         "Geode Capital Management, LLC",
         0.0166,
         26662389,
         3557562368,
         0.031600002,
         "MS"
        ],
        [
         "2025-03-31T00:00:00.000Z",
         "FMR, LLC",
         0.0147,
         23528395,
         3139393572,
         -0.0795,
         "MS"
        ],
        [
         "2025-03-31T00:00:00.000Z",
         "Fisher Asset Management, LLC",
         0.0145000005,
         23296036,
         3108389912,
         0.0202,
         "MS"
        ],
        [
         "2025-03-31T00:00:00.000Z",
         "Bank of America Corporation",
         0.013200001,
         21108539,
         2816512204,
         0.122200005,
         "MS"
        ],
        [
         "2025-03-31T00:00:00.000Z",
         "Vanguard Group Inc",
         0.097399995,
         54609378,
         12459948364,
         0.0042,
         "LOW"
        ],
        [
         "2025-03-31T00:00:00.000Z",
         "Blackrock Inc.",
         0.0705,
         39533332,
         9020122430,
         -7.0E-4,
         "LOW"
        ],
        [
         "2025-03-31T00:00:00.000Z",
         "JPMORGAN CHASE & CO",
         0.0494,
         27712890,
         6323111360,
         0.0806,
         "LOW"
        ],
        [
         "2025-03-31T00:00:00.000Z",
         "FMR, LLC",
         0.048699997,
         27289269,
         6226455878,
         0.0388,
         "LOW"
        ],
        [
         "2025-03-31T00:00:00.000Z",
         "State Street Corporation",
         0.044099998,
         24703949,
         5636576357,
         -0.0325,
         "LOW"
        ],
        [
         "2025-03-31T00:00:00.000Z",
         "Geode Capital Management, LLC",
         0.022,
         12309593,
         2808618204,
         0.0276,
         "LOW"
        ],
        [
         "2025-03-31T00:00:00.000Z",
         "Bank of America Corporation",
         0.0194,
         10888341,
         2484338251,
         0.1238,
         "LOW"
        ],
        [
         "2025-03-31T00:00:00.000Z",
         "Morgan Stanley",
         0.019199999,
         10739240,
         2450318622,
         0.035099998,
         "LOW"
        ],
        [
         "2025-03-31T00:00:00.000Z",
         "Wells Fargo & Company",
         0.0185,
         10362574,
         2364376627,
         -0.011,
         "LOW"
        ],
        [
         "2024-12-31T00:00:00.000Z",
         "NORGES BANK",
         0.013300001,
         7467400,
         1703799270,
         0.0401,
         "LOW"
        ],
        [
         "2025-03-31T00:00:00.000Z",
         "Vanguard Group Inc",
         0.098500006,
         58831282,
         13166441091,
         -0.0023,
         "UNP"
        ],
        [
         "2025-03-31T00:00:00.000Z",
         "Blackrock Inc.",
         0.0757,
         45226532,
         10121697999,
         0.006,
         "UNP"
        ],
        [
         "2025-03-31T00:00:00.000Z",
         "State Street Corporation",
         0.042600002,
         25461115,
         5698197614,
         0.0067000003,
         "UNP"
        ],
        [
         "2025-03-31T00:00:00.000Z",
         "JPMORGAN CHASE & CO",
         0.028199999,
         16835560,
         3767798379,
         0.5704,
         "UNP"
        ],
        [
         "2025-03-31T00:00:00.000Z",
         "Geode Capital Management, LLC",
         0.0252,
         15044639,
         3366990254,
         0.042600002,
         "UNP"
        ],
        [
         "2025-03-31T00:00:00.000Z",
         "Bank of America Corporation",
         0.0183,
         10952375,
         2451141558,
         0.0705,
         "UNP"
        ],
        [
         "2025-03-31T00:00:00.000Z",
         "Morgan Stanley",
         0.0172,
         10278220,
         2300265667,
         0.057800002,
         "UNP"
        ],
        [
         "2025-03-31T00:00:00.000Z",
         "Capital Research Global Investors",
         0.0148,
         8852220,
         1981126863,
         -0.14840001,
         "UNP"
        ],
        [
         "2024-12-31T00:00:00.000Z",
         "NORGES BANK",
         0.014099999,
         8451923,
         1891540393,
         0.0377,
         "UNP"
        ],
        [
         "2025-03-31T00:00:00.000Z",
         "Capital International Investors",
         0.0139999995,
         8377636,
         1874914962,
         -0.0382,
         "UNP"
        ],
        [
         "2025-03-31T00:00:00.000Z",
         "Blackrock Inc.",
         0.089700006,
         391258993,
         7944513972,
         0.0068,
         "INTC"
        ],
        [
         "2025-03-31T00:00:00.000Z",
         "Vanguard Group Inc",
         0.0865,
         377390437,
         7662912938,
         0.0225,
         "INTC"
        ],
        [
         "2025-03-31T00:00:00.000Z",
         "State Street Corporation",
         0.046,
         200448805,
         4070113046,
         0.0061000003,
         "INTC"
        ],
        [
         "2025-03-31T00:00:00.000Z",
         "Geode Capital Management, LLC",
         0.022,
         95802306,
         1945265852,
         0.0033000002,
         "INTC"
        ],
        [
         "2025-03-31T00:00:00.000Z",
         "Primecap Management Company",
         0.0176,
         76984290,
         1563166031,
         -9.0000004E-4,
         "INTC"
        ],
        [
         "2025-03-31T00:00:00.000Z",
         "Capital World Investors",
         0.0148,
         64401411,
         1307670670,
         5.8311,
         "INTC"
        ],
        [
         "2024-12-31T00:00:00.000Z",
         "NORGES BANK",
         0.0143,
         62173015,
         1262423088,
         0.0471,
         "INTC"
        ],
        [
         "2025-03-31T00:00:00.000Z",
         "UBS AM, a distinct business unit of UBS ASSET MANAGEMENT AMERICAS LLC",
         0.0136,
         59205468,
         1202167045,
         -0.0641,
         "INTC"
        ],
        [
         "2025-03-31T00:00:00.000Z",
         "Morgan Stanley",
         0.0119,
         51892077,
         1053668639,
         -0.5084,
         "INTC"
        ],
        [
         "2025-03-31T00:00:00.000Z",
         "JPMORGAN CHASE & CO",
         0.0117999995,
         51358819,
         1042840835,
         1.2933,
         "INTC"
        ],
        [
         "2025-03-31T00:00:00.000Z",
         "Vanguard Group Inc",
         0.0575,
         160925413,
         27955962942,
         0.0223,
         "ORCL"
        ],
        [
         "2025-03-31T00:00:00.000Z",
         "Blackrock Inc.",
         0.048800003,
         136535507,
         23718948442,
         0.0219,
         "ORCL"
        ],
        [
         "2025-03-31T00:00:00.000Z",
         "State Street Corporation",
         0.025799999,
         72206668,
         12543742453,
         0.0083,
         "ORCL"
        ],
        [
         "2025-03-31T00:00:00.000Z",
         "JPMORGAN CHASE & CO",
         0.0154,
         43033191,
         7475725993,
         -0.0502,
         "ORCL"
        ],
        [
         "2025-03-31T00:00:00.000Z",
         "Geode Capital Management, LLC",
         0.0134000005,
         37582718,
         6528869816,
         0.0494,
         "ORCL"
        ],
        [
         "2025-03-31T00:00:00.000Z",
         "FMR, LLC",
         0.0115,
         32073372,
         5571786222,
         -0.156,
         "ORCL"
        ],
        [
         "2025-03-31T00:00:00.000Z",
         "Morgan Stanley",
         0.0104,
         28962475,
         5031361192,
         0.2836,
         "ORCL"
        ],
        [
         "2025-03-31T00:00:00.000Z",
         "Northern Trust Corporation",
         0.0070999996,
         19741423,
         3429480027,
         0.0062,
         "ORCL"
        ],
        [
         "2025-03-31T00:00:00.000Z",
         "Capital Research Global Investors",
         0.0068,
         19010522,
         3302507905,
         0.5902,
         "ORCL"
        ],
        [
         "2025-03-31T00:00:00.000Z",
         "Fisher Asset Management, LLC",
         0.0063,
         17601888,
         3057800004,
         -0.0219,
         "ORCL"
        ],
        [
         "2025-03-31T00:00:00.000Z",
         "Vanguard Group Inc",
         0.0971,
         29779003,
         15525729608,
         0.0037,
         "SPGI"
        ],
        [
         "2025-03-31T00:00:00.000Z",
         "Blackrock Inc.",
         0.088999994,
         27289815,
         14227954130,
         0.0286,
         "SPGI"
        ],
        [
         "2025-03-31T00:00:00.000Z",
         "State Street Corporation",
         0.0465,
         14257775,
         7433504723,
         -1.0E-4,
         "SPGI"
        ],
        [
         "2025-03-31T00:00:00.000Z",
         "TCI Fund Management Ltd",
         0.033800002,
         10361269,
         5402002911,
         -0.0037,
         "SPGI"
        ],
        [
         "2025-03-31T00:00:00.000Z",
         "Morgan Stanley",
         0.0256,
         7862108,
         4099027860,
         0.2612,
         "SPGI"
        ],
        [
         "2025-03-31T00:00:00.000Z",
         "Geode Capital Management, LLC",
         0.022,
         6750558,
         3519504605,
         0.024400001,
         "SPGI"
        ],
        [
         "2025-03-31T00:00:00.000Z",
         "Wellington Management Group, LLP",
         0.021,
         6446793,
         3361132169,
         -0.1725,
         "SPGI"
        ],
        [
         "2025-03-31T00:00:00.000Z",
         "FMR, LLC",
         0.0194,
         5957749,
         3106161749,
         0.0108,
         "SPGI"
        ],
        [
         "2025-03-31T00:00:00.000Z",
         "Bank of America Corporation",
         0.0174,
         5339476,
         2783815852,
         0.082200006,
         "SPGI"
        ],
        [
         "2024-12-31T00:00:00.000Z",
         "NORGES BANK",
         0.0113,
         3463815,
         1805911873,
         -0.1416,
         "SPGI"
        ],
        [
         "2025-03-31T00:00:00.000Z",
         "Vanguard Group Inc",
         0.100200005,
         93137767,
         25114581249,
         0.014099999,
         "IBM"
        ],
        [
         "2025-03-31T00:00:00.000Z",
         "Blackrock Inc.",
         0.0859,
         79851653,
         21531983122,
         0.0121,
         "IBM"
        ],
        [
         "2025-03-31T00:00:00.000Z",
         "State Street Corporation",
         0.0585,
         54389242,
         14666048814,
         -0.019299999,
         "IBM"
        ],
        [
         "2025-03-31T00:00:00.000Z",
         "Geode Capital Management, LLC",
         0.0232,
         21536104,
         5807206368,
         0.03,
         "IBM"
        ],
        [
         "2025-03-31T00:00:00.000Z",
         "JPMORGAN CHASE & CO",
         0.0223,
         20725897,
         5588734204,
         0.5752,
         "IBM"
        ],
        [
         "2025-03-31T00:00:00.000Z",
         "Morgan Stanley",
         0.0178,
         16497056,
         4448428029,
         0.1775,
         "IBM"
        ],
        [
         "2025-03-31T00:00:00.000Z",
         "Bank of America Corporation",
         0.0173,
         16046123,
         4326834030,
         -0.0064,
         "IBM"
        ],
        [
         "2025-03-31T00:00:00.000Z",
         "Capital World Investors",
         0.0167,
         15528642,
         4187295377,
         0.29569998,
         "IBM"
        ],
        [
         "2025-03-31T00:00:00.000Z",
         "Northern Trust Corporation",
         0.0116,
         10779526,
         2906697146,
         -0.0061000003,
         "IBM"
        ],
        [
         "2025-03-31T00:00:00.000Z",
         "UBS AM, a distinct business unit of UBS ASSET MANAGEMENT AMERICAS LLC",
         0.0093,
         8636725,
         2328891262,
         0.0647,
         "IBM"
        ],
        [
         "2025-03-31T00:00:00.000Z",
         "Vanguard Group Inc",
         0.094,
         152367351,
         17895544909,
         0.014400001,
         "AMD"
        ],
        [
         "2025-03-31T00:00:00.000Z",
         "Blackrock Inc.",
         0.083000004,
         134546962,
         15802540276,
         0.0269,
         "AMD"
        ],
        [
         "2025-03-31T00:00:00.000Z",
         "State Street Corporation",
         0.044099998,
         71487929,
         8396257042,
         0.0023,
         "AMD"
        ],
        [
         "2025-03-31T00:00:00.000Z",
         "Geode Capital Management, LLC",
         0.0223,
         36176240,
         4248899277,
         0.0313,
         "AMD"
        ],
        [
         "2025-03-31T00:00:00.000Z",
         "Morgan Stanley",
         0.0183,
         29634041,
         3480518025,
         -0.0365,
         "AMD"
        ],
        [
         "2024-12-31T00:00:00.000Z",
         "NORGES BANK",
         0.0146,
         23737003,
         2787910929,
         0.056799997,
         "AMD"
        ],
        [
         "2025-03-31T00:00:00.000Z",
         "UBS AM, a distinct business unit of UBS ASSET MANAGEMENT AMERICAS LLC",
         0.013200001,
         21363923,
         2509192691,
         -0.0018000001,
         "AMD"
        ],
        [
         "2025-03-31T00:00:00.000Z",
         "Amundi",
         0.011,
         17829010,
         2094017170,
         0.0802,
         "AMD"
        ],
        [
         "2025-03-31T00:00:00.000Z",
         "Northern Trust Corporation",
         0.010199999,
         16484474,
         1936101420,
         -0.039100002,
         "AMD"
        ],
        [
         "2025-03-31T00:00:00.000Z",
         "Barclays Plc",
         0.0089,
         14479703,
         1700641073,
         0.1821,
         "AMD"
        ],
        [
         "2025-03-31T00:00:00.000Z",
         "Vanguard Group Inc",
         0.0951,
         29169053,
         18098231265,
         -0.0082,
         "GS"
        ],
        [
         "2025-03-31T00:00:00.000Z",
         "Blackrock Inc.",
         0.077800006,
         23859923,
         14804128348,
         8.0E-4,
         "GS"
        ],
        [
         "2025-03-31T00:00:00.000Z",
         "State Street Corporation",
         0.0641,
         19673820,
         12206818789,
         0.0047999998,
         "GS"
        ],
        [
         "2025-03-31T00:00:00.000Z",
         "Morgan Stanley",
         0.028299998,
         8676942,
         5383695623,
         0.081499994,
         "GS"
        ],
        [
         "2025-03-31T00:00:00.000Z",
         "JPMORGAN CHASE & CO",
         0.0255,
         7832723,
         4859891484,
         -0.0123000005,
         "GS"
        ],
        [
         "2025-03-31T00:00:00.000Z",
         "Geode Capital Management, LLC",
         0.022,
         6735453,
         4179079316,
         0.023,
         "GS"
        ],
        [
         "2025-03-31T00:00:00.000Z",
         "Fisher Asset Management, LLC",
         0.020599999,
         6312142,
         3916431764,
         0.0255,
         "GS"
        ],
        [
         "2025-03-31T00:00:00.000Z",
         "Capital World Investors",
         0.0163,
         5011041,
         3109150608,
         -0.16299999,
         "GS"
        ],
        [
         "2025-03-31T00:00:00.000Z",
         "Bank of America Corporation",
         0.0163,
         4991143,
         3096804695,
         0.6914,
         "GS"
        ],
        [
         "2025-03-31T00:00:00.000Z",
         "Price (T.Rowe) Associates Inc",
         0.0117,
         3579706,
         2221064463,
         -0.0404,
         "GS"
        ],
        [
         "2025-03-31T00:00:00.000Z",
         "Vanguard Group Inc",
         0.09810001,
         46215478,
         16486354889,
         -0.0127,
         "CAT"
        ],
        [
         "2025-03-31T00:00:00.000Z",
         "State Street Corporation",
         0.076799996,
         36162931,
         12900329934,
         -0.0128,
         "CAT"
        ],
        [
         "2025-03-31T00:00:00.000Z",
         "Blackrock Inc.",
         0.075100005,
         35380536,
         12621227733,
         -0.0039,
         "CAT"
        ],
        [
         "2025-03-31T00:00:00.000Z",
         "State Farm Mutual Automobile Insurance Co",
         0.0375,
         17669440,
         6303183936,
         -0.0037,
         "CAT"
        ],
        [
         "2025-03-31T00:00:00.000Z",
         "Geode Capital Management, LLC",
         0.0223,
         10516618,
         3751572072,
         0.0064,
         "CAT"
        ],
        [
         "2025-03-31T00:00:00.000Z",
         "Fisher Asset Management, LLC",
         0.0196,
         9210125,
         3285509441,
         0.014099999,
         "CAT"
        ],
        [
         "2025-03-31T00:00:00.000Z",
         "Capital World Investors",
         0.0171,
         8074751,
         2880489749,
         -0.5076,
         "CAT"
        ],
        [
         "2025-03-31T00:00:00.000Z",
         "Gates Foundation Trust",
         0.0156,
         7353614,
         2623239991,
         0.0,
         "CAT"
        ],
        [
         "2025-03-31T00:00:00.000Z",
         "Morgan Stanley",
         0.0152,
         7168773,
         2557302031,
         -0.0464,
         "CAT"
        ],
        [
         "2025-03-31T00:00:00.000Z",
         "Northern Trust Corporation",
         0.0139999995,
         6597679,
         2353576813,
         -0.0365,
         "CAT"
        ],
        [
         "2025-03-31T00:00:00.000Z",
         "Vanguard Group Inc",
         0.098000005,
         27330309,
         20950868740,
         0.0109,
         "INTU"
        ],
        [
         "2025-03-31T00:00:00.000Z",
         "Blackrock Inc.",
         0.087299995,
         24341548,
         18659744281,
         0.0047999998,
         "INTU"
        ],
        [
         "2025-03-31T00:00:00.000Z",
         "State Street Corporation",
         0.0452,
         12598333,
         9657630326,
         -0.0011,
         "INTU"
        ],
        [
         "2025-03-31T00:00:00.000Z",
         "Price (T.Rowe) Associates Inc",
         0.0323,
         9018770,
         6913608860,
         0.0776,
         "INTU"
        ],
        [
         "2025-03-31T00:00:00.000Z",
         "JPMORGAN CHASE & CO",
         0.0317,
         8855622,
         6788542864,
         0.1469,
         "INTU"
        ],
        [
         "2025-03-31T00:00:00.000Z",
         "Geode Capital Management, LLC",
         0.0226,
         6307915,
         4835521588,
         0.0322,
         "INTU"
        ],
        [
         "2025-03-31T00:00:00.000Z",
         "Wellington Management Group, LLP",
         0.020299999,
         5655249,
         4335200875,
         0.067600004,
         "INTU"
        ],
        [
         "2025-03-31T00:00:00.000Z",
         "Morgan Stanley",
         0.015700001,
         4373545,
         3352672200,
         -0.0548,
         "INTU"
        ],
        [
         "2024-12-31T00:00:00.000Z",
         "NORGES BANK",
         0.013099999,
         3644262,
         2793618426,
         0.1723,
         "INTU"
        ],
        [
         "2025-03-31T00:00:00.000Z",
         "Brown Advisory  Inc.",
         0.0123000005,
         3444600,
         2640561526,
         0.079,
         "INTU"
        ],
        [
         "2025-03-31T00:00:00.000Z",
         "Vanguard Group Inc",
         0.081499994,
         22063590,
         11567278760,
         0.0085,
         "DE"
        ],
        [
         "2025-03-31T00:00:00.000Z",
         "Blackrock Inc.",
         0.0675,
         18288228,
         9587969650,
         0.0397,
         "DE"
        ],
        [
         "2025-03-31T00:00:00.000Z",
         "State Street Corporation",
         0.0381,
         10322006,
         5411518287,
         -0.0027,
         "DE"
        ],
        [
         "2025-03-31T00:00:00.000Z",
         "JPMORGAN CHASE & CO",
         0.0361,
         9775682,
         5125096993,
         0.0116,
         "DE"
        ],
        [
         "2025-03-31T00:00:00.000Z",
         "FMR, LLC",
         0.027999999,
         7593705,
         3981151868,
         0.36049998,
         "DE"
        ],
        [
         "2025-03-31T00:00:00.000Z",
         "Price (T.Rowe) Associates Inc",
         0.0254,
         6876013,
         3604887469,
         0.0434,
         "DE"
        ],
        [
         "2025-03-31T00:00:00.000Z",
         "Capital World Investors",
         0.0234,
         6339089,
         3323394313,
         0.0464,
         "DE"
        ],
        [
         "2025-03-31T00:00:00.000Z",
         "Geode Capital Management, LLC",
         0.0201,
         5430151,
         2846865370,
         0.0235,
         "DE"
        ],
        [
         "2025-03-31T00:00:00.000Z",
         "Wellington Management Group, LLP",
         0.0195,
         5290009,
         2773393121,
         -0.2158,
         "DE"
        ],
        [
         "2025-03-31T00:00:00.000Z",
         "Morgan Stanley",
         0.015800001,
         4292346,
         2250348321,
         -0.0215,
         "DE"
        ],
        [
         "2025-03-31T00:00:00.000Z",
         "Vanguard Group Inc",
         0.0888,
         13764072,
         13745903324,
         0.029000001,
         "BLK"
        ],
        [
         "2025-03-31T00:00:00.000Z",
         "Blackrock Inc.",
         0.0668,
         10355778,
         10342108297,
         0.0307,
         "BLK"
        ],
        [
         "2025-03-31T00:00:00.000Z",
         "State Street Corporation",
         0.041100003,
         6361914,
         6353516226,
         0.0095,
         "BLK"
        ],
        [
         "2025-03-31T00:00:00.000Z",
         "Temasek Holdings (Private) Ltd",
         0.032899998,
         5092825,
         5086102433,
         0.0,
         "BLK"
        ],
        [
         "2025-03-31T00:00:00.000Z",
         "Bank of America Corporation",
         0.0287,
         4443863,
         4437997068,
         -0.11,
         "BLK"
        ],
        [
         "2025-03-31T00:00:00.000Z",
         "Capital World Investors",
         0.026099999,
         4047860,
         4042516795,
         -0.0121,
         "BLK"
        ],
        [
         "2025-03-31T00:00:00.000Z",
         "Morgan Stanley",
         0.025799999,
         3999925,
         3994645069,
         -0.16370001,
         "BLK"
        ],
        [
         "2025-03-31T00:00:00.000Z",
         "Capital Research Global Investors",
         0.0222,
         3432383,
         3427852229,
         0.0543,
         "BLK"
        ],
        [
         "2025-03-31T00:00:00.000Z",
         "Geode Capital Management, LLC",
         0.0201,
         3109380,
         3105275595,
         0.0341,
         "BLK"
        ],
        [
         "2025-03-31T00:00:00.000Z",
         "Wells Fargo & Company",
         0.0166,
         2569634,
         2566242064,
         0.0074,
         "BLK"
        ],
        [
         "2025-03-31T00:00:00.000Z",
         "Blackrock Inc.",
         0.0979,
         78574535,
         13215521971,
         -0.0165,
         "AMAT"
        ],
        [
         "2025-03-31T00:00:00.000Z",
         "Vanguard Group Inc",
         0.0962,
         77177161,
         12980496377,
         0.0018000001,
         "AMAT"
        ],
        [
         "2025-03-31T00:00:00.000Z",
         "State Street Corporation",
         0.048,
         38529444,
         6480301967,
         -0.0149,
         "AMAT"
        ],
        [
         "2025-03-31T00:00:00.000Z",
         "Geode Capital Management, LLC",
         0.0257,
         20619081,
         3467941846,
         0.0269,
         "AMAT"
        ],
        [
         "2025-03-31T00:00:00.000Z",
         "Capital International Investors",
         0.0161,
         12898244,
         2169367301,
         -0.1777,
         "AMAT"
        ],
        [
         "2025-03-31T00:00:00.000Z",
         "Capital World Investors",
         0.0152,
         12206853,
         2053081625,
         -0.104499996,
         "AMAT"
        ],
        [
         "2025-03-31T00:00:00.000Z",
         "Morgan Stanley",
         0.0126,
         10149089,
         1706984440,
         -0.0792,
         "AMAT"
        ],
        [
         "2024-12-31T00:00:00.000Z",
         "NORGES BANK",
         0.012200001,
         9767091,
         1642735852,
         -0.089700006,
         "AMAT"
        ],
        [
         "2025-03-31T00:00:00.000Z",
         "Northern Trust Corporation",
         0.012200001,
         9764419,
         1642286446,
         -0.0456,
         "AMAT"
        ],
        [
         "2025-03-31T00:00:00.000Z",
         "FMR, LLC",
         0.0113,
         9098065,
         1530211765,
         -0.0352,
         "AMAT"
        ],
        [
         "2025-03-31T00:00:00.000Z",
         "Vanguard Group Inc",
         0.0911,
         32665531,
         18396083047,
         0.014099999,
         "ISRG"
        ],
        [
         "2025-03-31T00:00:00.000Z",
         "Blackrock Inc.",
         0.0877,
         31449561,
         17711291329,
         0.0023,
         "ISRG"
        ],
        [
         "2025-03-31T00:00:00.000Z",
         "State Street Corporation",
         0.0429,
         15369332,
         8655469518,
         0.0042,
         "ISRG"
        ],
        [
         "2025-03-31T00:00:00.000Z",
         "Price (T.Rowe) Associates Inc",
         0.0385,
         13783243,
         7762239741,
         -0.047399998,
         "ISRG"
        ],
        [
         "2025-03-31T00:00:00.000Z",
         "FMR, LLC",
         0.0272,
         9732543,
         5481027364,
         -0.1007,
         "ISRG"
        ],
        [
         "2025-03-31T00:00:00.000Z",
         "JPMORGAN CHASE & CO",
         0.0239,
         8572650,
         4827816248,
         -0.15529999,
         "ISRG"
        ],
        [
         "2025-03-31T00:00:00.000Z",
         "Geode Capital Management, LLC",
         0.0225,
         8078781,
         4549686524,
         0.041500002,
         "ISRG"
        ],
        [
         "2025-03-31T00:00:00.000Z",
         "Capital World Investors",
         0.021,
         7518819,
         4234335536,
         0.0124,
         "ISRG"
        ],
        [
         "2025-03-31T00:00:00.000Z",
         "Morgan Stanley",
         0.0165,
         5930218,
         3339691089,
         0.0194,
         "ISRG"
        ],
        [
         "2025-03-31T00:00:00.000Z",
         "Bank Of New York Mellon Corporation",
         0.0136,
         4872629,
         2744094003,
         -0.045100003,
         "ISRG"
        ],
        [
         "2025-03-31T00:00:00.000Z",
         "Vanguard Group Inc",
         0.0986,
         112059570,
         9950890157,
         0.0086,
         "SBUX"
        ],
        [
         "2025-03-31T00:00:00.000Z",
         "Blackrock Inc.",
         0.0688,
         78237997,
         6947534372,
         0.0136,
         "SBUX"
        ],
        [
         "2025-03-31T00:00:00.000Z",
         "Capital World Investors",
         0.0655,
         74466420,
         6612618323,
         0.35580003,
         "SBUX"
        ],
        [
         "2025-03-31T00:00:00.000Z",
         "State Street Corporation",
         0.041300002,
         46968798,
         4170829405,
         -0.0124,
         "SBUX"
        ],
        [
         "2025-03-31T00:00:00.000Z",
         "Capital Research Global Investors",
         0.0312,
         35422093,
         3145481966,
         5.2251,
         "SBUX"
        ],
        [
         "2025-03-31T00:00:00.000Z",
         "Morgan Stanley",
         0.0238,
         27023273,
         2399666724,
         0.0097,
         "SBUX"
        ],
        [
         "2025-03-31T00:00:00.000Z",
         "FMR, LLC",
         0.0231,
         26194897,
         2326106933,
         0.0424,
         "SBUX"
        ],
        [
         "2025-03-31T00:00:00.000Z",
         "Geode Capital Management, LLC",
         0.0227,
         25746651,
         2286302687,
         0.037100002,
         "SBUX"
        ],
        [
         "2025-03-31T00:00:00.000Z",
         "JPMORGAN CHASE & CO",
         0.0214,
         24311579,
         2158868289,
         0.5778,
         "SBUX"
        ],
        [
         "2025-03-31T00:00:00.000Z",
         "Wellington Management Group, LLP",
         0.0171,
         19414472,
         1724005172,
         0.2234,
         "SBUX"
        ],
        [
         "2025-03-31T00:00:00.000Z",
         "Vanguard Group Inc",
         0.094399996,
         117470825,
         13065692331,
         0.0168,
         "GILD"
        ],
        [
         "2025-03-31T00:00:00.000Z",
         "Blackrock Inc.",
         0.0933,
         116104572,
         12913730843,
         -0.0353,
         "GILD"
        ],
        [
         "2025-03-31T00:00:00.000Z",
         "State Street Corporation",
         0.0479,
         59523675,
         6620520661,
         -0.014199999,
         "GILD"
        ],
        [
         "2025-03-31T00:00:00.000Z",
         "FMR, LLC",
         0.0471,
         58542842,
         6511427512,
         0.45200002,
         "GILD"
        ],
        [
         "2025-03-31T00:00:00.000Z",
         "Capital Research Global Investors",
         0.043899998,
         54610370,
         6074038319,
         -0.057600003,
         "GILD"
        ],
        [
         "2025-03-31T00:00:00.000Z",
         "Capital World Investors",
         0.043,
         53547901,
         5955865207,
         -0.2532,
         "GILD"
        ],
        [
         "2025-03-31T00:00:00.000Z",
         "Dodge & Cox Inc",
         0.026300002,
         32694791,
         3636478079,
         -0.0077,
         "GILD"
        ],
        [
         "2025-03-31T00:00:00.000Z",
         "Geode Capital Management, LLC",
         0.0229,
         28480147,
         3167704306,
         0.0067000003,
         "GILD"
        ],
        [
         "2025-03-31T00:00:00.000Z",
         "Wellington Management Group, LLP",
         0.022,
         27358967,
         3043001062,
         -0.2328,
         "GILD"
        ],
        [
         "2025-03-31T00:00:00.000Z",
         "Morgan Stanley",
         0.0159,
         19800980,
         2202363970,
         -0.0134000005,
         "GILD"
        ],
        [
         "2025-03-31T00:00:00.000Z",
         "Vanguard Group Inc",
         0.09020001,
         48521158,
         7189379892,
         -0.0083,
         "MMM"
        ],
        [
         "2025-03-31T00:00:00.000Z",
         "Blackrock Inc.",
         0.0766,
         41215938,
         6106965457,
         -0.0136,
         "MMM"
        ],
        [
         "2025-03-31T00:00:00.000Z",
         "State Street Corporation",
         0.0512,
         27564620,
         4084249694,
         -0.0043,
         "MMM"
        ],
        [
         "2025-03-31T00:00:00.000Z",
         "JPMORGAN CHASE & CO",
         0.051,
         27468428,
         4069996926,
         1.1195999,
         "MMM"
        ],
        [
         "2025-03-31T00:00:00.000Z",
         "Capital World Investors",
         0.0235,
         12635069,
         1872138150,
         1.0532,
         "MMM"
        ],
        [
         "2025-03-31T00:00:00.000Z",
         "FMR, LLC",
         0.0226,
         12186543,
         1805680053,
         0.38990003,
         "MMM"
        ],
        [
         "2025-03-31T00:00:00.000Z",
         "Geode Capital Management, LLC",
         0.022,
         11843472,
         1754847224,
         0.0232,
         "MMM"
        ],
        [
         "2025-03-31T00:00:00.000Z",
         "Morgan Stanley",
         0.019,
         10236345,
         1516719219,
         0.0401,
         "MMM"
        ],
        [
         "2025-03-31T00:00:00.000Z",
         "State Farm Mutual Automobile Insurance Co",
         0.0149,
         7998094,
         1185077573,
         -0.0221,
         "MMM"
        ],
        [
         "2025-03-31T00:00:00.000Z",
         "Newport Trust Company, LLC",
         0.0126,
         6798381,
         1007316100,
         -0.0432,
         "MMM"
        ],
        [
         "2025-03-31T00:00:00.000Z",
         "Vanguard Group Inc",
         0.099700004,
         49465370,
         11011980427,
         0.0073,
         "ADI"
        ],
        [
         "2025-03-31T00:00:00.000Z",
         "Blackrock Inc.",
         0.0794,
         39385611,
         8768024528,
         0.019,
         "ADI"
        ],
        [
         "2025-03-31T00:00:00.000Z",
         "JPMORGAN CHASE & CO",
         0.047,
         23341085,
         5196192228,
         -0.0706,
         "ADI"
        ],
        [
         "2025-03-31T00:00:00.000Z",
         "State Street Corporation",
         0.046,
         22810749,
         5078128830,
         -0.0028,
         "ADI"
        ],
        [
         "2025-03-31T00:00:00.000Z",
         "Price (T.Rowe) Associates Inc",
         0.023,
         11425084,
         2543452144,
         0.26700002,
         "ADI"
        ],
        [
         "2025-03-31T00:00:00.000Z",
         "Geode Capital Management, LLC",
         0.0223,
         11054235,
         2460893741,
         0.0417,
         "ADI"
        ],
        [
         "2025-03-31T00:00:00.000Z",
         "Massachusetts Financial Services Co.",
         0.020599999,
         10233477,
         2278176599,
         -0.111999996,
         "ADI"
        ],
        [
         "2025-03-31T00:00:00.000Z",
         "Morgan Stanley",
         0.019199999,
         9544873,
         2124879580,
         0.0311,
         "ADI"
        ],
        [
         "2025-03-31T00:00:00.000Z",
         "Wells Fargo & Company",
         0.0179,
         8861491,
         1972745083,
         -0.0023999999,
         "ADI"
        ],
        [
         "2024-12-31T00:00:00.000Z",
         "NORGES BANK",
         0.0167,
         8264887,
         1839929103,
         0.2017,
         "ADI"
        ],
        [
         "2025-03-31T00:00:00.000Z",
         "Vanguard Group Inc",
         0.0935,
         118335394,
         7537952951,
         0.0083,
         "CVS"
        ],
        [
         "2025-03-31T00:00:00.000Z",
         "Blackrock Inc.",
         0.088999994,
         112593476,
         7172193339,
         0.0625,
         "CVS"
        ],
        [
         "2025-03-31T00:00:00.000Z",
         "Dodge & Cox Inc",
         0.0581,
         73459122,
         4679338841,
         0.0478,
         "CVS"
        ],
        [
         "2025-03-31T00:00:00.000Z",
         "Capital World Investors",
         0.0541,
         68398405,
         4356971666,
         0.12060001,
         "CVS"
        ],
        [
         "2025-03-31T00:00:00.000Z",
         "State Street Corporation",
         0.0458,
         57988171,
         3693840785,
         0.0182,
         "CVS"
        ],
        [
         "2025-03-31T00:00:00.000Z",
         "FMR, LLC",
         0.024400001,
         30893511,
         1967913610,
         0.09810001,
         "CVS"
        ],
        [
         "2025-03-31T00:00:00.000Z",
         "Geode Capital Management, LLC",
         0.0221,
         27959409,
         1781011601,
         0.0336,
         "CVS"
        ],
        [
         "2025-03-31T00:00:00.000Z",
         "Capital International Investors",
         0.0207,
         26187658,
         1668151237,
         -0.018,
         "CVS"
        ],
        [
         "2025-03-31T00:00:00.000Z",
         "JPMORGAN CHASE & CO",
         0.0185,
         23436358,
         1492893698,
         0.6867,
         "CVS"
        ],
        [
         "2025-03-31T00:00:00.000Z",
         "Invesco Ltd.",
         0.0161,
         20413853,
         1300360426,
         0.1317,
         "CVS"
        ],
        [
         "2025-03-31T00:00:00.000Z",
         "Blackrock Inc.",
         0.0889,
         166073626,
         13011454021,
         0.0139,
         "C"
        ],
        [
         "2025-03-31T00:00:00.000Z",
         "Vanguard Group Inc",
         0.088199995,
         164703439,
         12904103290,
         -0.0106,
         "C"
        ],
        [
         "2025-03-31T00:00:00.000Z",
         "State Street Corporation",
         0.044899996,
         83782390,
         6564141107,
         0.003,
         "C"
        ],
        [
         "2025-03-31T00:00:00.000Z",
         "Capital World Investors",
         0.0251,
         46929267,
         3676790918,
         0.4968,
         "C"
        ],
        [
         "2025-03-31T00:00:00.000Z",
         "Geode Capital Management, LLC",
         0.0228,
         42545296,
         3333317734,
         0.0482,
         "C"
        ],
        [
         "2025-03-31T00:00:00.000Z",
         "Price (T.Rowe) Associates Inc",
         0.022,
         41101459,
         3220196709,
         0.0659,
         "C"
        ],
        [
         "2025-03-31T00:00:00.000Z",
         "Bank of America Corporation",
         0.0177,
         33017204,
         2586815511,
         0.6086,
         "C"
        ],
        [
         "2025-03-31T00:00:00.000Z",
         "Franklin Resources, Inc.",
         0.016900001,
         31610565,
         2476608857,
         -0.0372,
         "C"
        ],
        [
         "2025-03-31T00:00:00.000Z",
         "Fisher Asset Management, LLC",
         0.0167,
         31173305,
         2442350627,
         0.038599998,
         "C"
        ],
        [
         "2025-03-31T00:00:00.000Z",
         "FMR, LLC",
         0.0155,
         29033089,
         2274670046,
         -0.1551,
         "C"
        ],
        [
         "2025-03-31T00:00:00.000Z",
         "Vanguard Group Inc",
         0.099300005,
         128536276,
         8561801422,
         -0.0295,
         "MDLZ"
        ],
        [
         "2025-03-31T00:00:00.000Z",
         "Blackrock Inc.",
         0.0736,
         95260761,
         6345319348,
         -0.0189,
         "MDLZ"
        ],
        [
         "2025-03-31T00:00:00.000Z",
         "JPMORGAN CHASE & CO",
         0.0462,
         59873945,
         3988203512,
         -0.0274,
         "MDLZ"
        ],
        [
         "2025-03-31T00:00:00.000Z",
         "State Street Corporation",
         0.0454,
         58775763,
         3915053609,
         -0.0307,
         "MDLZ"
        ],
        [
         "2025-03-31T00:00:00.000Z",
         "Capital International Investors",
         0.043899998,
         56896325,
         3789864242,
         2.5368,
         "MDLZ"
        ],
        [
         "2025-03-31T00:00:00.000Z",
         "Capital Research Global Investors",
         0.0277,
         35830140,
         2386645647,
         -0.045300003,
         "MDLZ"
        ],
        [
         "2025-03-31T00:00:00.000Z",
         "Price (T.Rowe) Associates Inc",
         0.0224,
         29017101,
         1932829115,
         0.90129995,
         "MDLZ"
        ],
        [
         "2025-03-31T00:00:00.000Z",
         "Geode Capital Management, LLC",
         0.0222,
         28708354,
         1912263477,
         -0.0070999996,
         "MDLZ"
        ],
        [
         "2025-03-31T00:00:00.000Z",
         "Bank of America Corporation",
         0.0182,
         23601740,
         1572111915,
         0.0533,
         "MDLZ"
        ],
        [
         "2025-03-31T00:00:00.000Z",
         "Morgan Stanley",
         0.0175,
         22649969,
         1508714448,
         0.0365,
         "MDLZ"
        ],
        [
         "2025-03-31T00:00:00.000Z",
         "Vanguard Group Inc",
         0.0983,
         52870453,
         15366532231,
         0.0028,
         "AMGN"
        ],
        [
         "2025-03-31T00:00:00.000Z",
         "Blackrock Inc.",
         0.0845,
         45439431,
         13206742923,
         -0.0045,
         "AMGN"
        ],
        [
         "2025-03-31T00:00:00.000Z",
         "State Street Corporation",
         0.0543,
         29179991,
         8481018163,
         -0.0086,
         "AMGN"
        ],
        [
         "2025-03-31T00:00:00.000Z",
         "Capital World Investors",
         0.0311,
         16701609,
         4854238964,
         1.5711999,
         "AMGN"
        ],
        [
         "2025-03-31T00:00:00.000Z",
         "Morgan Stanley",
         0.030199999,
         16234121,
         4718365919,
         0.115,
         "AMGN"
        ],
        [
         "2025-03-31T00:00:00.000Z",
         "Capital International Investors",
         0.028099999,
         15134865,
         4398872671,
         0.2393,
         "AMGN"
        ],
        [
         "2025-03-31T00:00:00.000Z",
         "Geode Capital Management, LLC",
         0.023699999,
         12727346,
         3699139338,
         0.0202,
         "AMGN"
        ],
        [
         "2025-03-31T00:00:00.000Z",
         "Primecap Management Company",
         0.023,
         12388295,
         3600595864,
         -0.047199998,
         "AMGN"
        ],
        [
         "2025-03-31T00:00:00.000Z",
         "Charles Schwab Investment Management, Inc.",
         0.0227,
         12205942,
         3547595878,
         -0.0757,
         "AMGN"
        ],
        [
         "2025-03-31T00:00:00.000Z",
         "Wells Fargo & Company",
         0.0135,
         7251482,
         2107606906,
         0.0164,
         "AMGN"
        ],
        [
         "2025-03-31T00:00:00.000Z",
         "Vanguard Group Inc",
         0.0866,
         33059964,
         12772717293,
         0.011,
         "SYK"
        ],
        [
         "2025-03-31T00:00:00.000Z",
         "Blackrock Inc.",
         0.0712,
         27182853,
         10502095422,
         0.0139,
         "SYK"
        ],
        [
         "2025-03-31T00:00:00.000Z",
         "Greenleaf Trust",
         0.0448,
         17116802,
         6613076557,
         -0.0354,
         "SYK"
        ],
        [
         "2025-03-31T00:00:00.000Z",
         "State Street Corporation",
         0.0388,
         14806528,
         5720502183,
         0.0019,
         "SYK"
        ],
        [
         "2025-03-31T00:00:00.000Z",
         "JPMORGAN CHASE & CO",
         0.033099998,
         12617277,
         4874685045,
         0.1673,
         "SYK"
        ],
        [
         "2025-03-31T00:00:00.000Z",
         "Price (T.Rowe) Associates Inc",
         0.0318,
         12131218,
         4686896148,
         0.0919,
         "SYK"
        ],
        [
         "2025-03-31T00:00:00.000Z",
         "FMR, LLC",
         0.020299999,
         7748541,
         2993648862,
         -0.0356,
         "SYK"
        ],
        [
         "2025-03-31T00:00:00.000Z",
         "Geode Capital Management, LLC",
         0.019199999,
         7313957,
         2825747331,
         0.034,
         "SYK"
        ],
        [
         "2025-03-31T00:00:00.000Z",
         "Capital Research Global Investors",
         0.018,
         6864770,
         2652203931,
         0.0033000002,
         "SYK"
        ],
        [
         "2025-03-31T00:00:00.000Z",
         "Wellington Management Group, LLP",
         0.0168,
         6395926,
         2471066049,
         -0.2366,
         "SYK"
        ],
        [
         "2025-03-31T00:00:00.000Z",
         "Vanguard Group Inc",
         0.090900004,
         2956462,
         16484758616,
         0.010299999,
         "BKNG"
        ],
        [
         "2025-03-31T00:00:00.000Z",
         "Blackrock Inc.",
         0.08189999,
         2666127,
         14865897155,
         0.0388,
         "BKNG"
        ],
        [
         "2025-03-31T00:00:00.000Z",
         "State Street Corporation",
         0.0435,
         1414491,
         7886975276,
         0.0018000001,
         "BKNG"
        ],
        [
         "2025-03-31T00:00:00.000Z",
         "JPMORGAN CHASE & CO",
         0.031400003,
         1023359,
         5706085886,
         0.1821,
         "BKNG"
        ],
        [
         "2025-03-31T00:00:00.000Z",
         "Capital World Investors",
         0.028499998,
         927145,
         5169612031,
         -0.22780001,
         "BKNG"
        ],
        [
         "2025-03-31T00:00:00.000Z",
         "Price (T.Rowe) Associates Inc",
         0.026600001,
         864960,
         4822878431,
         -0.1526,
         "BKNG"
        ],
        [
         "2025-03-31T00:00:00.000Z",
         "Geode Capital Management, LLC",
         0.025999999,
         845505,
         4714400467,
         0.052800003,
         "BKNG"
        ],
        [
         "2025-03-31T00:00:00.000Z",
         "Dodge & Cox Inc",
         0.0238,
         776008,
         4326896325,
         -0.0097,
         "BKNG"
        ],
        [
         "2025-03-31T00:00:00.000Z",
         "Morgan Stanley",
         0.0221,
         719952,
         4014337047,
         0.0967,
         "BKNG"
        ],
        [
         "2025-03-31T00:00:00.000Z",
         "FMR, LLC",
         0.019199999,
         623653,
         3477389246,
         -0.0217,
         "BKNG"
        ],
        [
         "2025-03-31T00:00:00.000Z",
         "Vanguard Group Inc",
         0.1308,
         121339410,
         13315483875,
         0.0072000003,
         "PLD"
        ],
        [
         "2025-03-31T00:00:00.000Z",
         "Blackrock Inc.",
         0.0999,
         92663202,
         10168628412,
         -0.0195,
         "PLD"
        ],
        [
         "2025-03-31T00:00:00.000Z",
         "State Street Corporation",
         0.062,
         57552298,
         6315645477,
         0.0089,
         "PLD"
        ],
        [
         "2025-03-31T00:00:00.000Z",
         "JPMORGAN CHASE & CO",
         0.0275,
         25532594,
         2801883111,
         -0.039,
         "PLD"
        ],
        [
         "2025-03-31T00:00:00.000Z",
         "Cohen & Steers Inc.",
         0.027,
         25096244,
         2753999152,
         -0.1142,
         "PLD"
        ],
        [
         "2025-03-31T00:00:00.000Z",
         "Geode Capital Management, LLC",
         0.0238,
         22106500,
         2425912111,
         0.0344,
         "PLD"
        ],
        [
         "2025-03-31T00:00:00.000Z",
         "Morgan Stanley",
         0.0228,
         21167320,
         2322848843,
         0.1338,
         "PLD"
        ],
        [
         "2025-03-31T00:00:00.000Z",
         "FMR, LLC",
         0.0217,
         20124070,
         2208365193,
         0.12560001,
         "PLD"
        ],
        [
         "2025-03-31T00:00:00.000Z",
         "Apg Asset Management US Inc.",
         0.0211,
         19593356,
         2150125963,
         0.0,
         "PLD"
        ],
        [
         "2025-03-31T00:00:00.000Z",
         "Bank of America Corporation",
         0.0184,
         17086357,
         1875014153,
         0.0467,
         "PLD"
        ],
        [
         "2025-03-31T00:00:00.000Z",
         "Vanguard Group Inc",
         0.0867,
         155862361,
         17789849153,
         0.0159,
         "DIS"
        ],
        [
         "2025-03-31T00:00:00.000Z",
         "Blackrock Inc.",
         0.0732,
         131539525,
         15013684461,
         0.0134000005,
         "DIS"
        ],
        [
         "2025-03-31T00:00:00.000Z",
         "State Street Corporation",
         0.044,
         79017150,
         9018875179,
         0.0135,
         "DIS"
        ],
        [
         "2025-03-31T00:00:00.000Z",
         "Morgan Stanley",
         0.0232,
         41647355,
         4753554086,
         0.0136,
         "DIS"
        ],
        [
         "2025-03-31T00:00:00.000Z",
         "Geode Capital Management, LLC",
         0.022,
         39534154,
         4512357130,
         0.0273,
         "DIS"
        ],
        [
         "2025-03-31T00:00:00.000Z",
         "JPMORGAN CHASE & CO",
         0.019299999,
         34648877,
         3954760413,
         0.21540001,
         "DIS"
        ],
        [
         "2025-03-31T00:00:00.000Z",
         "State Farm Mutual Automobile Insurance Co",
         0.0154,
         27696532,
         3161232276,
         -0.0589,
         "DIS"
        ],
        [
         "2025-03-31T00:00:00.000Z",
         "FMR, LLC",
         0.0145000005,
         26106535,
         2979752883,
         -0.2038,
         "DIS"
        ],
        [
         "2025-03-31T00:00:00.000Z",
         "Northern Trust Corporation",
         0.0123000005,
         22038747,
         2515462887,
         -0.0092,
         "DIS"
        ],
        [
         "2024-12-31T00:00:00.000Z",
         "NORGES BANK",
         0.0121,
         21692209,
         2475909664,
         0.0076,
         "DIS"
        ],
        [
         "2025-03-31T00:00:00.000Z",
         "Blackrock Inc.",
         0.09020001,
         100614478,
         12896763053,
         0.0095999995,
         "TJX"
        ],
        [
         "2025-03-31T00:00:00.000Z",
         "Vanguard Group Inc",
         0.09,
         100413764,
         12871035534,
         0.0111,
         "TJX"
        ],
        [
         "2025-03-31T00:00:00.000Z",
         "State Street Corporation",
         0.0433,
         48309799,
         6192349681,
         -0.0194,
         "TJX"
        ],
        [
         "2025-03-31T00:00:00.000Z",
         "FMR, LLC",
         0.0309,
         34426544,
         4412794157,
         -0.0372,
         "TJX"
        ],
        [
         "2025-03-31T00:00:00.000Z",
         "Wellington Management Group, LLP",
         0.0309,
         34461660,
         4417295326,
         -0.0108,
         "TJX"
        ],
        [
         "2025-03-31T00:00:00.000Z",
         "Geode Capital Management, LLC",
         0.0231,
         25769789,
         3303171365,
         0.059499998,
         "TJX"
        ],
        [
         "2025-03-31T00:00:00.000Z",
         "Morgan Stanley",
         0.023,
         25681893,
         3291904856,
         -0.0372,
         "TJX"
        ],
        [
         "2025-03-31T00:00:00.000Z",
         "JPMORGAN CHASE & CO",
         0.0194,
         21664789,
         2776992495,
         -0.0043,
         "TJX"
        ],
        [
         "2025-03-31T00:00:00.000Z",
         "Bank of America Corporation",
         0.019299999,
         21565107,
         2764215257,
         0.1423,
         "TJX"
        ],
        [
         "2025-03-31T00:00:00.000Z",
         "Bank Of New York Mellon Corporation",
         0.0164,
         18278977,
         2342999137,
         -0.0452,
         "TJX"
        ],
        [
         "2025-03-31T00:00:00.000Z",
         "Vanguard Group Inc",
         0.0887,
         86221849,
         6315750439,
         0.0032,
         "PYPL"
        ],
        [
         "2025-03-31T00:00:00.000Z",
         "Blackrock Inc.",
         0.0759,
         73831980,
         5408192535,
         -0.0066000004,
         "PYPL"
        ],
        [
         "2025-03-31T00:00:00.000Z",
         "State Street Corporation",
         0.0458,
         44536103,
         3262269544,
         0.020299999,
         "PYPL"
        ],
        [
         "2025-03-31T00:00:00.000Z",
         "Comprehensive Financial Management, LLC",
         0.0279,
         27119118,
         1986475393,
         0.0,
         "PYPL"
        ],
        [
         "2025-03-31T00:00:00.000Z",
         "Capital Research Global Investors",
         0.026300002,
         25569494,
         1872965435,
         0.42650002,
         "PYPL"
        ],
        [
         "2025-03-31T00:00:00.000Z",
         "Geode Capital Management, LLC",
         0.0228,
         22130433,
         1621054217,
         0.018099999,
         "PYPL"
        ],
        [
         "2025-03-31T00:00:00.000Z",
         "Morgan Stanley",
         0.0168,
         16302583,
         1194164204,
         -0.0163,
         "PYPL"
        ],
        [
         "2024-12-31T00:00:00.000Z",
         "NORGES BANK",
         0.013099999,
         12730025,
         932474331,
         0.18540001,
         "PYPL"
        ],
        [
         "2025-03-31T00:00:00.000Z",
         "Artisan Partners Limited Partnership",
         0.0121,
         11808017,
         864937245,
         0.513,
         "PYPL"
        ],
        [
         "2025-03-31T00:00:00.000Z",
         "Deutsche Bank Aktiengesellschaft",
         0.0116,
         11238218,
         823199468,
         0.19049999,
         "PYPL"
        ],
        [
         "2025-03-31T00:00:00.000Z",
         "Vanguard Group Inc",
         0.0939,
         158117225,
         9425367878,
         0.0083,
         "MO"
        ],
        [
         "2025-03-31T00:00:00.000Z",
         "Blackrock Inc.",
         0.0743,
         125084801,
         7456305063,
         -0.0623,
         "MO"
        ],
        [
         "2025-03-31T00:00:00.000Z",
         "State Street Corporation",
         0.0424,
         71480680,
         4260963378,
         -0.0119,
         "MO"
        ],
        [
         "2025-03-31T00:00:00.000Z",
         "Capital World Investors",
         0.0387,
         65197912,
         3886447574,
         0.042600002,
         "MO"
        ],
        [
         "2025-03-31T00:00:00.000Z",
         "Charles Schwab Investment Management, Inc.",
         0.0376,
         63288773,
         3772643797,
         0.0582,
         "MO"
        ],
        [
         "2025-03-31T00:00:00.000Z",
         "Geode Capital Management, LLC",
         0.026099999,
         43960254,
         2620470767,
         0.0482,
         "MO"
        ],
        [
         "2025-03-31T00:00:00.000Z",
         "Morgan Stanley",
         0.0149,
         25056028,
         1493589844,
         0.20030001,
         "MO"
        ],
        [
         "2025-03-31T00:00:00.000Z",
         "Arrowstreet Capital, Limited Partnership",
         0.0116,
         19474331,
         1160864882,
         -0.1257,
         "MO"
        ],
        [
         "2025-03-31T00:00:00.000Z",
         "GQG Partners LLC",
         0.0111,
         18698594,
         1114623199,
         81.4642,
         "MO"
        ],
        [
         "2025-03-31T00:00:00.000Z",
         "Northern Trust Corporation",
         0.0097,
         16269786,
         969841953,
         -0.0099,
         "MO"
        ],
        [
         "2025-03-31T00:00:00.000Z",
         "Vanguard Group Inc",
         0.0979,
         26154490,
         8141631415,
         0.0017,
         "CI"
        ],
        [
         "2025-03-31T00:00:00.000Z",
         "Blackrock Inc.",
         0.090299994,
         24115351,
         7506867818,
         0.0097,
         "CI"
        ],
        [
         "2025-03-31T00:00:00.000Z",
         "FMR, LLC",
         0.0499,
         13322069,
         4147026972,
         0.0687,
         "CI"
        ],
        [
         "2025-03-31T00:00:00.000Z",
         "State Street Corporation",
         0.0467,
         12470088,
         3881813800,
         -0.0196,
         "CI"
        ],
        [
         "2025-03-31T00:00:00.000Z",
         "Price (T.Rowe) Associates Inc",
         0.045100003,
         12056806,
         3753163242,
         0.0998,
         "CI"
        ],
        [
         "2025-03-31T00:00:00.000Z",
         "Massachusetts Financial Services Co.",
         0.0436,
         11654993,
         3628082870,
         0.0085,
         "CI"
        ],
        [
         "2025-03-31T00:00:00.000Z",
         "Dodge & Cox Inc",
         0.033299997,
         8889733,
         2767285061,
         0.0134000005,
         "CI"
        ],
        [
         "2025-03-31T00:00:00.000Z",
         "Sanders Capital, LLC",
         0.0299,
         7989436,
         2487031600,
         -0.0081,
         "CI"
        ],
        [
         "2025-03-31T00:00:00.000Z",
         "JPMORGAN CHASE & CO",
         0.023599999,
         6296496,
         1960036293,
         0.2392,
         "CI"
        ],
        [
         "2025-03-31T00:00:00.000Z",
         "Geode Capital Management, LLC",
         0.0226,
         6036684,
         1879159413,
         0.013300001,
         "CI"
        ],
        [
         "2025-03-31T00:00:00.000Z",
         "Vanguard Group Inc",
         0.0817,
         148395252,
         13132979802,
         0.1541,
         "SCHW"
        ],
        [
         "2025-03-31T00:00:00.000Z",
         "Blackrock Inc.",
         0.067600004,
         122859627,
         10873076989,
         0.1718,
         "SCHW"
        ],
        [
         "2025-03-31T00:00:00.000Z",
         "Dodge & Cox Inc",
         0.048800003,
         88750655,
         7854432967,
         -0.0069,
         "SCHW"
        ],
        [
         "2025-03-31T00:00:00.000Z",
         "Price (T.Rowe) Associates Inc",
         0.0452,
         82048984,
         7261335084,
         0.1225,
         "SCHW"
        ],
        [
         "2025-03-31T00:00:00.000Z",
         "State Street Corporation",
         0.0396,
         71933290,
         6366096165,
         0.1339,
         "SCHW"
        ],
        [
         "2025-03-31T00:00:00.000Z",
         "JPMORGAN CHASE & CO",
         0.0298,
         54160220,
         4793179470,
         0.1039,
         "SCHW"
        ],
        [
         "2025-03-31T00:00:00.000Z",
         "Geode Capital Management, LLC",
         0.02,
         36342807,
         3216338419,
         0.1761,
         "SCHW"
        ],
        [
         "2025-03-31T00:00:00.000Z",
         "FMR, LLC",
         0.0176,
         31978690,
         2830114065,
         2.2968,
         "SCHW"
        ],
        [
         "2025-03-31T00:00:00.000Z",
         "Franklin Resources, Inc.",
         0.0161,
         29220312,
         2585997612,
         0.20709999,
         "SCHW"
        ],
        [
         "2025-03-31T00:00:00.000Z",
         "Harris Associates L.P.",
         0.0152,
         27612443,
         2443701205,
         -0.0028,
         "SCHW"
        ],
        [
         "2025-03-31T00:00:00.000Z",
         "Berkshire Hathaway, Inc",
         0.2164,
         151610700,
         45965330915,
         0.0,
         "AXP"
        ],
        [
         "2025-03-31T00:00:00.000Z",
         "Vanguard Group Inc",
         0.0654,
         45843893,
         13898951143,
         0.0134000005,
         "AXP"
        ],
        [
         "2025-03-31T00:00:00.000Z",
         "Blackrock Inc.",
         0.0643,
         45025393,
         13650798319,
         0.0247,
         "AXP"
        ],
        [
         "2025-03-31T00:00:00.000Z",
         "State Street Corporation",
         0.0425,
         29770977,
         9025964588,
         -4.0E-4,
         "AXP"
        ],
        [
         "2025-03-31T00:00:00.000Z",
         "JPMORGAN CHASE & CO",
         0.026199998,
         18356343,
         5565275936,
         0.0958,
         "AXP"
        ],
        [
         "2025-03-31T00:00:00.000Z",
         "Wellington Management Group, LLP",
         0.0257,
         18025562,
         5464989755,
         0.1367,
         "AXP"
        ],
        [
         "2025-03-31T00:00:00.000Z",
         "Morgan Stanley",
         0.019,
         13284684,
         4027650397,
         -0.040599998,
         "AXP"
        ],
        [
         "2025-03-31T00:00:00.000Z",
         "Geode Capital Management, LLC",
         0.0173,
         12137570,
         3679868383,
         0.0328,
         "AXP"
        ],
        [
         "2025-03-31T00:00:00.000Z",
         "FMR, LLC",
         0.0149,
         10471990,
         3174897851,
         -0.0405,
         "AXP"
        ],
        [
         "2025-03-31T00:00:00.000Z",
         "Fisher Asset Management, LLC",
         0.0128,
         8972513,
         2720286425,
         0.0241,
         "AXP"
        ],
        [
         "2025-03-31T00:00:00.000Z",
         "Vanguard Group Inc",
         0.0849,
         90507442,
         23250458101,
         0.0077,
         "GE"
        ],
        [
         "2025-03-31T00:00:00.000Z",
         "Blackrock Inc.",
         0.076799996,
         81932390,
         21047612867,
         -0.0062,
         "GE"
        ],
        [
         "2025-03-31T00:00:00.000Z",
         "FMR, LLC",
         0.06,
         64009548,
         16443413723,
         -0.0421,
         "GE"
        ],
        [
         "2025-03-31T00:00:00.000Z",
         "TCI Fund Management Ltd",
         0.0446,
         47570947,
         12220501271,
         0.0342,
         "GE"
        ],
        [
         "2025-03-31T00:00:00.000Z",
         "Capital International Investors",
         0.0444,
         47330131,
         12158638045,
         -0.0075,
         "GE"
        ],
        [
         "2025-03-31T00:00:00.000Z",
         "State Street Corporation",
         0.040900003,
         43655046,
         11214545406,
         -0.0088,
         "GE"
        ],
        [
         "2025-03-31T00:00:00.000Z",
         "Capital Research Global Investors",
         0.0319,
         33966218,
         8725582239,
         -0.1907,
         "GE"
        ],
        [
         "2025-03-31T00:00:00.000Z",
         "Price (T.Rowe) Associates Inc",
         0.023599999,
         25131285,
         6455976171,
         0.0631,
         "GE"
        ],
        [
         "2025-03-31T00:00:00.000Z",
         "Geode Capital Management, LLC",
         0.0219,
         23389408,
         6008505363,
         0.0117999995,
         "GE"
        ],
        [
         "2025-03-31T00:00:00.000Z",
         "Capital World Investors",
         0.0164,
         17456553,
         4484414155,
         -0.1362,
         "GE"
        ],
        [
         "2025-03-31T00:00:00.000Z",
         "Vanguard Group Inc",
         0.09770001,
         28002802,
         4814241668,
         0.0471,
         "BDX"
        ],
        [
         "2025-03-31T00:00:00.000Z",
         "Blackrock Inc.",
         0.0834,
         23889913,
         4107153799,
         -0.0039,
         "BDX"
        ],
        [
         "2025-03-31T00:00:00.000Z",
         "State Street Corporation",
         0.048800003,
         13992640,
         2405614643,
         -0.0067000003,
         "BDX"
        ],
        [
         "2025-03-31T00:00:00.000Z",
         "T. Rowe Price Investment Management, Inc.",
         0.043899998,
         12575351,
         2161954320,
         0.037,
         "BDX"
        ],
        [
         "2025-03-31T00:00:00.000Z",
         "Price (T.Rowe) Associates Inc",
         0.0395,
         11314136,
         1945126240,
         -0.0836,
         "BDX"
        ],
        [
         "2025-03-31T00:00:00.000Z",
         "Morgan Stanley",
         0.03,
         8589897,
         1476775076,
         -0.1609,
         "BDX"
        ],
        [
         "2025-03-31T00:00:00.000Z",
         "Massachusetts Financial Services Co.",
         0.0239,
         6843856,
         1176595710,
         0.1082,
         "BDX"
        ],
        [
         "2025-03-31T00:00:00.000Z",
         "Geode Capital Management, LLC",
         0.0226,
         6479503,
         1113956143,
         0.0201,
         "BDX"
        ],
        [
         "2025-03-31T00:00:00.000Z",
         "First Eagle Investment Management, LLC",
         0.019299999,
         5517712,
         948605036,
         0.2467,
         "BDX"
        ],
        [
         "2025-03-31T00:00:00.000Z",
         "Generation Investment Management LLP",
         0.0185,
         5296447,
         910565158,
         -0.0892,
         "BDX"
        ],
        [
         "2025-03-31T00:00:00.000Z",
         "Vanguard Group Inc",
         0.096099995,
         34643827,
         9418963853,
         0.0117,
         "CME"
        ],
        [
         "2025-03-31T00:00:00.000Z",
         "Blackrock Inc.",
         0.090500005,
         32605744,
         8864849837,
         0.1009,
         "CME"
        ],
        [
         "2025-03-31T00:00:00.000Z",
         "State Street Corporation",
         0.0456,
         16439164,
         4469479988,
         0.021,
         "CME"
        ],
        [
         "2025-03-31T00:00:00.000Z",
         "JPMORGAN CHASE & CO",
         0.0349,
         12574112,
         3418649631,
         0.165,
         "CME"
        ],
        [
         "2025-03-31T00:00:00.000Z",
         "Morgan Stanley",
         0.0293,
         10562859,
         2871830156,
         -0.0381,
         "CME"
        ],
        [
         "2025-03-31T00:00:00.000Z",
         "Capital World Investors",
         0.027,
         9726423,
         2644419932,
         -0.13260001,
         "CME"
        ],
        [
         "2025-03-31T00:00:00.000Z",
         "Geode Capital Management, LLC",
         0.024600001,
         8858782,
         2408525693,
         0.0559,
         "CME"
        ],
        [
         "2025-03-31T00:00:00.000Z",
         "Bank Of New York Mellon Corporation",
         0.0171,
         6176107,
         1679160001,
         -0.0308,
         "CME"
        ],
        [
         "2025-03-31T00:00:00.000Z",
         "Price (T.Rowe) Associates Inc",
         0.0150999995,
         5448310,
         1481286549,
         -0.3421,
         "CME"
        ],
        [
         "2024-12-31T00:00:00.000Z",
         "NORGES BANK",
         0.013200001,
         4768500,
         1296459803,
         -0.0095,
         "CME"
        ],
        [
         "2025-03-31T00:00:00.000Z",
         "Vanguard Group Inc",
         0.098900005,
         53981854,
         6138276568,
         0.0064999997,
         "EOG"
        ],
        [
         "2025-03-31T00:00:00.000Z",
         "Capital World Investors",
         0.085200004,
         46516720,
         5289416188,
         0.012999999,
         "EOG"
        ],
        [
         "2025-03-31T00:00:00.000Z",
         "Blackrock Inc.",
         0.0748,
         40811376,
         4640661527,
         0.0016,
         "EOG"
        ],
        [
         "2025-03-31T00:00:00.000Z",
         "State Street Corporation",
         0.0577,
         31503898,
         3582308212,
         -0.0367,
         "EOG"
        ],
        [
         "2025-03-31T00:00:00.000Z",
         "Capital Research Global Investors",
         0.0545,
         29754893,
         3383428855,
         -0.0011999999,
         "EOG"
        ],
        [
         "2025-03-31T00:00:00.000Z",
         "JPMORGAN CHASE & CO",
         0.047399998,
         25864035,
         2940999396,
         0.0242,
         "EOG"
        ],
        [
         "2025-03-31T00:00:00.000Z",
         "Charles Schwab Investment Management, Inc.",
         0.0355,
         19380866,
         2203798255,
         0.0653,
         "EOG"
        ],
        [
         "2025-03-31T00:00:00.000Z",
         "Geode Capital Management, LLC",
         0.024,
         13125255,
         1492472734,
         0.045900002,
         "EOG"
        ],
        [
         "2025-03-31T00:00:00.000Z",
         "Ameriprise Financial, Inc.",
         0.0163,
         8888645,
         1010727814,
         -0.1832,
         "EOG"
        ],
        [
         "2025-03-31T00:00:00.000Z",
         "Price (T.Rowe) Associates Inc",
         0.0146,
         7981745,
         907604216,
         -0.1082,
         "EOG"
        ],
        [
         "2025-03-31T00:00:00.000Z",
         "Vanguard Group Inc",
         0.0956,
         120868565,
         10534904568,
         -0.007900001,
         "COP"
        ],
        [
         "2025-03-31T00:00:00.000Z",
         "Blackrock Inc.",
         0.08,
         101132298,
         8814691464,
         -0.0185,
         "COP"
        ],
        [
         "2025-03-31T00:00:00.000Z",
         "State Street Corporation",
         0.0553,
         69920486,
         6094269815,
         -0.051599998,
         "COP"
        ],
        [
         "2025-03-31T00:00:00.000Z",
         "JPMORGAN CHASE & CO",
         0.04,
         50592799,
         4409668546,
         -0.0052,
         "COP"
        ],
        [
         "2025-03-31T00:00:00.000Z",
         "Charles Schwab Investment Management, Inc.",
         0.0317,
         40094754,
         3494658905,
         3.7970002,
         "COP"
        ],
        [
         "2025-03-31T00:00:00.000Z",
         "Price (T.Rowe) Associates Inc",
         0.0315,
         39807409,
         3469613914,
         -0.1317,
         "COP"
        ],
        [
         "2025-03-31T00:00:00.000Z",
         "Capital International Investors",
         0.028099999,
         35497318,
         3093946366,
         0.1346,
         "COP"
        ],
        [
         "2025-03-31T00:00:00.000Z",
         "Wellington Management Group, LLP",
         0.025,
         31610608,
         2755180709,
         0.0139999995,
         "COP"
        ],
        [
         "2025-03-31T00:00:00.000Z",
         "Geode Capital Management, LLC",
         0.0222,
         28017626,
         2442016384,
         -0.004,
         "COP"
        ],
        [
         "2025-03-31T00:00:00.000Z",
         "Massachusetts Financial Services Co.",
         0.0197,
         24867788,
         2167476493,
         -0.016900001,
         "COP"
        ],
        [
         "2025-03-31T00:00:00.000Z",
         "Vanguard Group Inc",
         0.09060001,
         141230279,
         6318642919,
         0.0172,
         "USB"
        ],
        [
         "2025-03-31T00:00:00.000Z",
         "Blackrock Inc.",
         0.0797,
         124237308,
         5558377368,
         0.0061000003,
         "USB"
        ],
        [
         "2025-03-31T00:00:00.000Z",
         "State Street Corporation",
         0.0444,
         69175600,
         3094916460,
         0.0075,
         "USB"
        ],
        [
         "2025-03-31T00:00:00.000Z",
         "FMR, LLC",
         0.0433,
         67481308,
         3019113833,
         0.0053,
         "USB"
        ],
        [
         "2025-03-31T00:00:00.000Z",
         "MUFG Bank Ltd",
         0.028499998,
         44374155,
         1985299769,
         0.0,
         "USB"
        ],
        [
         "2025-03-31T00:00:00.000Z",
         "Geode Capital Management, LLC",
         0.0232,
         36175520,
         1618492825,
         0.0659,
         "USB"
        ],
        [
         "2025-03-31T00:00:00.000Z",
         "Viking Global Investors, L.P.",
         0.0224,
         34863502,
         1559793137,
         0.426,
         "USB"
        ],
        [
         "2025-03-31T00:00:00.000Z",
         "JPMORGAN CHASE & CO",
         0.0217,
         33797758,
         1512111749,
         -0.1739,
         "USB"
        ],
        [
         "2025-03-31T00:00:00.000Z",
         "Morgan Stanley",
         0.0175,
         27312475,
         1221960177,
         0.040999997,
         "USB"
        ],
        [
         "2025-03-31T00:00:00.000Z",
         "Aristotle Capital Management, LLC",
         0.0143,
         22246044,
         995288045,
         -0.026600001,
         "USB"
        ],
        [
         "2025-03-31T00:00:00.000Z",
         "Vanguard Group Inc",
         0.0987,
         44836356,
         4291287591,
         -0.0027,
         "TGT"
        ],
        [
         "2025-03-31T00:00:00.000Z",
         "State Street Corporation",
         0.0775,
         35207075,
         3369669116,
         -0.0064,
         "TGT"
        ],
        [
         "2025-03-31T00:00:00.000Z",
         "Blackrock Inc.",
         0.0771,
         35043629,
         3354025699,
         0.071100004,
         "TGT"
        ],
        [
         "2025-03-31T00:00:00.000Z",
         "Charles Schwab Investment Management, Inc.",
         0.035099998,
         15970414,
         1528528309,
         4.0783,
         "TGT"
        ],
        [
         "2025-03-31T00:00:00.000Z",
         "FMR, LLC",
         0.0278,
         12643713,
         1210129759,
         0.115100004,
         "TGT"
        ],
        [
         "2025-03-31T00:00:00.000Z",
         "Geode Capital Management, LLC",
         0.0224,
         10183735,
         974685267,
         0.030199999,
         "TGT"
        ],
        [
         "2025-03-31T00:00:00.000Z",
         "Wells Fargo & Company",
         0.0189,
         8586875,
         821849798,
         -0.028399998,
         "TGT"
        ],
        [
         "2025-03-31T00:00:00.000Z",
         "Franklin Resources, Inc.",
         0.0183,
         8333418,
         797591429,
         0.0306,
         "TGT"
        ],
        [
         "2025-03-31T00:00:00.000Z",
         "Bank of America Corporation",
         0.0166,
         7541143,
         721762789,
         -0.2345,
         "TGT"
        ],
        [
         "2025-03-31T00:00:00.000Z",
         "Morgan Stanley",
         0.0161,
         7315430,
         700159798,
         0.036199998,
         "TGT"
        ],
        [
         "2025-03-31T00:00:00.000Z",
         "Softbank Group Corporation",
         0.0752,
         85361065,
         21035355994,
         0.0,
         "TMUS"
        ],
        [
         "2025-03-31T00:00:00.000Z",
         "Vanguard Group Inc",
         0.0369,
         41945171,
         10336464338,
         -7.0E-4,
         "TMUS"
        ],
        [
         "2025-03-31T00:00:00.000Z",
         "Blackrock Inc.",
         0.033,
         37420751,
         9221520594,
         -0.0323,
         "TMUS"
        ],
        [
         "2025-03-31T00:00:00.000Z",
         "State Street Corporation",
         0.0195,
         22146576,
         5457536292,
         -0.0334,
         "TMUS"
        ],
        [
         "2025-03-31T00:00:00.000Z",
         "Price (T.Rowe) Associates Inc",
         0.014400001,
         16302609,
         4017419229,
         -0.13340001,
         "TMUS"
        ],
        [
         "2025-03-31T00:00:00.000Z",
         "FMR, LLC",
         0.0115,
         13083028,
         3224024342,
         0.2868,
         "TMUS"
        ],
        [
         "2025-03-31T00:00:00.000Z",
         "Morgan Stanley",
         0.0114,
         12968781,
         3195870683,
         -0.0365,
         "TMUS"
        ],
        [
         "2025-03-31T00:00:00.000Z",
         "Wellington Management Group, LLP",
         0.0113,
         12846939,
         3165845403,
         0.017,
         "TMUS"
        ],
        [
         "2025-03-31T00:00:00.000Z",
         "Geode Capital Management, LLC",
         0.0106,
         12053828,
         2970400651,
         0.0165,
         "TMUS"
        ],
        [
         "2024-12-31T00:00:00.000Z",
         "NORGES BANK",
         0.0072000003,
         8165601,
         2012232672,
         -0.4609,
         "TMUS"
        ],
        [
         "2025-03-31T00:00:00.000Z",
         "State Street Corporation",
         0.0935,
         13453769,
         6580238500,
         -0.0173,
         "NOC"
        ],
        [
         "2025-03-31T00:00:00.000Z",
         "Vanguard Group Inc",
         0.0922,
         13266301,
         6488547900,
         0.0464,
         "NOC"
        ],
        [
         "2025-03-31T00:00:00.000Z",
         "Blackrock Inc.",
         0.073,
         10508165,
         5139543565,
         -0.023599999,
         "NOC"
        ],
        [
         "2025-03-31T00:00:00.000Z",
         "Capital International Investors",
         0.0615,
         8853055,
         4330029254,
         0.074499995,
         "NOC"
        ],
        [
         "2025-03-31T00:00:00.000Z",
         "Wellington Management Group, LLP",
         0.0357,
         5139333,
         2513647801,
         0.234,
         "NOC"
        ],
        [
         "2025-03-31T00:00:00.000Z",
         "Morgan Stanley",
         0.028399998,
         4082612,
         1996805554,
         -0.0182,
         "NOC"
        ],
        [
         "2025-03-31T00:00:00.000Z",
         "Geode Capital Management, LLC",
         0.0215,
         3100539,
         1516473643,
         0.0249,
         "NOC"
        ],
        [
         "2025-03-31T00:00:00.000Z",
         "JPMORGAN CHASE & CO",
         0.0201,
         2887829,
         1412437181,
         -0.2306,
         "NOC"
        ],
        [
         "2025-03-31T00:00:00.000Z",
         "Bank of America Corporation",
         0.019199999,
         2768008,
         1353832729,
         -0.022,
         "NOC"
        ],
        [
         "2025-03-31T00:00:00.000Z",
         "Franklin Resources, Inc.",
         0.0182,
         2624381,
         1283584763,
         0.0359,
         "NOC"
        ],
        [
         "2025-03-31T00:00:00.000Z",
         "Vanguard Group Inc",
         0.096,
         37965619,
         6783696524,
         0.0066000004,
         "PNC"
        ],
        [
         "2025-03-31T00:00:00.000Z",
         "Blackrock Inc.",
         0.0849,
         33582626,
         6000543367,
         0.0201,
         "PNC"
        ],
        [
         "2025-03-31T00:00:00.000Z",
         "State Street Corporation",
         0.043899998,
         17375903,
         3104726220,
         -0.0164,
         "PNC"
        ],
        [
         "2025-03-31T00:00:00.000Z",
         "FMR, LLC",
         0.0376,
         14879339,
         2658640183,
         0.0126,
         "PNC"
        ],
        [
         "2025-03-31T00:00:00.000Z",
         "Capital International Investors",
         0.029000001,
         11473460,
         2050077748,
         -0.060300004,
         "PNC"
        ],
        [
         "2025-03-31T00:00:00.000Z",
         "Franklin Resources, Inc.",
         0.024400001,
         9637876,
         1722095613,
         -0.1105,
         "PNC"
        ],
        [
         "2025-03-31T00:00:00.000Z",
         "Massachusetts Financial Services Co.",
         0.024,
         9502467,
         1697900733,
         0.2606,
         "PNC"
        ],
        [
         "2025-03-31T00:00:00.000Z",
         "Bank of America Corporation",
         0.0227,
         8983899,
         1605243007,
         0.0713,
         "PNC"
        ],
        [
         "2025-03-31T00:00:00.000Z",
         "Geode Capital Management, LLC",
         0.022,
         8683967,
         1551651159,
         0.0369,
         "PNC"
        ],
        [
         "2025-03-31T00:00:00.000Z",
         "JPMORGAN CHASE & CO",
         0.020499999,
         8095986,
         1446590719,
         -0.1271,
         "PNC"
        ],
        [
         "2025-03-31T00:00:00.000Z",
         "Vanguard Group Inc",
         0.090100005,
         26387819,
         6560803566,
         0.0023,
         "ITW"
        ],
        [
         "2025-03-31T00:00:00.000Z",
         "Briar Hall Management LLC",
         0.088199995,
         25838730,
         6424283566,
         -8.0E-4,
         "ITW"
        ],
        [
         "2025-03-31T00:00:00.000Z",
         "State Farm Mutual Automobile Insurance Co",
         0.0718,
         21029900,
         5228664139,
         0.0,
         "ITW"
        ],
        [
         "2025-03-31T00:00:00.000Z",
         "Blackrock Inc.",
         0.0716,
         20989563,
         5218635151,
         0.0045,
         "ITW"
        ],
        [
         "2025-03-31T00:00:00.000Z",
         "State Street Corporation",
         0.0422,
         12367391,
         3074904484,
         -0.0221,
         "ITW"
        ],
        [
         "2025-03-31T00:00:00.000Z",
         "Northern Trust Corporation",
         0.041500002,
         12153970,
         3021841620,
         -0.1107,
         "ITW"
        ],
        [
         "2025-03-31T00:00:00.000Z",
         "Wells Fargo & Company",
         0.0238,
         6978388,
         1735036642,
         -0.0195,
         "ITW"
        ],
        [
         "2025-03-31T00:00:00.000Z",
         "Geode Capital Management, LLC",
         0.0227,
         6642550,
         1651537238,
         0.0392,
         "ITW"
        ],
        [
         "2025-03-31T00:00:00.000Z",
         "Morgan Stanley",
         0.0165,
         4843741,
         1204299348,
         0.0752,
         "ITW"
        ],
        [
         "2025-03-31T00:00:00.000Z",
         "Capital Research Global Investors",
         0.0145000005,
         4237687,
         1053616139,
         0.0255,
         "ITW"
        ],
        [
         "2025-03-31T00:00:00.000Z",
         "Vanguard Group Inc",
         0.0936,
         175808697,
         5673346732,
         0.0019,
         "CSX"
        ],
        [
         "2025-03-31T00:00:00.000Z",
         "Blackrock Inc.",
         0.0738,
         138677041,
         4475108176,
         -0.09020001,
         "CSX"
        ],
        [
         "2025-03-31T00:00:00.000Z",
         "State Street Corporation",
         0.0465,
         87263516,
         2815993701,
         0.0479,
         "CSX"
        ],
        [
         "2025-03-31T00:00:00.000Z",
         "JPMORGAN CHASE & CO",
         0.040599998,
         76298761,
         2462161052,
         -0.288,
         "CSX"
        ],
        [
         "2025-03-31T00:00:00.000Z",
         "Geode Capital Management, LLC",
         0.0228,
         42887311,
         1383973545,
         0.0301,
         "CSX"
        ],
        [
         "2025-03-31T00:00:00.000Z",
         "Morgan Stanley",
         0.0167,
         31373147,
         1012411468,
         0.1355,
         "CSX"
        ],
        [
         "2025-03-31T00:00:00.000Z",
         "Bank Of New York Mellon Corporation",
         0.0150999995,
         28383830,
         915946207,
         0.2156,
         "CSX"
        ],
        [
         "2025-03-31T00:00:00.000Z",
         "Price (T.Rowe) Associates Inc",
         0.0136,
         25473958,
         822044636,
         -0.4921,
         "CSX"
        ],
        [
         "2025-03-31T00:00:00.000Z",
         "Fisher Asset Management, LLC",
         0.0134000005,
         25083897,
         809457367,
         0.0050999997,
         "CSX"
        ],
        [
         "2025-03-31T00:00:00.000Z",
         "Lazard Asset Management LLC",
         0.012999999,
         24417268,
         787945249,
         0.1559,
         "CSX"
        ],
        [
         "2025-03-31T00:00:00.000Z",
         "Vanguard Group Inc",
         0.0923,
         52940356,
         9427089580,
         0.0136,
         "ICE"
        ],
        [
         "2025-03-31T00:00:00.000Z",
         "Blackrock Inc.",
         0.087799996,
         50376176,
         8970486029,
         0.0163,
         "ICE"
        ],
        [
         "2025-03-31T00:00:00.000Z",
         "State Street Corporation",
         0.043,
         24682519,
         4395216339,
         0.011,
         "ICE"
        ],
        [
         "2025-03-31T00:00:00.000Z",
         "Morgan Stanley",
         0.03,
         17219424,
         3066262957,
         -0.0019,
         "ICE"
        ],
        [
         "2025-03-31T00:00:00.000Z",
         "Geode Capital Management, LLC",
         0.0214,
         12292193,
         2188870897,
         0.0344,
         "ICE"
        ],
        [
         "2025-03-31T00:00:00.000Z",
         "Bank of America Corporation",
         0.021300001,
         12244721,
         2180417558,
         0.12060001,
         "ICE"
        ],
        [
         "2025-03-31T00:00:00.000Z",
         "Harris Associates L.P.",
         0.0199,
         11431282,
         2035568469,
         -0.1475,
         "ICE"
        ],
        [
         "2025-03-31T00:00:00.000Z",
         "Royal Bank of Canada",
         0.0155,
         8865536,
         1578686060,
         -0.027999999,
         "ICE"
        ],
        [
         "2024-12-31T00:00:00.000Z",
         "NORGES BANK",
         0.0139999995,
         8028036,
         1429552429,
         0.1164,
         "ICE"
        ],
        [
         "2025-03-31T00:00:00.000Z",
         "FMR, LLC",
         0.0138,
         7923448,
         1410928443,
         0.035099998,
         "ICE"
        ],
        [
         "2025-03-31T00:00:00.000Z",
         "Vanguard Group Inc",
         0.092,
         45321445,
         10449539077,
         0.012999999,
         "MMC"
        ],
        [
         "2025-03-31T00:00:00.000Z",
         "Blackrock Inc.",
         0.082399994,
         40601219,
         9361220157,
         -0.024500001,
         "MMC"
        ],
        [
         "2025-03-31T00:00:00.000Z",
         "FMR, LLC",
         0.045,
         22151590,
         5107381402,
         0.0432,
         "MMC"
        ],
        [
         "2025-03-31T00:00:00.000Z",
         "State Street Corporation",
         0.0436,
         21490479,
         4954952343,
         0.0113,
         "MMC"
        ],
        [
         "2025-03-31T00:00:00.000Z",
         "Capital International Investors",
         0.037100002,
         18274214,
         4213394195,
         0.0017,
         "MMC"
        ],
        [
         "2025-03-31T00:00:00.000Z",
         "Capital World Investors",
         0.0358,
         17651003,
         4069703549,
         0.0070999996,
         "MMC"
        ],
        [
         "2025-03-31T00:00:00.000Z",
         "Wellington Management Group, LLP",
         0.025999999,
         12814788,
         2954641626,
         0.5422,
         "MMC"
        ],
        [
         "2025-03-31T00:00:00.000Z",
         "Geode Capital Management, LLC",
         0.0253,
         12487735,
         2879234650,
         0.0363,
         "MMC"
        ],
        [
         "2025-03-31T00:00:00.000Z",
         "Massachusetts Financial Services Co.",
         0.020499999,
         10097141,
         2328047339,
         -0.0241,
         "MMC"
        ],
        [
         "2025-03-31T00:00:00.000Z",
         "Price (T.Rowe) Associates Inc",
         0.0173,
         8527241,
         1966083341,
         -0.16,
         "MMC"
        ],
        [
         "2025-03-31T00:00:00.000Z",
         "Vanguard Group Inc",
         0.088,
         9407891,
         4611748283,
         0.013099999,
         "REGN"
        ],
        [
         "2025-03-31T00:00:00.000Z",
         "Blackrock Inc.",
         0.083500005,
         8925880,
         4375466484,
         0.0222,
         "REGN"
        ],
        [
         "2025-03-31T00:00:00.000Z",
         "FMR, LLC",
         0.071,
         7598584,
         3724825969,
         -0.0733,
         "REGN"
        ],
        [
         "2025-03-31T00:00:00.000Z",
         "JPMORGAN CHASE & CO",
         0.0529,
         5658197,
         2773648238,
         -0.1985,
         "REGN"
        ],
        [
         "2025-03-31T00:00:00.000Z",
         "State Street Corporation",
         0.0448,
         4789659,
         2347890900,
         -0.0088,
         "REGN"
        ],
        [
         "2025-03-31T00:00:00.000Z",
         "Capital International Investors",
         0.0373,
         3989132,
         1955472555,
         -0.1579,
         "REGN"
        ],
        [
         "2025-03-31T00:00:00.000Z",
         "Geode Capital Management, LLC",
         0.0231,
         2469585,
         1210590597,
         0.0173,
         "REGN"
        ],
        [
         "2025-03-31T00:00:00.000Z",
         "Dodge & Cox Inc",
         0.0217,
         2324085,
         1139266495,
         0.0011999999,
         "REGN"
        ],
        [
         "2025-03-31T00:00:00.000Z",
         "Franklin Resources, Inc.",
         0.021300001,
         2276675,
         1116026112,
         0.113199994,
         "REGN"
        ],
        [
         "2025-03-31T00:00:00.000Z",
         "Price (T.Rowe) Associates Inc",
         0.020299999,
         2175026,
         1066197771,
         0.043,
         "REGN"
        ],
        [
         "2025-03-31T00:00:00.000Z",
         "Vanguard Group Inc",
         0.0947,
         104210177,
         9210095157,
         0.0138,
         "SO"
        ],
        [
         "2025-03-31T00:00:00.000Z",
         "Blackrock Inc.",
         0.0767,
         84350869,
         7454929570,
         0.0073,
         "SO"
        ],
        [
         "2025-03-31T00:00:00.000Z",
         "JPMORGAN CHASE & CO",
         0.057800002,
         63584936,
         5619636469,
         0.13939999,
         "SO"
        ],
        [
         "2025-03-31T00:00:00.000Z",
         "State Street Corporation",
         0.0531,
         58398523,
         5161261302,
         0.012999999,
         "SO"
        ],
        [
         "2025-03-31T00:00:00.000Z",
         "FMR, LLC",
         0.026400002,
         29021953,
         2564960126,
         0.0286,
         "SO"
        ],
        [
         "2025-03-31T00:00:00.000Z",
         "Capital International Investors",
         0.0234,
         25771200,
         2277658585,
         -0.0541,
         "SO"
        ],
        [
         "2025-03-31T00:00:00.000Z",
         "Geode Capital Management, LLC",
         0.0234,
         25765347,
         2277141297,
         0.028499998,
         "SO"
        ],
        [
         "2025-03-31T00:00:00.000Z",
         "Massachusetts Financial Services Co.",
         0.019199999,
         21178566,
         1871761604,
         -0.033800002,
         "SO"
        ],
        [
         "2025-03-31T00:00:00.000Z",
         "Franklin Resources, Inc.",
         0.0136,
         14945715,
         1320902250,
         0.06,
         "SO"
        ],
        [
         "2025-03-31T00:00:00.000Z",
         "Price (T.Rowe) Associates Inc",
         0.0135,
         14866776,
         1313925622,
         -0.0636,
         "SO"
        ],
        [
         "2025-03-31T00:00:00.000Z",
         "Vanguard Group Inc",
         0.0959,
         74562000,
         8631297279,
         0.023,
         "DUK"
        ],
        [
         "2025-03-31T00:00:00.000Z",
         "Blackrock Inc.",
         0.081199996,
         63146260,
         7309811192,
         0.0094,
         "DUK"
        ],
        [
         "2025-03-31T00:00:00.000Z",
         "State Street Corporation",
         0.0521,
         40509850,
         4689420322,
         0.0201,
         "DUK"
        ],
        [
         "2025-03-31T00:00:00.000Z",
         "Geode Capital Management, LLC",
         0.023599999,
         18365446,
         2125984068,
         0.0275,
         "DUK"
        ],
        [
         "2025-03-31T00:00:00.000Z",
         "Massachusetts Financial Services Co.",
         0.0233,
         18107625,
         2096138708,
         5.0E-4,
         "DUK"
        ],
        [
         "2025-03-31T00:00:00.000Z",
         "Wellington Management Group, LLP",
         0.0183,
         14221646,
         1646297771,
         -0.1166,
         "DUK"
        ],
        [
         "2025-03-31T00:00:00.000Z",
         "FMR, LLC",
         0.0182,
         14177998,
         1641245078,
         0.2321,
         "DUK"
        ],
        [
         "2025-03-31T00:00:00.000Z",
         "Morgan Stanley",
         0.0148,
         11510256,
         1332427259,
         0.028800001,
         "DUK"
        ],
        [
         "2025-03-31T00:00:00.000Z",
         "GQG Partners LLC",
         0.013200001,
         10249508,
         1186483067,
         178.8002,
         "DUK"
        ],
        [
         "2025-03-31T00:00:00.000Z",
         "Royal Bank of Canada",
         0.0115,
         8921517,
         1032754826,
         0.049200002,
         "DUK"
        ],
        [
         "2025-03-31T00:00:00.000Z",
         "Vanguard Group Inc",
         0.0962,
         21414945,
         6024238125,
         -0.0033000002,
         "APD"
        ],
        [
         "2025-03-31T00:00:00.000Z",
         "Blackrock Inc.",
         0.077800006,
         17320571,
         4872449785,
         -0.0572,
         "APD"
        ],
        [
         "2025-03-31T00:00:00.000Z",
         "Capital Research Global Investors",
         0.061100002,
         13596747,
         3824900865,
         0.021300001,
         "APD"
        ],
        [
         "2025-03-31T00:00:00.000Z",
         "State Farm Mutual Automobile Insurance Co",
         0.0543,
         12091878,
         3401566170,
         -0.0119,
         "APD"
        ],
        [
         "2025-03-31T00:00:00.000Z",
         "State Street Corporation",
         0.0417,
         9272858,
         2608547661,
         -0.0533,
         "APD"
        ],
        [
         "2025-03-31T00:00:00.000Z",
         "Dodge & Cox Inc",
         0.0394,
         8759722,
         2464197374,
         0.3147,
         "APD"
        ],
        [
         "2025-03-31T00:00:00.000Z",
         "Capital International Investors",
         0.0277,
         6171502,
         1736105212,
         3.0995002,
         "APD"
        ],
        [
         "2025-03-31T00:00:00.000Z",
         "JPMORGAN CHASE & CO",
         0.0275,
         6123429,
         1722581797,
         -0.1495,
         "APD"
        ],
        [
         "2025-03-31T00:00:00.000Z",
         "Bank of America Corporation",
         0.024400001,
         5429570,
         1527392323,
         1.0E-4,
         "APD"
        ],
        [
         "2025-03-31T00:00:00.000Z",
         "Geode Capital Management, LLC",
         0.0229,
         5107294,
         1436732862,
         0.0356,
         "APD"
        ],
        [
         "2025-03-31T00:00:00.000Z",
         "Vanguard Group Inc",
         0.0916,
         19778451,
         7389229414,
         0.013300001,
         "AON"
        ],
        [
         "2025-03-31T00:00:00.000Z",
         "Blackrock Inc.",
         0.0699,
         15099285,
         5641092968,
         0.0231,
         "AON"
        ],
        [
         "2025-03-31T00:00:00.000Z",
         "Capital World Investors",
         0.055999998,
         12097577,
         4519654841,
         0.0,
         "AON"
        ],
        [
         "2025-03-31T00:00:00.000Z",
         "Massachusetts Financial Services Co.",
         0.045500003,
         9832327,
         3673357427,
         -0.15359999,
         "AON"
        ],
        [
         "2025-03-31T00:00:00.000Z",
         "State Street Corporation",
         0.0425,
         9173788,
         3427327252,
         0.0091,
         "AON"
        ],
        [
         "2025-03-31T00:00:00.000Z",
         "Morgan Stanley",
         0.0404,
         8726304,
         3260147227,
         0.040799998,
         "AON"
        ],
        [
         "2025-03-31T00:00:00.000Z",
         "JPMORGAN CHASE & CO",
         0.026199998,
         5656323,
         2113202307,
         0.056199998,
         "AON"
        ],
        [
         "2025-03-31T00:00:00.000Z",
         "Geode Capital Management, LLC",
         0.0251,
         5414557,
         2022878528,
         0.0939,
         "AON"
        ],
        [
         "2025-03-31T00:00:00.000Z",
         "HPS Investment Partners, LLC",
         0.0201,
         4339759,
         1621333988,
         0.0,
         "AON"
        ],
        [
         "2025-03-31T00:00:00.000Z",
         "Berkshire Hathaway, Inc",
         0.019,
         4100000,
         1531760025,
         0.0,
         "AON"
        ],
        [
         "2025-03-31T00:00:00.000Z",
         "Vanguard Group Inc",
         0.0959,
         37507725,
         12466254653,
         0.0078,
         "ETN"
        ],
        [
         "2025-03-31T00:00:00.000Z",
         "Blackrock Inc.",
         0.0762,
         29827992,
         9913780269,
         -0.0049,
         "ETN"
        ],
        [
         "2025-03-31T00:00:00.000Z",
         "JPMORGAN CHASE & CO",
         0.0561,
         21950239,
         7295490970,
         0.2298,
         "ETN"
        ],
        [
         "2025-03-31T00:00:00.000Z",
         "State Street Corporation",
         0.0427,
         16726264,
         5559224571,
         -0.0124,
         "ETN"
        ],
        [
         "2025-03-31T00:00:00.000Z",
         "Bank of America Corporation",
         0.033099998,
         12937298,
         4299904923,
         0.1349,
         "ETN"
        ],
        [
         "2025-03-31T00:00:00.000Z",
         "Morgan Stanley",
         0.0301,
         11777228,
         3914338269,
         0.0779,
         "ETN"
        ],
        [
         "2025-03-31T00:00:00.000Z",
         "FMR, LLC",
         0.0278,
         10888040,
         3618803308,
         -0.2847,
         "ETN"
        ],
        [
         "2025-03-31T00:00:00.000Z",
         "Geode Capital Management, LLC",
         0.0217,
         8495435,
         2823585170,
         0.036199998,
         "ETN"
        ],
        [
         "2025-03-31T00:00:00.000Z",
         "Massachusetts Financial Services Co.",
         0.0212,
         8309949,
         2761936118,
         -0.0798,
         "ETN"
        ],
        [
         "2025-03-31T00:00:00.000Z",
         "Nuveen, LLC",
         0.0138,
         5415998,
         1800088122,
         1.0,
         "ETN"
        ]
       ],
       "datasetInfos": [],
       "dbfsResultPath": null,
       "isJsonSchema": true,
       "metadata": {},
       "overflow": false,
       "plotOptions": {
        "customPlotOptions": {},
        "displayType": "table",
        "pivotAggregation": null,
        "pivotColumns": null,
        "xColumns": null,
        "yColumns": null
       },
       "removedWidgets": [],
       "schema": [
        {
         "metadata": "{}",
         "name": "Date_Reported",
         "type": "\"timestamp\""
        },
        {
         "metadata": "{}",
         "name": "Holder",
         "type": "\"string\""
        },
        {
         "metadata": "{}",
         "name": "pctHeld",
         "type": "\"float\""
        },
        {
         "metadata": "{}",
         "name": "Shares",
         "type": "\"long\""
        },
        {
         "metadata": "{}",
         "name": "Value",
         "type": "\"long\""
        },
        {
         "metadata": "{}",
         "name": "pctChange",
         "type": "\"float\""
        },
        {
         "metadata": "{}",
         "name": "ticker",
         "type": "\"string\""
        }
       ],
       "type": "table"
      }
     },
     "output_type": "display_data"
    }
   ],
   "source": []
  },
  {
   "cell_type": "code",
   "execution_count": 0,
   "metadata": {
    "application/vnd.databricks.v1+cell": {
     "cellMetadata": {},
     "inputWidgets": {},
     "nuid": "ea336cbb-2820-4ae3-b110-3b1bbfde497d",
     "showTitle": false,
     "tableResultSettingsMap": {},
     "title": ""
    }
   },
   "outputs": [],
   "source": []
  }
 ],
 "metadata": {
  "application/vnd.databricks.v1+notebook": {
   "computePreferences": null,
   "dashboards": [],
   "environmentMetadata": {
    "base_environment": "",
    "environment_version": "2"
   },
   "inputWidgetPreferences": null,
   "language": "python",
   "notebookMetadata": {
    "mostRecentlyExecutedCommandWithImplicitDF": {
     "commandId": 6427618338580432,
     "dataframes": [
      "_sqldf"
     ]
    },
    "pythonIndentUnit": 4
   },
   "notebookName": "Stocks_Holders_Data_Bronze",
   "widgets": {}
  },
  "language_info": {
   "name": "python"
  }
 },
 "nbformat": 4,
 "nbformat_minor": 0
}