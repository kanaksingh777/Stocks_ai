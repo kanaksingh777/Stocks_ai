{
 "cells": [
  {
   "cell_type": "code",
   "execution_count": 0,
   "metadata": {
    "application/vnd.databricks.v1+cell": {
     "cellMetadata": {
      "byteLimit": 2048000,
      "rowLimit": 10000
     },
     "inputWidgets": {},
     "nuid": "ada85ce3-44c6-469f-863b-3d0eea31212f",
     "showTitle": false,
     "tableResultSettingsMap": {},
     "title": ""
    }
   },
   "outputs": [
    {
     "output_type": "stream",
     "name": "stdout",
     "output_type": "stream",
     "text": [
      "Collecting yfinance\n  Downloading yfinance-0.2.61-py2.py3-none-any.whl.metadata (5.8 kB)\nRequirement already satisfied: pandas>=1.3.0 in /databricks/python3/lib/python3.11/site-packages (from yfinance) (1.5.3)\nRequirement already satisfied: numpy>=1.16.5 in /databricks/python3/lib/python3.11/site-packages (from yfinance) (1.23.5)\nRequirement already satisfied: requests>=2.31 in /databricks/python3/lib/python3.11/site-packages (from yfinance) (2.31.0)\nCollecting multitasking>=0.0.7 (from yfinance)\n  Downloading multitasking-0.0.11-py3-none-any.whl.metadata (5.5 kB)\nRequirement already satisfied: platformdirs>=2.0.0 in /databricks/python3/lib/python3.11/site-packages (from yfinance) (3.10.0)\nRequirement already satisfied: pytz>=2022.5 in /databricks/python3/lib/python3.11/site-packages (from yfinance) (2022.7)\nCollecting frozendict>=2.3.4 (from yfinance)\n  Downloading frozendict-2.4.6-py311-none-any.whl.metadata (23 kB)\nCollecting peewee>=3.16.2 (from yfinance)\n  Downloading peewee-3.18.1.tar.gz (3.0 MB)\n\u001B[?25l     \u001B[90m━━━━━━━━━━━━━━━━━━━━━━━━━━━━━━━━━━━━━━━━\u001B[0m \u001B[32m0.0/3.0 MB\u001B[0m \u001B[31m?\u001B[0m eta \u001B[36m-:--:--\u001B[0m\n\u001B[2K     \u001B[90m━━━━━━━━━━━━━━━━━━━━━━━━━━━━━━━━━━━━━━━━\u001B[0m \u001B[32m3.0/3.0 MB\u001B[0m \u001B[31m48.4 MB/s\u001B[0m eta \u001B[36m0:00:00\u001B[0m\n\u001B[?25h  Installing build dependencies: started\n  Installing build dependencies: finished with status 'done'\n  Getting requirements to build wheel: started\n  Getting requirements to build wheel: finished with status 'done'\n  Preparing metadata (pyproject.toml): started\n  Preparing metadata (pyproject.toml): finished with status 'done'\nCollecting beautifulsoup4>=4.11.1 (from yfinance)\n  Downloading beautifulsoup4-4.13.4-py3-none-any.whl.metadata (3.8 kB)\nCollecting curl_cffi>=0.7 (from yfinance)\n  Downloading curl_cffi-0.11.2-cp39-abi3-manylinux_2_17_x86_64.manylinux2014_x86_64.whl.metadata (14 kB)\nRequirement already satisfied: protobuf>=3.19.0 in /databricks/python3/lib/python3.11/site-packages (from yfinance) (5.29.3)\nCollecting websockets>=13.0 (from yfinance)\n  Downloading websockets-15.0.1-cp311-cp311-manylinux_2_5_x86_64.manylinux1_x86_64.manylinux_2_17_x86_64.manylinux2014_x86_64.whl.metadata (6.8 kB)\nCollecting soupsieve>1.2 (from beautifulsoup4>=4.11.1->yfinance)\n  Downloading soupsieve-2.7-py3-none-any.whl.metadata (4.6 kB)\nRequirement already satisfied: typing-extensions>=4.0.0 in /databricks/python3/lib/python3.11/site-packages (from beautifulsoup4>=4.11.1->yfinance) (4.10.0)\nRequirement already satisfied: cffi>=1.12.0 in /databricks/python3/lib/python3.11/site-packages (from curl_cffi>=0.7->yfinance) (1.15.1)\nCollecting certifi>=2024.2.2 (from curl_cffi>=0.7->yfinance)\n  Downloading certifi-2025.4.26-py3-none-any.whl.metadata (2.5 kB)\nRequirement already satisfied: python-dateutil>=2.8.1 in /databricks/python3/lib/python3.11/site-packages (from pandas>=1.3.0->yfinance) (2.8.2)\nRequirement already satisfied: charset-normalizer<4,>=2 in /databricks/python3/lib/python3.11/site-packages (from requests>=2.31->yfinance) (2.0.4)\nRequirement already satisfied: idna<4,>=2.5 in /databricks/python3/lib/python3.11/site-packages (from requests>=2.31->yfinance) (3.4)\nRequirement already satisfied: urllib3<3,>=1.21.1 in /databricks/python3/lib/python3.11/site-packages (from requests>=2.31->yfinance) (1.26.16)\nRequirement already satisfied: pycparser in /databricks/python3/lib/python3.11/site-packages (from cffi>=1.12.0->curl_cffi>=0.7->yfinance) (2.21)\nRequirement already satisfied: six>=1.5 in /usr/lib/python3/dist-packages (from python-dateutil>=2.8.1->pandas>=1.3.0->yfinance) (1.16.0)\nDownloading yfinance-0.2.61-py2.py3-none-any.whl (117 kB)\nDownloading beautifulsoup4-4.13.4-py3-none-any.whl (187 kB)\nDownloading curl_cffi-0.11.2-cp39-abi3-manylinux_2_17_x86_64.manylinux2014_x86_64.whl (8.5 MB)\n\u001B[?25l   \u001B[90m━━━━━━━━━━━━━━━━━━━━━━━━━━━━━━━━━━━━━━━━\u001B[0m \u001B[32m0.0/8.5 MB\u001B[0m \u001B[31m?\u001B[0m eta \u001B[36m-:--:--\u001B[0m\n\u001B[2K   \u001B[90m━━━━━━━━━━━━━━━━━━━━━━━━━━━━━━━━━━━━━━━━\u001B[0m \u001B[32m8.5/8.5 MB\u001B[0m \u001B[31m78.3 MB/s\u001B[0m eta \u001B[36m0:00:00\u001B[0m\n\u001B[?25hDownloading frozendict-2.4.6-py311-none-any.whl (16 kB)\nDownloading multitasking-0.0.11-py3-none-any.whl (8.5 kB)\nDownloading websockets-15.0.1-cp311-cp311-manylinux_2_5_x86_64.manylinux1_x86_64.manylinux_2_17_x86_64.manylinux2014_x86_64.whl (182 kB)\nDownloading certifi-2025.4.26-py3-none-any.whl (159 kB)\nDownloading soupsieve-2.7-py3-none-any.whl (36 kB)\nBuilding wheels for collected packages: peewee\n  Building wheel for peewee (pyproject.toml): started\n  Building wheel for peewee (pyproject.toml): finished with status 'done'\n  Created wheel for peewee: filename=peewee-3.18.1-cp311-cp311-linux_x86_64.whl size=804458 sha256=5ae0acd045581a8bf45522104b8185d881dda946bddfc676e9f9e51906da26f8\n  Stored in directory: /home/spark-b9bf773f-293c-4ee3-8531-3a/.cache/pip/wheels/25/cb/79/a133a0d1d75f318a96614ed7fb97bdf2f35a7b6c4d4e426e3f\nSuccessfully built peewee\nInstalling collected packages: peewee, multitasking, websockets, soupsieve, frozendict, certifi, curl_cffi, beautifulsoup4, yfinance\n  Attempting uninstall: certifi\n    Found existing installation: certifi 2023.7.22\n    Not uninstalling certifi at /databricks/python3/lib/python3.11/site-packages, outside environment /local_disk0/.ephemeral_nfs/envs/pythonEnv-b9bf773f-293c-4ee3-8531-3a56ddcc0af9\n    Can't uninstall 'certifi'. No files were found to uninstall.\nSuccessfully installed beautifulsoup4-4.13.4 certifi-2025.4.26 curl_cffi-0.11.2 frozendict-2.4.6 multitasking-0.0.11 peewee-3.18.1 soupsieve-2.7 websockets-15.0.1 yfinance-0.2.61\n\u001B[43mNote: you may need to restart the kernel using %restart_python or dbutils.library.restartPython() to use updated packages.\u001B[0m\n"
     ]
    }
   ],
   "source": [
    "\n",
    "%pip install yfinance\n",
    "\n"
   ]
  },
  {
   "cell_type": "code",
   "execution_count": 0,
   "metadata": {
    "application/vnd.databricks.v1+cell": {
     "cellMetadata": {
      "byteLimit": 2048000,
      "rowLimit": 10000
     },
     "inputWidgets": {},
     "nuid": "872ffe3d-9090-458a-a120-14d068a70d19",
     "showTitle": false,
     "tableResultSettingsMap": {},
     "title": ""
    }
   },
   "outputs": [],
   "source": [
    "from pyspark.sql import SparkSession\n",
    "import pandas as pd\n",
    "import yfinance as yf\n",
    "\n",
    "\n",
    "spark = SparkSession.builder.getOrCreate()\n",
    "\n",
    "#using_top_100_stocks_only --- this is can be extended depending on the use case\n",
    "top_100_tickers = [\n",
    "\"AAPL\", \"MSFT\", \"GOOGL\", \"AMZN\", \"NVDA\", \"META\", \"TSLA\", \"BRK-B\", \"UNH\", \"V\",\n",
    "\"JNJ\", \"XOM\", \"PG\", \"MA\", \"LLY\", \"HD\", \"CVX\", \"MRK\", \"PEP\", \"ABBV\",\n",
    "\"AVGO\", \"KO\", \"BAC\", \"PFE\", \"COST\", \"TMO\", \"CSCO\", \"ABT\", \"MCD\", \"CRM\",\n",
    "\"ADBE\", \"WMT\", \"DHR\", \"ACN\", \"LIN\", \"TXN\", \"NKE\", \"CMCSA\", \"PM\", \"NEE\",\n",
    "\"VZ\", \"RTX\", \"BMY\", \"UPS\", \"HON\", \"QCOM\", \"T\", \"MS\", \"LOW\", \"UNP\",\n",
    "\"INTC\", \"ORCL\", \"SPGI\", \"IBM\", \"AMD\", \"GS\", \"CAT\", \"INTU\", \"DE\", \"BLK\",\n",
    "\"AMAT\", \"ISRG\", \"SBUX\", \"GILD\", \"MMM\", \"ADI\", \"CVS\", \"C\", \"MDLZ\", \"AMGN\",\n",
    "\"SYK\", \"BKNG\", \"PLD\", \"DIS\", \"TJX\", \"PYPL\", \"MO\", \"CI\", \"SCHW\", \"AXP\",\n",
    "\"GE\", \"BDX\", \"CME\", \"EOG\", \"COP\", \"USB\", \"TGT\", \"TMUS\", \"NOC\", \"PNC\",\n",
    "\"ITW\", \"CSX\", \"ICE\", \"MMC\", \"REGN\", \"SO\", \"DUK\", \"APD\", \"AON\", \"ETN\"\n",
    "]\n",
    "\n",
    "company_info_list = []\n",
    "\n",
    "\n",
    "for ticker in top_100_tickers:\n",
    "    try:\n",
    "        stock = yf.Ticker(ticker)\n",
    "        info = stock.info\n",
    "        company_info_list.append({\n",
    "            'ticker': ticker,\n",
    "            'company_name': info.get('longName', 'N/A')\n",
    "        })\n",
    "    except:\n",
    "        pass\n",
    "\n",
    "\n",
    "stocks_top_100_df = pd.DataFrame(company_info_list)\n",
    "\n",
    "\n",
    "stocks_top_100_spark_df = spark.createDataFrame(stocks_top_100_df)\n",
    "\n",
    "spark.sql(\"CREATE SCHEMA IF NOT EXISTS stocks_ai.stocks_name_ticker\")\n",
    "\n",
    "# Save table\n",
    "stocks_top_100_spark_df.write.mode(\"overwrite\").saveAsTable(\"stocks_ai.stocks_name_ticker.stock_names\")\n",
    "\n"
   ]
  },
  {
   "cell_type": "code",
   "execution_count": 0,
   "metadata": {
    "application/vnd.databricks.v1+cell": {
     "cellMetadata": {
      "byteLimit": 2048000,
      "rowLimit": 10000
     },
     "inputWidgets": {},
     "nuid": "477cebab-531e-4850-bfc0-20f9d3f34ae1",
     "showTitle": false,
     "tableResultSettingsMap": {},
     "title": ""
    }
   },
   "outputs": [],
   "source": [
    "#df_test = spark.sql(\"select * from stocks_ai.stocks_name_ticker.stock_names\")"
   ]
  },
  {
   "cell_type": "code",
   "execution_count": 0,
   "metadata": {
    "application/vnd.databricks.v1+cell": {
     "cellMetadata": {
      "byteLimit": 2048000,
      "rowLimit": 10000
     },
     "inputWidgets": {},
     "nuid": "7a1339c2-8bd5-47fb-b069-6b1ee7b80f4f",
     "showTitle": false,
     "tableResultSettingsMap": {},
     "title": ""
    }
   },
   "outputs": [
    {
     "output_type": "display_data",
     "data": {
      "text/html": [
       "<style scoped>\n",
       "  .table-result-container {\n",
       "    max-height: 300px;\n",
       "    overflow: auto;\n",
       "  }\n",
       "  table, th, td {\n",
       "    border: 1px solid black;\n",
       "    border-collapse: collapse;\n",
       "  }\n",
       "  th, td {\n",
       "    padding: 5px;\n",
       "  }\n",
       "  th {\n",
       "    text-align: left;\n",
       "  }\n",
       "</style><div class='table-result-container'><table class='table-result'><thead style='background-color: white'><tr><th>ticker</th><th>company_name</th></tr></thead><tbody><tr><td>AAPL</td><td>Apple Inc.</td></tr><tr><td>MSFT</td><td>Microsoft Corporation</td></tr><tr><td>GOOGL</td><td>Alphabet Inc.</td></tr><tr><td>AMZN</td><td>Amazon.com, Inc.</td></tr><tr><td>NVDA</td><td>NVIDIA Corporation</td></tr><tr><td>META</td><td>Meta Platforms, Inc.</td></tr><tr><td>TSLA</td><td>Tesla, Inc.</td></tr><tr><td>BRK-B</td><td>Berkshire Hathaway Inc.</td></tr><tr><td>UNH</td><td>UnitedHealth Group Incorporated</td></tr><tr><td>V</td><td>Visa Inc.</td></tr><tr><td>JNJ</td><td>Johnson & Johnson</td></tr><tr><td>XOM</td><td>Exxon Mobil Corporation</td></tr><tr><td>PG</td><td>The Procter & Gamble Company</td></tr><tr><td>MA</td><td>Mastercard Incorporated</td></tr><tr><td>LLY</td><td>Eli Lilly and Company</td></tr><tr><td>HD</td><td>The Home Depot, Inc.</td></tr><tr><td>CVX</td><td>Chevron Corporation</td></tr><tr><td>MRK</td><td>Merck & Co., Inc.</td></tr><tr><td>PEP</td><td>PepsiCo, Inc.</td></tr><tr><td>ABBV</td><td>AbbVie Inc.</td></tr><tr><td>AVGO</td><td>Broadcom Inc.</td></tr><tr><td>KO</td><td>The Coca-Cola Company</td></tr><tr><td>BAC</td><td>Bank of America Corporation</td></tr><tr><td>PFE</td><td>Pfizer Inc.</td></tr><tr><td>COST</td><td>Costco Wholesale Corporation</td></tr><tr><td>TMO</td><td>Thermo Fisher Scientific Inc.</td></tr><tr><td>CSCO</td><td>Cisco Systems, Inc.</td></tr><tr><td>ABT</td><td>Abbott Laboratories</td></tr><tr><td>MCD</td><td>McDonald's Corporation</td></tr><tr><td>CRM</td><td>Salesforce, Inc.</td></tr><tr><td>ADBE</td><td>Adobe Inc.</td></tr><tr><td>WMT</td><td>Walmart Inc.</td></tr><tr><td>DHR</td><td>Danaher Corporation</td></tr><tr><td>ACN</td><td>Accenture plc</td></tr><tr><td>LIN</td><td>Linde plc</td></tr><tr><td>TXN</td><td>Texas Instruments Incorporated</td></tr><tr><td>NKE</td><td>NIKE, Inc.</td></tr><tr><td>CMCSA</td><td>Comcast Corporation</td></tr><tr><td>PM</td><td>Philip Morris International Inc.</td></tr><tr><td>NEE</td><td>NextEra Energy, Inc.</td></tr><tr><td>VZ</td><td>Verizon Communications Inc.</td></tr><tr><td>RTX</td><td>RTX Corporation</td></tr><tr><td>BMY</td><td>Bristol-Myers Squibb Company</td></tr><tr><td>UPS</td><td>United Parcel Service, Inc.</td></tr><tr><td>HON</td><td>Honeywell International Inc.</td></tr><tr><td>QCOM</td><td>QUALCOMM Incorporated</td></tr><tr><td>T</td><td>AT&T Inc.</td></tr><tr><td>MS</td><td>Morgan Stanley</td></tr><tr><td>LOW</td><td>Lowe's Companies, Inc.</td></tr><tr><td>UNP</td><td>Union Pacific Corporation</td></tr><tr><td>INTC</td><td>Intel Corporation</td></tr><tr><td>ORCL</td><td>Oracle Corporation</td></tr><tr><td>SPGI</td><td>S&P Global Inc.</td></tr><tr><td>IBM</td><td>International Business Machines Corporation</td></tr><tr><td>AMD</td><td>Advanced Micro Devices, Inc.</td></tr><tr><td>GS</td><td>The Goldman Sachs Group, Inc.</td></tr><tr><td>CAT</td><td>Caterpillar Inc.</td></tr><tr><td>INTU</td><td>Intuit Inc.</td></tr><tr><td>DE</td><td>Deere & Company</td></tr><tr><td>BLK</td><td>BlackRock, Inc.</td></tr><tr><td>AMAT</td><td>Applied Materials, Inc.</td></tr><tr><td>ISRG</td><td>Intuitive Surgical, Inc.</td></tr><tr><td>SBUX</td><td>Starbucks Corporation</td></tr><tr><td>GILD</td><td>Gilead Sciences, Inc.</td></tr><tr><td>MMM</td><td>3M Company</td></tr><tr><td>ADI</td><td>Analog Devices, Inc.</td></tr><tr><td>CVS</td><td>CVS Health Corporation</td></tr><tr><td>C</td><td>Citigroup Inc.</td></tr><tr><td>MDLZ</td><td>Mondelez International, Inc.</td></tr><tr><td>AMGN</td><td>Amgen Inc.</td></tr><tr><td>SYK</td><td>Stryker Corporation</td></tr><tr><td>BKNG</td><td>Booking Holdings Inc.</td></tr><tr><td>PLD</td><td>Prologis, Inc.</td></tr><tr><td>DIS</td><td>The Walt Disney Company</td></tr><tr><td>TJX</td><td>The TJX Companies, Inc.</td></tr><tr><td>PYPL</td><td>PayPal Holdings, Inc.</td></tr><tr><td>MO</td><td>Altria Group, Inc.</td></tr><tr><td>CI</td><td>The Cigna Group</td></tr><tr><td>SCHW</td><td>The Charles Schwab Corporation</td></tr><tr><td>AXP</td><td>American Express Company</td></tr><tr><td>GE</td><td>GE Aerospace</td></tr><tr><td>BDX</td><td>Becton, Dickinson and Company</td></tr><tr><td>CME</td><td>CME Group Inc.</td></tr><tr><td>EOG</td><td>EOG Resources, Inc.</td></tr><tr><td>COP</td><td>ConocoPhillips</td></tr><tr><td>USB</td><td>U.S. Bancorp</td></tr><tr><td>TGT</td><td>Target Corporation</td></tr><tr><td>TMUS</td><td>T-Mobile US, Inc.</td></tr><tr><td>NOC</td><td>Northrop Grumman Corporation</td></tr><tr><td>PNC</td><td>The PNC Financial Services Group, Inc.</td></tr><tr><td>ITW</td><td>Illinois Tool Works Inc.</td></tr><tr><td>CSX</td><td>CSX Corporation</td></tr><tr><td>ICE</td><td>Intercontinental Exchange, Inc.</td></tr><tr><td>MMC</td><td>Marsh & McLennan Companies, Inc.</td></tr><tr><td>REGN</td><td>Regeneron Pharmaceuticals, Inc.</td></tr><tr><td>SO</td><td>The Southern Company</td></tr><tr><td>DUK</td><td>Duke Energy Corporation</td></tr><tr><td>APD</td><td>Air Products and Chemicals, Inc.</td></tr><tr><td>AON</td><td>Aon plc</td></tr><tr><td>ETN</td><td>Eaton Corporation plc</td></tr></tbody></table></div>"
      ]
     },
     "metadata": {
      "application/vnd.databricks.v1+output": {
       "addedWidgets": {},
       "aggData": [],
       "aggError": "",
       "aggOverflow": false,
       "aggSchema": [],
       "aggSeriesLimitReached": false,
       "aggType": "",
       "arguments": {},
       "columnCustomDisplayInfos": {},
       "data": [
        [
         "AAPL",
         "Apple Inc."
        ],
        [
         "MSFT",
         "Microsoft Corporation"
        ],
        [
         "GOOGL",
         "Alphabet Inc."
        ],
        [
         "AMZN",
         "Amazon.com, Inc."
        ],
        [
         "NVDA",
         "NVIDIA Corporation"
        ],
        [
         "META",
         "Meta Platforms, Inc."
        ],
        [
         "TSLA",
         "Tesla, Inc."
        ],
        [
         "BRK-B",
         "Berkshire Hathaway Inc."
        ],
        [
         "UNH",
         "UnitedHealth Group Incorporated"
        ],
        [
         "V",
         "Visa Inc."
        ],
        [
         "JNJ",
         "Johnson & Johnson"
        ],
        [
         "XOM",
         "Exxon Mobil Corporation"
        ],
        [
         "PG",
         "The Procter & Gamble Company"
        ],
        [
         "MA",
         "Mastercard Incorporated"
        ],
        [
         "LLY",
         "Eli Lilly and Company"
        ],
        [
         "HD",
         "The Home Depot, Inc."
        ],
        [
         "CVX",
         "Chevron Corporation"
        ],
        [
         "MRK",
         "Merck & Co., Inc."
        ],
        [
         "PEP",
         "PepsiCo, Inc."
        ],
        [
         "ABBV",
         "AbbVie Inc."
        ],
        [
         "AVGO",
         "Broadcom Inc."
        ],
        [
         "KO",
         "The Coca-Cola Company"
        ],
        [
         "BAC",
         "Bank of America Corporation"
        ],
        [
         "PFE",
         "Pfizer Inc."
        ],
        [
         "COST",
         "Costco Wholesale Corporation"
        ],
        [
         "TMO",
         "Thermo Fisher Scientific Inc."
        ],
        [
         "CSCO",
         "Cisco Systems, Inc."
        ],
        [
         "ABT",
         "Abbott Laboratories"
        ],
        [
         "MCD",
         "McDonald's Corporation"
        ],
        [
         "CRM",
         "Salesforce, Inc."
        ],
        [
         "ADBE",
         "Adobe Inc."
        ],
        [
         "WMT",
         "Walmart Inc."
        ],
        [
         "DHR",
         "Danaher Corporation"
        ],
        [
         "ACN",
         "Accenture plc"
        ],
        [
         "LIN",
         "Linde plc"
        ],
        [
         "TXN",
         "Texas Instruments Incorporated"
        ],
        [
         "NKE",
         "NIKE, Inc."
        ],
        [
         "CMCSA",
         "Comcast Corporation"
        ],
        [
         "PM",
         "Philip Morris International Inc."
        ],
        [
         "NEE",
         "NextEra Energy, Inc."
        ],
        [
         "VZ",
         "Verizon Communications Inc."
        ],
        [
         "RTX",
         "RTX Corporation"
        ],
        [
         "BMY",
         "Bristol-Myers Squibb Company"
        ],
        [
         "UPS",
         "United Parcel Service, Inc."
        ],
        [
         "HON",
         "Honeywell International Inc."
        ],
        [
         "QCOM",
         "QUALCOMM Incorporated"
        ],
        [
         "T",
         "AT&T Inc."
        ],
        [
         "MS",
         "Morgan Stanley"
        ],
        [
         "LOW",
         "Lowe's Companies, Inc."
        ],
        [
         "UNP",
         "Union Pacific Corporation"
        ],
        [
         "INTC",
         "Intel Corporation"
        ],
        [
         "ORCL",
         "Oracle Corporation"
        ],
        [
         "SPGI",
         "S&P Global Inc."
        ],
        [
         "IBM",
         "International Business Machines Corporation"
        ],
        [
         "AMD",
         "Advanced Micro Devices, Inc."
        ],
        [
         "GS",
         "The Goldman Sachs Group, Inc."
        ],
        [
         "CAT",
         "Caterpillar Inc."
        ],
        [
         "INTU",
         "Intuit Inc."
        ],
        [
         "DE",
         "Deere & Company"
        ],
        [
         "BLK",
         "BlackRock, Inc."
        ],
        [
         "AMAT",
         "Applied Materials, Inc."
        ],
        [
         "ISRG",
         "Intuitive Surgical, Inc."
        ],
        [
         "SBUX",
         "Starbucks Corporation"
        ],
        [
         "GILD",
         "Gilead Sciences, Inc."
        ],
        [
         "MMM",
         "3M Company"
        ],
        [
         "ADI",
         "Analog Devices, Inc."
        ],
        [
         "CVS",
         "CVS Health Corporation"
        ],
        [
         "C",
         "Citigroup Inc."
        ],
        [
         "MDLZ",
         "Mondelez International, Inc."
        ],
        [
         "AMGN",
         "Amgen Inc."
        ],
        [
         "SYK",
         "Stryker Corporation"
        ],
        [
         "BKNG",
         "Booking Holdings Inc."
        ],
        [
         "PLD",
         "Prologis, Inc."
        ],
        [
         "DIS",
         "The Walt Disney Company"
        ],
        [
         "TJX",
         "The TJX Companies, Inc."
        ],
        [
         "PYPL",
         "PayPal Holdings, Inc."
        ],
        [
         "MO",
         "Altria Group, Inc."
        ],
        [
         "CI",
         "The Cigna Group"
        ],
        [
         "SCHW",
         "The Charles Schwab Corporation"
        ],
        [
         "AXP",
         "American Express Company"
        ],
        [
         "GE",
         "GE Aerospace"
        ],
        [
         "BDX",
         "Becton, Dickinson and Company"
        ],
        [
         "CME",
         "CME Group Inc."
        ],
        [
         "EOG",
         "EOG Resources, Inc."
        ],
        [
         "COP",
         "ConocoPhillips"
        ],
        [
         "USB",
         "U.S. Bancorp"
        ],
        [
         "TGT",
         "Target Corporation"
        ],
        [
         "TMUS",
         "T-Mobile US, Inc."
        ],
        [
         "NOC",
         "Northrop Grumman Corporation"
        ],
        [
         "PNC",
         "The PNC Financial Services Group, Inc."
        ],
        [
         "ITW",
         "Illinois Tool Works Inc."
        ],
        [
         "CSX",
         "CSX Corporation"
        ],
        [
         "ICE",
         "Intercontinental Exchange, Inc."
        ],
        [
         "MMC",
         "Marsh & McLennan Companies, Inc."
        ],
        [
         "REGN",
         "Regeneron Pharmaceuticals, Inc."
        ],
        [
         "SO",
         "The Southern Company"
        ],
        [
         "DUK",
         "Duke Energy Corporation"
        ],
        [
         "APD",
         "Air Products and Chemicals, Inc."
        ],
        [
         "AON",
         "Aon plc"
        ],
        [
         "ETN",
         "Eaton Corporation plc"
        ]
       ],
       "datasetInfos": [],
       "dbfsResultPath": null,
       "isJsonSchema": true,
       "metadata": {},
       "overflow": false,
       "plotOptions": {
        "customPlotOptions": {},
        "displayType": "table",
        "pivotAggregation": null,
        "pivotColumns": null,
        "xColumns": null,
        "yColumns": null
       },
       "removedWidgets": [],
       "schema": [
        {
         "metadata": "{}",
         "name": "ticker",
         "type": "\"string\""
        },
        {
         "metadata": "{}",
         "name": "company_name",
         "type": "\"string\""
        }
       ],
       "type": "table"
      }
     },
     "output_type": "display_data"
    }
   ],
   "source": []
  },
  {
   "cell_type": "code",
   "execution_count": 0,
   "metadata": {
    "application/vnd.databricks.v1+cell": {
     "cellMetadata": {
      "byteLimit": 2048000,
      "rowLimit": 10000
     },
     "inputWidgets": {},
     "nuid": "c0dc0ab4-5d71-4292-9842-f6f299019e37",
     "showTitle": false,
     "tableResultSettingsMap": {},
     "title": ""
    }
   },
   "outputs": [
    {
     "output_type": "display_data",
     "data": {
      "text/html": [
       "<style scoped>\n",
       "  .table-result-container {\n",
       "    max-height: 300px;\n",
       "    overflow: auto;\n",
       "  }\n",
       "  table, th, td {\n",
       "    border: 1px solid black;\n",
       "    border-collapse: collapse;\n",
       "  }\n",
       "  th, td {\n",
       "    padding: 5px;\n",
       "  }\n",
       "  th {\n",
       "    text-align: left;\n",
       "  }\n",
       "</style><div class='table-result-container'><table class='table-result'><thead style='background-color: white'><tr><th>symbol</th><th>company_name</th><th>security_name</th><th>market_category</th><th>test_issue</th><th>financial_status</th><th>round_lot_size</th><th>etf</th><th>nextshares</th></tr></thead><tbody><tr><td>AAPL</td><td>Apple Inc.</td><td>Apple Inc. - Common Stock</td><td>Q</td><td>N</td><td>N</td><td>100.0</td><td>N</td><td>N</td></tr><tr><td>ADBE</td><td>Adobe Inc.</td><td>Adobe Inc. - Common Stock</td><td>Q</td><td>N</td><td>N</td><td>100.0</td><td>N</td><td>N</td></tr><tr><td>ADI</td><td>Analog Devices, Inc.</td><td>Analog Devices, Inc. - Common Stock</td><td>Q</td><td>N</td><td>N</td><td>100.0</td><td>N</td><td>N</td></tr><tr><td>ADP</td><td>Automatic Data Processing, Inc.</td><td>Automatic Data Processing, Inc. - Common Stock</td><td>Q</td><td>N</td><td>N</td><td>100.0</td><td>N</td><td>N</td></tr><tr><td>AMD</td><td>Advanced Micro Devices, Inc.</td><td>Advanced Micro Devices, Inc. - Common Stock</td><td>Q</td><td>N</td><td>N</td><td>100.0</td><td>N</td><td>N</td></tr><tr><td>AMGN</td><td>Amgen Inc.</td><td>Amgen Inc. - Common Stock</td><td>Q</td><td>N</td><td>N</td><td>100.0</td><td>N</td><td>N</td></tr><tr><td>AMZN</td><td>Amazon.com, Inc.</td><td>Amazon.com, Inc. - Common Stock</td><td>Q</td><td>N</td><td>N</td><td>100.0</td><td>N</td><td>N</td></tr><tr><td>AVGO</td><td>Broadcom Inc.</td><td>Broadcom Inc. - Common Stock</td><td>Q</td><td>N</td><td>N</td><td>100.0</td><td>N</td><td>N</td></tr><tr><td>BKNG</td><td>Booking Holdings Inc.</td><td>Booking Holdings Inc. - Common Stock</td><td>Q</td><td>N</td><td>N</td><td>100.0</td><td>N</td><td>N</td></tr><tr><td>COST</td><td>Costco Wholesale Corporation</td><td>Costco Wholesale Corporation - Common Stock</td><td>Q</td><td>N</td><td>N</td><td>100.0</td><td>N</td><td>N</td></tr><tr><td>CSCO</td><td>Cisco Systems, Inc.</td><td>Cisco Systems, Inc. - Common Stock</td><td>Q</td><td>N</td><td>N</td><td>100.0</td><td>N</td><td>N</td></tr><tr><td>CSX</td><td>CSX Corporation</td><td>CSX Corporation - Common Stock</td><td>Q</td><td>N</td><td>N</td><td>100.0</td><td>N</td><td>N</td></tr><tr><td>GILD</td><td>Gilead Sciences, Inc.</td><td>Gilead Sciences, Inc. - Common Stock</td><td>Q</td><td>N</td><td>N</td><td>100.0</td><td>N</td><td>N</td></tr><tr><td>GOOGL</td><td>Alphabet Inc.</td><td>Alphabet Inc. - Class A Common Stock</td><td>Q</td><td>N</td><td>N</td><td>100.0</td><td>N</td><td>N</td></tr><tr><td>INTC</td><td>Intel Corporation</td><td>Intel Corporation - Common Stock</td><td>Q</td><td>N</td><td>N</td><td>100.0</td><td>N</td><td>N</td></tr><tr><td>INTU</td><td>Intuit Inc.</td><td>Intuit Inc. - Common Stock</td><td>Q</td><td>N</td><td>N</td><td>100.0</td><td>N</td><td>N</td></tr><tr><td>ISRG</td><td>Intuitive Surgical, Inc.</td><td>Intuitive Surgical, Inc. - Common Stock</td><td>Q</td><td>N</td><td>N</td><td>100.0</td><td>N</td><td>N</td></tr><tr><td>LIN</td><td>Linde plc</td><td>Linde plc - Ordinary Shares</td><td>Q</td><td>N</td><td>N</td><td>100.0</td><td>N</td><td>N</td></tr><tr><td>LRCX</td><td>Lam Research Corporation</td><td>Lam Research Corporation - Common Stock</td><td>Q</td><td>N</td><td>N</td><td>100.0</td><td>N</td><td>N</td></tr><tr><td>MDLZ</td><td>Mondelez International, Inc.</td><td>Mondelez International, Inc. - Class A Common Stock</td><td>Q</td><td>N</td><td>N</td><td>100.0</td><td>N</td><td>N</td></tr><tr><td>META</td><td>Meta Platforms, Inc.</td><td>Meta Platforms, Inc. - Class A Common Stock</td><td>Q</td><td>N</td><td>N</td><td>100.0</td><td>N</td><td>N</td></tr><tr><td>MSFT</td><td>Microsoft Corporation</td><td>Microsoft Corporation - Common Stock</td><td>Q</td><td>N</td><td>N</td><td>100.0</td><td>N</td><td>N</td></tr><tr><td>NVDA</td><td>NVIDIA Corporation</td><td>NVIDIA Corporation - Common Stock</td><td>Q</td><td>N</td><td>N</td><td>100.0</td><td>N</td><td>N</td></tr><tr><td>PEP</td><td>PepsiCo, Inc.</td><td>PepsiCo, Inc. - Common Stock</td><td>Q</td><td>N</td><td>N</td><td>100.0</td><td>N</td><td>N</td></tr><tr><td>PYPL</td><td>PayPal Holdings, Inc.</td><td>PayPal Holdings, Inc. - Common Stock</td><td>Q</td><td>N</td><td>N</td><td>100.0</td><td>N</td><td>N</td></tr><tr><td>QCOM</td><td>QUALCOMM Incorporated</td><td>QUALCOMM Incorporated - Common Stock</td><td>Q</td><td>N</td><td>N</td><td>100.0</td><td>N</td><td>N</td></tr><tr><td>REGN</td><td>Regeneron Pharmaceuticals, Inc.</td><td>Regeneron Pharmaceuticals, Inc. - Common Stock</td><td>Q</td><td>N</td><td>N</td><td>100.0</td><td>N</td><td>N</td></tr><tr><td>TMUS</td><td>T-Mobile US, Inc.</td><td>T-Mobile US, Inc. - Common Stock</td><td>Q</td><td>N</td><td>N</td><td>100.0</td><td>N</td><td>N</td></tr><tr><td>TSLA</td><td>Tesla, Inc. </td><td>Tesla, Inc.  - Common Stock</td><td>Q</td><td>N</td><td>N</td><td>100.0</td><td>N</td><td>N</td></tr><tr><td>TXN</td><td>Texas Instruments Incorporated</td><td>Texas Instruments Incorporated - Common Stock</td><td>Q</td><td>N</td><td>N</td><td>100.0</td><td>N</td><td>N</td></tr><tr><td>VRTX</td><td>Vertex Pharmaceuticals Incorporated</td><td>Vertex Pharmaceuticals Incorporated - Common Stock</td><td>Q</td><td>N</td><td>N</td><td>100.0</td><td>N</td><td>N</td></tr></tbody></table></div>"
      ]
     },
     "metadata": {
      "application/vnd.databricks.v1+output": {
       "addedWidgets": {},
       "aggData": [],
       "aggError": "",
       "aggOverflow": false,
       "aggSchema": [],
       "aggSeriesLimitReached": false,
       "aggType": "",
       "arguments": {},
       "columnCustomDisplayInfos": {},
       "data": [
        [
         "AAPL",
         "Apple Inc.",
         "Apple Inc. - Common Stock",
         "Q",
         "N",
         "N",
         100.0,
         "N",
         "N"
        ],
        [
         "ADBE",
         "Adobe Inc.",
         "Adobe Inc. - Common Stock",
         "Q",
         "N",
         "N",
         100.0,
         "N",
         "N"
        ],
        [
         "ADI",
         "Analog Devices, Inc.",
         "Analog Devices, Inc. - Common Stock",
         "Q",
         "N",
         "N",
         100.0,
         "N",
         "N"
        ],
        [
         "ADP",
         "Automatic Data Processing, Inc.",
         "Automatic Data Processing, Inc. - Common Stock",
         "Q",
         "N",
         "N",
         100.0,
         "N",
         "N"
        ],
        [
         "AMD",
         "Advanced Micro Devices, Inc.",
         "Advanced Micro Devices, Inc. - Common Stock",
         "Q",
         "N",
         "N",
         100.0,
         "N",
         "N"
        ],
        [
         "AMGN",
         "Amgen Inc.",
         "Amgen Inc. - Common Stock",
         "Q",
         "N",
         "N",
         100.0,
         "N",
         "N"
        ],
        [
         "AMZN",
         "Amazon.com, Inc.",
         "Amazon.com, Inc. - Common Stock",
         "Q",
         "N",
         "N",
         100.0,
         "N",
         "N"
        ],
        [
         "AVGO",
         "Broadcom Inc.",
         "Broadcom Inc. - Common Stock",
         "Q",
         "N",
         "N",
         100.0,
         "N",
         "N"
        ],
        [
         "BKNG",
         "Booking Holdings Inc.",
         "Booking Holdings Inc. - Common Stock",
         "Q",
         "N",
         "N",
         100.0,
         "N",
         "N"
        ],
        [
         "COST",
         "Costco Wholesale Corporation",
         "Costco Wholesale Corporation - Common Stock",
         "Q",
         "N",
         "N",
         100.0,
         "N",
         "N"
        ],
        [
         "CSCO",
         "Cisco Systems, Inc.",
         "Cisco Systems, Inc. - Common Stock",
         "Q",
         "N",
         "N",
         100.0,
         "N",
         "N"
        ],
        [
         "CSX",
         "CSX Corporation",
         "CSX Corporation - Common Stock",
         "Q",
         "N",
         "N",
         100.0,
         "N",
         "N"
        ],
        [
         "GILD",
         "Gilead Sciences, Inc.",
         "Gilead Sciences, Inc. - Common Stock",
         "Q",
         "N",
         "N",
         100.0,
         "N",
         "N"
        ],
        [
         "GOOGL",
         "Alphabet Inc.",
         "Alphabet Inc. - Class A Common Stock",
         "Q",
         "N",
         "N",
         100.0,
         "N",
         "N"
        ],
        [
         "INTC",
         "Intel Corporation",
         "Intel Corporation - Common Stock",
         "Q",
         "N",
         "N",
         100.0,
         "N",
         "N"
        ],
        [
         "INTU",
         "Intuit Inc.",
         "Intuit Inc. - Common Stock",
         "Q",
         "N",
         "N",
         100.0,
         "N",
         "N"
        ],
        [
         "ISRG",
         "Intuitive Surgical, Inc.",
         "Intuitive Surgical, Inc. - Common Stock",
         "Q",
         "N",
         "N",
         100.0,
         "N",
         "N"
        ],
        [
         "LIN",
         "Linde plc",
         "Linde plc - Ordinary Shares",
         "Q",
         "N",
         "N",
         100.0,
         "N",
         "N"
        ],
        [
         "LRCX",
         "Lam Research Corporation",
         "Lam Research Corporation - Common Stock",
         "Q",
         "N",
         "N",
         100.0,
         "N",
         "N"
        ],
        [
         "MDLZ",
         "Mondelez International, Inc.",
         "Mondelez International, Inc. - Class A Common Stock",
         "Q",
         "N",
         "N",
         100.0,
         "N",
         "N"
        ],
        [
         "META",
         "Meta Platforms, Inc.",
         "Meta Platforms, Inc. - Class A Common Stock",
         "Q",
         "N",
         "N",
         100.0,
         "N",
         "N"
        ],
        [
         "MSFT",
         "Microsoft Corporation",
         "Microsoft Corporation - Common Stock",
         "Q",
         "N",
         "N",
         100.0,
         "N",
         "N"
        ],
        [
         "NVDA",
         "NVIDIA Corporation",
         "NVIDIA Corporation - Common Stock",
         "Q",
         "N",
         "N",
         100.0,
         "N",
         "N"
        ],
        [
         "PEP",
         "PepsiCo, Inc.",
         "PepsiCo, Inc. - Common Stock",
         "Q",
         "N",
         "N",
         100.0,
         "N",
         "N"
        ],
        [
         "PYPL",
         "PayPal Holdings, Inc.",
         "PayPal Holdings, Inc. - Common Stock",
         "Q",
         "N",
         "N",
         100.0,
         "N",
         "N"
        ],
        [
         "QCOM",
         "QUALCOMM Incorporated",
         "QUALCOMM Incorporated - Common Stock",
         "Q",
         "N",
         "N",
         100.0,
         "N",
         "N"
        ],
        [
         "REGN",
         "Regeneron Pharmaceuticals, Inc.",
         "Regeneron Pharmaceuticals, Inc. - Common Stock",
         "Q",
         "N",
         "N",
         100.0,
         "N",
         "N"
        ],
        [
         "TMUS",
         "T-Mobile US, Inc.",
         "T-Mobile US, Inc. - Common Stock",
         "Q",
         "N",
         "N",
         100.0,
         "N",
         "N"
        ],
        [
         "TSLA",
         "Tesla, Inc. ",
         "Tesla, Inc.  - Common Stock",
         "Q",
         "N",
         "N",
         100.0,
         "N",
         "N"
        ],
        [
         "TXN",
         "Texas Instruments Incorporated",
         "Texas Instruments Incorporated - Common Stock",
         "Q",
         "N",
         "N",
         100.0,
         "N",
         "N"
        ],
        [
         "VRTX",
         "Vertex Pharmaceuticals Incorporated",
         "Vertex Pharmaceuticals Incorporated - Common Stock",
         "Q",
         "N",
         "N",
         100.0,
         "N",
         "N"
        ]
       ],
       "datasetInfos": [],
       "dbfsResultPath": null,
       "isJsonSchema": true,
       "metadata": {},
       "overflow": false,
       "plotOptions": {
        "customPlotOptions": {},
        "displayType": "table",
        "pivotAggregation": null,
        "pivotColumns": null,
        "xColumns": null,
        "yColumns": null
       },
       "removedWidgets": [],
       "schema": [
        {
         "metadata": "{}",
         "name": "symbol",
         "type": "\"string\""
        },
        {
         "metadata": "{}",
         "name": "company_name",
         "type": "\"string\""
        },
        {
         "metadata": "{}",
         "name": "security_name",
         "type": "\"string\""
        },
        {
         "metadata": "{}",
         "name": "market_category",
         "type": "\"string\""
        },
        {
         "metadata": "{}",
         "name": "test_issue",
         "type": "\"string\""
        },
        {
         "metadata": "{}",
         "name": "financial_status",
         "type": "\"string\""
        },
        {
         "metadata": "{}",
         "name": "round_lot_size",
         "type": "\"double\""
        },
        {
         "metadata": "{}",
         "name": "etf",
         "type": "\"string\""
        },
        {
         "metadata": "{}",
         "name": "nextshares",
         "type": "\"string\""
        }
       ],
       "type": "table"
      }
     },
     "output_type": "display_data"
    }
   ],
   "source": [
    "display(df_top_100)"
   ]
  },
  {
   "cell_type": "code",
   "execution_count": 0,
   "metadata": {
    "application/vnd.databricks.v1+cell": {
     "cellMetadata": {},
     "inputWidgets": {},
     "nuid": "e1b0c785-5ab7-42df-a49a-46ac7dbf2223",
     "showTitle": false,
     "tableResultSettingsMap": {},
     "title": ""
    }
   },
   "outputs": [],
   "source": []
  }
 ],
 "metadata": {
  "application/vnd.databricks.v1+notebook": {
   "computePreferences": null,
   "dashboards": [],
   "environmentMetadata": {
    "base_environment": "",
    "environment_version": "2"
   },
   "inputWidgetPreferences": null,
   "language": "python",
   "notebookMetadata": {
    "pythonIndentUnit": 4
   },
   "notebookName": "Stocks_Name_Info",
   "widgets": {}
  },
  "language_info": {
   "name": "python"
  }
 },
 "nbformat": 4,
 "nbformat_minor": 0
}